{
 "cells": [
  {
   "cell_type": "markdown",
   "source": [
    "Links de los datasets =\n",
    "\n",
    "https://docs.google.com/spreadsheets/d/1RtW6nQ2h6CDJGSvKUOksaxr7dXy9mNCICknKEEQx2hw/edit#gid=789442494\n",
    "\n",
    "https://docs.google.com/spreadsheets/d/1x5FCFMrd3aXfqHc30uc2h_z1mNfAsjwTelr7oh_g3JE/edit#gid=1858569918"
   ],
   "metadata": {
    "collapsed": false
   }
  },
  {
   "cell_type": "markdown",
   "source": [
    "# Astronautas\n",
    "\n",
    "#### Introduccion\n",
    "\n",
    "Uno de nuestros sueños cuando somos chicos era poder viajar en una nave espacial y ver la Tierra desde el espacio exterior, pero a medida que uno va creciendo se va dando cuenta que es una carrera compleja que exige muchos requisitos.\n",
    "\n",
    "Un astronauta es una persona que tripula una astronave o que está entrenada para este trabajo. No obstante, a los astronautas soviéticos o rusos se les denomina normalmente cosmonautas y a los chinos, taikonautas.  En la mochila, llevan agua y un generador de oxígeno. La duración máxima continuada del uso del traje es de seis horas aproximadamente.\n",
    "\n",
    "Este dataset elegido tiene en cuenta a todos los astronautas desde 1959 hasta el presente. En el se puede apreciar datos como el año en el que viajaron hacia las misiones, en cuantas misiones participaron, fecha de su muerte, lugar donde nacieron, entre otros datos. Mi objetivo es poder realizar un analisis exploratorio y luego proponer y resolver algunos insights, que las personas conozcan un poco mas acerca de esta profesion y de lo que trae consigo.\n",
    "\n",
    "\n",
    "\n",
    "\n",
    "\n",
    "## Diccionario de datos\n",
    "\n",
    "\n",
    "Descripción de variables:\n",
    "\n",
    "-> Name: Nombre completo.\n",
    "-> Year: Año en el que participo en alguna mision.\n",
    "-> Group: Division a la que pertenece o pertenecia.\n",
    "-> Status: Estado en el que se encuentra actualmente.\n",
    "-> Birth Date: Fecha de nacimiento.\n",
    "-> Birth Place: Lugar de nacimiento.\n",
    "-> Gender: Genero.\n",
    "-> Alma Mater: Academia o universidad a la que asistio.\n",
    "-> Undergraduate Major: Especialidad de pregrado.\n",
    "-> Graduate Major: Graduado Mayor.\n",
    "-> Military Rank: Rango militar.\n",
    "-> Military Branch: Especializacion militar.\n",
    "-> Space Flights: Cantidad de vuelos.\n",
    "-> Space Flight (hr): Cantidad de horas de vuelo.\n",
    "-> Space Walks: Cantidad de caminatas.\n",
    "-> Space Walks (hr): Cantidad de horas caminadas.\n",
    "-> Missions: Mision/es en la/las que participo.\n",
    "-> Death Date: Fecha de fallecimiento.\n",
    "-> Death Mission: Fecha en la que fallecio realizando una mision."
   ],
   "metadata": {
    "collapsed": false
   }
  },
  {
   "cell_type": "markdown",
   "source": [
    "Primero utilizo este comando para verificar que todo este en el lugar correcto"
   ],
   "metadata": {
    "collapsed": false
   }
  },
  {
   "cell_type": "code",
   "execution_count": 1,
   "metadata": {
    "collapsed": true
   },
   "outputs": [
    {
     "name": "stdout",
     "output_type": "stream",
     "text": [
      " El volumen de la unidad C no tiene etiqueta.\n",
      " El n£mero de serie del volumen es: CC9C-9B4A\n",
      "\n",
      " Directorio de C:\\Users\\hp\\Documents\\UCEMA SEGUNDO A¥O\\PROGRAMACION ORIENTADA A OBJETOS\\pythonProject\\Gianluca\\Tp final\n",
      "\n",
      "07/12/2022  17:43    <DIR>          .\n",
      "07/12/2022  17:43    <DIR>          ..\n",
      "06/12/2022  18:55    <DIR>          __pycache__\n",
      "07/12/2022  15:57    <DIR>          data_tp\n",
      "06/12/2022  18:55               574 metricas_lineal.py\n",
      "07/12/2022  17:17           996.643 tp_final_Gianluca_Mazzocchi.ipynb\n",
      "07/12/2022  17:43           979.362 tp_final_Gianluca_Mazzocchi_prueba.ipynb\n",
      "               3 archivos      1.976.579 bytes\n",
      "               4 dirs  274.391.801.856 bytes libres\n"
     ]
    }
   ],
   "source": [
    "%ls"
   ]
  },
  {
   "cell_type": "markdown",
   "source": [
    "Cargo las librerias que voy a necesitar asi como tambien el csv de la carpeta data para comenzar."
   ],
   "metadata": {
    "collapsed": false
   }
  },
  {
   "cell_type": "code",
   "execution_count": 2,
   "outputs": [],
   "source": [
    "import numpy as np\n",
    "import pandas as pd\n",
    "import datetime\n",
    "import matplotlib.pyplot as plt\n",
    "import seaborn as sb\n",
    "import seaborn as sns\n",
    "from matplotlib import rcParams\n",
    "from statsmodels.graphics.gofplots import qqplot\n",
    "%matplotlib inline\n",
    "from sklearn.impute import SimpleImputer\n",
    "from collections import Counter"
   ],
   "metadata": {
    "collapsed": false,
    "pycharm": {
     "name": "#%%\n"
    }
   }
  },
  {
   "cell_type": "code",
   "execution_count": 3,
   "outputs": [
    {
     "data": {
      "text/plain": "                      Name    Year  Group   Status Birth Date  \\\n0          Joseph M. Acaba  2004.0   19.0   Active  5/17/1967   \n1           Loren W. Acton     NaN    NaN  Retired   3/7/1936   \n2         James C. Adamson  1984.0   10.0  Retired   3/3/1946   \n3          Thomas D. Akers  1987.0   12.0  Retired  5/20/1951   \n4              Buzz Aldrin  1963.0    3.0  Retired  1/20/1930   \n..                     ...     ...    ...      ...        ...   \n352          David A. Wolf  1990.0   13.0  Retired  8/23/1956   \n353  Neil W. Woodward III   1998.0   17.0  Retired  7/26/1962   \n354       Alfred M. Worden  1966.0    5.0  Retired   2/7/1932   \n355          John W. Young  1962.0    2.0  Retired  9/24/1930   \n356        George D. Zamka  1998.0   17.0  Retired  6/29/1962   \n\n           Birth Place Gender  \\\n0        Inglewood, CA   Male   \n1         Lewiston, MT   Male   \n2           Warsaw, NY   Male   \n3        St. Louis, MO   Male   \n4        Montclair, NJ   Male   \n..                 ...    ...   \n352   Indianapolis, IN   Male   \n353        Chicago, IL   Male   \n354        Jackson, MI   Male   \n355  San Francisco, CA   Male   \n356    Jersey City, NJ   Male   \n\n                                            Alma Mater  \\\n0    University of California-Santa Barbara; Univer...   \n1     Montana State University; University of Colorado   \n2            US Military Academy; Princeton University   \n3                         University of Missouri-Rolla   \n4                             US Military Academy; MIT   \n..                                                 ...   \n352              Purdue University; Indiana University   \n353  MIT; University of Texas-Austin; George Washin...   \n354        US Military Academy; University of Michigan   \n355                    Georgia Institute of Technology   \n356  US Naval Academy; Florida Institute of Technology   \n\n          Undergraduate Major                            Graduate Major  \\\n0                     Geology                                   Geology   \n1         Engineering Physics                             Solar Physics   \n2                 Engineering                     Aerospace Engineering   \n3         Applied Mathematics                       Applied Mathematics   \n4      Mechanical Engineering                              Astronautics   \n..                        ...                                       ...   \n352    Electrical Engineering                                  Medicine   \n353                   Physics              Physics; Business Management   \n354          Military Science  Aeronautical & Astronautical Engineering   \n355  Aeronautical Engineering                                       NaN   \n356               Mathematics                    Engineering Management   \n\n    Military Rank            Military Branch  Space Flights  \\\n0             NaN                        NaN              2   \n1             NaN                        NaN              1   \n2         Colonel          US Army (Retired)              2   \n3         Colonel     US Air Force (Retired)              4   \n4         Colonel     US Air Force (Retired)              2   \n..            ...                        ...            ...   \n352           NaN                        NaN              3   \n353     Commander                    US Navy              0   \n354       Colonel     US Air Force (Retired)              1   \n355       Captain          US Navy (Retired)              6   \n356       Colonel  US Marine Corps (Retired)              2   \n\n     Space Flight (hr)  Space Walks  Space Walks (hr)  \\\n0                 3307            2              13.0   \n1                  190            0               0.0   \n2                  334            0               0.0   \n3                  814            4              29.0   \n4                  289            2               8.0   \n..                 ...          ...               ...   \n352               4044            7              41.0   \n353                  0            0               0.0   \n354                295            1               0.5   \n355                835            3              20.0   \n356                692            0               0.0   \n\n                                              Missions Death Date  \\\n0               STS-119 (Discovery), ISS-31/32 (Soyuz)        NaN   \n1                                STS 51-F (Challenger)        NaN   \n2                 STS-28 (Columbia), STS-43 (Atlantis)        NaN   \n3    STS-41 (Discovery), STS-49 (Endeavor), STS-61 ...        NaN   \n4                                 Gemini 12, Apollo 11        NaN   \n..                                                 ...        ...   \n352  STS-58 (Columbia). STS-86/89 (Atlantis/Endeavo...        NaN   \n353                                                NaN        NaN   \n354                                          Apollo 15        NaN   \n355  Gemini 3, Gemini 10, Apollo 10, Apollo 16, STS...        NaN   \n356            STS-120 (Discovery), STS-130 (Endeavor)        NaN   \n\n    Death Mission  \n0             NaN  \n1             NaN  \n2             NaN  \n3             NaN  \n4             NaN  \n..            ...  \n352           NaN  \n353           NaN  \n354           NaN  \n355           NaN  \n356           NaN  \n\n[357 rows x 19 columns]",
      "text/html": "<div>\n<style scoped>\n    .dataframe tbody tr th:only-of-type {\n        vertical-align: middle;\n    }\n\n    .dataframe tbody tr th {\n        vertical-align: top;\n    }\n\n    .dataframe thead th {\n        text-align: right;\n    }\n</style>\n<table border=\"1\" class=\"dataframe\">\n  <thead>\n    <tr style=\"text-align: right;\">\n      <th></th>\n      <th>Name</th>\n      <th>Year</th>\n      <th>Group</th>\n      <th>Status</th>\n      <th>Birth Date</th>\n      <th>Birth Place</th>\n      <th>Gender</th>\n      <th>Alma Mater</th>\n      <th>Undergraduate Major</th>\n      <th>Graduate Major</th>\n      <th>Military Rank</th>\n      <th>Military Branch</th>\n      <th>Space Flights</th>\n      <th>Space Flight (hr)</th>\n      <th>Space Walks</th>\n      <th>Space Walks (hr)</th>\n      <th>Missions</th>\n      <th>Death Date</th>\n      <th>Death Mission</th>\n    </tr>\n  </thead>\n  <tbody>\n    <tr>\n      <th>0</th>\n      <td>Joseph M. Acaba</td>\n      <td>2004.0</td>\n      <td>19.0</td>\n      <td>Active</td>\n      <td>5/17/1967</td>\n      <td>Inglewood, CA</td>\n      <td>Male</td>\n      <td>University of California-Santa Barbara; Univer...</td>\n      <td>Geology</td>\n      <td>Geology</td>\n      <td>NaN</td>\n      <td>NaN</td>\n      <td>2</td>\n      <td>3307</td>\n      <td>2</td>\n      <td>13.0</td>\n      <td>STS-119 (Discovery), ISS-31/32 (Soyuz)</td>\n      <td>NaN</td>\n      <td>NaN</td>\n    </tr>\n    <tr>\n      <th>1</th>\n      <td>Loren W. Acton</td>\n      <td>NaN</td>\n      <td>NaN</td>\n      <td>Retired</td>\n      <td>3/7/1936</td>\n      <td>Lewiston, MT</td>\n      <td>Male</td>\n      <td>Montana State University; University of Colorado</td>\n      <td>Engineering Physics</td>\n      <td>Solar Physics</td>\n      <td>NaN</td>\n      <td>NaN</td>\n      <td>1</td>\n      <td>190</td>\n      <td>0</td>\n      <td>0.0</td>\n      <td>STS 51-F (Challenger)</td>\n      <td>NaN</td>\n      <td>NaN</td>\n    </tr>\n    <tr>\n      <th>2</th>\n      <td>James C. Adamson</td>\n      <td>1984.0</td>\n      <td>10.0</td>\n      <td>Retired</td>\n      <td>3/3/1946</td>\n      <td>Warsaw, NY</td>\n      <td>Male</td>\n      <td>US Military Academy; Princeton University</td>\n      <td>Engineering</td>\n      <td>Aerospace Engineering</td>\n      <td>Colonel</td>\n      <td>US Army (Retired)</td>\n      <td>2</td>\n      <td>334</td>\n      <td>0</td>\n      <td>0.0</td>\n      <td>STS-28 (Columbia), STS-43 (Atlantis)</td>\n      <td>NaN</td>\n      <td>NaN</td>\n    </tr>\n    <tr>\n      <th>3</th>\n      <td>Thomas D. Akers</td>\n      <td>1987.0</td>\n      <td>12.0</td>\n      <td>Retired</td>\n      <td>5/20/1951</td>\n      <td>St. Louis, MO</td>\n      <td>Male</td>\n      <td>University of Missouri-Rolla</td>\n      <td>Applied Mathematics</td>\n      <td>Applied Mathematics</td>\n      <td>Colonel</td>\n      <td>US Air Force (Retired)</td>\n      <td>4</td>\n      <td>814</td>\n      <td>4</td>\n      <td>29.0</td>\n      <td>STS-41 (Discovery), STS-49 (Endeavor), STS-61 ...</td>\n      <td>NaN</td>\n      <td>NaN</td>\n    </tr>\n    <tr>\n      <th>4</th>\n      <td>Buzz Aldrin</td>\n      <td>1963.0</td>\n      <td>3.0</td>\n      <td>Retired</td>\n      <td>1/20/1930</td>\n      <td>Montclair, NJ</td>\n      <td>Male</td>\n      <td>US Military Academy; MIT</td>\n      <td>Mechanical Engineering</td>\n      <td>Astronautics</td>\n      <td>Colonel</td>\n      <td>US Air Force (Retired)</td>\n      <td>2</td>\n      <td>289</td>\n      <td>2</td>\n      <td>8.0</td>\n      <td>Gemini 12, Apollo 11</td>\n      <td>NaN</td>\n      <td>NaN</td>\n    </tr>\n    <tr>\n      <th>...</th>\n      <td>...</td>\n      <td>...</td>\n      <td>...</td>\n      <td>...</td>\n      <td>...</td>\n      <td>...</td>\n      <td>...</td>\n      <td>...</td>\n      <td>...</td>\n      <td>...</td>\n      <td>...</td>\n      <td>...</td>\n      <td>...</td>\n      <td>...</td>\n      <td>...</td>\n      <td>...</td>\n      <td>...</td>\n      <td>...</td>\n      <td>...</td>\n    </tr>\n    <tr>\n      <th>352</th>\n      <td>David A. Wolf</td>\n      <td>1990.0</td>\n      <td>13.0</td>\n      <td>Retired</td>\n      <td>8/23/1956</td>\n      <td>Indianapolis, IN</td>\n      <td>Male</td>\n      <td>Purdue University; Indiana University</td>\n      <td>Electrical Engineering</td>\n      <td>Medicine</td>\n      <td>NaN</td>\n      <td>NaN</td>\n      <td>3</td>\n      <td>4044</td>\n      <td>7</td>\n      <td>41.0</td>\n      <td>STS-58 (Columbia). STS-86/89 (Atlantis/Endeavo...</td>\n      <td>NaN</td>\n      <td>NaN</td>\n    </tr>\n    <tr>\n      <th>353</th>\n      <td>Neil W. Woodward III</td>\n      <td>1998.0</td>\n      <td>17.0</td>\n      <td>Retired</td>\n      <td>7/26/1962</td>\n      <td>Chicago, IL</td>\n      <td>Male</td>\n      <td>MIT; University of Texas-Austin; George Washin...</td>\n      <td>Physics</td>\n      <td>Physics; Business Management</td>\n      <td>Commander</td>\n      <td>US Navy</td>\n      <td>0</td>\n      <td>0</td>\n      <td>0</td>\n      <td>0.0</td>\n      <td>NaN</td>\n      <td>NaN</td>\n      <td>NaN</td>\n    </tr>\n    <tr>\n      <th>354</th>\n      <td>Alfred M. Worden</td>\n      <td>1966.0</td>\n      <td>5.0</td>\n      <td>Retired</td>\n      <td>2/7/1932</td>\n      <td>Jackson, MI</td>\n      <td>Male</td>\n      <td>US Military Academy; University of Michigan</td>\n      <td>Military Science</td>\n      <td>Aeronautical &amp; Astronautical Engineering</td>\n      <td>Colonel</td>\n      <td>US Air Force (Retired)</td>\n      <td>1</td>\n      <td>295</td>\n      <td>1</td>\n      <td>0.5</td>\n      <td>Apollo 15</td>\n      <td>NaN</td>\n      <td>NaN</td>\n    </tr>\n    <tr>\n      <th>355</th>\n      <td>John W. Young</td>\n      <td>1962.0</td>\n      <td>2.0</td>\n      <td>Retired</td>\n      <td>9/24/1930</td>\n      <td>San Francisco, CA</td>\n      <td>Male</td>\n      <td>Georgia Institute of Technology</td>\n      <td>Aeronautical Engineering</td>\n      <td>NaN</td>\n      <td>Captain</td>\n      <td>US Navy (Retired)</td>\n      <td>6</td>\n      <td>835</td>\n      <td>3</td>\n      <td>20.0</td>\n      <td>Gemini 3, Gemini 10, Apollo 10, Apollo 16, STS...</td>\n      <td>NaN</td>\n      <td>NaN</td>\n    </tr>\n    <tr>\n      <th>356</th>\n      <td>George D. Zamka</td>\n      <td>1998.0</td>\n      <td>17.0</td>\n      <td>Retired</td>\n      <td>6/29/1962</td>\n      <td>Jersey City, NJ</td>\n      <td>Male</td>\n      <td>US Naval Academy; Florida Institute of Technology</td>\n      <td>Mathematics</td>\n      <td>Engineering Management</td>\n      <td>Colonel</td>\n      <td>US Marine Corps (Retired)</td>\n      <td>2</td>\n      <td>692</td>\n      <td>0</td>\n      <td>0.0</td>\n      <td>STS-120 (Discovery), STS-130 (Endeavor)</td>\n      <td>NaN</td>\n      <td>NaN</td>\n    </tr>\n  </tbody>\n</table>\n<p>357 rows × 19 columns</p>\n</div>"
     },
     "execution_count": 3,
     "metadata": {},
     "output_type": "execute_result"
    }
   ],
   "source": [
    "astronautas = pd.read_csv('data_tp/astronauts.csv')\n",
    "astronautas"
   ],
   "metadata": {
    "collapsed": false,
    "pycharm": {
     "name": "#%%\n"
    }
   }
  },
  {
   "cell_type": "markdown",
   "source": [
    "# Información general"
   ],
   "metadata": {
    "collapsed": false
   }
  },
  {
   "cell_type": "markdown",
   "source": [
    "Es muy importante antes de comenzar el analisis saber con que columnas contamos, esto nos puede servir como disparador para elaborar insights. En mi caso ver las columnas me permitio hacerme varias preguntas ya que es un dataset bastante completo y con buena data que permite hacer un buen analisis."
   ],
   "metadata": {
    "collapsed": false
   }
  },
  {
   "cell_type": "code",
   "execution_count": 4,
   "outputs": [
    {
     "data": {
      "text/plain": "Index(['Name', 'Year', 'Group', 'Status', 'Birth Date', 'Birth Place',\n       'Gender', 'Alma Mater', 'Undergraduate Major', 'Graduate Major',\n       'Military Rank', 'Military Branch', 'Space Flights',\n       'Space Flight (hr)', 'Space Walks', 'Space Walks (hr)', 'Missions',\n       'Death Date', 'Death Mission'],\n      dtype='object')"
     },
     "execution_count": 4,
     "metadata": {},
     "output_type": "execute_result"
    }
   ],
   "source": [
    "astronautas.columns"
   ],
   "metadata": {
    "collapsed": false,
    "pycharm": {
     "name": "#%%\n"
    }
   }
  },
  {
   "cell_type": "markdown",
   "source": [
    "Tambien veo las dimensiones"
   ],
   "metadata": {
    "collapsed": false
   }
  },
  {
   "cell_type": "code",
   "execution_count": 5,
   "outputs": [
    {
     "name": "stdout",
     "output_type": "stream",
     "text": [
      " El dataframe es un archivo csv con los datos de astronautas desde 1959 hasta la actualidad. El dataset cuenta con 357 filas y 19 columnas.\n"
     ]
    }
   ],
   "source": [
    "dimensiones = print(f\" El dataframe es un archivo csv con los datos de astronautas desde 1959 hasta la actualidad. El dataset cuenta con {astronautas.shape[0]} filas y {astronautas.shape[1]} columnas.\")"
   ],
   "metadata": {
    "collapsed": false,
    "pycharm": {
     "name": "#%%\n"
    }
   }
  },
  {
   "cell_type": "markdown",
   "source": [
    "Tambien hay que ver el tipo de dato para conocer si están en el formato correcto. Usando un dtypes podemos ver que clase de datos contiene cada columna y tambien nos permite visualizar si debemos realizar alguna modificacion en el tipo de dato que devuelve. En este caso estan todos con sus respectivos valores de forma correcta."
   ],
   "metadata": {
    "collapsed": false
   }
  },
  {
   "cell_type": "code",
   "execution_count": 6,
   "outputs": [
    {
     "data": {
      "text/plain": "Name                    object\nYear                   float64\nGroup                  float64\nStatus                  object\nBirth Date              object\nBirth Place             object\nGender                  object\nAlma Mater              object\nUndergraduate Major     object\nGraduate Major          object\nMilitary Rank           object\nMilitary Branch         object\nSpace Flights            int64\nSpace Flight (hr)        int64\nSpace Walks              int64\nSpace Walks (hr)       float64\nMissions                object\nDeath Date              object\nDeath Mission           object\ndtype: object"
     },
     "execution_count": 6,
     "metadata": {},
     "output_type": "execute_result"
    }
   ],
   "source": [
    "astronautas.dtypes"
   ],
   "metadata": {
    "collapsed": false,
    "pycharm": {
     "name": "#%%\n"
    }
   }
  },
  {
   "cell_type": "markdown",
   "source": [
    "## Transformación de los datos"
   ],
   "metadata": {
    "collapsed": false
   }
  },
  {
   "cell_type": "markdown",
   "source": [
    "Antes de comenzar el analisis se procede al preprocesamiento de los datos, voy a modelar y transformar los datos a placer."
   ],
   "metadata": {
    "collapsed": false
   }
  },
  {
   "cell_type": "markdown",
   "source": [
    "Armo una funcion muy basica que me facilita algunas cosas"
   ],
   "metadata": {
    "collapsed": false
   }
  },
  {
   "cell_type": "code",
   "execution_count": 7,
   "outputs": [],
   "source": [
    "def isfloat(value):\n",
    "    try:\n",
    "        float(value)\n",
    "        return True\n",
    "    except:\n",
    "        return False"
   ],
   "metadata": {
    "collapsed": false,
    "pycharm": {
     "name": "#%%\n"
    }
   }
  },
  {
   "cell_type": "markdown",
   "source": [
    "### Filas duplicadas"
   ],
   "metadata": {
    "collapsed": false
   }
  },
  {
   "cell_type": "code",
   "execution_count": 8,
   "outputs": [
    {
     "name": "stdout",
     "output_type": "stream",
     "text": [
      "contamos con 0 filas duplicadas\n"
     ]
    }
   ],
   "source": [
    "print(f\"contamos con {astronautas.duplicated().sum()} filas duplicadas\")"
   ],
   "metadata": {
    "collapsed": false,
    "pycharm": {
     "name": "#%%\n"
    }
   }
  },
  {
   "cell_type": "markdown",
   "source": [
    "### Datos faltantes"
   ],
   "metadata": {
    "collapsed": false
   }
  },
  {
   "cell_type": "code",
   "execution_count": 9,
   "outputs": [
    {
     "data": {
      "text/plain": "Death Mission          0.96\nDeath Date             0.85\nMilitary Rank          0.42\nMilitary Branch        0.41\nGraduate Major         0.17\nYear                   0.08\nGroup                  0.08\nMissions               0.06\nUndergraduate Major    0.06\nAlma Mater             0.00\nBirth Place            0.00\nGender                 0.00\nBirth Date             0.00\nStatus                 0.00\nSpace Flights          0.00\nSpace Flight (hr)      0.00\nSpace Walks            0.00\nSpace Walks (hr)       0.00\nName                   0.00\ndtype: float64"
     },
     "execution_count": 9,
     "metadata": {},
     "output_type": "execute_result"
    }
   ],
   "source": [
    "round(astronautas.isnull().sum().sort_values(ascending=False)/len(astronautas),2)"
   ],
   "metadata": {
    "collapsed": false,
    "pycharm": {
     "name": "#%%\n"
    }
   }
  },
  {
   "cell_type": "markdown",
   "source": [
    "Encontramos una buena cantidad de datos faltantes, tanto en la columna Death Mission como Death date. Con un 96% y 85% de datos que no estan respectivamente. Ahora vamos a proceder al tratamiento de las columnas con datos faltantes."
   ],
   "metadata": {
    "collapsed": false
   }
  },
  {
   "cell_type": "markdown",
   "source": [
    "#### Death Mission"
   ],
   "metadata": {
    "collapsed": false
   }
  },
  {
   "cell_type": "markdown",
   "source": [
    "Renombro la columna"
   ],
   "metadata": {
    "collapsed": false
   }
  },
  {
   "cell_type": "code",
   "execution_count": 10,
   "outputs": [
    {
     "data": {
      "text/plain": "                      Name    Year  Group   Status Birth Date  \\\n0          Joseph M. Acaba  2004.0   19.0   Active  5/17/1967   \n1           Loren W. Acton     NaN    NaN  Retired   3/7/1936   \n2         James C. Adamson  1984.0   10.0  Retired   3/3/1946   \n3          Thomas D. Akers  1987.0   12.0  Retired  5/20/1951   \n4              Buzz Aldrin  1963.0    3.0  Retired  1/20/1930   \n..                     ...     ...    ...      ...        ...   \n352          David A. Wolf  1990.0   13.0  Retired  8/23/1956   \n353  Neil W. Woodward III   1998.0   17.0  Retired  7/26/1962   \n354       Alfred M. Worden  1966.0    5.0  Retired   2/7/1932   \n355          John W. Young  1962.0    2.0  Retired  9/24/1930   \n356        George D. Zamka  1998.0   17.0  Retired  6/29/1962   \n\n           Birth Place Gender  \\\n0        Inglewood, CA   Male   \n1         Lewiston, MT   Male   \n2           Warsaw, NY   Male   \n3        St. Louis, MO   Male   \n4        Montclair, NJ   Male   \n..                 ...    ...   \n352   Indianapolis, IN   Male   \n353        Chicago, IL   Male   \n354        Jackson, MI   Male   \n355  San Francisco, CA   Male   \n356    Jersey City, NJ   Male   \n\n                                            Alma Mater  \\\n0    University of California-Santa Barbara; Univer...   \n1     Montana State University; University of Colorado   \n2            US Military Academy; Princeton University   \n3                         University of Missouri-Rolla   \n4                             US Military Academy; MIT   \n..                                                 ...   \n352              Purdue University; Indiana University   \n353  MIT; University of Texas-Austin; George Washin...   \n354        US Military Academy; University of Michigan   \n355                    Georgia Institute of Technology   \n356  US Naval Academy; Florida Institute of Technology   \n\n          Undergraduate Major                            Graduate Major  \\\n0                     Geology                                   Geology   \n1         Engineering Physics                             Solar Physics   \n2                 Engineering                     Aerospace Engineering   \n3         Applied Mathematics                       Applied Mathematics   \n4      Mechanical Engineering                              Astronautics   \n..                        ...                                       ...   \n352    Electrical Engineering                                  Medicine   \n353                   Physics              Physics; Business Management   \n354          Military Science  Aeronautical & Astronautical Engineering   \n355  Aeronautical Engineering                                       NaN   \n356               Mathematics                    Engineering Management   \n\n    Military Rank            Military Branch  Space Flights  \\\n0             NaN                        NaN              2   \n1             NaN                        NaN              1   \n2         Colonel          US Army (Retired)              2   \n3         Colonel     US Air Force (Retired)              4   \n4         Colonel     US Air Force (Retired)              2   \n..            ...                        ...            ...   \n352           NaN                        NaN              3   \n353     Commander                    US Navy              0   \n354       Colonel     US Air Force (Retired)              1   \n355       Captain          US Navy (Retired)              6   \n356       Colonel  US Marine Corps (Retired)              2   \n\n     Space Flight (hr)  Space Walks  Space Walks (hr)  \\\n0                 3307            2              13.0   \n1                  190            0               0.0   \n2                  334            0               0.0   \n3                  814            4              29.0   \n4                  289            2               8.0   \n..                 ...          ...               ...   \n352               4044            7              41.0   \n353                  0            0               0.0   \n354                295            1               0.5   \n355                835            3              20.0   \n356                692            0               0.0   \n\n                                              Missions Death Date  \\\n0               STS-119 (Discovery), ISS-31/32 (Soyuz)        NaN   \n1                                STS 51-F (Challenger)        NaN   \n2                 STS-28 (Columbia), STS-43 (Atlantis)        NaN   \n3    STS-41 (Discovery), STS-49 (Endeavor), STS-61 ...        NaN   \n4                                 Gemini 12, Apollo 11        NaN   \n..                                                 ...        ...   \n352  STS-58 (Columbia). STS-86/89 (Atlantis/Endeavo...        NaN   \n353                                                NaN        NaN   \n354                                          Apollo 15        NaN   \n355  Gemini 3, Gemini 10, Apollo 10, Apollo 16, STS...        NaN   \n356            STS-120 (Discovery), STS-130 (Endeavor)        NaN   \n\n    Death_Mission  \n0             NaN  \n1             NaN  \n2             NaN  \n3             NaN  \n4             NaN  \n..            ...  \n352           NaN  \n353           NaN  \n354           NaN  \n355           NaN  \n356           NaN  \n\n[357 rows x 19 columns]",
      "text/html": "<div>\n<style scoped>\n    .dataframe tbody tr th:only-of-type {\n        vertical-align: middle;\n    }\n\n    .dataframe tbody tr th {\n        vertical-align: top;\n    }\n\n    .dataframe thead th {\n        text-align: right;\n    }\n</style>\n<table border=\"1\" class=\"dataframe\">\n  <thead>\n    <tr style=\"text-align: right;\">\n      <th></th>\n      <th>Name</th>\n      <th>Year</th>\n      <th>Group</th>\n      <th>Status</th>\n      <th>Birth Date</th>\n      <th>Birth Place</th>\n      <th>Gender</th>\n      <th>Alma Mater</th>\n      <th>Undergraduate Major</th>\n      <th>Graduate Major</th>\n      <th>Military Rank</th>\n      <th>Military Branch</th>\n      <th>Space Flights</th>\n      <th>Space Flight (hr)</th>\n      <th>Space Walks</th>\n      <th>Space Walks (hr)</th>\n      <th>Missions</th>\n      <th>Death Date</th>\n      <th>Death_Mission</th>\n    </tr>\n  </thead>\n  <tbody>\n    <tr>\n      <th>0</th>\n      <td>Joseph M. Acaba</td>\n      <td>2004.0</td>\n      <td>19.0</td>\n      <td>Active</td>\n      <td>5/17/1967</td>\n      <td>Inglewood, CA</td>\n      <td>Male</td>\n      <td>University of California-Santa Barbara; Univer...</td>\n      <td>Geology</td>\n      <td>Geology</td>\n      <td>NaN</td>\n      <td>NaN</td>\n      <td>2</td>\n      <td>3307</td>\n      <td>2</td>\n      <td>13.0</td>\n      <td>STS-119 (Discovery), ISS-31/32 (Soyuz)</td>\n      <td>NaN</td>\n      <td>NaN</td>\n    </tr>\n    <tr>\n      <th>1</th>\n      <td>Loren W. Acton</td>\n      <td>NaN</td>\n      <td>NaN</td>\n      <td>Retired</td>\n      <td>3/7/1936</td>\n      <td>Lewiston, MT</td>\n      <td>Male</td>\n      <td>Montana State University; University of Colorado</td>\n      <td>Engineering Physics</td>\n      <td>Solar Physics</td>\n      <td>NaN</td>\n      <td>NaN</td>\n      <td>1</td>\n      <td>190</td>\n      <td>0</td>\n      <td>0.0</td>\n      <td>STS 51-F (Challenger)</td>\n      <td>NaN</td>\n      <td>NaN</td>\n    </tr>\n    <tr>\n      <th>2</th>\n      <td>James C. Adamson</td>\n      <td>1984.0</td>\n      <td>10.0</td>\n      <td>Retired</td>\n      <td>3/3/1946</td>\n      <td>Warsaw, NY</td>\n      <td>Male</td>\n      <td>US Military Academy; Princeton University</td>\n      <td>Engineering</td>\n      <td>Aerospace Engineering</td>\n      <td>Colonel</td>\n      <td>US Army (Retired)</td>\n      <td>2</td>\n      <td>334</td>\n      <td>0</td>\n      <td>0.0</td>\n      <td>STS-28 (Columbia), STS-43 (Atlantis)</td>\n      <td>NaN</td>\n      <td>NaN</td>\n    </tr>\n    <tr>\n      <th>3</th>\n      <td>Thomas D. Akers</td>\n      <td>1987.0</td>\n      <td>12.0</td>\n      <td>Retired</td>\n      <td>5/20/1951</td>\n      <td>St. Louis, MO</td>\n      <td>Male</td>\n      <td>University of Missouri-Rolla</td>\n      <td>Applied Mathematics</td>\n      <td>Applied Mathematics</td>\n      <td>Colonel</td>\n      <td>US Air Force (Retired)</td>\n      <td>4</td>\n      <td>814</td>\n      <td>4</td>\n      <td>29.0</td>\n      <td>STS-41 (Discovery), STS-49 (Endeavor), STS-61 ...</td>\n      <td>NaN</td>\n      <td>NaN</td>\n    </tr>\n    <tr>\n      <th>4</th>\n      <td>Buzz Aldrin</td>\n      <td>1963.0</td>\n      <td>3.0</td>\n      <td>Retired</td>\n      <td>1/20/1930</td>\n      <td>Montclair, NJ</td>\n      <td>Male</td>\n      <td>US Military Academy; MIT</td>\n      <td>Mechanical Engineering</td>\n      <td>Astronautics</td>\n      <td>Colonel</td>\n      <td>US Air Force (Retired)</td>\n      <td>2</td>\n      <td>289</td>\n      <td>2</td>\n      <td>8.0</td>\n      <td>Gemini 12, Apollo 11</td>\n      <td>NaN</td>\n      <td>NaN</td>\n    </tr>\n    <tr>\n      <th>...</th>\n      <td>...</td>\n      <td>...</td>\n      <td>...</td>\n      <td>...</td>\n      <td>...</td>\n      <td>...</td>\n      <td>...</td>\n      <td>...</td>\n      <td>...</td>\n      <td>...</td>\n      <td>...</td>\n      <td>...</td>\n      <td>...</td>\n      <td>...</td>\n      <td>...</td>\n      <td>...</td>\n      <td>...</td>\n      <td>...</td>\n      <td>...</td>\n    </tr>\n    <tr>\n      <th>352</th>\n      <td>David A. Wolf</td>\n      <td>1990.0</td>\n      <td>13.0</td>\n      <td>Retired</td>\n      <td>8/23/1956</td>\n      <td>Indianapolis, IN</td>\n      <td>Male</td>\n      <td>Purdue University; Indiana University</td>\n      <td>Electrical Engineering</td>\n      <td>Medicine</td>\n      <td>NaN</td>\n      <td>NaN</td>\n      <td>3</td>\n      <td>4044</td>\n      <td>7</td>\n      <td>41.0</td>\n      <td>STS-58 (Columbia). STS-86/89 (Atlantis/Endeavo...</td>\n      <td>NaN</td>\n      <td>NaN</td>\n    </tr>\n    <tr>\n      <th>353</th>\n      <td>Neil W. Woodward III</td>\n      <td>1998.0</td>\n      <td>17.0</td>\n      <td>Retired</td>\n      <td>7/26/1962</td>\n      <td>Chicago, IL</td>\n      <td>Male</td>\n      <td>MIT; University of Texas-Austin; George Washin...</td>\n      <td>Physics</td>\n      <td>Physics; Business Management</td>\n      <td>Commander</td>\n      <td>US Navy</td>\n      <td>0</td>\n      <td>0</td>\n      <td>0</td>\n      <td>0.0</td>\n      <td>NaN</td>\n      <td>NaN</td>\n      <td>NaN</td>\n    </tr>\n    <tr>\n      <th>354</th>\n      <td>Alfred M. Worden</td>\n      <td>1966.0</td>\n      <td>5.0</td>\n      <td>Retired</td>\n      <td>2/7/1932</td>\n      <td>Jackson, MI</td>\n      <td>Male</td>\n      <td>US Military Academy; University of Michigan</td>\n      <td>Military Science</td>\n      <td>Aeronautical &amp; Astronautical Engineering</td>\n      <td>Colonel</td>\n      <td>US Air Force (Retired)</td>\n      <td>1</td>\n      <td>295</td>\n      <td>1</td>\n      <td>0.5</td>\n      <td>Apollo 15</td>\n      <td>NaN</td>\n      <td>NaN</td>\n    </tr>\n    <tr>\n      <th>355</th>\n      <td>John W. Young</td>\n      <td>1962.0</td>\n      <td>2.0</td>\n      <td>Retired</td>\n      <td>9/24/1930</td>\n      <td>San Francisco, CA</td>\n      <td>Male</td>\n      <td>Georgia Institute of Technology</td>\n      <td>Aeronautical Engineering</td>\n      <td>NaN</td>\n      <td>Captain</td>\n      <td>US Navy (Retired)</td>\n      <td>6</td>\n      <td>835</td>\n      <td>3</td>\n      <td>20.0</td>\n      <td>Gemini 3, Gemini 10, Apollo 10, Apollo 16, STS...</td>\n      <td>NaN</td>\n      <td>NaN</td>\n    </tr>\n    <tr>\n      <th>356</th>\n      <td>George D. Zamka</td>\n      <td>1998.0</td>\n      <td>17.0</td>\n      <td>Retired</td>\n      <td>6/29/1962</td>\n      <td>Jersey City, NJ</td>\n      <td>Male</td>\n      <td>US Naval Academy; Florida Institute of Technology</td>\n      <td>Mathematics</td>\n      <td>Engineering Management</td>\n      <td>Colonel</td>\n      <td>US Marine Corps (Retired)</td>\n      <td>2</td>\n      <td>692</td>\n      <td>0</td>\n      <td>0.0</td>\n      <td>STS-120 (Discovery), STS-130 (Endeavor)</td>\n      <td>NaN</td>\n      <td>NaN</td>\n    </tr>\n  </tbody>\n</table>\n<p>357 rows × 19 columns</p>\n</div>"
     },
     "execution_count": 10,
     "metadata": {},
     "output_type": "execute_result"
    }
   ],
   "source": [
    "astronautas = astronautas.rename(columns = {\"Death Mission\": \"Death_Mission\"})\n",
    "astronautas"
   ],
   "metadata": {
    "collapsed": false,
    "pycharm": {
     "name": "#%%\n"
    }
   }
  },
  {
   "cell_type": "code",
   "execution_count": 11,
   "outputs": [
    {
     "data": {
      "text/plain": "dtype('O')"
     },
     "execution_count": 11,
     "metadata": {},
     "output_type": "execute_result"
    }
   ],
   "source": [
    "astronautas.Death_Mission.dtypes"
   ],
   "metadata": {
    "collapsed": false,
    "pycharm": {
     "name": "#%%\n"
    }
   }
  },
  {
   "cell_type": "code",
   "execution_count": 12,
   "outputs": [],
   "source": [
    "astronautas['Death_Mission']=astronautas['Death_Mission'].fillna('Not Applicable')"
   ],
   "metadata": {
    "collapsed": false,
    "pycharm": {
     "name": "#%%\n"
    }
   }
  },
  {
   "cell_type": "markdown",
   "source": [
    "Distribucion de datos de la columna"
   ],
   "metadata": {
    "collapsed": false
   }
  },
  {
   "cell_type": "code",
   "execution_count": 13,
   "outputs": [
    {
     "data": {
      "text/plain": "Not Applicable           341\nSTS 51-L (Challenger)      7\nSTS-107 (Columbia)         6\nApollo 1                   3\nName: Death_Mission, dtype: int64"
     },
     "execution_count": 13,
     "metadata": {},
     "output_type": "execute_result"
    }
   ],
   "source": [
    "astronautas.Death_Mission.value_counts(dropna=False)"
   ],
   "metadata": {
    "collapsed": false,
    "pycharm": {
     "name": "#%%\n"
    }
   }
  },
  {
   "cell_type": "markdown",
   "source": [
    "Verificamos que no haya quedado algun valor faltante/nulo"
   ],
   "metadata": {
    "collapsed": false
   }
  },
  {
   "cell_type": "code",
   "execution_count": 14,
   "outputs": [
    {
     "data": {
      "text/plain": "0"
     },
     "execution_count": 14,
     "metadata": {},
     "output_type": "execute_result"
    }
   ],
   "source": [
    "astronautas.Death_Mission.isna().sum()"
   ],
   "metadata": {
    "collapsed": false,
    "pycharm": {
     "name": "#%%\n"
    }
   }
  },
  {
   "cell_type": "markdown",
   "source": [
    "Efectivamente ya no contamos con ningun valor faltante en esta columna"
   ],
   "metadata": {
    "collapsed": false
   }
  },
  {
   "cell_type": "markdown",
   "source": [
    "#### Death_Date"
   ],
   "metadata": {
    "collapsed": false
   }
  },
  {
   "cell_type": "markdown",
   "source": [
    "Renombro la columna"
   ],
   "metadata": {
    "collapsed": false
   }
  },
  {
   "cell_type": "code",
   "execution_count": 15,
   "outputs": [
    {
     "data": {
      "text/plain": "                      Name    Year  Group   Status Birth Date  \\\n0          Joseph M. Acaba  2004.0   19.0   Active  5/17/1967   \n1           Loren W. Acton     NaN    NaN  Retired   3/7/1936   \n2         James C. Adamson  1984.0   10.0  Retired   3/3/1946   \n3          Thomas D. Akers  1987.0   12.0  Retired  5/20/1951   \n4              Buzz Aldrin  1963.0    3.0  Retired  1/20/1930   \n..                     ...     ...    ...      ...        ...   \n352          David A. Wolf  1990.0   13.0  Retired  8/23/1956   \n353  Neil W. Woodward III   1998.0   17.0  Retired  7/26/1962   \n354       Alfred M. Worden  1966.0    5.0  Retired   2/7/1932   \n355          John W. Young  1962.0    2.0  Retired  9/24/1930   \n356        George D. Zamka  1998.0   17.0  Retired  6/29/1962   \n\n           Birth Place Gender  \\\n0        Inglewood, CA   Male   \n1         Lewiston, MT   Male   \n2           Warsaw, NY   Male   \n3        St. Louis, MO   Male   \n4        Montclair, NJ   Male   \n..                 ...    ...   \n352   Indianapolis, IN   Male   \n353        Chicago, IL   Male   \n354        Jackson, MI   Male   \n355  San Francisco, CA   Male   \n356    Jersey City, NJ   Male   \n\n                                            Alma Mater  \\\n0    University of California-Santa Barbara; Univer...   \n1     Montana State University; University of Colorado   \n2            US Military Academy; Princeton University   \n3                         University of Missouri-Rolla   \n4                             US Military Academy; MIT   \n..                                                 ...   \n352              Purdue University; Indiana University   \n353  MIT; University of Texas-Austin; George Washin...   \n354        US Military Academy; University of Michigan   \n355                    Georgia Institute of Technology   \n356  US Naval Academy; Florida Institute of Technology   \n\n          Undergraduate Major                            Graduate Major  \\\n0                     Geology                                   Geology   \n1         Engineering Physics                             Solar Physics   \n2                 Engineering                     Aerospace Engineering   \n3         Applied Mathematics                       Applied Mathematics   \n4      Mechanical Engineering                              Astronautics   \n..                        ...                                       ...   \n352    Electrical Engineering                                  Medicine   \n353                   Physics              Physics; Business Management   \n354          Military Science  Aeronautical & Astronautical Engineering   \n355  Aeronautical Engineering                                       NaN   \n356               Mathematics                    Engineering Management   \n\n    Military Rank            Military Branch  Space Flights  \\\n0             NaN                        NaN              2   \n1             NaN                        NaN              1   \n2         Colonel          US Army (Retired)              2   \n3         Colonel     US Air Force (Retired)              4   \n4         Colonel     US Air Force (Retired)              2   \n..            ...                        ...            ...   \n352           NaN                        NaN              3   \n353     Commander                    US Navy              0   \n354       Colonel     US Air Force (Retired)              1   \n355       Captain          US Navy (Retired)              6   \n356       Colonel  US Marine Corps (Retired)              2   \n\n     Space Flight (hr)  Space Walks  Space Walks (hr)  \\\n0                 3307            2              13.0   \n1                  190            0               0.0   \n2                  334            0               0.0   \n3                  814            4              29.0   \n4                  289            2               8.0   \n..                 ...          ...               ...   \n352               4044            7              41.0   \n353                  0            0               0.0   \n354                295            1               0.5   \n355                835            3              20.0   \n356                692            0               0.0   \n\n                                              Missions Death_Date  \\\n0               STS-119 (Discovery), ISS-31/32 (Soyuz)        NaN   \n1                                STS 51-F (Challenger)        NaN   \n2                 STS-28 (Columbia), STS-43 (Atlantis)        NaN   \n3    STS-41 (Discovery), STS-49 (Endeavor), STS-61 ...        NaN   \n4                                 Gemini 12, Apollo 11        NaN   \n..                                                 ...        ...   \n352  STS-58 (Columbia). STS-86/89 (Atlantis/Endeavo...        NaN   \n353                                                NaN        NaN   \n354                                          Apollo 15        NaN   \n355  Gemini 3, Gemini 10, Apollo 10, Apollo 16, STS...        NaN   \n356            STS-120 (Discovery), STS-130 (Endeavor)        NaN   \n\n      Death_Mission  \n0    Not Applicable  \n1    Not Applicable  \n2    Not Applicable  \n3    Not Applicable  \n4    Not Applicable  \n..              ...  \n352  Not Applicable  \n353  Not Applicable  \n354  Not Applicable  \n355  Not Applicable  \n356  Not Applicable  \n\n[357 rows x 19 columns]",
      "text/html": "<div>\n<style scoped>\n    .dataframe tbody tr th:only-of-type {\n        vertical-align: middle;\n    }\n\n    .dataframe tbody tr th {\n        vertical-align: top;\n    }\n\n    .dataframe thead th {\n        text-align: right;\n    }\n</style>\n<table border=\"1\" class=\"dataframe\">\n  <thead>\n    <tr style=\"text-align: right;\">\n      <th></th>\n      <th>Name</th>\n      <th>Year</th>\n      <th>Group</th>\n      <th>Status</th>\n      <th>Birth Date</th>\n      <th>Birth Place</th>\n      <th>Gender</th>\n      <th>Alma Mater</th>\n      <th>Undergraduate Major</th>\n      <th>Graduate Major</th>\n      <th>Military Rank</th>\n      <th>Military Branch</th>\n      <th>Space Flights</th>\n      <th>Space Flight (hr)</th>\n      <th>Space Walks</th>\n      <th>Space Walks (hr)</th>\n      <th>Missions</th>\n      <th>Death_Date</th>\n      <th>Death_Mission</th>\n    </tr>\n  </thead>\n  <tbody>\n    <tr>\n      <th>0</th>\n      <td>Joseph M. Acaba</td>\n      <td>2004.0</td>\n      <td>19.0</td>\n      <td>Active</td>\n      <td>5/17/1967</td>\n      <td>Inglewood, CA</td>\n      <td>Male</td>\n      <td>University of California-Santa Barbara; Univer...</td>\n      <td>Geology</td>\n      <td>Geology</td>\n      <td>NaN</td>\n      <td>NaN</td>\n      <td>2</td>\n      <td>3307</td>\n      <td>2</td>\n      <td>13.0</td>\n      <td>STS-119 (Discovery), ISS-31/32 (Soyuz)</td>\n      <td>NaN</td>\n      <td>Not Applicable</td>\n    </tr>\n    <tr>\n      <th>1</th>\n      <td>Loren W. Acton</td>\n      <td>NaN</td>\n      <td>NaN</td>\n      <td>Retired</td>\n      <td>3/7/1936</td>\n      <td>Lewiston, MT</td>\n      <td>Male</td>\n      <td>Montana State University; University of Colorado</td>\n      <td>Engineering Physics</td>\n      <td>Solar Physics</td>\n      <td>NaN</td>\n      <td>NaN</td>\n      <td>1</td>\n      <td>190</td>\n      <td>0</td>\n      <td>0.0</td>\n      <td>STS 51-F (Challenger)</td>\n      <td>NaN</td>\n      <td>Not Applicable</td>\n    </tr>\n    <tr>\n      <th>2</th>\n      <td>James C. Adamson</td>\n      <td>1984.0</td>\n      <td>10.0</td>\n      <td>Retired</td>\n      <td>3/3/1946</td>\n      <td>Warsaw, NY</td>\n      <td>Male</td>\n      <td>US Military Academy; Princeton University</td>\n      <td>Engineering</td>\n      <td>Aerospace Engineering</td>\n      <td>Colonel</td>\n      <td>US Army (Retired)</td>\n      <td>2</td>\n      <td>334</td>\n      <td>0</td>\n      <td>0.0</td>\n      <td>STS-28 (Columbia), STS-43 (Atlantis)</td>\n      <td>NaN</td>\n      <td>Not Applicable</td>\n    </tr>\n    <tr>\n      <th>3</th>\n      <td>Thomas D. Akers</td>\n      <td>1987.0</td>\n      <td>12.0</td>\n      <td>Retired</td>\n      <td>5/20/1951</td>\n      <td>St. Louis, MO</td>\n      <td>Male</td>\n      <td>University of Missouri-Rolla</td>\n      <td>Applied Mathematics</td>\n      <td>Applied Mathematics</td>\n      <td>Colonel</td>\n      <td>US Air Force (Retired)</td>\n      <td>4</td>\n      <td>814</td>\n      <td>4</td>\n      <td>29.0</td>\n      <td>STS-41 (Discovery), STS-49 (Endeavor), STS-61 ...</td>\n      <td>NaN</td>\n      <td>Not Applicable</td>\n    </tr>\n    <tr>\n      <th>4</th>\n      <td>Buzz Aldrin</td>\n      <td>1963.0</td>\n      <td>3.0</td>\n      <td>Retired</td>\n      <td>1/20/1930</td>\n      <td>Montclair, NJ</td>\n      <td>Male</td>\n      <td>US Military Academy; MIT</td>\n      <td>Mechanical Engineering</td>\n      <td>Astronautics</td>\n      <td>Colonel</td>\n      <td>US Air Force (Retired)</td>\n      <td>2</td>\n      <td>289</td>\n      <td>2</td>\n      <td>8.0</td>\n      <td>Gemini 12, Apollo 11</td>\n      <td>NaN</td>\n      <td>Not Applicable</td>\n    </tr>\n    <tr>\n      <th>...</th>\n      <td>...</td>\n      <td>...</td>\n      <td>...</td>\n      <td>...</td>\n      <td>...</td>\n      <td>...</td>\n      <td>...</td>\n      <td>...</td>\n      <td>...</td>\n      <td>...</td>\n      <td>...</td>\n      <td>...</td>\n      <td>...</td>\n      <td>...</td>\n      <td>...</td>\n      <td>...</td>\n      <td>...</td>\n      <td>...</td>\n      <td>...</td>\n    </tr>\n    <tr>\n      <th>352</th>\n      <td>David A. Wolf</td>\n      <td>1990.0</td>\n      <td>13.0</td>\n      <td>Retired</td>\n      <td>8/23/1956</td>\n      <td>Indianapolis, IN</td>\n      <td>Male</td>\n      <td>Purdue University; Indiana University</td>\n      <td>Electrical Engineering</td>\n      <td>Medicine</td>\n      <td>NaN</td>\n      <td>NaN</td>\n      <td>3</td>\n      <td>4044</td>\n      <td>7</td>\n      <td>41.0</td>\n      <td>STS-58 (Columbia). STS-86/89 (Atlantis/Endeavo...</td>\n      <td>NaN</td>\n      <td>Not Applicable</td>\n    </tr>\n    <tr>\n      <th>353</th>\n      <td>Neil W. Woodward III</td>\n      <td>1998.0</td>\n      <td>17.0</td>\n      <td>Retired</td>\n      <td>7/26/1962</td>\n      <td>Chicago, IL</td>\n      <td>Male</td>\n      <td>MIT; University of Texas-Austin; George Washin...</td>\n      <td>Physics</td>\n      <td>Physics; Business Management</td>\n      <td>Commander</td>\n      <td>US Navy</td>\n      <td>0</td>\n      <td>0</td>\n      <td>0</td>\n      <td>0.0</td>\n      <td>NaN</td>\n      <td>NaN</td>\n      <td>Not Applicable</td>\n    </tr>\n    <tr>\n      <th>354</th>\n      <td>Alfred M. Worden</td>\n      <td>1966.0</td>\n      <td>5.0</td>\n      <td>Retired</td>\n      <td>2/7/1932</td>\n      <td>Jackson, MI</td>\n      <td>Male</td>\n      <td>US Military Academy; University of Michigan</td>\n      <td>Military Science</td>\n      <td>Aeronautical &amp; Astronautical Engineering</td>\n      <td>Colonel</td>\n      <td>US Air Force (Retired)</td>\n      <td>1</td>\n      <td>295</td>\n      <td>1</td>\n      <td>0.5</td>\n      <td>Apollo 15</td>\n      <td>NaN</td>\n      <td>Not Applicable</td>\n    </tr>\n    <tr>\n      <th>355</th>\n      <td>John W. Young</td>\n      <td>1962.0</td>\n      <td>2.0</td>\n      <td>Retired</td>\n      <td>9/24/1930</td>\n      <td>San Francisco, CA</td>\n      <td>Male</td>\n      <td>Georgia Institute of Technology</td>\n      <td>Aeronautical Engineering</td>\n      <td>NaN</td>\n      <td>Captain</td>\n      <td>US Navy (Retired)</td>\n      <td>6</td>\n      <td>835</td>\n      <td>3</td>\n      <td>20.0</td>\n      <td>Gemini 3, Gemini 10, Apollo 10, Apollo 16, STS...</td>\n      <td>NaN</td>\n      <td>Not Applicable</td>\n    </tr>\n    <tr>\n      <th>356</th>\n      <td>George D. Zamka</td>\n      <td>1998.0</td>\n      <td>17.0</td>\n      <td>Retired</td>\n      <td>6/29/1962</td>\n      <td>Jersey City, NJ</td>\n      <td>Male</td>\n      <td>US Naval Academy; Florida Institute of Technology</td>\n      <td>Mathematics</td>\n      <td>Engineering Management</td>\n      <td>Colonel</td>\n      <td>US Marine Corps (Retired)</td>\n      <td>2</td>\n      <td>692</td>\n      <td>0</td>\n      <td>0.0</td>\n      <td>STS-120 (Discovery), STS-130 (Endeavor)</td>\n      <td>NaN</td>\n      <td>Not Applicable</td>\n    </tr>\n  </tbody>\n</table>\n<p>357 rows × 19 columns</p>\n</div>"
     },
     "execution_count": 15,
     "metadata": {},
     "output_type": "execute_result"
    }
   ],
   "source": [
    "astronautas = astronautas.rename(columns = {\"Death Date\" : \"Death_Date\"})\n",
    "astronautas"
   ],
   "metadata": {
    "collapsed": false,
    "pycharm": {
     "name": "#%%\n"
    }
   }
  },
  {
   "cell_type": "code",
   "execution_count": 16,
   "outputs": [
    {
     "data": {
      "text/plain": "dtype('O')"
     },
     "execution_count": 16,
     "metadata": {},
     "output_type": "execute_result"
    }
   ],
   "source": [
    "astronautas.Death_Date.dtypes"
   ],
   "metadata": {
    "collapsed": false,
    "pycharm": {
     "name": "#%%\n"
    }
   }
  },
  {
   "cell_type": "markdown",
   "source": [
    "Configuro bien el formato fecha de la columna"
   ],
   "metadata": {
    "collapsed": false
   }
  },
  {
   "cell_type": "code",
   "execution_count": 17,
   "outputs": [
    {
     "name": "stderr",
     "output_type": "stream",
     "text": [
      "C:\\Users\\hp\\AppData\\Local\\Temp/ipykernel_7476/602603278.py:1: SettingWithCopyWarning: \n",
      "A value is trying to be set on a copy of a slice from a DataFrame\n",
      "\n",
      "See the caveats in the documentation: https://pandas.pydata.org/pandas-docs/stable/user_guide/indexing.html#returning-a-view-versus-a-copy\n",
      "  astronautas['Death_Date'][281]='04/23/2001'\n",
      "C:\\Users\\hp\\AppData\\Local\\Programs\\Python\\Python310\\lib\\site-packages\\pandas\\core\\indexing.py:1732: SettingWithCopyWarning: \n",
      "A value is trying to be set on a copy of a slice from a DataFrame\n",
      "\n",
      "See the caveats in the documentation: https://pandas.pydata.org/pandas-docs/stable/user_guide/indexing.html#returning-a-view-versus-a-copy\n",
      "  self._setitem_single_block(indexer, value, name)\n"
     ]
    }
   ],
   "source": [
    "astronautas['Death_Date'][281]='04/23/2001'\n",
    "for index,row in astronautas['Death_Date'].iteritems():\n",
    "    if( str(row)[2]=='/'):\n",
    "        datetimeobject = datetime.datetime.strptime(row,'%m/%d/%Y')\n",
    "        newformat = datetimeobject.strftime('%d-%m-%Y')\n",
    "        astronautas['Death_Date'].loc[index]=newformat"
   ],
   "metadata": {
    "collapsed": false,
    "pycharm": {
     "name": "#%%\n"
    }
   }
  },
  {
   "cell_type": "code",
   "execution_count": 18,
   "outputs": [],
   "source": [
    "astronautas['Death_Date']=astronautas['Death_Date'].fillna('Not Applicable')"
   ],
   "metadata": {
    "collapsed": false,
    "pycharm": {
     "name": "#%%\n"
    }
   }
  },
  {
   "cell_type": "markdown",
   "source": [
    "Distribucion de datos de la columna"
   ],
   "metadata": {
    "collapsed": false
   }
  },
  {
   "cell_type": "code",
   "execution_count": 19,
   "outputs": [
    {
     "data": {
      "text/plain": "Not Applicable    305\n1/28/1986           7\n2/1/2003            6\n1/27/1967           3\n2/28/1966           2\n23-04-2001          1\n5/9/2008            1\n7/1/2012            1\n7/23/2012           1\n5/24/2001           1\n12-12-1994          1\n7/21/1998           1\n5/2/2007            1\n7/28/2011           1\n6/13/1993           1\n27-12-1982          1\n5/24/1986           1\n03-10-1995          1\n2/6/2012            1\n4/23/2001           1\n3/22/1996           1\n8/26/2012           1\n3/15/2008           1\n04-10-2004          1\n8/25/2012           1\n7/23/2006           1\n8/11/2008           1\n03-10-2009          1\n4/5/1991            1\n7/8/1999            1\n02-12-1987          1\n3/1/2011            1\n4/6/1990            1\n31-10-1964          1\n6/6/1967            1\n6/17/1989           1\n05-10-1993          1\n8/8/1991            1\n05-10-1967          1\nName: Death_Date, dtype: int64"
     },
     "execution_count": 19,
     "metadata": {},
     "output_type": "execute_result"
    }
   ],
   "source": [
    "astronautas.Death_Date.value_counts(dropna=False)"
   ],
   "metadata": {
    "collapsed": false,
    "pycharm": {
     "name": "#%%\n"
    }
   }
  },
  {
   "cell_type": "markdown",
   "source": [
    "Verificamos que no haya quedado algun valor faltante/nulo"
   ],
   "metadata": {
    "collapsed": false
   }
  },
  {
   "cell_type": "code",
   "execution_count": 20,
   "outputs": [
    {
     "data": {
      "text/plain": "0"
     },
     "execution_count": 20,
     "metadata": {},
     "output_type": "execute_result"
    }
   ],
   "source": [
    "astronautas.Death_Date.isna().sum()"
   ],
   "metadata": {
    "collapsed": false,
    "pycharm": {
     "name": "#%%\n"
    }
   }
  },
  {
   "cell_type": "markdown",
   "source": [
    "Efectivamente ya no contamos con ningun valor faltante en esta columna"
   ],
   "metadata": {
    "collapsed": false
   }
  },
  {
   "cell_type": "markdown",
   "source": [
    "#### Military Rank"
   ],
   "metadata": {
    "collapsed": false
   }
  },
  {
   "cell_type": "markdown",
   "source": [
    "Renombro la columna"
   ],
   "metadata": {
    "collapsed": false
   }
  },
  {
   "cell_type": "code",
   "execution_count": 21,
   "outputs": [
    {
     "data": {
      "text/plain": "                      Name    Year  Group   Status Birth Date  \\\n0          Joseph M. Acaba  2004.0   19.0   Active  5/17/1967   \n1           Loren W. Acton     NaN    NaN  Retired   3/7/1936   \n2         James C. Adamson  1984.0   10.0  Retired   3/3/1946   \n3          Thomas D. Akers  1987.0   12.0  Retired  5/20/1951   \n4              Buzz Aldrin  1963.0    3.0  Retired  1/20/1930   \n..                     ...     ...    ...      ...        ...   \n352          David A. Wolf  1990.0   13.0  Retired  8/23/1956   \n353  Neil W. Woodward III   1998.0   17.0  Retired  7/26/1962   \n354       Alfred M. Worden  1966.0    5.0  Retired   2/7/1932   \n355          John W. Young  1962.0    2.0  Retired  9/24/1930   \n356        George D. Zamka  1998.0   17.0  Retired  6/29/1962   \n\n           Birth Place Gender  \\\n0        Inglewood, CA   Male   \n1         Lewiston, MT   Male   \n2           Warsaw, NY   Male   \n3        St. Louis, MO   Male   \n4        Montclair, NJ   Male   \n..                 ...    ...   \n352   Indianapolis, IN   Male   \n353        Chicago, IL   Male   \n354        Jackson, MI   Male   \n355  San Francisco, CA   Male   \n356    Jersey City, NJ   Male   \n\n                                            Alma Mater  \\\n0    University of California-Santa Barbara; Univer...   \n1     Montana State University; University of Colorado   \n2            US Military Academy; Princeton University   \n3                         University of Missouri-Rolla   \n4                             US Military Academy; MIT   \n..                                                 ...   \n352              Purdue University; Indiana University   \n353  MIT; University of Texas-Austin; George Washin...   \n354        US Military Academy; University of Michigan   \n355                    Georgia Institute of Technology   \n356  US Naval Academy; Florida Institute of Technology   \n\n          Undergraduate Major                            Graduate Major  \\\n0                     Geology                                   Geology   \n1         Engineering Physics                             Solar Physics   \n2                 Engineering                     Aerospace Engineering   \n3         Applied Mathematics                       Applied Mathematics   \n4      Mechanical Engineering                              Astronautics   \n..                        ...                                       ...   \n352    Electrical Engineering                                  Medicine   \n353                   Physics              Physics; Business Management   \n354          Military Science  Aeronautical & Astronautical Engineering   \n355  Aeronautical Engineering                                       NaN   \n356               Mathematics                    Engineering Management   \n\n    Military_Rank            Military Branch  Space Flights  \\\n0             NaN                        NaN              2   \n1             NaN                        NaN              1   \n2         Colonel          US Army (Retired)              2   \n3         Colonel     US Air Force (Retired)              4   \n4         Colonel     US Air Force (Retired)              2   \n..            ...                        ...            ...   \n352           NaN                        NaN              3   \n353     Commander                    US Navy              0   \n354       Colonel     US Air Force (Retired)              1   \n355       Captain          US Navy (Retired)              6   \n356       Colonel  US Marine Corps (Retired)              2   \n\n     Space Flight (hr)  Space Walks  Space Walks (hr)  \\\n0                 3307            2              13.0   \n1                  190            0               0.0   \n2                  334            0               0.0   \n3                  814            4              29.0   \n4                  289            2               8.0   \n..                 ...          ...               ...   \n352               4044            7              41.0   \n353                  0            0               0.0   \n354                295            1               0.5   \n355                835            3              20.0   \n356                692            0               0.0   \n\n                                              Missions      Death_Date  \\\n0               STS-119 (Discovery), ISS-31/32 (Soyuz)  Not Applicable   \n1                                STS 51-F (Challenger)  Not Applicable   \n2                 STS-28 (Columbia), STS-43 (Atlantis)  Not Applicable   \n3    STS-41 (Discovery), STS-49 (Endeavor), STS-61 ...  Not Applicable   \n4                                 Gemini 12, Apollo 11  Not Applicable   \n..                                                 ...             ...   \n352  STS-58 (Columbia). STS-86/89 (Atlantis/Endeavo...  Not Applicable   \n353                                                NaN  Not Applicable   \n354                                          Apollo 15  Not Applicable   \n355  Gemini 3, Gemini 10, Apollo 10, Apollo 16, STS...  Not Applicable   \n356            STS-120 (Discovery), STS-130 (Endeavor)  Not Applicable   \n\n      Death_Mission  \n0    Not Applicable  \n1    Not Applicable  \n2    Not Applicable  \n3    Not Applicable  \n4    Not Applicable  \n..              ...  \n352  Not Applicable  \n353  Not Applicable  \n354  Not Applicable  \n355  Not Applicable  \n356  Not Applicable  \n\n[357 rows x 19 columns]",
      "text/html": "<div>\n<style scoped>\n    .dataframe tbody tr th:only-of-type {\n        vertical-align: middle;\n    }\n\n    .dataframe tbody tr th {\n        vertical-align: top;\n    }\n\n    .dataframe thead th {\n        text-align: right;\n    }\n</style>\n<table border=\"1\" class=\"dataframe\">\n  <thead>\n    <tr style=\"text-align: right;\">\n      <th></th>\n      <th>Name</th>\n      <th>Year</th>\n      <th>Group</th>\n      <th>Status</th>\n      <th>Birth Date</th>\n      <th>Birth Place</th>\n      <th>Gender</th>\n      <th>Alma Mater</th>\n      <th>Undergraduate Major</th>\n      <th>Graduate Major</th>\n      <th>Military_Rank</th>\n      <th>Military Branch</th>\n      <th>Space Flights</th>\n      <th>Space Flight (hr)</th>\n      <th>Space Walks</th>\n      <th>Space Walks (hr)</th>\n      <th>Missions</th>\n      <th>Death_Date</th>\n      <th>Death_Mission</th>\n    </tr>\n  </thead>\n  <tbody>\n    <tr>\n      <th>0</th>\n      <td>Joseph M. Acaba</td>\n      <td>2004.0</td>\n      <td>19.0</td>\n      <td>Active</td>\n      <td>5/17/1967</td>\n      <td>Inglewood, CA</td>\n      <td>Male</td>\n      <td>University of California-Santa Barbara; Univer...</td>\n      <td>Geology</td>\n      <td>Geology</td>\n      <td>NaN</td>\n      <td>NaN</td>\n      <td>2</td>\n      <td>3307</td>\n      <td>2</td>\n      <td>13.0</td>\n      <td>STS-119 (Discovery), ISS-31/32 (Soyuz)</td>\n      <td>Not Applicable</td>\n      <td>Not Applicable</td>\n    </tr>\n    <tr>\n      <th>1</th>\n      <td>Loren W. Acton</td>\n      <td>NaN</td>\n      <td>NaN</td>\n      <td>Retired</td>\n      <td>3/7/1936</td>\n      <td>Lewiston, MT</td>\n      <td>Male</td>\n      <td>Montana State University; University of Colorado</td>\n      <td>Engineering Physics</td>\n      <td>Solar Physics</td>\n      <td>NaN</td>\n      <td>NaN</td>\n      <td>1</td>\n      <td>190</td>\n      <td>0</td>\n      <td>0.0</td>\n      <td>STS 51-F (Challenger)</td>\n      <td>Not Applicable</td>\n      <td>Not Applicable</td>\n    </tr>\n    <tr>\n      <th>2</th>\n      <td>James C. Adamson</td>\n      <td>1984.0</td>\n      <td>10.0</td>\n      <td>Retired</td>\n      <td>3/3/1946</td>\n      <td>Warsaw, NY</td>\n      <td>Male</td>\n      <td>US Military Academy; Princeton University</td>\n      <td>Engineering</td>\n      <td>Aerospace Engineering</td>\n      <td>Colonel</td>\n      <td>US Army (Retired)</td>\n      <td>2</td>\n      <td>334</td>\n      <td>0</td>\n      <td>0.0</td>\n      <td>STS-28 (Columbia), STS-43 (Atlantis)</td>\n      <td>Not Applicable</td>\n      <td>Not Applicable</td>\n    </tr>\n    <tr>\n      <th>3</th>\n      <td>Thomas D. Akers</td>\n      <td>1987.0</td>\n      <td>12.0</td>\n      <td>Retired</td>\n      <td>5/20/1951</td>\n      <td>St. Louis, MO</td>\n      <td>Male</td>\n      <td>University of Missouri-Rolla</td>\n      <td>Applied Mathematics</td>\n      <td>Applied Mathematics</td>\n      <td>Colonel</td>\n      <td>US Air Force (Retired)</td>\n      <td>4</td>\n      <td>814</td>\n      <td>4</td>\n      <td>29.0</td>\n      <td>STS-41 (Discovery), STS-49 (Endeavor), STS-61 ...</td>\n      <td>Not Applicable</td>\n      <td>Not Applicable</td>\n    </tr>\n    <tr>\n      <th>4</th>\n      <td>Buzz Aldrin</td>\n      <td>1963.0</td>\n      <td>3.0</td>\n      <td>Retired</td>\n      <td>1/20/1930</td>\n      <td>Montclair, NJ</td>\n      <td>Male</td>\n      <td>US Military Academy; MIT</td>\n      <td>Mechanical Engineering</td>\n      <td>Astronautics</td>\n      <td>Colonel</td>\n      <td>US Air Force (Retired)</td>\n      <td>2</td>\n      <td>289</td>\n      <td>2</td>\n      <td>8.0</td>\n      <td>Gemini 12, Apollo 11</td>\n      <td>Not Applicable</td>\n      <td>Not Applicable</td>\n    </tr>\n    <tr>\n      <th>...</th>\n      <td>...</td>\n      <td>...</td>\n      <td>...</td>\n      <td>...</td>\n      <td>...</td>\n      <td>...</td>\n      <td>...</td>\n      <td>...</td>\n      <td>...</td>\n      <td>...</td>\n      <td>...</td>\n      <td>...</td>\n      <td>...</td>\n      <td>...</td>\n      <td>...</td>\n      <td>...</td>\n      <td>...</td>\n      <td>...</td>\n      <td>...</td>\n    </tr>\n    <tr>\n      <th>352</th>\n      <td>David A. Wolf</td>\n      <td>1990.0</td>\n      <td>13.0</td>\n      <td>Retired</td>\n      <td>8/23/1956</td>\n      <td>Indianapolis, IN</td>\n      <td>Male</td>\n      <td>Purdue University; Indiana University</td>\n      <td>Electrical Engineering</td>\n      <td>Medicine</td>\n      <td>NaN</td>\n      <td>NaN</td>\n      <td>3</td>\n      <td>4044</td>\n      <td>7</td>\n      <td>41.0</td>\n      <td>STS-58 (Columbia). STS-86/89 (Atlantis/Endeavo...</td>\n      <td>Not Applicable</td>\n      <td>Not Applicable</td>\n    </tr>\n    <tr>\n      <th>353</th>\n      <td>Neil W. Woodward III</td>\n      <td>1998.0</td>\n      <td>17.0</td>\n      <td>Retired</td>\n      <td>7/26/1962</td>\n      <td>Chicago, IL</td>\n      <td>Male</td>\n      <td>MIT; University of Texas-Austin; George Washin...</td>\n      <td>Physics</td>\n      <td>Physics; Business Management</td>\n      <td>Commander</td>\n      <td>US Navy</td>\n      <td>0</td>\n      <td>0</td>\n      <td>0</td>\n      <td>0.0</td>\n      <td>NaN</td>\n      <td>Not Applicable</td>\n      <td>Not Applicable</td>\n    </tr>\n    <tr>\n      <th>354</th>\n      <td>Alfred M. Worden</td>\n      <td>1966.0</td>\n      <td>5.0</td>\n      <td>Retired</td>\n      <td>2/7/1932</td>\n      <td>Jackson, MI</td>\n      <td>Male</td>\n      <td>US Military Academy; University of Michigan</td>\n      <td>Military Science</td>\n      <td>Aeronautical &amp; Astronautical Engineering</td>\n      <td>Colonel</td>\n      <td>US Air Force (Retired)</td>\n      <td>1</td>\n      <td>295</td>\n      <td>1</td>\n      <td>0.5</td>\n      <td>Apollo 15</td>\n      <td>Not Applicable</td>\n      <td>Not Applicable</td>\n    </tr>\n    <tr>\n      <th>355</th>\n      <td>John W. Young</td>\n      <td>1962.0</td>\n      <td>2.0</td>\n      <td>Retired</td>\n      <td>9/24/1930</td>\n      <td>San Francisco, CA</td>\n      <td>Male</td>\n      <td>Georgia Institute of Technology</td>\n      <td>Aeronautical Engineering</td>\n      <td>NaN</td>\n      <td>Captain</td>\n      <td>US Navy (Retired)</td>\n      <td>6</td>\n      <td>835</td>\n      <td>3</td>\n      <td>20.0</td>\n      <td>Gemini 3, Gemini 10, Apollo 10, Apollo 16, STS...</td>\n      <td>Not Applicable</td>\n      <td>Not Applicable</td>\n    </tr>\n    <tr>\n      <th>356</th>\n      <td>George D. Zamka</td>\n      <td>1998.0</td>\n      <td>17.0</td>\n      <td>Retired</td>\n      <td>6/29/1962</td>\n      <td>Jersey City, NJ</td>\n      <td>Male</td>\n      <td>US Naval Academy; Florida Institute of Technology</td>\n      <td>Mathematics</td>\n      <td>Engineering Management</td>\n      <td>Colonel</td>\n      <td>US Marine Corps (Retired)</td>\n      <td>2</td>\n      <td>692</td>\n      <td>0</td>\n      <td>0.0</td>\n      <td>STS-120 (Discovery), STS-130 (Endeavor)</td>\n      <td>Not Applicable</td>\n      <td>Not Applicable</td>\n    </tr>\n  </tbody>\n</table>\n<p>357 rows × 19 columns</p>\n</div>"
     },
     "execution_count": 21,
     "metadata": {},
     "output_type": "execute_result"
    }
   ],
   "source": [
    "astronautas = astronautas.rename(columns = {\"Military Rank\" : \"Military_Rank\"})\n",
    "astronautas"
   ],
   "metadata": {
    "collapsed": false,
    "pycharm": {
     "name": "#%%\n"
    }
   }
  },
  {
   "cell_type": "code",
   "execution_count": 22,
   "outputs": [
    {
     "data": {
      "text/plain": "dtype('O')"
     },
     "execution_count": 22,
     "metadata": {},
     "output_type": "execute_result"
    }
   ],
   "source": [
    "astronautas.Military_Rank.dtypes"
   ],
   "metadata": {
    "collapsed": false,
    "pycharm": {
     "name": "#%%\n"
    }
   }
  },
  {
   "cell_type": "code",
   "execution_count": 23,
   "outputs": [],
   "source": [
    "astronautas['Military_Rank']=astronautas['Military_Rank'].fillna('Not Applicable')"
   ],
   "metadata": {
    "collapsed": false,
    "pycharm": {
     "name": "#%%\n"
    }
   }
  },
  {
   "cell_type": "markdown",
   "source": [
    "Distribucion de datos de la columna"
   ],
   "metadata": {
    "collapsed": false
   }
  },
  {
   "cell_type": "code",
   "execution_count": 24,
   "outputs": [
    {
     "data": {
      "text/plain": "Not Applicable           150\nColonel                   94\nCaptain                   68\nCommander                 13\nLieutenant Colonel        10\nMajor                      5\nMajor General              4\nBrigadier General          4\nLieutenant Commander       3\nLieutenant General         2\nRear Admiral               2\nChief Warrant Officer      1\nVice Admiral               1\nName: Military_Rank, dtype: int64"
     },
     "execution_count": 24,
     "metadata": {},
     "output_type": "execute_result"
    }
   ],
   "source": [
    "astronautas.Military_Rank.value_counts(dropna=False)"
   ],
   "metadata": {
    "collapsed": false,
    "pycharm": {
     "name": "#%%\n"
    }
   }
  },
  {
   "cell_type": "markdown",
   "source": [
    "Verificamos que no haya quedado algun valor faltante/nulo"
   ],
   "metadata": {
    "collapsed": false
   }
  },
  {
   "cell_type": "code",
   "execution_count": 25,
   "outputs": [
    {
     "data": {
      "text/plain": "0"
     },
     "execution_count": 25,
     "metadata": {},
     "output_type": "execute_result"
    }
   ],
   "source": [
    "astronautas.Military_Rank.isna().sum()"
   ],
   "metadata": {
    "collapsed": false,
    "pycharm": {
     "name": "#%%\n"
    }
   }
  },
  {
   "cell_type": "markdown",
   "source": [
    "Efectivamente ya no contamos con ningun valor faltante en esta columna"
   ],
   "metadata": {
    "collapsed": false
   }
  },
  {
   "cell_type": "markdown",
   "source": [
    "#### Military Branch"
   ],
   "metadata": {
    "collapsed": false
   }
  },
  {
   "cell_type": "markdown",
   "source": [
    "Renombro la columna"
   ],
   "metadata": {
    "collapsed": false
   }
  },
  {
   "cell_type": "code",
   "execution_count": 26,
   "outputs": [
    {
     "data": {
      "text/plain": "                      Name    Year  Group   Status Birth Date  \\\n0          Joseph M. Acaba  2004.0   19.0   Active  5/17/1967   \n1           Loren W. Acton     NaN    NaN  Retired   3/7/1936   \n2         James C. Adamson  1984.0   10.0  Retired   3/3/1946   \n3          Thomas D. Akers  1987.0   12.0  Retired  5/20/1951   \n4              Buzz Aldrin  1963.0    3.0  Retired  1/20/1930   \n..                     ...     ...    ...      ...        ...   \n352          David A. Wolf  1990.0   13.0  Retired  8/23/1956   \n353  Neil W. Woodward III   1998.0   17.0  Retired  7/26/1962   \n354       Alfred M. Worden  1966.0    5.0  Retired   2/7/1932   \n355          John W. Young  1962.0    2.0  Retired  9/24/1930   \n356        George D. Zamka  1998.0   17.0  Retired  6/29/1962   \n\n           Birth Place Gender  \\\n0        Inglewood, CA   Male   \n1         Lewiston, MT   Male   \n2           Warsaw, NY   Male   \n3        St. Louis, MO   Male   \n4        Montclair, NJ   Male   \n..                 ...    ...   \n352   Indianapolis, IN   Male   \n353        Chicago, IL   Male   \n354        Jackson, MI   Male   \n355  San Francisco, CA   Male   \n356    Jersey City, NJ   Male   \n\n                                            Alma Mater  \\\n0    University of California-Santa Barbara; Univer...   \n1     Montana State University; University of Colorado   \n2            US Military Academy; Princeton University   \n3                         University of Missouri-Rolla   \n4                             US Military Academy; MIT   \n..                                                 ...   \n352              Purdue University; Indiana University   \n353  MIT; University of Texas-Austin; George Washin...   \n354        US Military Academy; University of Michigan   \n355                    Georgia Institute of Technology   \n356  US Naval Academy; Florida Institute of Technology   \n\n          Undergraduate Major                            Graduate Major  \\\n0                     Geology                                   Geology   \n1         Engineering Physics                             Solar Physics   \n2                 Engineering                     Aerospace Engineering   \n3         Applied Mathematics                       Applied Mathematics   \n4      Mechanical Engineering                              Astronautics   \n..                        ...                                       ...   \n352    Electrical Engineering                                  Medicine   \n353                   Physics              Physics; Business Management   \n354          Military Science  Aeronautical & Astronautical Engineering   \n355  Aeronautical Engineering                                       NaN   \n356               Mathematics                    Engineering Management   \n\n      Military_Rank            Military_Branch  Space Flights  \\\n0    Not Applicable                        NaN              2   \n1    Not Applicable                        NaN              1   \n2           Colonel          US Army (Retired)              2   \n3           Colonel     US Air Force (Retired)              4   \n4           Colonel     US Air Force (Retired)              2   \n..              ...                        ...            ...   \n352  Not Applicable                        NaN              3   \n353       Commander                    US Navy              0   \n354         Colonel     US Air Force (Retired)              1   \n355         Captain          US Navy (Retired)              6   \n356         Colonel  US Marine Corps (Retired)              2   \n\n     Space Flight (hr)  Space Walks  Space Walks (hr)  \\\n0                 3307            2              13.0   \n1                  190            0               0.0   \n2                  334            0               0.0   \n3                  814            4              29.0   \n4                  289            2               8.0   \n..                 ...          ...               ...   \n352               4044            7              41.0   \n353                  0            0               0.0   \n354                295            1               0.5   \n355                835            3              20.0   \n356                692            0               0.0   \n\n                                              Missions      Death_Date  \\\n0               STS-119 (Discovery), ISS-31/32 (Soyuz)  Not Applicable   \n1                                STS 51-F (Challenger)  Not Applicable   \n2                 STS-28 (Columbia), STS-43 (Atlantis)  Not Applicable   \n3    STS-41 (Discovery), STS-49 (Endeavor), STS-61 ...  Not Applicable   \n4                                 Gemini 12, Apollo 11  Not Applicable   \n..                                                 ...             ...   \n352  STS-58 (Columbia). STS-86/89 (Atlantis/Endeavo...  Not Applicable   \n353                                                NaN  Not Applicable   \n354                                          Apollo 15  Not Applicable   \n355  Gemini 3, Gemini 10, Apollo 10, Apollo 16, STS...  Not Applicable   \n356            STS-120 (Discovery), STS-130 (Endeavor)  Not Applicable   \n\n      Death_Mission  \n0    Not Applicable  \n1    Not Applicable  \n2    Not Applicable  \n3    Not Applicable  \n4    Not Applicable  \n..              ...  \n352  Not Applicable  \n353  Not Applicable  \n354  Not Applicable  \n355  Not Applicable  \n356  Not Applicable  \n\n[357 rows x 19 columns]",
      "text/html": "<div>\n<style scoped>\n    .dataframe tbody tr th:only-of-type {\n        vertical-align: middle;\n    }\n\n    .dataframe tbody tr th {\n        vertical-align: top;\n    }\n\n    .dataframe thead th {\n        text-align: right;\n    }\n</style>\n<table border=\"1\" class=\"dataframe\">\n  <thead>\n    <tr style=\"text-align: right;\">\n      <th></th>\n      <th>Name</th>\n      <th>Year</th>\n      <th>Group</th>\n      <th>Status</th>\n      <th>Birth Date</th>\n      <th>Birth Place</th>\n      <th>Gender</th>\n      <th>Alma Mater</th>\n      <th>Undergraduate Major</th>\n      <th>Graduate Major</th>\n      <th>Military_Rank</th>\n      <th>Military_Branch</th>\n      <th>Space Flights</th>\n      <th>Space Flight (hr)</th>\n      <th>Space Walks</th>\n      <th>Space Walks (hr)</th>\n      <th>Missions</th>\n      <th>Death_Date</th>\n      <th>Death_Mission</th>\n    </tr>\n  </thead>\n  <tbody>\n    <tr>\n      <th>0</th>\n      <td>Joseph M. Acaba</td>\n      <td>2004.0</td>\n      <td>19.0</td>\n      <td>Active</td>\n      <td>5/17/1967</td>\n      <td>Inglewood, CA</td>\n      <td>Male</td>\n      <td>University of California-Santa Barbara; Univer...</td>\n      <td>Geology</td>\n      <td>Geology</td>\n      <td>Not Applicable</td>\n      <td>NaN</td>\n      <td>2</td>\n      <td>3307</td>\n      <td>2</td>\n      <td>13.0</td>\n      <td>STS-119 (Discovery), ISS-31/32 (Soyuz)</td>\n      <td>Not Applicable</td>\n      <td>Not Applicable</td>\n    </tr>\n    <tr>\n      <th>1</th>\n      <td>Loren W. Acton</td>\n      <td>NaN</td>\n      <td>NaN</td>\n      <td>Retired</td>\n      <td>3/7/1936</td>\n      <td>Lewiston, MT</td>\n      <td>Male</td>\n      <td>Montana State University; University of Colorado</td>\n      <td>Engineering Physics</td>\n      <td>Solar Physics</td>\n      <td>Not Applicable</td>\n      <td>NaN</td>\n      <td>1</td>\n      <td>190</td>\n      <td>0</td>\n      <td>0.0</td>\n      <td>STS 51-F (Challenger)</td>\n      <td>Not Applicable</td>\n      <td>Not Applicable</td>\n    </tr>\n    <tr>\n      <th>2</th>\n      <td>James C. Adamson</td>\n      <td>1984.0</td>\n      <td>10.0</td>\n      <td>Retired</td>\n      <td>3/3/1946</td>\n      <td>Warsaw, NY</td>\n      <td>Male</td>\n      <td>US Military Academy; Princeton University</td>\n      <td>Engineering</td>\n      <td>Aerospace Engineering</td>\n      <td>Colonel</td>\n      <td>US Army (Retired)</td>\n      <td>2</td>\n      <td>334</td>\n      <td>0</td>\n      <td>0.0</td>\n      <td>STS-28 (Columbia), STS-43 (Atlantis)</td>\n      <td>Not Applicable</td>\n      <td>Not Applicable</td>\n    </tr>\n    <tr>\n      <th>3</th>\n      <td>Thomas D. Akers</td>\n      <td>1987.0</td>\n      <td>12.0</td>\n      <td>Retired</td>\n      <td>5/20/1951</td>\n      <td>St. Louis, MO</td>\n      <td>Male</td>\n      <td>University of Missouri-Rolla</td>\n      <td>Applied Mathematics</td>\n      <td>Applied Mathematics</td>\n      <td>Colonel</td>\n      <td>US Air Force (Retired)</td>\n      <td>4</td>\n      <td>814</td>\n      <td>4</td>\n      <td>29.0</td>\n      <td>STS-41 (Discovery), STS-49 (Endeavor), STS-61 ...</td>\n      <td>Not Applicable</td>\n      <td>Not Applicable</td>\n    </tr>\n    <tr>\n      <th>4</th>\n      <td>Buzz Aldrin</td>\n      <td>1963.0</td>\n      <td>3.0</td>\n      <td>Retired</td>\n      <td>1/20/1930</td>\n      <td>Montclair, NJ</td>\n      <td>Male</td>\n      <td>US Military Academy; MIT</td>\n      <td>Mechanical Engineering</td>\n      <td>Astronautics</td>\n      <td>Colonel</td>\n      <td>US Air Force (Retired)</td>\n      <td>2</td>\n      <td>289</td>\n      <td>2</td>\n      <td>8.0</td>\n      <td>Gemini 12, Apollo 11</td>\n      <td>Not Applicable</td>\n      <td>Not Applicable</td>\n    </tr>\n    <tr>\n      <th>...</th>\n      <td>...</td>\n      <td>...</td>\n      <td>...</td>\n      <td>...</td>\n      <td>...</td>\n      <td>...</td>\n      <td>...</td>\n      <td>...</td>\n      <td>...</td>\n      <td>...</td>\n      <td>...</td>\n      <td>...</td>\n      <td>...</td>\n      <td>...</td>\n      <td>...</td>\n      <td>...</td>\n      <td>...</td>\n      <td>...</td>\n      <td>...</td>\n    </tr>\n    <tr>\n      <th>352</th>\n      <td>David A. Wolf</td>\n      <td>1990.0</td>\n      <td>13.0</td>\n      <td>Retired</td>\n      <td>8/23/1956</td>\n      <td>Indianapolis, IN</td>\n      <td>Male</td>\n      <td>Purdue University; Indiana University</td>\n      <td>Electrical Engineering</td>\n      <td>Medicine</td>\n      <td>Not Applicable</td>\n      <td>NaN</td>\n      <td>3</td>\n      <td>4044</td>\n      <td>7</td>\n      <td>41.0</td>\n      <td>STS-58 (Columbia). STS-86/89 (Atlantis/Endeavo...</td>\n      <td>Not Applicable</td>\n      <td>Not Applicable</td>\n    </tr>\n    <tr>\n      <th>353</th>\n      <td>Neil W. Woodward III</td>\n      <td>1998.0</td>\n      <td>17.0</td>\n      <td>Retired</td>\n      <td>7/26/1962</td>\n      <td>Chicago, IL</td>\n      <td>Male</td>\n      <td>MIT; University of Texas-Austin; George Washin...</td>\n      <td>Physics</td>\n      <td>Physics; Business Management</td>\n      <td>Commander</td>\n      <td>US Navy</td>\n      <td>0</td>\n      <td>0</td>\n      <td>0</td>\n      <td>0.0</td>\n      <td>NaN</td>\n      <td>Not Applicable</td>\n      <td>Not Applicable</td>\n    </tr>\n    <tr>\n      <th>354</th>\n      <td>Alfred M. Worden</td>\n      <td>1966.0</td>\n      <td>5.0</td>\n      <td>Retired</td>\n      <td>2/7/1932</td>\n      <td>Jackson, MI</td>\n      <td>Male</td>\n      <td>US Military Academy; University of Michigan</td>\n      <td>Military Science</td>\n      <td>Aeronautical &amp; Astronautical Engineering</td>\n      <td>Colonel</td>\n      <td>US Air Force (Retired)</td>\n      <td>1</td>\n      <td>295</td>\n      <td>1</td>\n      <td>0.5</td>\n      <td>Apollo 15</td>\n      <td>Not Applicable</td>\n      <td>Not Applicable</td>\n    </tr>\n    <tr>\n      <th>355</th>\n      <td>John W. Young</td>\n      <td>1962.0</td>\n      <td>2.0</td>\n      <td>Retired</td>\n      <td>9/24/1930</td>\n      <td>San Francisco, CA</td>\n      <td>Male</td>\n      <td>Georgia Institute of Technology</td>\n      <td>Aeronautical Engineering</td>\n      <td>NaN</td>\n      <td>Captain</td>\n      <td>US Navy (Retired)</td>\n      <td>6</td>\n      <td>835</td>\n      <td>3</td>\n      <td>20.0</td>\n      <td>Gemini 3, Gemini 10, Apollo 10, Apollo 16, STS...</td>\n      <td>Not Applicable</td>\n      <td>Not Applicable</td>\n    </tr>\n    <tr>\n      <th>356</th>\n      <td>George D. Zamka</td>\n      <td>1998.0</td>\n      <td>17.0</td>\n      <td>Retired</td>\n      <td>6/29/1962</td>\n      <td>Jersey City, NJ</td>\n      <td>Male</td>\n      <td>US Naval Academy; Florida Institute of Technology</td>\n      <td>Mathematics</td>\n      <td>Engineering Management</td>\n      <td>Colonel</td>\n      <td>US Marine Corps (Retired)</td>\n      <td>2</td>\n      <td>692</td>\n      <td>0</td>\n      <td>0.0</td>\n      <td>STS-120 (Discovery), STS-130 (Endeavor)</td>\n      <td>Not Applicable</td>\n      <td>Not Applicable</td>\n    </tr>\n  </tbody>\n</table>\n<p>357 rows × 19 columns</p>\n</div>"
     },
     "execution_count": 26,
     "metadata": {},
     "output_type": "execute_result"
    }
   ],
   "source": [
    "astronautas = astronautas.rename(columns = {\"Military Branch\" : \"Military_Branch\"})\n",
    "astronautas"
   ],
   "metadata": {
    "collapsed": false,
    "pycharm": {
     "name": "#%%\n"
    }
   }
  },
  {
   "cell_type": "code",
   "execution_count": 27,
   "outputs": [
    {
     "data": {
      "text/plain": "dtype('O')"
     },
     "execution_count": 27,
     "metadata": {},
     "output_type": "execute_result"
    }
   ],
   "source": [
    "astronautas.Military_Branch.dtypes"
   ],
   "metadata": {
    "collapsed": false,
    "pycharm": {
     "name": "#%%\n"
    }
   }
  },
  {
   "cell_type": "code",
   "execution_count": 28,
   "outputs": [],
   "source": [
    "astronautas['Military_Branch']=astronautas['Military_Branch'].fillna('Not Applicable')"
   ],
   "metadata": {
    "collapsed": false,
    "pycharm": {
     "name": "#%%\n"
    }
   }
  },
  {
   "cell_type": "markdown",
   "source": [
    "Distribucion de datos de la columna"
   ],
   "metadata": {
    "collapsed": false
   }
  },
  {
   "cell_type": "code",
   "execution_count": 29,
   "outputs": [
    {
     "data": {
      "text/plain": "Not Applicable                     146\nUS Air Force (Retired)              61\nUS Navy (Retired)                   59\nUS Air Force                        21\nUS Navy                             21\nUS Marine Corps (Retired)           17\nUS Army (Retired)                   13\nUS Army                              4\nUS Air Force Reserves (Retired)      3\nUS Marine Corps                      3\nUS Marine Corps Reserves             2\nUS Coast Guard (Retired)             2\nUS Naval Reserves                    2\nUS Air Force Reserves                2\nUS Naval Reserves (Retired)          1\nName: Military_Branch, dtype: int64"
     },
     "execution_count": 29,
     "metadata": {},
     "output_type": "execute_result"
    }
   ],
   "source": [
    "astronautas.Military_Branch.value_counts(dropna=False)"
   ],
   "metadata": {
    "collapsed": false,
    "pycharm": {
     "name": "#%%\n"
    }
   }
  },
  {
   "cell_type": "markdown",
   "source": [
    "Verificamos que no haya quedado algun valor faltante/nulo"
   ],
   "metadata": {
    "collapsed": false
   }
  },
  {
   "cell_type": "code",
   "execution_count": 30,
   "outputs": [
    {
     "data": {
      "text/plain": "0"
     },
     "execution_count": 30,
     "metadata": {},
     "output_type": "execute_result"
    }
   ],
   "source": [
    "astronautas.Military_Branch.isna().sum()"
   ],
   "metadata": {
    "collapsed": false,
    "pycharm": {
     "name": "#%%\n"
    }
   }
  },
  {
   "cell_type": "markdown",
   "source": [
    "Efectivamente ya no contamos con ningun valor faltante en esta columna"
   ],
   "metadata": {
    "collapsed": false
   }
  },
  {
   "cell_type": "markdown",
   "source": [],
   "metadata": {
    "collapsed": false
   }
  },
  {
   "cell_type": "markdown",
   "source": [
    "Renombro la columna"
   ],
   "metadata": {
    "collapsed": false
   }
  },
  {
   "cell_type": "code",
   "execution_count": 31,
   "outputs": [
    {
     "data": {
      "text/plain": "                      Name    Year  Group   Status Birth Date  \\\n0          Joseph M. Acaba  2004.0   19.0   Active  5/17/1967   \n1           Loren W. Acton     NaN    NaN  Retired   3/7/1936   \n2         James C. Adamson  1984.0   10.0  Retired   3/3/1946   \n3          Thomas D. Akers  1987.0   12.0  Retired  5/20/1951   \n4              Buzz Aldrin  1963.0    3.0  Retired  1/20/1930   \n..                     ...     ...    ...      ...        ...   \n352          David A. Wolf  1990.0   13.0  Retired  8/23/1956   \n353  Neil W. Woodward III   1998.0   17.0  Retired  7/26/1962   \n354       Alfred M. Worden  1966.0    5.0  Retired   2/7/1932   \n355          John W. Young  1962.0    2.0  Retired  9/24/1930   \n356        George D. Zamka  1998.0   17.0  Retired  6/29/1962   \n\n           Birth Place Gender  \\\n0        Inglewood, CA   Male   \n1         Lewiston, MT   Male   \n2           Warsaw, NY   Male   \n3        St. Louis, MO   Male   \n4        Montclair, NJ   Male   \n..                 ...    ...   \n352   Indianapolis, IN   Male   \n353        Chicago, IL   Male   \n354        Jackson, MI   Male   \n355  San Francisco, CA   Male   \n356    Jersey City, NJ   Male   \n\n                                            Alma Mater  \\\n0    University of California-Santa Barbara; Univer...   \n1     Montana State University; University of Colorado   \n2            US Military Academy; Princeton University   \n3                         University of Missouri-Rolla   \n4                             US Military Academy; MIT   \n..                                                 ...   \n352              Purdue University; Indiana University   \n353  MIT; University of Texas-Austin; George Washin...   \n354        US Military Academy; University of Michigan   \n355                    Georgia Institute of Technology   \n356  US Naval Academy; Florida Institute of Technology   \n\n          Undergraduate Major                            Graduate_Major  \\\n0                     Geology                                   Geology   \n1         Engineering Physics                             Solar Physics   \n2                 Engineering                     Aerospace Engineering   \n3         Applied Mathematics                       Applied Mathematics   \n4      Mechanical Engineering                              Astronautics   \n..                        ...                                       ...   \n352    Electrical Engineering                                  Medicine   \n353                   Physics              Physics; Business Management   \n354          Military Science  Aeronautical & Astronautical Engineering   \n355  Aeronautical Engineering                                       NaN   \n356               Mathematics                    Engineering Management   \n\n      Military_Rank            Military_Branch  Space Flights  \\\n0    Not Applicable             Not Applicable              2   \n1    Not Applicable             Not Applicable              1   \n2           Colonel          US Army (Retired)              2   \n3           Colonel     US Air Force (Retired)              4   \n4           Colonel     US Air Force (Retired)              2   \n..              ...                        ...            ...   \n352  Not Applicable             Not Applicable              3   \n353       Commander                    US Navy              0   \n354         Colonel     US Air Force (Retired)              1   \n355         Captain          US Navy (Retired)              6   \n356         Colonel  US Marine Corps (Retired)              2   \n\n     Space Flight (hr)  Space Walks  Space Walks (hr)  \\\n0                 3307            2              13.0   \n1                  190            0               0.0   \n2                  334            0               0.0   \n3                  814            4              29.0   \n4                  289            2               8.0   \n..                 ...          ...               ...   \n352               4044            7              41.0   \n353                  0            0               0.0   \n354                295            1               0.5   \n355                835            3              20.0   \n356                692            0               0.0   \n\n                                              Missions      Death_Date  \\\n0               STS-119 (Discovery), ISS-31/32 (Soyuz)  Not Applicable   \n1                                STS 51-F (Challenger)  Not Applicable   \n2                 STS-28 (Columbia), STS-43 (Atlantis)  Not Applicable   \n3    STS-41 (Discovery), STS-49 (Endeavor), STS-61 ...  Not Applicable   \n4                                 Gemini 12, Apollo 11  Not Applicable   \n..                                                 ...             ...   \n352  STS-58 (Columbia). STS-86/89 (Atlantis/Endeavo...  Not Applicable   \n353                                                NaN  Not Applicable   \n354                                          Apollo 15  Not Applicable   \n355  Gemini 3, Gemini 10, Apollo 10, Apollo 16, STS...  Not Applicable   \n356            STS-120 (Discovery), STS-130 (Endeavor)  Not Applicable   \n\n      Death_Mission  \n0    Not Applicable  \n1    Not Applicable  \n2    Not Applicable  \n3    Not Applicable  \n4    Not Applicable  \n..              ...  \n352  Not Applicable  \n353  Not Applicable  \n354  Not Applicable  \n355  Not Applicable  \n356  Not Applicable  \n\n[357 rows x 19 columns]",
      "text/html": "<div>\n<style scoped>\n    .dataframe tbody tr th:only-of-type {\n        vertical-align: middle;\n    }\n\n    .dataframe tbody tr th {\n        vertical-align: top;\n    }\n\n    .dataframe thead th {\n        text-align: right;\n    }\n</style>\n<table border=\"1\" class=\"dataframe\">\n  <thead>\n    <tr style=\"text-align: right;\">\n      <th></th>\n      <th>Name</th>\n      <th>Year</th>\n      <th>Group</th>\n      <th>Status</th>\n      <th>Birth Date</th>\n      <th>Birth Place</th>\n      <th>Gender</th>\n      <th>Alma Mater</th>\n      <th>Undergraduate Major</th>\n      <th>Graduate_Major</th>\n      <th>Military_Rank</th>\n      <th>Military_Branch</th>\n      <th>Space Flights</th>\n      <th>Space Flight (hr)</th>\n      <th>Space Walks</th>\n      <th>Space Walks (hr)</th>\n      <th>Missions</th>\n      <th>Death_Date</th>\n      <th>Death_Mission</th>\n    </tr>\n  </thead>\n  <tbody>\n    <tr>\n      <th>0</th>\n      <td>Joseph M. Acaba</td>\n      <td>2004.0</td>\n      <td>19.0</td>\n      <td>Active</td>\n      <td>5/17/1967</td>\n      <td>Inglewood, CA</td>\n      <td>Male</td>\n      <td>University of California-Santa Barbara; Univer...</td>\n      <td>Geology</td>\n      <td>Geology</td>\n      <td>Not Applicable</td>\n      <td>Not Applicable</td>\n      <td>2</td>\n      <td>3307</td>\n      <td>2</td>\n      <td>13.0</td>\n      <td>STS-119 (Discovery), ISS-31/32 (Soyuz)</td>\n      <td>Not Applicable</td>\n      <td>Not Applicable</td>\n    </tr>\n    <tr>\n      <th>1</th>\n      <td>Loren W. Acton</td>\n      <td>NaN</td>\n      <td>NaN</td>\n      <td>Retired</td>\n      <td>3/7/1936</td>\n      <td>Lewiston, MT</td>\n      <td>Male</td>\n      <td>Montana State University; University of Colorado</td>\n      <td>Engineering Physics</td>\n      <td>Solar Physics</td>\n      <td>Not Applicable</td>\n      <td>Not Applicable</td>\n      <td>1</td>\n      <td>190</td>\n      <td>0</td>\n      <td>0.0</td>\n      <td>STS 51-F (Challenger)</td>\n      <td>Not Applicable</td>\n      <td>Not Applicable</td>\n    </tr>\n    <tr>\n      <th>2</th>\n      <td>James C. Adamson</td>\n      <td>1984.0</td>\n      <td>10.0</td>\n      <td>Retired</td>\n      <td>3/3/1946</td>\n      <td>Warsaw, NY</td>\n      <td>Male</td>\n      <td>US Military Academy; Princeton University</td>\n      <td>Engineering</td>\n      <td>Aerospace Engineering</td>\n      <td>Colonel</td>\n      <td>US Army (Retired)</td>\n      <td>2</td>\n      <td>334</td>\n      <td>0</td>\n      <td>0.0</td>\n      <td>STS-28 (Columbia), STS-43 (Atlantis)</td>\n      <td>Not Applicable</td>\n      <td>Not Applicable</td>\n    </tr>\n    <tr>\n      <th>3</th>\n      <td>Thomas D. Akers</td>\n      <td>1987.0</td>\n      <td>12.0</td>\n      <td>Retired</td>\n      <td>5/20/1951</td>\n      <td>St. Louis, MO</td>\n      <td>Male</td>\n      <td>University of Missouri-Rolla</td>\n      <td>Applied Mathematics</td>\n      <td>Applied Mathematics</td>\n      <td>Colonel</td>\n      <td>US Air Force (Retired)</td>\n      <td>4</td>\n      <td>814</td>\n      <td>4</td>\n      <td>29.0</td>\n      <td>STS-41 (Discovery), STS-49 (Endeavor), STS-61 ...</td>\n      <td>Not Applicable</td>\n      <td>Not Applicable</td>\n    </tr>\n    <tr>\n      <th>4</th>\n      <td>Buzz Aldrin</td>\n      <td>1963.0</td>\n      <td>3.0</td>\n      <td>Retired</td>\n      <td>1/20/1930</td>\n      <td>Montclair, NJ</td>\n      <td>Male</td>\n      <td>US Military Academy; MIT</td>\n      <td>Mechanical Engineering</td>\n      <td>Astronautics</td>\n      <td>Colonel</td>\n      <td>US Air Force (Retired)</td>\n      <td>2</td>\n      <td>289</td>\n      <td>2</td>\n      <td>8.0</td>\n      <td>Gemini 12, Apollo 11</td>\n      <td>Not Applicable</td>\n      <td>Not Applicable</td>\n    </tr>\n    <tr>\n      <th>...</th>\n      <td>...</td>\n      <td>...</td>\n      <td>...</td>\n      <td>...</td>\n      <td>...</td>\n      <td>...</td>\n      <td>...</td>\n      <td>...</td>\n      <td>...</td>\n      <td>...</td>\n      <td>...</td>\n      <td>...</td>\n      <td>...</td>\n      <td>...</td>\n      <td>...</td>\n      <td>...</td>\n      <td>...</td>\n      <td>...</td>\n      <td>...</td>\n    </tr>\n    <tr>\n      <th>352</th>\n      <td>David A. Wolf</td>\n      <td>1990.0</td>\n      <td>13.0</td>\n      <td>Retired</td>\n      <td>8/23/1956</td>\n      <td>Indianapolis, IN</td>\n      <td>Male</td>\n      <td>Purdue University; Indiana University</td>\n      <td>Electrical Engineering</td>\n      <td>Medicine</td>\n      <td>Not Applicable</td>\n      <td>Not Applicable</td>\n      <td>3</td>\n      <td>4044</td>\n      <td>7</td>\n      <td>41.0</td>\n      <td>STS-58 (Columbia). STS-86/89 (Atlantis/Endeavo...</td>\n      <td>Not Applicable</td>\n      <td>Not Applicable</td>\n    </tr>\n    <tr>\n      <th>353</th>\n      <td>Neil W. Woodward III</td>\n      <td>1998.0</td>\n      <td>17.0</td>\n      <td>Retired</td>\n      <td>7/26/1962</td>\n      <td>Chicago, IL</td>\n      <td>Male</td>\n      <td>MIT; University of Texas-Austin; George Washin...</td>\n      <td>Physics</td>\n      <td>Physics; Business Management</td>\n      <td>Commander</td>\n      <td>US Navy</td>\n      <td>0</td>\n      <td>0</td>\n      <td>0</td>\n      <td>0.0</td>\n      <td>NaN</td>\n      <td>Not Applicable</td>\n      <td>Not Applicable</td>\n    </tr>\n    <tr>\n      <th>354</th>\n      <td>Alfred M. Worden</td>\n      <td>1966.0</td>\n      <td>5.0</td>\n      <td>Retired</td>\n      <td>2/7/1932</td>\n      <td>Jackson, MI</td>\n      <td>Male</td>\n      <td>US Military Academy; University of Michigan</td>\n      <td>Military Science</td>\n      <td>Aeronautical &amp; Astronautical Engineering</td>\n      <td>Colonel</td>\n      <td>US Air Force (Retired)</td>\n      <td>1</td>\n      <td>295</td>\n      <td>1</td>\n      <td>0.5</td>\n      <td>Apollo 15</td>\n      <td>Not Applicable</td>\n      <td>Not Applicable</td>\n    </tr>\n    <tr>\n      <th>355</th>\n      <td>John W. Young</td>\n      <td>1962.0</td>\n      <td>2.0</td>\n      <td>Retired</td>\n      <td>9/24/1930</td>\n      <td>San Francisco, CA</td>\n      <td>Male</td>\n      <td>Georgia Institute of Technology</td>\n      <td>Aeronautical Engineering</td>\n      <td>NaN</td>\n      <td>Captain</td>\n      <td>US Navy (Retired)</td>\n      <td>6</td>\n      <td>835</td>\n      <td>3</td>\n      <td>20.0</td>\n      <td>Gemini 3, Gemini 10, Apollo 10, Apollo 16, STS...</td>\n      <td>Not Applicable</td>\n      <td>Not Applicable</td>\n    </tr>\n    <tr>\n      <th>356</th>\n      <td>George D. Zamka</td>\n      <td>1998.0</td>\n      <td>17.0</td>\n      <td>Retired</td>\n      <td>6/29/1962</td>\n      <td>Jersey City, NJ</td>\n      <td>Male</td>\n      <td>US Naval Academy; Florida Institute of Technology</td>\n      <td>Mathematics</td>\n      <td>Engineering Management</td>\n      <td>Colonel</td>\n      <td>US Marine Corps (Retired)</td>\n      <td>2</td>\n      <td>692</td>\n      <td>0</td>\n      <td>0.0</td>\n      <td>STS-120 (Discovery), STS-130 (Endeavor)</td>\n      <td>Not Applicable</td>\n      <td>Not Applicable</td>\n    </tr>\n  </tbody>\n</table>\n<p>357 rows × 19 columns</p>\n</div>"
     },
     "execution_count": 31,
     "metadata": {},
     "output_type": "execute_result"
    }
   ],
   "source": [
    "astronautas = astronautas.rename(columns = {\"Graduate Major\" : \"Graduate_Major\"})\n",
    "astronautas"
   ],
   "metadata": {
    "collapsed": false,
    "pycharm": {
     "name": "#%%\n"
    }
   }
  },
  {
   "cell_type": "code",
   "execution_count": 32,
   "outputs": [
    {
     "data": {
      "text/plain": "dtype('O')"
     },
     "execution_count": 32,
     "metadata": {},
     "output_type": "execute_result"
    }
   ],
   "source": [
    "astronautas.Graduate_Major.dtypes"
   ],
   "metadata": {
    "collapsed": false,
    "pycharm": {
     "name": "#%%\n"
    }
   }
  },
  {
   "cell_type": "markdown",
   "source": [
    "Armo una nueva variable llamada data1 y mediante un counter y luego un fillna elimino los datos faltantes."
   ],
   "metadata": {
    "collapsed": false
   }
  },
  {
   "cell_type": "code",
   "execution_count": 33,
   "outputs": [],
   "source": [
    "data1 = Counter(astronautas['Graduate_Major'])\n",
    "astronautas['Graduate_Major']=astronautas['Graduate_Major'].fillna(data1.most_common(2)[1][0])"
   ],
   "metadata": {
    "collapsed": false,
    "pycharm": {
     "name": "#%%\n"
    }
   }
  },
  {
   "cell_type": "markdown",
   "source": [
    "Distribucion de datos de la columna"
   ],
   "metadata": {
    "collapsed": false
   }
  },
  {
   "cell_type": "code",
   "execution_count": 34,
   "outputs": [
    {
     "data": {
      "text/plain": "Aeronautical Engineering                      86\nAerospace Engineering                         21\nMedicine                                      16\nPhysics                                       15\nMechanical Engineering                        13\n                                              ..\nEngineering Mechanics; Business Management     1\nInformation Systems                            1\nPublic Health; Medicine                        1\nAeronautical Engineering Systems               1\nPhysics; Business Management                   1\nName: Graduate_Major, Length: 143, dtype: int64"
     },
     "execution_count": 34,
     "metadata": {},
     "output_type": "execute_result"
    }
   ],
   "source": [
    "astronautas.Graduate_Major.value_counts(dropna=False)"
   ],
   "metadata": {
    "collapsed": false,
    "pycharm": {
     "name": "#%%\n"
    }
   }
  },
  {
   "cell_type": "markdown",
   "source": [
    "Verificamos que no haya quedado algun valor faltante/nulo"
   ],
   "metadata": {
    "collapsed": false
   }
  },
  {
   "cell_type": "code",
   "execution_count": 35,
   "outputs": [
    {
     "data": {
      "text/plain": "0"
     },
     "execution_count": 35,
     "metadata": {},
     "output_type": "execute_result"
    }
   ],
   "source": [
    "astronautas.Graduate_Major.isna().sum()"
   ],
   "metadata": {
    "collapsed": false,
    "pycharm": {
     "name": "#%%\n"
    }
   }
  },
  {
   "cell_type": "markdown",
   "source": [
    "Efectivamente ya no contamos con ningun valor faltante en esta columna"
   ],
   "metadata": {
    "collapsed": false
   }
  },
  {
   "cell_type": "markdown",
   "source": [
    "#### Year"
   ],
   "metadata": {
    "collapsed": false
   }
  },
  {
   "cell_type": "markdown",
   "source": [
    "Armo una funcion para hacer un data cleaning con los valores faltantes en esta columna"
   ],
   "metadata": {
    "collapsed": false
   }
  },
  {
   "cell_type": "code",
   "execution_count": 36,
   "outputs": [
    {
     "name": "stderr",
     "output_type": "stream",
     "text": [
      "C:\\Users\\hp\\AppData\\Local\\Programs\\Python\\Python310\\lib\\site-packages\\pandas\\core\\indexing.py:1732: SettingWithCopyWarning: \n",
      "A value is trying to be set on a copy of a slice from a DataFrame\n",
      "\n",
      "See the caveats in the documentation: https://pandas.pydata.org/pandas-docs/stable/user_guide/indexing.html#returning-a-view-versus-a-copy\n",
      "  self._setitem_single_block(indexer, value, name)\n"
     ]
    }
   ],
   "source": [
    "for index,row in astronautas['Year'].iteritems():\n",
    "    if(isfloat(row)):\n",
    "        if(float(row)<1.0):\n",
    "            astronautas['Year'].loc[index]=np.NaN\n",
    "        else:\n",
    "            astronautas['Year'].loc[index]=row\n",
    "\n",
    "    else:\n",
    "        astronautas['Year'].loc[index]=np.NaN\n",
    "grp=astronautas['Year']\n",
    "m=np.mean(grp)\n",
    "astronautas.Year=astronautas.Year.fillna(int(m))"
   ],
   "metadata": {
    "collapsed": false,
    "pycharm": {
     "name": "#%%\n"
    }
   }
  },
  {
   "cell_type": "code",
   "execution_count": 37,
   "outputs": [
    {
     "data": {
      "text/plain": "dtype('float64')"
     },
     "execution_count": 37,
     "metadata": {},
     "output_type": "execute_result"
    }
   ],
   "source": [
    "astronautas.Year.dtypes"
   ],
   "metadata": {
    "collapsed": false,
    "pycharm": {
     "name": "#%%\n"
    }
   }
  },
  {
   "cell_type": "markdown",
   "source": [
    "Distribucion de datos de la columna"
   ],
   "metadata": {
    "collapsed": false
   }
  },
  {
   "cell_type": "code",
   "execution_count": 38,
   "outputs": [
    {
     "data": {
      "text/plain": "1985.0    40\n1978.0    35\n1996.0    35\n1998.0    25\n1990.0    23\n1966.0    19\n1995.0    19\n1980.0    19\n1992.0    19\n1984.0    18\n2000.0    17\n1987.0    15\n1963.0    14\n2004.0    11\n1967.0    11\n2009.0     9\n1962.0     8\n1969.0     7\n1959.0     7\n1965.0     6\nName: Year, dtype: int64"
     },
     "execution_count": 38,
     "metadata": {},
     "output_type": "execute_result"
    }
   ],
   "source": [
    "astronautas.Year.value_counts(dropna=False)"
   ],
   "metadata": {
    "collapsed": false,
    "pycharm": {
     "name": "#%%\n"
    }
   }
  },
  {
   "cell_type": "markdown",
   "source": [
    "Verificamos que no haya quedado algun valor faltante/nulo"
   ],
   "metadata": {
    "collapsed": false
   }
  },
  {
   "cell_type": "code",
   "execution_count": 39,
   "outputs": [
    {
     "data": {
      "text/plain": "0"
     },
     "execution_count": 39,
     "metadata": {},
     "output_type": "execute_result"
    }
   ],
   "source": [
    "astronautas.Year.isna().sum()"
   ],
   "metadata": {
    "collapsed": false,
    "pycharm": {
     "name": "#%%\n"
    }
   }
  },
  {
   "cell_type": "markdown",
   "source": [
    "Efectivamente ya no contamos con ningun valor faltante en esta columna"
   ],
   "metadata": {
    "collapsed": false
   }
  },
  {
   "cell_type": "markdown",
   "source": [
    "#### Group"
   ],
   "metadata": {
    "collapsed": false
   }
  },
  {
   "cell_type": "markdown",
   "source": [
    "Armo una funcion para hacer un data cleaning con los valores faltantes en esta columna"
   ],
   "metadata": {
    "collapsed": false
   }
  },
  {
   "cell_type": "code",
   "execution_count": 40,
   "outputs": [],
   "source": [
    "for index,row in astronautas['Group'].iteritems():\n",
    "    if(isfloat(row)):\n",
    "        if(float(row)<1.0):\n",
    "            astronautas['Group'].loc[index]=np.NaN\n",
    "        else:\n",
    "            astronautas['Group'].loc[index]=row\n",
    "\n",
    "    else:\n",
    "        astronautas['Group'].loc[index]=np.NaN\n",
    "grp=astronautas['Group']\n",
    "m=np.mean(grp)\n",
    "astronautas.Group=astronautas.Group.fillna(int(m))"
   ],
   "metadata": {
    "collapsed": false,
    "pycharm": {
     "name": "#%%\n"
    }
   }
  },
  {
   "cell_type": "code",
   "execution_count": 41,
   "outputs": [
    {
     "data": {
      "text/plain": "dtype('float64')"
     },
     "execution_count": 41,
     "metadata": {},
     "output_type": "execute_result"
    }
   ],
   "source": [
    "astronautas.Group.dtypes"
   ],
   "metadata": {
    "collapsed": false,
    "pycharm": {
     "name": "#%%\n"
    }
   }
  },
  {
   "cell_type": "markdown",
   "source": [
    "Distribucion de datos de la columna"
   ],
   "metadata": {
    "collapsed": false
   }
  },
  {
   "cell_type": "code",
   "execution_count": 42,
   "outputs": [
    {
     "data": {
      "text/plain": "11.0    40\n8.0     35\n16.0    35\n17.0    25\n13.0    22\n5.0     19\n15.0    19\n9.0     19\n14.0    19\n10.0    17\n18.0    17\n12.0    15\n3.0     15\n19.0    11\n6.0     11\n20.0     9\n2.0      9\n7.0      7\n1.0      7\n4.0      6\nName: Group, dtype: int64"
     },
     "execution_count": 42,
     "metadata": {},
     "output_type": "execute_result"
    }
   ],
   "source": [
    "astronautas.Group.value_counts(dropna=False)"
   ],
   "metadata": {
    "collapsed": false,
    "pycharm": {
     "name": "#%%\n"
    }
   }
  },
  {
   "cell_type": "markdown",
   "source": [
    "Verificamos que no haya quedado algun valor faltante/nulo"
   ],
   "metadata": {
    "collapsed": false
   }
  },
  {
   "cell_type": "code",
   "execution_count": 43,
   "outputs": [
    {
     "data": {
      "text/plain": "0"
     },
     "execution_count": 43,
     "metadata": {},
     "output_type": "execute_result"
    }
   ],
   "source": [
    "astronautas.Group.isna().sum()"
   ],
   "metadata": {
    "collapsed": false,
    "pycharm": {
     "name": "#%%\n"
    }
   }
  },
  {
   "cell_type": "markdown",
   "source": [
    "Efectivamente ya no contamos con ningun valor faltante en esta columna"
   ],
   "metadata": {
    "collapsed": false
   }
  },
  {
   "cell_type": "markdown",
   "source": [
    "#### Missions"
   ],
   "metadata": {
    "collapsed": false
   }
  },
  {
   "cell_type": "code",
   "execution_count": 44,
   "outputs": [
    {
     "data": {
      "text/plain": "dtype('O')"
     },
     "execution_count": 44,
     "metadata": {},
     "output_type": "execute_result"
    }
   ],
   "source": [
    "astronautas.Military_Branch.dtypes"
   ],
   "metadata": {
    "collapsed": false,
    "pycharm": {
     "name": "#%%\n"
    }
   }
  },
  {
   "cell_type": "markdown",
   "source": [
    "Aca le indico que en los lugares donde no hay datos, devuelva No Missions"
   ],
   "metadata": {
    "collapsed": false
   }
  },
  {
   "cell_type": "code",
   "execution_count": 45,
   "outputs": [],
   "source": [
    "astronautas['Missions']=astronautas['Missions'].fillna('No Missions')"
   ],
   "metadata": {
    "collapsed": false,
    "pycharm": {
     "name": "#%%\n"
    }
   }
  },
  {
   "cell_type": "markdown",
   "source": [
    "Distribucion de datos de la columna"
   ],
   "metadata": {
    "collapsed": false
   }
  },
  {
   "cell_type": "code",
   "execution_count": 46,
   "outputs": [
    {
     "data": {
      "text/plain": "No Missions                                 23\nSTS 51-F (Challenger)                        5\nSTS-83 (Columbia), STS-94 (Columbia)         3\nSTS 51-B (Challenger)                        3\nSTS-107 (Columbia)                           3\n                                            ..\nSTS-8 (Challenger), STS 51-A (Discovery)     1\nSTS-124 (Discovery), ISS-27/28 (Soyuz)       1\nSTS-3 (Columbia), STS 51-F (Challenger)      1\nSTS-110 (Atlantis), STS-122 (Atlantis)       1\nSTS-120 (Discovery), STS-130 (Endeavor)      1\nName: Missions, Length: 306, dtype: int64"
     },
     "execution_count": 46,
     "metadata": {},
     "output_type": "execute_result"
    }
   ],
   "source": [
    "astronautas.Missions.value_counts(dropna=False)"
   ],
   "metadata": {
    "collapsed": false,
    "pycharm": {
     "name": "#%%\n"
    }
   }
  },
  {
   "cell_type": "markdown",
   "source": [
    "Verificamos que no haya quedado algun valor faltante/nulo"
   ],
   "metadata": {
    "collapsed": false
   }
  },
  {
   "cell_type": "code",
   "execution_count": 47,
   "outputs": [
    {
     "data": {
      "text/plain": "0"
     },
     "execution_count": 47,
     "metadata": {},
     "output_type": "execute_result"
    }
   ],
   "source": [
    "astronautas.Missions.isna().sum()"
   ],
   "metadata": {
    "collapsed": false,
    "pycharm": {
     "name": "#%%\n"
    }
   }
  },
  {
   "cell_type": "markdown",
   "source": [
    "Efectivamente ya no contamos con ningun valor faltante en esta columna"
   ],
   "metadata": {
    "collapsed": false
   }
  },
  {
   "cell_type": "markdown",
   "source": [
    "#### Undergraduate Major"
   ],
   "metadata": {
    "collapsed": false
   }
  },
  {
   "cell_type": "markdown",
   "source": [
    "Renombro la columna"
   ],
   "metadata": {
    "collapsed": false
   }
  },
  {
   "cell_type": "code",
   "execution_count": 48,
   "outputs": [
    {
     "data": {
      "text/plain": "                      Name    Year  Group   Status Birth Date  \\\n0          Joseph M. Acaba  2004.0   19.0   Active  5/17/1967   \n1           Loren W. Acton  1985.0   11.0  Retired   3/7/1936   \n2         James C. Adamson  1984.0   10.0  Retired   3/3/1946   \n3          Thomas D. Akers  1987.0   12.0  Retired  5/20/1951   \n4              Buzz Aldrin  1963.0    3.0  Retired  1/20/1930   \n..                     ...     ...    ...      ...        ...   \n352          David A. Wolf  1990.0   13.0  Retired  8/23/1956   \n353  Neil W. Woodward III   1998.0   17.0  Retired  7/26/1962   \n354       Alfred M. Worden  1966.0    5.0  Retired   2/7/1932   \n355          John W. Young  1962.0    2.0  Retired  9/24/1930   \n356        George D. Zamka  1998.0   17.0  Retired  6/29/1962   \n\n           Birth Place Gender  \\\n0        Inglewood, CA   Male   \n1         Lewiston, MT   Male   \n2           Warsaw, NY   Male   \n3        St. Louis, MO   Male   \n4        Montclair, NJ   Male   \n..                 ...    ...   \n352   Indianapolis, IN   Male   \n353        Chicago, IL   Male   \n354        Jackson, MI   Male   \n355  San Francisco, CA   Male   \n356    Jersey City, NJ   Male   \n\n                                            Alma Mater  \\\n0    University of California-Santa Barbara; Univer...   \n1     Montana State University; University of Colorado   \n2            US Military Academy; Princeton University   \n3                         University of Missouri-Rolla   \n4                             US Military Academy; MIT   \n..                                                 ...   \n352              Purdue University; Indiana University   \n353  MIT; University of Texas-Austin; George Washin...   \n354        US Military Academy; University of Michigan   \n355                    Georgia Institute of Technology   \n356  US Naval Academy; Florida Institute of Technology   \n\n          Undergraduate_Major                            Graduate_Major  \\\n0                     Geology                                   Geology   \n1         Engineering Physics                             Solar Physics   \n2                 Engineering                     Aerospace Engineering   \n3         Applied Mathematics                       Applied Mathematics   \n4      Mechanical Engineering                              Astronautics   \n..                        ...                                       ...   \n352    Electrical Engineering                                  Medicine   \n353                   Physics              Physics; Business Management   \n354          Military Science  Aeronautical & Astronautical Engineering   \n355  Aeronautical Engineering                  Aeronautical Engineering   \n356               Mathematics                    Engineering Management   \n\n      Military_Rank            Military_Branch  Space Flights  \\\n0    Not Applicable             Not Applicable              2   \n1    Not Applicable             Not Applicable              1   \n2           Colonel          US Army (Retired)              2   \n3           Colonel     US Air Force (Retired)              4   \n4           Colonel     US Air Force (Retired)              2   \n..              ...                        ...            ...   \n352  Not Applicable             Not Applicable              3   \n353       Commander                    US Navy              0   \n354         Colonel     US Air Force (Retired)              1   \n355         Captain          US Navy (Retired)              6   \n356         Colonel  US Marine Corps (Retired)              2   \n\n     Space Flight (hr)  Space Walks  Space Walks (hr)  \\\n0                 3307            2              13.0   \n1                  190            0               0.0   \n2                  334            0               0.0   \n3                  814            4              29.0   \n4                  289            2               8.0   \n..                 ...          ...               ...   \n352               4044            7              41.0   \n353                  0            0               0.0   \n354                295            1               0.5   \n355                835            3              20.0   \n356                692            0               0.0   \n\n                                              Missions      Death_Date  \\\n0               STS-119 (Discovery), ISS-31/32 (Soyuz)  Not Applicable   \n1                                STS 51-F (Challenger)  Not Applicable   \n2                 STS-28 (Columbia), STS-43 (Atlantis)  Not Applicable   \n3    STS-41 (Discovery), STS-49 (Endeavor), STS-61 ...  Not Applicable   \n4                                 Gemini 12, Apollo 11  Not Applicable   \n..                                                 ...             ...   \n352  STS-58 (Columbia). STS-86/89 (Atlantis/Endeavo...  Not Applicable   \n353                                        No Missions  Not Applicable   \n354                                          Apollo 15  Not Applicable   \n355  Gemini 3, Gemini 10, Apollo 10, Apollo 16, STS...  Not Applicable   \n356            STS-120 (Discovery), STS-130 (Endeavor)  Not Applicable   \n\n      Death_Mission  \n0    Not Applicable  \n1    Not Applicable  \n2    Not Applicable  \n3    Not Applicable  \n4    Not Applicable  \n..              ...  \n352  Not Applicable  \n353  Not Applicable  \n354  Not Applicable  \n355  Not Applicable  \n356  Not Applicable  \n\n[357 rows x 19 columns]",
      "text/html": "<div>\n<style scoped>\n    .dataframe tbody tr th:only-of-type {\n        vertical-align: middle;\n    }\n\n    .dataframe tbody tr th {\n        vertical-align: top;\n    }\n\n    .dataframe thead th {\n        text-align: right;\n    }\n</style>\n<table border=\"1\" class=\"dataframe\">\n  <thead>\n    <tr style=\"text-align: right;\">\n      <th></th>\n      <th>Name</th>\n      <th>Year</th>\n      <th>Group</th>\n      <th>Status</th>\n      <th>Birth Date</th>\n      <th>Birth Place</th>\n      <th>Gender</th>\n      <th>Alma Mater</th>\n      <th>Undergraduate_Major</th>\n      <th>Graduate_Major</th>\n      <th>Military_Rank</th>\n      <th>Military_Branch</th>\n      <th>Space Flights</th>\n      <th>Space Flight (hr)</th>\n      <th>Space Walks</th>\n      <th>Space Walks (hr)</th>\n      <th>Missions</th>\n      <th>Death_Date</th>\n      <th>Death_Mission</th>\n    </tr>\n  </thead>\n  <tbody>\n    <tr>\n      <th>0</th>\n      <td>Joseph M. Acaba</td>\n      <td>2004.0</td>\n      <td>19.0</td>\n      <td>Active</td>\n      <td>5/17/1967</td>\n      <td>Inglewood, CA</td>\n      <td>Male</td>\n      <td>University of California-Santa Barbara; Univer...</td>\n      <td>Geology</td>\n      <td>Geology</td>\n      <td>Not Applicable</td>\n      <td>Not Applicable</td>\n      <td>2</td>\n      <td>3307</td>\n      <td>2</td>\n      <td>13.0</td>\n      <td>STS-119 (Discovery), ISS-31/32 (Soyuz)</td>\n      <td>Not Applicable</td>\n      <td>Not Applicable</td>\n    </tr>\n    <tr>\n      <th>1</th>\n      <td>Loren W. Acton</td>\n      <td>1985.0</td>\n      <td>11.0</td>\n      <td>Retired</td>\n      <td>3/7/1936</td>\n      <td>Lewiston, MT</td>\n      <td>Male</td>\n      <td>Montana State University; University of Colorado</td>\n      <td>Engineering Physics</td>\n      <td>Solar Physics</td>\n      <td>Not Applicable</td>\n      <td>Not Applicable</td>\n      <td>1</td>\n      <td>190</td>\n      <td>0</td>\n      <td>0.0</td>\n      <td>STS 51-F (Challenger)</td>\n      <td>Not Applicable</td>\n      <td>Not Applicable</td>\n    </tr>\n    <tr>\n      <th>2</th>\n      <td>James C. Adamson</td>\n      <td>1984.0</td>\n      <td>10.0</td>\n      <td>Retired</td>\n      <td>3/3/1946</td>\n      <td>Warsaw, NY</td>\n      <td>Male</td>\n      <td>US Military Academy; Princeton University</td>\n      <td>Engineering</td>\n      <td>Aerospace Engineering</td>\n      <td>Colonel</td>\n      <td>US Army (Retired)</td>\n      <td>2</td>\n      <td>334</td>\n      <td>0</td>\n      <td>0.0</td>\n      <td>STS-28 (Columbia), STS-43 (Atlantis)</td>\n      <td>Not Applicable</td>\n      <td>Not Applicable</td>\n    </tr>\n    <tr>\n      <th>3</th>\n      <td>Thomas D. Akers</td>\n      <td>1987.0</td>\n      <td>12.0</td>\n      <td>Retired</td>\n      <td>5/20/1951</td>\n      <td>St. Louis, MO</td>\n      <td>Male</td>\n      <td>University of Missouri-Rolla</td>\n      <td>Applied Mathematics</td>\n      <td>Applied Mathematics</td>\n      <td>Colonel</td>\n      <td>US Air Force (Retired)</td>\n      <td>4</td>\n      <td>814</td>\n      <td>4</td>\n      <td>29.0</td>\n      <td>STS-41 (Discovery), STS-49 (Endeavor), STS-61 ...</td>\n      <td>Not Applicable</td>\n      <td>Not Applicable</td>\n    </tr>\n    <tr>\n      <th>4</th>\n      <td>Buzz Aldrin</td>\n      <td>1963.0</td>\n      <td>3.0</td>\n      <td>Retired</td>\n      <td>1/20/1930</td>\n      <td>Montclair, NJ</td>\n      <td>Male</td>\n      <td>US Military Academy; MIT</td>\n      <td>Mechanical Engineering</td>\n      <td>Astronautics</td>\n      <td>Colonel</td>\n      <td>US Air Force (Retired)</td>\n      <td>2</td>\n      <td>289</td>\n      <td>2</td>\n      <td>8.0</td>\n      <td>Gemini 12, Apollo 11</td>\n      <td>Not Applicable</td>\n      <td>Not Applicable</td>\n    </tr>\n    <tr>\n      <th>...</th>\n      <td>...</td>\n      <td>...</td>\n      <td>...</td>\n      <td>...</td>\n      <td>...</td>\n      <td>...</td>\n      <td>...</td>\n      <td>...</td>\n      <td>...</td>\n      <td>...</td>\n      <td>...</td>\n      <td>...</td>\n      <td>...</td>\n      <td>...</td>\n      <td>...</td>\n      <td>...</td>\n      <td>...</td>\n      <td>...</td>\n      <td>...</td>\n    </tr>\n    <tr>\n      <th>352</th>\n      <td>David A. Wolf</td>\n      <td>1990.0</td>\n      <td>13.0</td>\n      <td>Retired</td>\n      <td>8/23/1956</td>\n      <td>Indianapolis, IN</td>\n      <td>Male</td>\n      <td>Purdue University; Indiana University</td>\n      <td>Electrical Engineering</td>\n      <td>Medicine</td>\n      <td>Not Applicable</td>\n      <td>Not Applicable</td>\n      <td>3</td>\n      <td>4044</td>\n      <td>7</td>\n      <td>41.0</td>\n      <td>STS-58 (Columbia). STS-86/89 (Atlantis/Endeavo...</td>\n      <td>Not Applicable</td>\n      <td>Not Applicable</td>\n    </tr>\n    <tr>\n      <th>353</th>\n      <td>Neil W. Woodward III</td>\n      <td>1998.0</td>\n      <td>17.0</td>\n      <td>Retired</td>\n      <td>7/26/1962</td>\n      <td>Chicago, IL</td>\n      <td>Male</td>\n      <td>MIT; University of Texas-Austin; George Washin...</td>\n      <td>Physics</td>\n      <td>Physics; Business Management</td>\n      <td>Commander</td>\n      <td>US Navy</td>\n      <td>0</td>\n      <td>0</td>\n      <td>0</td>\n      <td>0.0</td>\n      <td>No Missions</td>\n      <td>Not Applicable</td>\n      <td>Not Applicable</td>\n    </tr>\n    <tr>\n      <th>354</th>\n      <td>Alfred M. Worden</td>\n      <td>1966.0</td>\n      <td>5.0</td>\n      <td>Retired</td>\n      <td>2/7/1932</td>\n      <td>Jackson, MI</td>\n      <td>Male</td>\n      <td>US Military Academy; University of Michigan</td>\n      <td>Military Science</td>\n      <td>Aeronautical &amp; Astronautical Engineering</td>\n      <td>Colonel</td>\n      <td>US Air Force (Retired)</td>\n      <td>1</td>\n      <td>295</td>\n      <td>1</td>\n      <td>0.5</td>\n      <td>Apollo 15</td>\n      <td>Not Applicable</td>\n      <td>Not Applicable</td>\n    </tr>\n    <tr>\n      <th>355</th>\n      <td>John W. Young</td>\n      <td>1962.0</td>\n      <td>2.0</td>\n      <td>Retired</td>\n      <td>9/24/1930</td>\n      <td>San Francisco, CA</td>\n      <td>Male</td>\n      <td>Georgia Institute of Technology</td>\n      <td>Aeronautical Engineering</td>\n      <td>Aeronautical Engineering</td>\n      <td>Captain</td>\n      <td>US Navy (Retired)</td>\n      <td>6</td>\n      <td>835</td>\n      <td>3</td>\n      <td>20.0</td>\n      <td>Gemini 3, Gemini 10, Apollo 10, Apollo 16, STS...</td>\n      <td>Not Applicable</td>\n      <td>Not Applicable</td>\n    </tr>\n    <tr>\n      <th>356</th>\n      <td>George D. Zamka</td>\n      <td>1998.0</td>\n      <td>17.0</td>\n      <td>Retired</td>\n      <td>6/29/1962</td>\n      <td>Jersey City, NJ</td>\n      <td>Male</td>\n      <td>US Naval Academy; Florida Institute of Technology</td>\n      <td>Mathematics</td>\n      <td>Engineering Management</td>\n      <td>Colonel</td>\n      <td>US Marine Corps (Retired)</td>\n      <td>2</td>\n      <td>692</td>\n      <td>0</td>\n      <td>0.0</td>\n      <td>STS-120 (Discovery), STS-130 (Endeavor)</td>\n      <td>Not Applicable</td>\n      <td>Not Applicable</td>\n    </tr>\n  </tbody>\n</table>\n<p>357 rows × 19 columns</p>\n</div>"
     },
     "execution_count": 48,
     "metadata": {},
     "output_type": "execute_result"
    }
   ],
   "source": [
    "astronautas = astronautas.rename(columns = {\"Undergraduate Major\" : \"Undergraduate_Major\"})\n",
    "astronautas"
   ],
   "metadata": {
    "collapsed": false,
    "pycharm": {
     "name": "#%%\n"
    }
   }
  },
  {
   "cell_type": "code",
   "execution_count": 49,
   "outputs": [
    {
     "data": {
      "text/plain": "dtype('O')"
     },
     "execution_count": 49,
     "metadata": {},
     "output_type": "execute_result"
    }
   ],
   "source": [
    "astronautas.Undergraduate_Major.dtypes"
   ],
   "metadata": {
    "collapsed": false,
    "pycharm": {
     "name": "#%%\n"
    }
   }
  },
  {
   "cell_type": "markdown",
   "source": [
    "Armo una nueva variable llamada data y mediante un counter y luego un fillna elimino los datos faltantes."
   ],
   "metadata": {
    "collapsed": false
   }
  },
  {
   "cell_type": "code",
   "execution_count": 50,
   "outputs": [],
   "source": [
    "data = Counter(astronautas['Undergraduate_Major'])\n",
    "astronautas['Undergraduate_Major']=astronautas['Undergraduate_Major'].fillna(data.most_common(1)[0][0])"
   ],
   "metadata": {
    "collapsed": false,
    "pycharm": {
     "name": "#%%\n"
    }
   }
  },
  {
   "cell_type": "markdown",
   "source": [
    "Distribucion de datos de la columna"
   ],
   "metadata": {
    "collapsed": false
   }
  },
  {
   "cell_type": "code",
   "execution_count": 51,
   "outputs": [
    {
     "data": {
      "text/plain": "Physics                                  57\nAerospace Engineering                    33\nMechanical Engineering                   30\nAeronautical Engineering                 28\nElectrical Engineering                   23\n                                         ..\nAstronomy                                 1\nMarine Engineering & Nautical Science     1\nPhilosophy                                1\nBioscience                                1\nMilitary Science                          1\nName: Undergraduate_Major, Length: 83, dtype: int64"
     },
     "execution_count": 51,
     "metadata": {},
     "output_type": "execute_result"
    }
   ],
   "source": [
    "astronautas.Undergraduate_Major.value_counts(dropna=False)"
   ],
   "metadata": {
    "collapsed": false,
    "pycharm": {
     "name": "#%%\n"
    }
   }
  },
  {
   "cell_type": "markdown",
   "source": [
    "Verificamos que no haya quedado algun valor faltante/nulo"
   ],
   "metadata": {
    "collapsed": false
   }
  },
  {
   "cell_type": "code",
   "execution_count": 52,
   "outputs": [
    {
     "data": {
      "text/plain": "0"
     },
     "execution_count": 52,
     "metadata": {},
     "output_type": "execute_result"
    }
   ],
   "source": [
    "astronautas.Missions.isna().sum()"
   ],
   "metadata": {
    "collapsed": false,
    "pycharm": {
     "name": "#%%\n"
    }
   }
  },
  {
   "cell_type": "markdown",
   "source": [
    "Efectivamente ya no contamos con ningun valor faltante en esta columna"
   ],
   "metadata": {
    "collapsed": false
   }
  },
  {
   "cell_type": "markdown",
   "source": [
    "#### Veamos si el preprocesamiento de los valores faltantes resulto"
   ],
   "metadata": {
    "collapsed": false
   }
  },
  {
   "cell_type": "code",
   "execution_count": 53,
   "outputs": [
    {
     "data": {
      "text/plain": "Alma Mater             0.0\nName                   0.0\nMilitary_Rank          0.0\nDeath_Date             0.0\nMissions               0.0\nSpace Walks (hr)       0.0\nSpace Walks            0.0\nSpace Flight (hr)      0.0\nSpace Flights          0.0\nMilitary_Branch        0.0\nGraduate_Major         0.0\nYear                   0.0\nUndergraduate_Major    0.0\nGender                 0.0\nBirth Place            0.0\nBirth Date             0.0\nStatus                 0.0\nGroup                  0.0\nDeath_Mission          0.0\ndtype: float64"
     },
     "execution_count": 53,
     "metadata": {},
     "output_type": "execute_result"
    }
   ],
   "source": [
    "round(astronautas.isnull().sum().sort_values(ascending=False)/len(astronautas),2)"
   ],
   "metadata": {
    "collapsed": false,
    "pycharm": {
     "name": "#%%\n"
    }
   }
  },
  {
   "cell_type": "markdown",
   "source": [
    "Funciono, ahora ya no contamos con datos faltantes en ninguna de las columnas del dataset"
   ],
   "metadata": {
    "collapsed": false
   }
  },
  {
   "cell_type": "markdown",
   "source": [
    "#### Birth Date"
   ],
   "metadata": {
    "collapsed": false
   }
  },
  {
   "cell_type": "markdown",
   "source": [
    "Renombro la columna"
   ],
   "metadata": {
    "collapsed": false
   }
  },
  {
   "cell_type": "code",
   "execution_count": 54,
   "outputs": [
    {
     "data": {
      "text/plain": "                      Name    Year  Group   Status Birth_Date  \\\n0          Joseph M. Acaba  2004.0   19.0   Active  5/17/1967   \n1           Loren W. Acton  1985.0   11.0  Retired   3/7/1936   \n2         James C. Adamson  1984.0   10.0  Retired   3/3/1946   \n3          Thomas D. Akers  1987.0   12.0  Retired  5/20/1951   \n4              Buzz Aldrin  1963.0    3.0  Retired  1/20/1930   \n..                     ...     ...    ...      ...        ...   \n352          David A. Wolf  1990.0   13.0  Retired  8/23/1956   \n353  Neil W. Woodward III   1998.0   17.0  Retired  7/26/1962   \n354       Alfred M. Worden  1966.0    5.0  Retired   2/7/1932   \n355          John W. Young  1962.0    2.0  Retired  9/24/1930   \n356        George D. Zamka  1998.0   17.0  Retired  6/29/1962   \n\n           Birth Place Gender  \\\n0        Inglewood, CA   Male   \n1         Lewiston, MT   Male   \n2           Warsaw, NY   Male   \n3        St. Louis, MO   Male   \n4        Montclair, NJ   Male   \n..                 ...    ...   \n352   Indianapolis, IN   Male   \n353        Chicago, IL   Male   \n354        Jackson, MI   Male   \n355  San Francisco, CA   Male   \n356    Jersey City, NJ   Male   \n\n                                            Alma Mater  \\\n0    University of California-Santa Barbara; Univer...   \n1     Montana State University; University of Colorado   \n2            US Military Academy; Princeton University   \n3                         University of Missouri-Rolla   \n4                             US Military Academy; MIT   \n..                                                 ...   \n352              Purdue University; Indiana University   \n353  MIT; University of Texas-Austin; George Washin...   \n354        US Military Academy; University of Michigan   \n355                    Georgia Institute of Technology   \n356  US Naval Academy; Florida Institute of Technology   \n\n          Undergraduate_Major                            Graduate_Major  \\\n0                     Geology                                   Geology   \n1         Engineering Physics                             Solar Physics   \n2                 Engineering                     Aerospace Engineering   \n3         Applied Mathematics                       Applied Mathematics   \n4      Mechanical Engineering                              Astronautics   \n..                        ...                                       ...   \n352    Electrical Engineering                                  Medicine   \n353                   Physics              Physics; Business Management   \n354          Military Science  Aeronautical & Astronautical Engineering   \n355  Aeronautical Engineering                  Aeronautical Engineering   \n356               Mathematics                    Engineering Management   \n\n      Military_Rank            Military_Branch  Space Flights  \\\n0    Not Applicable             Not Applicable              2   \n1    Not Applicable             Not Applicable              1   \n2           Colonel          US Army (Retired)              2   \n3           Colonel     US Air Force (Retired)              4   \n4           Colonel     US Air Force (Retired)              2   \n..              ...                        ...            ...   \n352  Not Applicable             Not Applicable              3   \n353       Commander                    US Navy              0   \n354         Colonel     US Air Force (Retired)              1   \n355         Captain          US Navy (Retired)              6   \n356         Colonel  US Marine Corps (Retired)              2   \n\n     Space Flight (hr)  Space Walks  Space Walks (hr)  \\\n0                 3307            2              13.0   \n1                  190            0               0.0   \n2                  334            0               0.0   \n3                  814            4              29.0   \n4                  289            2               8.0   \n..                 ...          ...               ...   \n352               4044            7              41.0   \n353                  0            0               0.0   \n354                295            1               0.5   \n355                835            3              20.0   \n356                692            0               0.0   \n\n                                              Missions      Death_Date  \\\n0               STS-119 (Discovery), ISS-31/32 (Soyuz)  Not Applicable   \n1                                STS 51-F (Challenger)  Not Applicable   \n2                 STS-28 (Columbia), STS-43 (Atlantis)  Not Applicable   \n3    STS-41 (Discovery), STS-49 (Endeavor), STS-61 ...  Not Applicable   \n4                                 Gemini 12, Apollo 11  Not Applicable   \n..                                                 ...             ...   \n352  STS-58 (Columbia). STS-86/89 (Atlantis/Endeavo...  Not Applicable   \n353                                        No Missions  Not Applicable   \n354                                          Apollo 15  Not Applicable   \n355  Gemini 3, Gemini 10, Apollo 10, Apollo 16, STS...  Not Applicable   \n356            STS-120 (Discovery), STS-130 (Endeavor)  Not Applicable   \n\n      Death_Mission  \n0    Not Applicable  \n1    Not Applicable  \n2    Not Applicable  \n3    Not Applicable  \n4    Not Applicable  \n..              ...  \n352  Not Applicable  \n353  Not Applicable  \n354  Not Applicable  \n355  Not Applicable  \n356  Not Applicable  \n\n[357 rows x 19 columns]",
      "text/html": "<div>\n<style scoped>\n    .dataframe tbody tr th:only-of-type {\n        vertical-align: middle;\n    }\n\n    .dataframe tbody tr th {\n        vertical-align: top;\n    }\n\n    .dataframe thead th {\n        text-align: right;\n    }\n</style>\n<table border=\"1\" class=\"dataframe\">\n  <thead>\n    <tr style=\"text-align: right;\">\n      <th></th>\n      <th>Name</th>\n      <th>Year</th>\n      <th>Group</th>\n      <th>Status</th>\n      <th>Birth_Date</th>\n      <th>Birth Place</th>\n      <th>Gender</th>\n      <th>Alma Mater</th>\n      <th>Undergraduate_Major</th>\n      <th>Graduate_Major</th>\n      <th>Military_Rank</th>\n      <th>Military_Branch</th>\n      <th>Space Flights</th>\n      <th>Space Flight (hr)</th>\n      <th>Space Walks</th>\n      <th>Space Walks (hr)</th>\n      <th>Missions</th>\n      <th>Death_Date</th>\n      <th>Death_Mission</th>\n    </tr>\n  </thead>\n  <tbody>\n    <tr>\n      <th>0</th>\n      <td>Joseph M. Acaba</td>\n      <td>2004.0</td>\n      <td>19.0</td>\n      <td>Active</td>\n      <td>5/17/1967</td>\n      <td>Inglewood, CA</td>\n      <td>Male</td>\n      <td>University of California-Santa Barbara; Univer...</td>\n      <td>Geology</td>\n      <td>Geology</td>\n      <td>Not Applicable</td>\n      <td>Not Applicable</td>\n      <td>2</td>\n      <td>3307</td>\n      <td>2</td>\n      <td>13.0</td>\n      <td>STS-119 (Discovery), ISS-31/32 (Soyuz)</td>\n      <td>Not Applicable</td>\n      <td>Not Applicable</td>\n    </tr>\n    <tr>\n      <th>1</th>\n      <td>Loren W. Acton</td>\n      <td>1985.0</td>\n      <td>11.0</td>\n      <td>Retired</td>\n      <td>3/7/1936</td>\n      <td>Lewiston, MT</td>\n      <td>Male</td>\n      <td>Montana State University; University of Colorado</td>\n      <td>Engineering Physics</td>\n      <td>Solar Physics</td>\n      <td>Not Applicable</td>\n      <td>Not Applicable</td>\n      <td>1</td>\n      <td>190</td>\n      <td>0</td>\n      <td>0.0</td>\n      <td>STS 51-F (Challenger)</td>\n      <td>Not Applicable</td>\n      <td>Not Applicable</td>\n    </tr>\n    <tr>\n      <th>2</th>\n      <td>James C. Adamson</td>\n      <td>1984.0</td>\n      <td>10.0</td>\n      <td>Retired</td>\n      <td>3/3/1946</td>\n      <td>Warsaw, NY</td>\n      <td>Male</td>\n      <td>US Military Academy; Princeton University</td>\n      <td>Engineering</td>\n      <td>Aerospace Engineering</td>\n      <td>Colonel</td>\n      <td>US Army (Retired)</td>\n      <td>2</td>\n      <td>334</td>\n      <td>0</td>\n      <td>0.0</td>\n      <td>STS-28 (Columbia), STS-43 (Atlantis)</td>\n      <td>Not Applicable</td>\n      <td>Not Applicable</td>\n    </tr>\n    <tr>\n      <th>3</th>\n      <td>Thomas D. Akers</td>\n      <td>1987.0</td>\n      <td>12.0</td>\n      <td>Retired</td>\n      <td>5/20/1951</td>\n      <td>St. Louis, MO</td>\n      <td>Male</td>\n      <td>University of Missouri-Rolla</td>\n      <td>Applied Mathematics</td>\n      <td>Applied Mathematics</td>\n      <td>Colonel</td>\n      <td>US Air Force (Retired)</td>\n      <td>4</td>\n      <td>814</td>\n      <td>4</td>\n      <td>29.0</td>\n      <td>STS-41 (Discovery), STS-49 (Endeavor), STS-61 ...</td>\n      <td>Not Applicable</td>\n      <td>Not Applicable</td>\n    </tr>\n    <tr>\n      <th>4</th>\n      <td>Buzz Aldrin</td>\n      <td>1963.0</td>\n      <td>3.0</td>\n      <td>Retired</td>\n      <td>1/20/1930</td>\n      <td>Montclair, NJ</td>\n      <td>Male</td>\n      <td>US Military Academy; MIT</td>\n      <td>Mechanical Engineering</td>\n      <td>Astronautics</td>\n      <td>Colonel</td>\n      <td>US Air Force (Retired)</td>\n      <td>2</td>\n      <td>289</td>\n      <td>2</td>\n      <td>8.0</td>\n      <td>Gemini 12, Apollo 11</td>\n      <td>Not Applicable</td>\n      <td>Not Applicable</td>\n    </tr>\n    <tr>\n      <th>...</th>\n      <td>...</td>\n      <td>...</td>\n      <td>...</td>\n      <td>...</td>\n      <td>...</td>\n      <td>...</td>\n      <td>...</td>\n      <td>...</td>\n      <td>...</td>\n      <td>...</td>\n      <td>...</td>\n      <td>...</td>\n      <td>...</td>\n      <td>...</td>\n      <td>...</td>\n      <td>...</td>\n      <td>...</td>\n      <td>...</td>\n      <td>...</td>\n    </tr>\n    <tr>\n      <th>352</th>\n      <td>David A. Wolf</td>\n      <td>1990.0</td>\n      <td>13.0</td>\n      <td>Retired</td>\n      <td>8/23/1956</td>\n      <td>Indianapolis, IN</td>\n      <td>Male</td>\n      <td>Purdue University; Indiana University</td>\n      <td>Electrical Engineering</td>\n      <td>Medicine</td>\n      <td>Not Applicable</td>\n      <td>Not Applicable</td>\n      <td>3</td>\n      <td>4044</td>\n      <td>7</td>\n      <td>41.0</td>\n      <td>STS-58 (Columbia). STS-86/89 (Atlantis/Endeavo...</td>\n      <td>Not Applicable</td>\n      <td>Not Applicable</td>\n    </tr>\n    <tr>\n      <th>353</th>\n      <td>Neil W. Woodward III</td>\n      <td>1998.0</td>\n      <td>17.0</td>\n      <td>Retired</td>\n      <td>7/26/1962</td>\n      <td>Chicago, IL</td>\n      <td>Male</td>\n      <td>MIT; University of Texas-Austin; George Washin...</td>\n      <td>Physics</td>\n      <td>Physics; Business Management</td>\n      <td>Commander</td>\n      <td>US Navy</td>\n      <td>0</td>\n      <td>0</td>\n      <td>0</td>\n      <td>0.0</td>\n      <td>No Missions</td>\n      <td>Not Applicable</td>\n      <td>Not Applicable</td>\n    </tr>\n    <tr>\n      <th>354</th>\n      <td>Alfred M. Worden</td>\n      <td>1966.0</td>\n      <td>5.0</td>\n      <td>Retired</td>\n      <td>2/7/1932</td>\n      <td>Jackson, MI</td>\n      <td>Male</td>\n      <td>US Military Academy; University of Michigan</td>\n      <td>Military Science</td>\n      <td>Aeronautical &amp; Astronautical Engineering</td>\n      <td>Colonel</td>\n      <td>US Air Force (Retired)</td>\n      <td>1</td>\n      <td>295</td>\n      <td>1</td>\n      <td>0.5</td>\n      <td>Apollo 15</td>\n      <td>Not Applicable</td>\n      <td>Not Applicable</td>\n    </tr>\n    <tr>\n      <th>355</th>\n      <td>John W. Young</td>\n      <td>1962.0</td>\n      <td>2.0</td>\n      <td>Retired</td>\n      <td>9/24/1930</td>\n      <td>San Francisco, CA</td>\n      <td>Male</td>\n      <td>Georgia Institute of Technology</td>\n      <td>Aeronautical Engineering</td>\n      <td>Aeronautical Engineering</td>\n      <td>Captain</td>\n      <td>US Navy (Retired)</td>\n      <td>6</td>\n      <td>835</td>\n      <td>3</td>\n      <td>20.0</td>\n      <td>Gemini 3, Gemini 10, Apollo 10, Apollo 16, STS...</td>\n      <td>Not Applicable</td>\n      <td>Not Applicable</td>\n    </tr>\n    <tr>\n      <th>356</th>\n      <td>George D. Zamka</td>\n      <td>1998.0</td>\n      <td>17.0</td>\n      <td>Retired</td>\n      <td>6/29/1962</td>\n      <td>Jersey City, NJ</td>\n      <td>Male</td>\n      <td>US Naval Academy; Florida Institute of Technology</td>\n      <td>Mathematics</td>\n      <td>Engineering Management</td>\n      <td>Colonel</td>\n      <td>US Marine Corps (Retired)</td>\n      <td>2</td>\n      <td>692</td>\n      <td>0</td>\n      <td>0.0</td>\n      <td>STS-120 (Discovery), STS-130 (Endeavor)</td>\n      <td>Not Applicable</td>\n      <td>Not Applicable</td>\n    </tr>\n  </tbody>\n</table>\n<p>357 rows × 19 columns</p>\n</div>"
     },
     "execution_count": 54,
     "metadata": {},
     "output_type": "execute_result"
    }
   ],
   "source": [
    "astronautas = astronautas.rename(columns = {\"Birth Date\" : \"Birth_Date\"})\n",
    "astronautas"
   ],
   "metadata": {
    "collapsed": false,
    "pycharm": {
     "name": "#%%\n"
    }
   }
  },
  {
   "cell_type": "code",
   "execution_count": 55,
   "outputs": [
    {
     "data": {
      "text/plain": "dtype('O')"
     },
     "execution_count": 55,
     "metadata": {},
     "output_type": "execute_result"
    }
   ],
   "source": [
    "astronautas.Birth_Date.dtypes"
   ],
   "metadata": {
    "collapsed": false,
    "pycharm": {
     "name": "#%%\n"
    }
   }
  },
  {
   "cell_type": "markdown",
   "source": [
    "Personalizo el tema de las fechas, le paso como necesito y creo conveniente que este representada la fecha. m% indica month, %d indica day y por ultimo %Y indica year."
   ],
   "metadata": {
    "collapsed": false
   }
  },
  {
   "cell_type": "code",
   "execution_count": 56,
   "outputs": [
    {
     "name": "stderr",
     "output_type": "stream",
     "text": [
      "C:\\Users\\hp\\AppData\\Local\\Programs\\Python\\Python310\\lib\\site-packages\\pandas\\core\\indexing.py:1732: SettingWithCopyWarning: \n",
      "A value is trying to be set on a copy of a slice from a DataFrame\n",
      "\n",
      "See the caveats in the documentation: https://pandas.pydata.org/pandas-docs/stable/user_guide/indexing.html#returning-a-view-versus-a-copy\n",
      "  self._setitem_single_block(indexer, value, name)\n"
     ]
    }
   ],
   "source": [
    "for index,row in astronautas['Birth_Date'].iteritems():\n",
    "    if(row[2]!='-'):\n",
    "        datetimeobject = datetime.datetime.strptime(row,'%m/%d/%Y')\n",
    "        newformat = datetimeobject.strftime('%d-%m-%Y')\n",
    "        astronautas['Birth_Date'].loc[index]=newformat"
   ],
   "metadata": {
    "collapsed": false,
    "pycharm": {
     "name": "#%%\n"
    }
   }
  },
  {
   "cell_type": "markdown",
   "source": [
    "#### Renombramiento de otras columnas"
   ],
   "metadata": {
    "collapsed": false
   }
  },
  {
   "cell_type": "markdown",
   "source": [
    "Creo conveniente que las columnas que contienen un espacio en el medio deben tener un guion bajo que conecten debido a que por ejemplo si quiero hacer un dtype no voy a poder por esto que estoy diciendo. Antes renombre las que contaban con datos faltantes y la columna Birth Year que debia hacer un tratamiento pero aqui debajo voy a nombrar algunas otras que quedaron por alli."
   ],
   "metadata": {
    "collapsed": false
   }
  },
  {
   "cell_type": "code",
   "execution_count": 57,
   "outputs": [
    {
     "data": {
      "text/plain": "                      Name    Year  Group   Status  Birth_Date  \\\n0          Joseph M. Acaba  2004.0   19.0   Active  17-05-1967   \n1           Loren W. Acton  1985.0   11.0  Retired  07-03-1936   \n2         James C. Adamson  1984.0   10.0  Retired  03-03-1946   \n3          Thomas D. Akers  1987.0   12.0  Retired  20-05-1951   \n4              Buzz Aldrin  1963.0    3.0  Retired  20-01-1930   \n..                     ...     ...    ...      ...         ...   \n352          David A. Wolf  1990.0   13.0  Retired  23-08-1956   \n353  Neil W. Woodward III   1998.0   17.0  Retired  26-07-1962   \n354       Alfred M. Worden  1966.0    5.0  Retired  07-02-1932   \n355          John W. Young  1962.0    2.0  Retired  24-09-1930   \n356        George D. Zamka  1998.0   17.0  Retired  29-06-1962   \n\n           Birth_Place Gender  \\\n0        Inglewood, CA   Male   \n1         Lewiston, MT   Male   \n2           Warsaw, NY   Male   \n3        St. Louis, MO   Male   \n4        Montclair, NJ   Male   \n..                 ...    ...   \n352   Indianapolis, IN   Male   \n353        Chicago, IL   Male   \n354        Jackson, MI   Male   \n355  San Francisco, CA   Male   \n356    Jersey City, NJ   Male   \n\n                                 Academy_or_university  \\\n0    University of California-Santa Barbara; Univer...   \n1     Montana State University; University of Colorado   \n2            US Military Academy; Princeton University   \n3                         University of Missouri-Rolla   \n4                             US Military Academy; MIT   \n..                                                 ...   \n352              Purdue University; Indiana University   \n353  MIT; University of Texas-Austin; George Washin...   \n354        US Military Academy; University of Michigan   \n355                    Georgia Institute of Technology   \n356  US Naval Academy; Florida Institute of Technology   \n\n          Undergraduate_Major                            Graduate_Major  \\\n0                     Geology                                   Geology   \n1         Engineering Physics                             Solar Physics   \n2                 Engineering                     Aerospace Engineering   \n3         Applied Mathematics                       Applied Mathematics   \n4      Mechanical Engineering                              Astronautics   \n..                        ...                                       ...   \n352    Electrical Engineering                                  Medicine   \n353                   Physics              Physics; Business Management   \n354          Military Science  Aeronautical & Astronautical Engineering   \n355  Aeronautical Engineering                  Aeronautical Engineering   \n356               Mathematics                    Engineering Management   \n\n      Military_Rank            Military_Branch  Space_Flights  \\\n0    Not Applicable             Not Applicable              2   \n1    Not Applicable             Not Applicable              1   \n2           Colonel          US Army (Retired)              2   \n3           Colonel     US Air Force (Retired)              4   \n4           Colonel     US Air Force (Retired)              2   \n..              ...                        ...            ...   \n352  Not Applicable             Not Applicable              3   \n353       Commander                    US Navy              0   \n354         Colonel     US Air Force (Retired)              1   \n355         Captain          US Navy (Retired)              6   \n356         Colonel  US Marine Corps (Retired)              2   \n\n     Space_Flight_hours  Space_Walks  Space_Walks_hours  \\\n0                  3307            2               13.0   \n1                   190            0                0.0   \n2                   334            0                0.0   \n3                   814            4               29.0   \n4                   289            2                8.0   \n..                  ...          ...                ...   \n352                4044            7               41.0   \n353                   0            0                0.0   \n354                 295            1                0.5   \n355                 835            3               20.0   \n356                 692            0                0.0   \n\n                                              Missions      Death_Date  \\\n0               STS-119 (Discovery), ISS-31/32 (Soyuz)  Not Applicable   \n1                                STS 51-F (Challenger)  Not Applicable   \n2                 STS-28 (Columbia), STS-43 (Atlantis)  Not Applicable   \n3    STS-41 (Discovery), STS-49 (Endeavor), STS-61 ...  Not Applicable   \n4                                 Gemini 12, Apollo 11  Not Applicable   \n..                                                 ...             ...   \n352  STS-58 (Columbia). STS-86/89 (Atlantis/Endeavo...  Not Applicable   \n353                                        No Missions  Not Applicable   \n354                                          Apollo 15  Not Applicable   \n355  Gemini 3, Gemini 10, Apollo 10, Apollo 16, STS...  Not Applicable   \n356            STS-120 (Discovery), STS-130 (Endeavor)  Not Applicable   \n\n      Death_Mission  \n0    Not Applicable  \n1    Not Applicable  \n2    Not Applicable  \n3    Not Applicable  \n4    Not Applicable  \n..              ...  \n352  Not Applicable  \n353  Not Applicable  \n354  Not Applicable  \n355  Not Applicable  \n356  Not Applicable  \n\n[357 rows x 19 columns]",
      "text/html": "<div>\n<style scoped>\n    .dataframe tbody tr th:only-of-type {\n        vertical-align: middle;\n    }\n\n    .dataframe tbody tr th {\n        vertical-align: top;\n    }\n\n    .dataframe thead th {\n        text-align: right;\n    }\n</style>\n<table border=\"1\" class=\"dataframe\">\n  <thead>\n    <tr style=\"text-align: right;\">\n      <th></th>\n      <th>Name</th>\n      <th>Year</th>\n      <th>Group</th>\n      <th>Status</th>\n      <th>Birth_Date</th>\n      <th>Birth_Place</th>\n      <th>Gender</th>\n      <th>Academy_or_university</th>\n      <th>Undergraduate_Major</th>\n      <th>Graduate_Major</th>\n      <th>Military_Rank</th>\n      <th>Military_Branch</th>\n      <th>Space_Flights</th>\n      <th>Space_Flight_hours</th>\n      <th>Space_Walks</th>\n      <th>Space_Walks_hours</th>\n      <th>Missions</th>\n      <th>Death_Date</th>\n      <th>Death_Mission</th>\n    </tr>\n  </thead>\n  <tbody>\n    <tr>\n      <th>0</th>\n      <td>Joseph M. Acaba</td>\n      <td>2004.0</td>\n      <td>19.0</td>\n      <td>Active</td>\n      <td>17-05-1967</td>\n      <td>Inglewood, CA</td>\n      <td>Male</td>\n      <td>University of California-Santa Barbara; Univer...</td>\n      <td>Geology</td>\n      <td>Geology</td>\n      <td>Not Applicable</td>\n      <td>Not Applicable</td>\n      <td>2</td>\n      <td>3307</td>\n      <td>2</td>\n      <td>13.0</td>\n      <td>STS-119 (Discovery), ISS-31/32 (Soyuz)</td>\n      <td>Not Applicable</td>\n      <td>Not Applicable</td>\n    </tr>\n    <tr>\n      <th>1</th>\n      <td>Loren W. Acton</td>\n      <td>1985.0</td>\n      <td>11.0</td>\n      <td>Retired</td>\n      <td>07-03-1936</td>\n      <td>Lewiston, MT</td>\n      <td>Male</td>\n      <td>Montana State University; University of Colorado</td>\n      <td>Engineering Physics</td>\n      <td>Solar Physics</td>\n      <td>Not Applicable</td>\n      <td>Not Applicable</td>\n      <td>1</td>\n      <td>190</td>\n      <td>0</td>\n      <td>0.0</td>\n      <td>STS 51-F (Challenger)</td>\n      <td>Not Applicable</td>\n      <td>Not Applicable</td>\n    </tr>\n    <tr>\n      <th>2</th>\n      <td>James C. Adamson</td>\n      <td>1984.0</td>\n      <td>10.0</td>\n      <td>Retired</td>\n      <td>03-03-1946</td>\n      <td>Warsaw, NY</td>\n      <td>Male</td>\n      <td>US Military Academy; Princeton University</td>\n      <td>Engineering</td>\n      <td>Aerospace Engineering</td>\n      <td>Colonel</td>\n      <td>US Army (Retired)</td>\n      <td>2</td>\n      <td>334</td>\n      <td>0</td>\n      <td>0.0</td>\n      <td>STS-28 (Columbia), STS-43 (Atlantis)</td>\n      <td>Not Applicable</td>\n      <td>Not Applicable</td>\n    </tr>\n    <tr>\n      <th>3</th>\n      <td>Thomas D. Akers</td>\n      <td>1987.0</td>\n      <td>12.0</td>\n      <td>Retired</td>\n      <td>20-05-1951</td>\n      <td>St. Louis, MO</td>\n      <td>Male</td>\n      <td>University of Missouri-Rolla</td>\n      <td>Applied Mathematics</td>\n      <td>Applied Mathematics</td>\n      <td>Colonel</td>\n      <td>US Air Force (Retired)</td>\n      <td>4</td>\n      <td>814</td>\n      <td>4</td>\n      <td>29.0</td>\n      <td>STS-41 (Discovery), STS-49 (Endeavor), STS-61 ...</td>\n      <td>Not Applicable</td>\n      <td>Not Applicable</td>\n    </tr>\n    <tr>\n      <th>4</th>\n      <td>Buzz Aldrin</td>\n      <td>1963.0</td>\n      <td>3.0</td>\n      <td>Retired</td>\n      <td>20-01-1930</td>\n      <td>Montclair, NJ</td>\n      <td>Male</td>\n      <td>US Military Academy; MIT</td>\n      <td>Mechanical Engineering</td>\n      <td>Astronautics</td>\n      <td>Colonel</td>\n      <td>US Air Force (Retired)</td>\n      <td>2</td>\n      <td>289</td>\n      <td>2</td>\n      <td>8.0</td>\n      <td>Gemini 12, Apollo 11</td>\n      <td>Not Applicable</td>\n      <td>Not Applicable</td>\n    </tr>\n    <tr>\n      <th>...</th>\n      <td>...</td>\n      <td>...</td>\n      <td>...</td>\n      <td>...</td>\n      <td>...</td>\n      <td>...</td>\n      <td>...</td>\n      <td>...</td>\n      <td>...</td>\n      <td>...</td>\n      <td>...</td>\n      <td>...</td>\n      <td>...</td>\n      <td>...</td>\n      <td>...</td>\n      <td>...</td>\n      <td>...</td>\n      <td>...</td>\n      <td>...</td>\n    </tr>\n    <tr>\n      <th>352</th>\n      <td>David A. Wolf</td>\n      <td>1990.0</td>\n      <td>13.0</td>\n      <td>Retired</td>\n      <td>23-08-1956</td>\n      <td>Indianapolis, IN</td>\n      <td>Male</td>\n      <td>Purdue University; Indiana University</td>\n      <td>Electrical Engineering</td>\n      <td>Medicine</td>\n      <td>Not Applicable</td>\n      <td>Not Applicable</td>\n      <td>3</td>\n      <td>4044</td>\n      <td>7</td>\n      <td>41.0</td>\n      <td>STS-58 (Columbia). STS-86/89 (Atlantis/Endeavo...</td>\n      <td>Not Applicable</td>\n      <td>Not Applicable</td>\n    </tr>\n    <tr>\n      <th>353</th>\n      <td>Neil W. Woodward III</td>\n      <td>1998.0</td>\n      <td>17.0</td>\n      <td>Retired</td>\n      <td>26-07-1962</td>\n      <td>Chicago, IL</td>\n      <td>Male</td>\n      <td>MIT; University of Texas-Austin; George Washin...</td>\n      <td>Physics</td>\n      <td>Physics; Business Management</td>\n      <td>Commander</td>\n      <td>US Navy</td>\n      <td>0</td>\n      <td>0</td>\n      <td>0</td>\n      <td>0.0</td>\n      <td>No Missions</td>\n      <td>Not Applicable</td>\n      <td>Not Applicable</td>\n    </tr>\n    <tr>\n      <th>354</th>\n      <td>Alfred M. Worden</td>\n      <td>1966.0</td>\n      <td>5.0</td>\n      <td>Retired</td>\n      <td>07-02-1932</td>\n      <td>Jackson, MI</td>\n      <td>Male</td>\n      <td>US Military Academy; University of Michigan</td>\n      <td>Military Science</td>\n      <td>Aeronautical &amp; Astronautical Engineering</td>\n      <td>Colonel</td>\n      <td>US Air Force (Retired)</td>\n      <td>1</td>\n      <td>295</td>\n      <td>1</td>\n      <td>0.5</td>\n      <td>Apollo 15</td>\n      <td>Not Applicable</td>\n      <td>Not Applicable</td>\n    </tr>\n    <tr>\n      <th>355</th>\n      <td>John W. Young</td>\n      <td>1962.0</td>\n      <td>2.0</td>\n      <td>Retired</td>\n      <td>24-09-1930</td>\n      <td>San Francisco, CA</td>\n      <td>Male</td>\n      <td>Georgia Institute of Technology</td>\n      <td>Aeronautical Engineering</td>\n      <td>Aeronautical Engineering</td>\n      <td>Captain</td>\n      <td>US Navy (Retired)</td>\n      <td>6</td>\n      <td>835</td>\n      <td>3</td>\n      <td>20.0</td>\n      <td>Gemini 3, Gemini 10, Apollo 10, Apollo 16, STS...</td>\n      <td>Not Applicable</td>\n      <td>Not Applicable</td>\n    </tr>\n    <tr>\n      <th>356</th>\n      <td>George D. Zamka</td>\n      <td>1998.0</td>\n      <td>17.0</td>\n      <td>Retired</td>\n      <td>29-06-1962</td>\n      <td>Jersey City, NJ</td>\n      <td>Male</td>\n      <td>US Naval Academy; Florida Institute of Technology</td>\n      <td>Mathematics</td>\n      <td>Engineering Management</td>\n      <td>Colonel</td>\n      <td>US Marine Corps (Retired)</td>\n      <td>2</td>\n      <td>692</td>\n      <td>0</td>\n      <td>0.0</td>\n      <td>STS-120 (Discovery), STS-130 (Endeavor)</td>\n      <td>Not Applicable</td>\n      <td>Not Applicable</td>\n    </tr>\n  </tbody>\n</table>\n<p>357 rows × 19 columns</p>\n</div>"
     },
     "execution_count": 57,
     "metadata": {},
     "output_type": "execute_result"
    }
   ],
   "source": [
    "astronautas = astronautas.rename(columns = {\"Birth Place\" : \"Birth_Place\",\n",
    "                                            \"Alma Mater\" : \"Academy_or_university\",\n",
    "                                            \"Space Flights\" : \"Space_Flights\",\n",
    "                                            \"Space Flight (hr)\" : \"Space_Flight_hours\",\n",
    "                                            \"Space Walks\": \"Space_Walks\",\n",
    "                                            \"Space Walks (hr)\" : \"Space_Walks_hours\"})\n",
    "astronautas"
   ],
   "metadata": {
    "collapsed": false,
    "pycharm": {
     "name": "#%%\n"
    }
   }
  },
  {
   "cell_type": "markdown",
   "source": [
    "## Outliers"
   ],
   "metadata": {
    "collapsed": false
   }
  },
  {
   "cell_type": "code",
   "execution_count": 58,
   "outputs": [
    {
     "data": {
      "text/plain": "Index(['Name', 'Year', 'Group', 'Status', 'Birth_Date', 'Birth_Place',\n       'Gender', 'Academy_or_university', 'Undergraduate_Major',\n       'Graduate_Major', 'Military_Rank', 'Military_Branch', 'Space_Flights',\n       'Space_Flight_hours', 'Space_Walks', 'Space_Walks_hours', 'Missions',\n       'Death_Date', 'Death_Mission'],\n      dtype='object')"
     },
     "execution_count": 58,
     "metadata": {},
     "output_type": "execute_result"
    }
   ],
   "source": [
    "astronautas.columns"
   ],
   "metadata": {
    "collapsed": false,
    "pycharm": {
     "name": "#%%\n"
    }
   }
  },
  {
   "cell_type": "markdown",
   "source": [
    "Mediante un describe podemos ver las caracteristicas basicas del dataframe, el describe nos proporciona un resumen si se podria decir, nos elabora un count, un mean, un std, un minimo y el quantil 25%. Importante aclarar que el describe solo trabaja sobre columnas que tienen un valor expresado en numeros debido a que no se puede hacer un count por ejemplo del nombre del astronauta o de la universidad a la que fue."
   ],
   "metadata": {
    "collapsed": false
   }
  },
  {
   "cell_type": "code",
   "execution_count": 59,
   "outputs": [
    {
     "data": {
      "text/plain": "              Year       Group  Space_Flights  Space_Flight_hours  \\\ncount   357.000000  357.000000     357.000000          357.000000   \nmean   1985.098039   11.378151       2.364146         1249.266106   \nstd      12.705122    4.952003       1.428700         1896.759857   \nmin    1959.000000    1.000000       0.000000            0.000000   \n25%    1978.000000    8.000000       1.000000          289.000000   \n50%    1985.000000   11.000000       2.000000          590.000000   \n75%    1996.000000   16.000000       3.000000         1045.000000   \nmax    2009.000000   20.000000       7.000000        12818.000000   \n\n       Space_Walks  Space_Walks_hours  \ncount   357.000000         357.000000  \nmean      1.246499           7.707283  \nstd       2.056989          13.367973  \nmin       0.000000           0.000000  \n25%       0.000000           0.000000  \n50%       0.000000           0.000000  \n75%       2.000000          12.000000  \nmax      10.000000          67.000000  ",
      "text/html": "<div>\n<style scoped>\n    .dataframe tbody tr th:only-of-type {\n        vertical-align: middle;\n    }\n\n    .dataframe tbody tr th {\n        vertical-align: top;\n    }\n\n    .dataframe thead th {\n        text-align: right;\n    }\n</style>\n<table border=\"1\" class=\"dataframe\">\n  <thead>\n    <tr style=\"text-align: right;\">\n      <th></th>\n      <th>Year</th>\n      <th>Group</th>\n      <th>Space_Flights</th>\n      <th>Space_Flight_hours</th>\n      <th>Space_Walks</th>\n      <th>Space_Walks_hours</th>\n    </tr>\n  </thead>\n  <tbody>\n    <tr>\n      <th>count</th>\n      <td>357.000000</td>\n      <td>357.000000</td>\n      <td>357.000000</td>\n      <td>357.000000</td>\n      <td>357.000000</td>\n      <td>357.000000</td>\n    </tr>\n    <tr>\n      <th>mean</th>\n      <td>1985.098039</td>\n      <td>11.378151</td>\n      <td>2.364146</td>\n      <td>1249.266106</td>\n      <td>1.246499</td>\n      <td>7.707283</td>\n    </tr>\n    <tr>\n      <th>std</th>\n      <td>12.705122</td>\n      <td>4.952003</td>\n      <td>1.428700</td>\n      <td>1896.759857</td>\n      <td>2.056989</td>\n      <td>13.367973</td>\n    </tr>\n    <tr>\n      <th>min</th>\n      <td>1959.000000</td>\n      <td>1.000000</td>\n      <td>0.000000</td>\n      <td>0.000000</td>\n      <td>0.000000</td>\n      <td>0.000000</td>\n    </tr>\n    <tr>\n      <th>25%</th>\n      <td>1978.000000</td>\n      <td>8.000000</td>\n      <td>1.000000</td>\n      <td>289.000000</td>\n      <td>0.000000</td>\n      <td>0.000000</td>\n    </tr>\n    <tr>\n      <th>50%</th>\n      <td>1985.000000</td>\n      <td>11.000000</td>\n      <td>2.000000</td>\n      <td>590.000000</td>\n      <td>0.000000</td>\n      <td>0.000000</td>\n    </tr>\n    <tr>\n      <th>75%</th>\n      <td>1996.000000</td>\n      <td>16.000000</td>\n      <td>3.000000</td>\n      <td>1045.000000</td>\n      <td>2.000000</td>\n      <td>12.000000</td>\n    </tr>\n    <tr>\n      <th>max</th>\n      <td>2009.000000</td>\n      <td>20.000000</td>\n      <td>7.000000</td>\n      <td>12818.000000</td>\n      <td>10.000000</td>\n      <td>67.000000</td>\n    </tr>\n  </tbody>\n</table>\n</div>"
     },
     "execution_count": 59,
     "metadata": {},
     "output_type": "execute_result"
    }
   ],
   "source": [
    "astronautas.describe()"
   ],
   "metadata": {
    "collapsed": false,
    "pycharm": {
     "name": "#%%\n"
    }
   }
  },
  {
   "cell_type": "code",
   "execution_count": 60,
   "outputs": [
    {
     "data": {
      "text/plain": "Index(['Year', 'Group', 'Space_Flights', 'Space_Flight_hours', 'Space_Walks',\n       'Space_Walks_hours'],\n      dtype='object')"
     },
     "execution_count": 60,
     "metadata": {},
     "output_type": "execute_result"
    }
   ],
   "source": [
    "numericas = astronautas.select_dtypes(exclude=['object']).columns\n",
    "numericas"
   ],
   "metadata": {
    "collapsed": false,
    "pycharm": {
     "name": "#%%\n"
    }
   }
  },
  {
   "cell_type": "markdown",
   "source": [
    "#### Space_Flights"
   ],
   "metadata": {
    "collapsed": false
   }
  },
  {
   "cell_type": "code",
   "execution_count": 61,
   "outputs": [
    {
     "data": {
      "text/plain": "<Figure size 1080x504 with 1 Axes>",
      "image/png": "[encoded data removed]"
     },
     "metadata": {
      "needs_background": "light"
     },
     "output_type": "display_data"
    }
   ],
   "source": [
    "fig = plt.figure(figsize =(15, 7))\n",
    "plt.boxplot(astronautas.Space_Flights)\n",
    "plt.show()"
   ],
   "metadata": {
    "collapsed": false,
    "pycharm": {
     "name": "#%%\n"
    }
   }
  },
  {
   "cell_type": "code",
   "execution_count": 62,
   "outputs": [
    {
     "data": {
      "text/plain": "   index  Space_Flights\n4      0             23\n1      1             89\n0      2             98\n2      3             64\n3      4             57\n5      5             19\n6      6              5\n7      7              2",
      "text/html": "<div>\n<style scoped>\n    .dataframe tbody tr th:only-of-type {\n        vertical-align: middle;\n    }\n\n    .dataframe tbody tr th {\n        vertical-align: top;\n    }\n\n    .dataframe thead th {\n        text-align: right;\n    }\n</style>\n<table border=\"1\" class=\"dataframe\">\n  <thead>\n    <tr style=\"text-align: right;\">\n      <th></th>\n      <th>index</th>\n      <th>Space_Flights</th>\n    </tr>\n  </thead>\n  <tbody>\n    <tr>\n      <th>4</th>\n      <td>0</td>\n      <td>23</td>\n    </tr>\n    <tr>\n      <th>1</th>\n      <td>1</td>\n      <td>89</td>\n    </tr>\n    <tr>\n      <th>0</th>\n      <td>2</td>\n      <td>98</td>\n    </tr>\n    <tr>\n      <th>2</th>\n      <td>3</td>\n      <td>64</td>\n    </tr>\n    <tr>\n      <th>3</th>\n      <td>4</td>\n      <td>57</td>\n    </tr>\n    <tr>\n      <th>5</th>\n      <td>5</td>\n      <td>19</td>\n    </tr>\n    <tr>\n      <th>6</th>\n      <td>6</td>\n      <td>5</td>\n    </tr>\n    <tr>\n      <th>7</th>\n      <td>7</td>\n      <td>2</td>\n    </tr>\n  </tbody>\n</table>\n</div>"
     },
     "execution_count": 62,
     "metadata": {},
     "output_type": "execute_result"
    }
   ],
   "source": [
    "astronautas.Space_Flights.value_counts().reset_index().sort_values(by= 'index')"
   ],
   "metadata": {
    "collapsed": false,
    "pycharm": {
     "name": "#%%\n"
    }
   }
  },
  {
   "cell_type": "markdown",
   "source": [
    "#### Space_Flight_hours"
   ],
   "metadata": {
    "collapsed": false
   }
  },
  {
   "cell_type": "code",
   "execution_count": 63,
   "outputs": [
    {
     "data": {
      "text/plain": "<Figure size 1080x504 with 1 Axes>",
      "image/png": "[encoded data removed]"
     },
     "metadata": {
      "needs_background": "light"
     },
     "output_type": "display_data"
    }
   ],
   "source": [
    "fig = plt.figure(figsize =(15, 7))\n",
    "plt.boxplot(astronautas.Space_Flight_hours)\n",
    "plt.show()"
   ],
   "metadata": {
    "collapsed": false,
    "pycharm": {
     "name": "#%%\n"
    }
   }
  },
  {
   "cell_type": "code",
   "execution_count": 64,
   "outputs": [
    {
     "data": {
      "text/plain": "     index  Space_Flight_hours\n0        0                  27\n162      4                   1\n268      5                   1\n26      73                   2\n18      97                   2\n..     ...                 ...\n252   8970                   1\n250   9159                   1\n109  11698                   1\n154  12490                   1\n112  12818                   1\n\n[270 rows x 2 columns]",
      "text/html": "<div>\n<style scoped>\n    .dataframe tbody tr th:only-of-type {\n        vertical-align: middle;\n    }\n\n    .dataframe tbody tr th {\n        vertical-align: top;\n    }\n\n    .dataframe thead th {\n        text-align: right;\n    }\n</style>\n<table border=\"1\" class=\"dataframe\">\n  <thead>\n    <tr style=\"text-align: right;\">\n      <th></th>\n      <th>index</th>\n      <th>Space_Flight_hours</th>\n    </tr>\n  </thead>\n  <tbody>\n    <tr>\n      <th>0</th>\n      <td>0</td>\n      <td>27</td>\n    </tr>\n    <tr>\n      <th>162</th>\n      <td>4</td>\n      <td>1</td>\n    </tr>\n    <tr>\n      <th>268</th>\n      <td>5</td>\n      <td>1</td>\n    </tr>\n    <tr>\n      <th>26</th>\n      <td>73</td>\n      <td>2</td>\n    </tr>\n    <tr>\n      <th>18</th>\n      <td>97</td>\n      <td>2</td>\n    </tr>\n    <tr>\n      <th>...</th>\n      <td>...</td>\n      <td>...</td>\n    </tr>\n    <tr>\n      <th>252</th>\n      <td>8970</td>\n      <td>1</td>\n    </tr>\n    <tr>\n      <th>250</th>\n      <td>9159</td>\n      <td>1</td>\n    </tr>\n    <tr>\n      <th>109</th>\n      <td>11698</td>\n      <td>1</td>\n    </tr>\n    <tr>\n      <th>154</th>\n      <td>12490</td>\n      <td>1</td>\n    </tr>\n    <tr>\n      <th>112</th>\n      <td>12818</td>\n      <td>1</td>\n    </tr>\n  </tbody>\n</table>\n<p>270 rows × 2 columns</p>\n</div>"
     },
     "execution_count": 64,
     "metadata": {},
     "output_type": "execute_result"
    }
   ],
   "source": [
    "astronautas.Space_Flight_hours.value_counts().reset_index().sort_values(by= 'index')"
   ],
   "metadata": {
    "collapsed": false,
    "pycharm": {
     "name": "#%%\n"
    }
   }
  },
  {
   "cell_type": "code",
   "execution_count": 65,
   "outputs": [
    {
     "name": "stdout",
     "output_type": "stream",
     "text": [
      "Los outliers para la columna Space_Flight_hours son:\n",
      "E. Michael Fincke : 9159\n",
      "C. Michael Foale : 8970\n",
      "Scott J. Kelly : 12490\n",
      "Donald R. Pettit : 8872\n",
      "Peggy A. Whitson : 11698\n",
      "Jeffrey N. Williams : 12818\n",
      "Sunita L. Williams : 7721\n"
     ]
    },
    {
     "data": {
      "text/plain": "<Figure size 1296x576 with 1 Axes>",
      "image/png": "[encoded data removed]"
     },
     "metadata": {
      "needs_background": "light"
     },
     "output_type": "display_data"
    }
   ],
   "source": [
    "from scipy import stats\n",
    "import numpy as np\n",
    "z = np.abs(stats.zscore(astronautas[\"Space_Flight_hours\"]))\n",
    "threshold=3\n",
    "sf=[]\n",
    "for index in range(len(z)):\n",
    "    if(z[index]>3):\n",
    "        sf.append(index)\n",
    "print(\"Los outliers para la columna Space_Flight_hours son:\")\n",
    "for i in sf:\n",
    "    print(astronautas['Name'][i],\":\",astronautas[\"Space_Flight_hours\"][i])\n",
    "astronautas.boxplot(column=\"Space_Flight_hours\",by=\"Status\", figsize=(18, 8),patch_artist=True)\n",
    "plt.ylabel('Space_Flight_hours')\n",
    "plt.show()"
   ],
   "metadata": {
    "collapsed": false,
    "pycharm": {
     "name": "#%%\n"
    }
   }
  },
  {
   "cell_type": "markdown",
   "source": [
    "#### Space_Walks"
   ],
   "metadata": {
    "collapsed": false
   }
  },
  {
   "cell_type": "code",
   "execution_count": 66,
   "outputs": [
    {
     "data": {
      "text/plain": "<Figure size 1080x504 with 1 Axes>",
      "image/png": "[encoded data removed]"
     },
     "metadata": {
      "needs_background": "light"
     },
     "output_type": "display_data"
    }
   ],
   "source": [
    "fig = plt.figure(figsize =(15, 7))\n",
    "plt.boxplot(astronautas.Space_Walks)\n",
    "plt.show()"
   ],
   "metadata": {
    "collapsed": false,
    "pycharm": {
     "name": "#%%\n"
    }
   }
  },
  {
   "cell_type": "code",
   "execution_count": 67,
   "outputs": [
    {
     "data": {
      "text/plain": "    index  Space_Walks\n0       0          222\n2       1           29\n1       2           30\n3       3           26\n4       4           20\n7       5            6\n5       6           10\n6       7            9\n9       8            1\n8       9            3\n10     10            1",
      "text/html": "<div>\n<style scoped>\n    .dataframe tbody tr th:only-of-type {\n        vertical-align: middle;\n    }\n\n    .dataframe tbody tr th {\n        vertical-align: top;\n    }\n\n    .dataframe thead th {\n        text-align: right;\n    }\n</style>\n<table border=\"1\" class=\"dataframe\">\n  <thead>\n    <tr style=\"text-align: right;\">\n      <th></th>\n      <th>index</th>\n      <th>Space_Walks</th>\n    </tr>\n  </thead>\n  <tbody>\n    <tr>\n      <th>0</th>\n      <td>0</td>\n      <td>222</td>\n    </tr>\n    <tr>\n      <th>2</th>\n      <td>1</td>\n      <td>29</td>\n    </tr>\n    <tr>\n      <th>1</th>\n      <td>2</td>\n      <td>30</td>\n    </tr>\n    <tr>\n      <th>3</th>\n      <td>3</td>\n      <td>26</td>\n    </tr>\n    <tr>\n      <th>4</th>\n      <td>4</td>\n      <td>20</td>\n    </tr>\n    <tr>\n      <th>7</th>\n      <td>5</td>\n      <td>6</td>\n    </tr>\n    <tr>\n      <th>5</th>\n      <td>6</td>\n      <td>10</td>\n    </tr>\n    <tr>\n      <th>6</th>\n      <td>7</td>\n      <td>9</td>\n    </tr>\n    <tr>\n      <th>9</th>\n      <td>8</td>\n      <td>1</td>\n    </tr>\n    <tr>\n      <th>8</th>\n      <td>9</td>\n      <td>3</td>\n    </tr>\n    <tr>\n      <th>10</th>\n      <td>10</td>\n      <td>1</td>\n    </tr>\n  </tbody>\n</table>\n</div>"
     },
     "execution_count": 67,
     "metadata": {},
     "output_type": "execute_result"
    }
   ],
   "source": [
    "astronautas.Space_Walks.value_counts().reset_index().sort_values(by= 'index')"
   ],
   "metadata": {
    "collapsed": false,
    "pycharm": {
     "name": "#%%\n"
    }
   }
  },
  {
   "cell_type": "markdown",
   "source": [
    "#### Space_Walks_hours"
   ],
   "metadata": {
    "collapsed": false
   }
  },
  {
   "cell_type": "code",
   "execution_count": 68,
   "outputs": [
    {
     "data": {
      "text/plain": "<Figure size 1080x504 with 1 Axes>",
      "image/png": "[encoded data removed]"
     },
     "metadata": {
      "needs_background": "light"
     },
     "output_type": "display_data"
    }
   ],
   "source": [
    "fig = plt.figure(figsize =(15, 7))\n",
    "plt.boxplot(astronautas.Space_Walks_hours)\n",
    "plt.show()"
   ],
   "metadata": {
    "collapsed": false,
    "pycharm": {
     "name": "#%%\n"
    }
   }
  },
  {
   "cell_type": "code",
   "execution_count": 69,
   "outputs": [
    {
     "data": {
      "text/plain": "    index  Space_Walks_hours\n0     0.0                222\n17    0.5                  3\n10    1.0                  4\n31    2.0                  2\n8     3.0                  4\n35    4.0                  1\n7     5.0                  5\n4     6.0                  7\n50    7.0                  1\n25    8.0                  2\n14    9.0                  3\n15   10.0                  3\n28   11.0                  2\n1    12.0                 11\n2    13.0                 10\n26   14.0                  2\n18   15.0                  3\n41   16.0                  1\n36   17.0                  1\n6    18.0                  5\n5    19.0                  5\n3    20.0                  7\n23   21.0                  2\n11   22.0                  4\n30   23.0                  2\n12   24.0                  3\n9    25.0                  4\n16   26.0                  3\n44   27.0                  1\n38   28.0                  1\n47   29.0                  1\n27   30.0                  2\n33   31.0                  2\n20   32.0                  2\n39   33.0                  1\n43   34.0                  1\n32   36.0                  2\n46   37.0                  1\n34   38.0                  1\n37   39.0                  1\n22   41.0                  2\n49   42.0                  1\n13   43.0                  3\n48   45.0                  1\n21   46.0                  2\n19   47.0                  2\n29   48.0                  2\n40   49.0                  1\n51   50.0                  1\n42   53.0                  1\n24   58.0                  2\n45   67.0                  1",
      "text/html": "<div>\n<style scoped>\n    .dataframe tbody tr th:only-of-type {\n        vertical-align: middle;\n    }\n\n    .dataframe tbody tr th {\n        vertical-align: top;\n    }\n\n    .dataframe thead th {\n        text-align: right;\n    }\n</style>\n<table border=\"1\" class=\"dataframe\">\n  <thead>\n    <tr style=\"text-align: right;\">\n      <th></th>\n      <th>index</th>\n      <th>Space_Walks_hours</th>\n    </tr>\n  </thead>\n  <tbody>\n    <tr>\n      <th>0</th>\n      <td>0.0</td>\n      <td>222</td>\n    </tr>\n    <tr>\n      <th>17</th>\n      <td>0.5</td>\n      <td>3</td>\n    </tr>\n    <tr>\n      <th>10</th>\n      <td>1.0</td>\n      <td>4</td>\n    </tr>\n    <tr>\n      <th>31</th>\n      <td>2.0</td>\n      <td>2</td>\n    </tr>\n    <tr>\n      <th>8</th>\n      <td>3.0</td>\n      <td>4</td>\n    </tr>\n    <tr>\n      <th>35</th>\n      <td>4.0</td>\n      <td>1</td>\n    </tr>\n    <tr>\n      <th>7</th>\n      <td>5.0</td>\n      <td>5</td>\n    </tr>\n    <tr>\n      <th>4</th>\n      <td>6.0</td>\n      <td>7</td>\n    </tr>\n    <tr>\n      <th>50</th>\n      <td>7.0</td>\n      <td>1</td>\n    </tr>\n    <tr>\n      <th>25</th>\n      <td>8.0</td>\n      <td>2</td>\n    </tr>\n    <tr>\n      <th>14</th>\n      <td>9.0</td>\n      <td>3</td>\n    </tr>\n    <tr>\n      <th>15</th>\n      <td>10.0</td>\n      <td>3</td>\n    </tr>\n    <tr>\n      <th>28</th>\n      <td>11.0</td>\n      <td>2</td>\n    </tr>\n    <tr>\n      <th>1</th>\n      <td>12.0</td>\n      <td>11</td>\n    </tr>\n    <tr>\n      <th>2</th>\n      <td>13.0</td>\n      <td>10</td>\n    </tr>\n    <tr>\n      <th>26</th>\n      <td>14.0</td>\n      <td>2</td>\n    </tr>\n    <tr>\n      <th>18</th>\n      <td>15.0</td>\n      <td>3</td>\n    </tr>\n    <tr>\n      <th>41</th>\n      <td>16.0</td>\n      <td>1</td>\n    </tr>\n    <tr>\n      <th>36</th>\n      <td>17.0</td>\n      <td>1</td>\n    </tr>\n    <tr>\n      <th>6</th>\n      <td>18.0</td>\n      <td>5</td>\n    </tr>\n    <tr>\n      <th>5</th>\n      <td>19.0</td>\n      <td>5</td>\n    </tr>\n    <tr>\n      <th>3</th>\n      <td>20.0</td>\n      <td>7</td>\n    </tr>\n    <tr>\n      <th>23</th>\n      <td>21.0</td>\n      <td>2</td>\n    </tr>\n    <tr>\n      <th>11</th>\n      <td>22.0</td>\n      <td>4</td>\n    </tr>\n    <tr>\n      <th>30</th>\n      <td>23.0</td>\n      <td>2</td>\n    </tr>\n    <tr>\n      <th>12</th>\n      <td>24.0</td>\n      <td>3</td>\n    </tr>\n    <tr>\n      <th>9</th>\n      <td>25.0</td>\n      <td>4</td>\n    </tr>\n    <tr>\n      <th>16</th>\n      <td>26.0</td>\n      <td>3</td>\n    </tr>\n    <tr>\n      <th>44</th>\n      <td>27.0</td>\n      <td>1</td>\n    </tr>\n    <tr>\n      <th>38</th>\n      <td>28.0</td>\n      <td>1</td>\n    </tr>\n    <tr>\n      <th>47</th>\n      <td>29.0</td>\n      <td>1</td>\n    </tr>\n    <tr>\n      <th>27</th>\n      <td>30.0</td>\n      <td>2</td>\n    </tr>\n    <tr>\n      <th>33</th>\n      <td>31.0</td>\n      <td>2</td>\n    </tr>\n    <tr>\n      <th>20</th>\n      <td>32.0</td>\n      <td>2</td>\n    </tr>\n    <tr>\n      <th>39</th>\n      <td>33.0</td>\n      <td>1</td>\n    </tr>\n    <tr>\n      <th>43</th>\n      <td>34.0</td>\n      <td>1</td>\n    </tr>\n    <tr>\n      <th>32</th>\n      <td>36.0</td>\n      <td>2</td>\n    </tr>\n    <tr>\n      <th>46</th>\n      <td>37.0</td>\n      <td>1</td>\n    </tr>\n    <tr>\n      <th>34</th>\n      <td>38.0</td>\n      <td>1</td>\n    </tr>\n    <tr>\n      <th>37</th>\n      <td>39.0</td>\n      <td>1</td>\n    </tr>\n    <tr>\n      <th>22</th>\n      <td>41.0</td>\n      <td>2</td>\n    </tr>\n    <tr>\n      <th>49</th>\n      <td>42.0</td>\n      <td>1</td>\n    </tr>\n    <tr>\n      <th>13</th>\n      <td>43.0</td>\n      <td>3</td>\n    </tr>\n    <tr>\n      <th>48</th>\n      <td>45.0</td>\n      <td>1</td>\n    </tr>\n    <tr>\n      <th>21</th>\n      <td>46.0</td>\n      <td>2</td>\n    </tr>\n    <tr>\n      <th>19</th>\n      <td>47.0</td>\n      <td>2</td>\n    </tr>\n    <tr>\n      <th>29</th>\n      <td>48.0</td>\n      <td>2</td>\n    </tr>\n    <tr>\n      <th>40</th>\n      <td>49.0</td>\n      <td>1</td>\n    </tr>\n    <tr>\n      <th>51</th>\n      <td>50.0</td>\n      <td>1</td>\n    </tr>\n    <tr>\n      <th>42</th>\n      <td>53.0</td>\n      <td>1</td>\n    </tr>\n    <tr>\n      <th>24</th>\n      <td>58.0</td>\n      <td>2</td>\n    </tr>\n    <tr>\n      <th>45</th>\n      <td>67.0</td>\n      <td>1</td>\n    </tr>\n  </tbody>\n</table>\n</div>"
     },
     "execution_count": 69,
     "metadata": {},
     "output_type": "execute_result"
    }
   ],
   "source": [
    "astronautas.Space_Walks_hours.value_counts().reset_index().sort_values(by= 'index')"
   ],
   "metadata": {
    "collapsed": false,
    "pycharm": {
     "name": "#%%\n"
    }
   }
  },
  {
   "cell_type": "code",
   "execution_count": 70,
   "outputs": [
    {
     "name": "stdout",
     "output_type": "stream",
     "text": [
      "Los outliers para la columna Space_Walks_hours son:\n",
      "E. Michael Fincke : 48.0\n",
      "C. Michael Foale : 22.0\n",
      "Scott J. Kelly : 18.0\n",
      "Donald R. Pettit : 13.0\n",
      "Peggy A. Whitson : 46.0\n",
      "Jeffrey N. Williams : 32.0\n",
      "Sunita L. Williams : 50.0\n"
     ]
    },
    {
     "data": {
      "text/plain": "<Figure size 432x288 with 1 Axes>",
      "image/png": "[encoded data removed]"
     },
     "metadata": {
      "needs_background": "light"
     },
     "output_type": "display_data"
    }
   ],
   "source": [
    "z = np.abs(stats.zscore(astronautas[\"Space_Flight_hours\"]))\n",
    "threshold=3\n",
    "sw=[]\n",
    "for index in range(len(z)):\n",
    "    if(z[index]>3):\n",
    "        sw.append(index)\n",
    "print(\"Los outliers para la columna Space_Walks_hours son:\")\n",
    "for i in sw:\n",
    "    print(astronautas['Name'][i],\":\",astronautas[\"Space_Walks_hours\"][i])\n",
    "b=sb.boxplot(x=\"Space_Walks_hours\",y=\"Status\",data=astronautas)\n",
    "plt.show()"
   ],
   "metadata": {
    "collapsed": false,
    "pycharm": {
     "name": "#%%\n"
    }
   }
  },
  {
   "cell_type": "markdown",
   "source": [
    "En mi opinion, no se deben eliminar outliers en estas columnas porque hay una tendencia establecida y ademas hay un rango de numeros escaso, no es tan amplio. Ademas hay varios insights sobre los cuales voy a necesitar por ejemplo al astronauta que mas vuelos hizo, al que mas horas paso en una nave, al que mas caminatas realizo, entre otros. Por eso y lo dicho anteriormente no creo conveniente eliminar outliers."
   ],
   "metadata": {
    "collapsed": false
   }
  },
  {
   "cell_type": "markdown",
   "source": [
    "# Comienzo del analisis"
   ],
   "metadata": {
    "collapsed": false
   }
  },
  {
   "cell_type": "markdown",
   "source": [
    "Una vez hecho todo esto comenzamos a realizarnos algunas preguntas, todo lo anterior sirvio para darme una idea de cual es mi objetivo, donde quiero llegar con el analisis. Mi idea principal es poder investigar preguntas en especifico, preguntas como las que van a ir apareciendo debajo y luego poder llegar a una conclusion final en los aspectos que yo creo mas importantes. Cabe resaltar que al final del analisis del primer dataset hay otro. El segundo dataset contiene el presupuesto año a año que el gobierno de los Estados Unidos le proporciona a la Nasa para sus diversos estudios en el espacio."
   ],
   "metadata": {
    "collapsed": false
   }
  },
  {
   "cell_type": "markdown",
   "source": [
    "### ¿Cuantos astronautas tiene el dataset?"
   ],
   "metadata": {
    "collapsed": false
   }
  },
  {
   "cell_type": "markdown",
   "source": [
    "Aplique de nuevo el metodo print acompañado de una f antes de las comillas, en este caso se me ocurrio hacer un Name (que es la columna con nombre y apellido del astronauta) seguido de un nunique que me devuelve los valores en la columna name sin repetir."
   ],
   "metadata": {
    "collapsed": false
   }
  },
  {
   "cell_type": "code",
   "execution_count": 71,
   "outputs": [
    {
     "name": "stdout",
     "output_type": "stream",
     "text": [
      "El dataframe cuenta con un total de 357 astronautas que realizaron tanto misiones pequeñas o mas grandes a lo largo de la historia\n"
     ]
    }
   ],
   "source": [
    "print(f\"El dataframe cuenta con un total de {astronautas.Name.nunique()} astronautas que realizaron tanto misiones pequeñas o mas grandes a lo largo de la historia\")"
   ],
   "metadata": {
    "collapsed": false,
    "pycharm": {
     "name": "#%%\n"
    }
   }
  },
  {
   "cell_type": "markdown",
   "source": [
    "### ¿Como es la distribucion de genero entre los astronautas del dataset?¿Es parcial?"
   ],
   "metadata": {
    "collapsed": false
   }
  },
  {
   "cell_type": "markdown",
   "source": [
    "Para saber la distribucion de genero de los astronautas, si es parcial o imparcial, tenemos que centrarnos en la columna Gender."
   ],
   "metadata": {
    "collapsed": false
   }
  },
  {
   "cell_type": "code",
   "execution_count": 72,
   "outputs": [
    {
     "data": {
      "text/plain": "Male      307\nFemale     50\nName: Gender, dtype: int64"
     },
     "execution_count": 72,
     "metadata": {},
     "output_type": "execute_result"
    }
   ],
   "source": [
    "astronautas['Gender'].value_counts()"
   ],
   "metadata": {
    "collapsed": false,
    "pycharm": {
     "name": "#%%\n"
    }
   }
  },
  {
   "cell_type": "markdown",
   "source": [
    "El value_counts nos muestra que la distribucion es imparcial debido a que hay una diferencia a favor del genero masculino de 257. Mostremos esto mediante un plot pie."
   ],
   "metadata": {
    "collapsed": false
   }
  },
  {
   "cell_type": "code",
   "execution_count": 73,
   "outputs": [
    {
     "data": {
      "text/plain": "<Figure size 576x576 with 1 Axes>",
      "image/png": "[encoded data removed]"
     },
     "metadata": {},
     "output_type": "display_data"
    }
   ],
   "source": [
    "Gender = astronautas['Gender'].value_counts()\n",
    "\n",
    "plt.figure(figsize=(8,8))\n",
    "plt.pie(Gender, labels=Gender.index, autopct='%1.1f%%', shadow=True ,startangle=180)\n",
    "plt.show()"
   ],
   "metadata": {
    "collapsed": false,
    "pycharm": {
     "name": "#%%\n"
    }
   }
  },
  {
   "cell_type": "markdown",
   "source": [
    "Y ahora voy a mostrar una comparativa para demostrar esto que digo, que es bastante imparcial "
   ],
   "metadata": {
    "collapsed": false
   }
  },
  {
   "cell_type": "code",
   "execution_count": 74,
   "outputs": [
    {
     "data": {
      "text/plain": "<AxesSubplot:xlabel='count', ylabel='Year'>"
     },
     "execution_count": 74,
     "metadata": {},
     "output_type": "execute_result"
    },
    {
     "data": {
      "text/plain": "<Figure size 576x576 with 1 Axes>",
      "image/png": "[encoded data removed]"
     },
     "metadata": {
      "needs_background": "light"
     },
     "output_type": "display_data"
    }
   ],
   "source": [
    "plt.figure(figsize=(8,8))\n",
    "count_gender = astronautas['Year'].value_counts()\n",
    "sns.countplot(y=astronautas[\"Year\"],hue=astronautas[\"Gender\"],order=count_gender.nlargest(50).index)"
   ],
   "metadata": {
    "collapsed": false,
    "pycharm": {
     "name": "#%%\n"
    }
   }
  },
  {
   "cell_type": "markdown",
   "source": [
    "Como podemos ver, hay años en los que ni siquiera habia astronautas de genero femenino, destacandose el año 1996 como el que mas astronautas mujeres hubo."
   ],
   "metadata": {
    "collapsed": false
   }
  },
  {
   "cell_type": "markdown",
   "source": [
    "### De todos estos astronautas que contiene el dataset, ¿cuales son los 10 mas experimentados?"
   ],
   "metadata": {
    "collapsed": false
   }
  },
  {
   "cell_type": "markdown",
   "source": [
    "Para esto, voy a tomar como target la columna Space_Flight_hours porque considero que la experiencia se toma por cantidad de horas de vuelo, tambien el target pudo haber sido la columna Space_Walks_hours pero opte por la primera que mencione."
   ],
   "metadata": {
    "collapsed": false
   }
  },
  {
   "cell_type": "code",
   "execution_count": 75,
   "outputs": [
    {
     "data": {
      "text/plain": "                        Name  Gender  Space_Flight_hours\n1        Jeffrey N. Williams    Male             12818.0\n2             Scott J. Kelly    Male             12490.0\n3           Peggy A. Whitson  Female             11698.0\n4          E. Michael Fincke    Male              9159.0\n5           C. Michael Foale    Male              8970.0\n6           Donald R. Pettit    Male              8872.0\n7         Sunita L. Williams  Female              7721.0\n8   Michael E. Lopez-Alegria    Male              6190.0\n9           Timothy L. Kopra    Male              5857.0\n10              Carl E. Walz    Male              5533.0",
      "text/html": "<div>\n<style scoped>\n    .dataframe tbody tr th:only-of-type {\n        vertical-align: middle;\n    }\n\n    .dataframe tbody tr th {\n        vertical-align: top;\n    }\n\n    .dataframe thead th {\n        text-align: right;\n    }\n</style>\n<table border=\"1\" class=\"dataframe\">\n  <thead>\n    <tr style=\"text-align: right;\">\n      <th></th>\n      <th>Name</th>\n      <th>Gender</th>\n      <th>Space_Flight_hours</th>\n    </tr>\n  </thead>\n  <tbody>\n    <tr>\n      <th>1</th>\n      <td>Jeffrey N. Williams</td>\n      <td>Male</td>\n      <td>12818.0</td>\n    </tr>\n    <tr>\n      <th>2</th>\n      <td>Scott J. Kelly</td>\n      <td>Male</td>\n      <td>12490.0</td>\n    </tr>\n    <tr>\n      <th>3</th>\n      <td>Peggy A. Whitson</td>\n      <td>Female</td>\n      <td>11698.0</td>\n    </tr>\n    <tr>\n      <th>4</th>\n      <td>E. Michael Fincke</td>\n      <td>Male</td>\n      <td>9159.0</td>\n    </tr>\n    <tr>\n      <th>5</th>\n      <td>C. Michael Foale</td>\n      <td>Male</td>\n      <td>8970.0</td>\n    </tr>\n    <tr>\n      <th>6</th>\n      <td>Donald R. Pettit</td>\n      <td>Male</td>\n      <td>8872.0</td>\n    </tr>\n    <tr>\n      <th>7</th>\n      <td>Sunita L. Williams</td>\n      <td>Female</td>\n      <td>7721.0</td>\n    </tr>\n    <tr>\n      <th>8</th>\n      <td>Michael E. Lopez-Alegria</td>\n      <td>Male</td>\n      <td>6190.0</td>\n    </tr>\n    <tr>\n      <th>9</th>\n      <td>Timothy L. Kopra</td>\n      <td>Male</td>\n      <td>5857.0</td>\n    </tr>\n    <tr>\n      <th>10</th>\n      <td>Carl E. Walz</td>\n      <td>Male</td>\n      <td>5533.0</td>\n    </tr>\n  </tbody>\n</table>\n</div>"
     },
     "execution_count": 75,
     "metadata": {},
     "output_type": "execute_result"
    }
   ],
   "source": [
    "astronautas_mas_experimentados = astronautas[[\"Name\", \"Gender\", \"Space_Flight_hours\"]].sort_values([\"Space_Flight_hours\"], ascending=[False]).reset_index(drop=True).shift()[1:11]\n",
    "astronautas_mas_experimentados"
   ],
   "metadata": {
    "collapsed": false,
    "pycharm": {
     "name": "#%%\n"
    }
   }
  },
  {
   "cell_type": "code",
   "execution_count": 76,
   "outputs": [
    {
     "data": {
      "text/plain": "<AxesSubplot:>"
     },
     "execution_count": 76,
     "metadata": {},
     "output_type": "execute_result"
    },
    {
     "data": {
      "text/plain": "<Figure size 432x288 with 1 Axes>",
      "image/png": "[encoded data removed]"
     },
     "metadata": {
      "needs_background": "light"
     },
     "output_type": "display_data"
    }
   ],
   "source": [
    "astronautas_mas_experimentados.plot.bar(color = (\"#a35211\"))"
   ],
   "metadata": {
    "collapsed": false,
    "pycharm": {
     "name": "#%%\n"
    }
   }
  },
  {
   "cell_type": "markdown",
   "source": [
    "### A día de hoy, ¿Cuantos de estos astronautas siguen aun ejerciendo su profesion?"
   ],
   "metadata": {
    "collapsed": false
   }
  },
  {
   "cell_type": "code",
   "execution_count": 77,
   "outputs": [
    {
     "data": {
      "text/plain": "                                Name    Year  Group  Status  Birth_Date  \\\n0                    Joseph M. Acaba  2004.0   19.0  Active  17-05-1967   \n11              Dominic A. Antonelli  2000.0   18.0  Active  23-08-1967   \n15             Richard R. Arnold II   2004.0   19.0  Active  26-11-1963   \n17                   Serena M. Aunon  2009.0   20.0  Active  09-04-1976   \n21                Michael R. Barratt  2000.0   18.0  Active  16-04-1959   \n26                 Robert L. Behnken  2000.0   18.0  Active  28-07-1970   \n31                       Eric A. Boe  2000.0   18.0  Active  01-10-1964   \n34                  Stephen G. Bowen  2000.0   18.0  Active  13-02-1964   \n39               Randolph J. Bresnik  2004.0   19.0  Active  11-09-1967   \n47                 Daniel C. Burbank  1996.0   16.0  Active  27-07-1961   \n52         Tracy E. Caldwell (Dyson)  1998.0   17.0  Active  14-08-1969   \n60            Christopher J. Cassidy  2004.0   19.0  Active  04-01-1970   \n64              Gregory E. Chamitoff  1998.0   17.0  Active  06-08-1962   \n75              Catherine G. Coleman  1992.0   14.0  Active  14-12-1960   \n91                Alvin B. Drew Jr.   2000.0   18.0  Active  05-11-1962   \n101                 Jeanette J. Epps  2009.0   20.0  Active  03-11-1970   \n106                Andrew J. Feustel  2000.0   18.0  Active  25-08-1965   \n107                E. Michael Fincke  1996.0   16.0  Active  14-03-1967   \n108                  Jack D. Fischer  2009.0   20.0  Active  23-01-1974   \n111                 C. Michael Foale  1987.0   12.0  Active  06-01-1957   \n112                    Kevin A. Ford  2000.0   18.0  Active  07-07-1960   \n115                Michael E. Fossum  1998.0   17.0  Active  19-12-1957   \n166               Michael S. Hopkins  2009.0   20.0  Active  28-12-1968   \n169                Douglas G. Hurley  2000.0   18.0  Active  21-10-1966   \n178               Gregory H. Johnson  1998.0   17.0  Active  12-05-1962   \n183                   Scott J. Kelly  1996.0   16.0  Active  21-02-1964   \n186           Robert Shane Kimbrough  2004.0   19.0  Active  04-06-1967   \n187                 Timothy L. Kopra  2000.0   18.0  Active  09-04-1963   \n196                Kjell N. Lindgren  2009.0   20.0  Active  23-01-1973   \n213              Thomas H. Marshburn  2004.0   19.0  Active  29-08-1960   \n215           Richard A. Mastracchio  1996.0   16.0  Active  11-02-1960   \n217                K. Megan McArthur  2000.0   18.0  Active  30-08-1971   \n231  Dorothy M. Metcalf-Lindenberger  2004.0   19.0  Active  02-05-1975   \n244                  Karen L. Nyberg  2000.0   18.0  Active  07-10-1969   \n261                 Donald R. Pettit  1996.0   16.0  Active  20-04-1955   \n280                  Kathleen Rubins  2009.0   20.0  Active  14-10-1978   \n308                  Nicole P. Stott  2000.0   18.0  Active  19-11-1962   \n311                Steven R. Swanson  1998.0   17.0  Active  03-12-1960   \n322                  Scott D. Tingle  2009.0   20.0  Active  19-07-1965   \n326                Mark T. Vande Hei  2009.0   20.0  Active  10-11-1966   \n328              Terry W. Virts Jr.   2000.0   18.0  Active  01-12-1967   \n331                   Rex J. Walheim  1996.0   16.0  Active  10-10-1962   \n334                   Shannon Walker  2004.0   19.0  Active  04-06-1965   \n340              Douglas H. Wheelock  1998.0   17.0  Active  05-05-1960   \n342                 Peggy A. Whitson  1996.0   16.0  Active  09-02-1960   \n346              Jeffrey N. Williams  1996.0   16.0  Active  18-01-1958   \n347               Sunita L. Williams  1998.0   17.0  Active  19-09-1965   \n348                 Barry E. Wilmore  2000.0   18.0  Active  29-12-1962   \n349              Stephanie D. Wilson  1996.0   16.0  Active  27-09-1966   \n350                  G. Reid Wiseman  2009.0   20.0  Active  11-11-1975   \n\n              Birth_Place  Gender  \\\n0           Inglewood, CA    Male   \n11            Detroit, MI    Male   \n15           Cheverly, MD    Male   \n17       Indianapolis, IN  Female   \n21          Vancouver, WA    Male   \n26        Creve Couer, MO    Male   \n31              Miami, FL    Male   \n34           Cohasset, MA    Male   \n39          Fort Knox, KY    Male   \n47          Machester, CT    Male   \n52            Arcadia, CA  Female   \n60              Salem, MA    Male   \n64       Montreal, Canada    Male   \n75         Charleston, SC  Female   \n91         Washington, DC    Male   \n101          Syracuse, NY  Female   \n106         Lancaster, PA    Male   \n107        Pittsburgh, PA    Male   \n108        Louisville, CO    Male   \n111        Louth, England    Male   \n112          Portland, IN    Male   \n115       Sioux Falls, SD    Male   \n166           Lebanon, MO    Male   \n169          Endicott, NY    Male   \n178       London, England    Male   \n183            Orange, NJ    Male   \n186           Killeen, TX    Male   \n187            Austin, TX    Male   \n196        Taipei, Taiwan    Male   \n213       Statesville, NC    Male   \n215         Waterbury, CT    Male   \n217          Honolulu, HI  Female   \n231  Colorado Springs, CO  Female   \n244  Parker’s Prairie, MN  Female   \n261         Silverton, OR    Male   \n280        Farmington, CT  Female   \n308            Albany, NY  Female   \n311          Syracuse, NY    Male   \n322         Attleboro, MA    Male   \n326      Falls Church, VA    Male   \n328         Baltimore, MD    Male   \n331           Redwood, CA    Male   \n334           Houston, TX  Female   \n340        Binghamton, NY    Male   \n342           Mt. Ayr, IA  Female   \n346          Superior, WI    Male   \n347            Euclid, OH  Female   \n348      Murfreesboro, TN    Male   \n349            Boston, MA  Female   \n350         Baltimore, MD    Male   \n\n                                 Academy_or_university  \\\n0    University of California-Santa Barbara; Univer...   \n11                       MIT; University of Washington   \n15   Frostburg State University; University of Mary...   \n17   George Washington University; University of Texas   \n21   University of Washington; Northwestern Univers...   \n26   Washington University; California Institute of...   \n31   US Air Force Academy; Georgia Institute of Tec...   \n34                               US Naval Academy; MIT   \n39      The Citadel; University of Tennessee-Knoxville   \n47   US Coast Guard Academy; Embry-Riddle Aeronauti...   \n52   California State University-Fullerton; Univers...   \n60                               US Naval Academy; MIT   \n64   California Polytechnic State University; Calif...   \n75                    MIT; University of Massachusetts   \n91   US Air Force Academy; Embry-Riddle Aeronautica...   \n101            LeMoyne College; University of Maryland   \n106       Purdue University; Queen’s University-Canada   \n107  MIT; Stanford University; University of Housto...   \n108                          US Air Force Academy; MIT   \n111                               Cambridge University   \n112  University of Notre Dame; Troy State Universit...   \n115  Texas A&M University; Air Force Institute of T...   \n166        University of Illinois; Stanford University   \n169                                  Tulane University   \n178  US Air Force Academy; Columbia University; Uni...   \n183  State University of New York Maritime College;...   \n186  US Military Academy; Georgia Institute of Tech...   \n187  US Military Academy; Georgia Institute of Tech...   \n196  US Air Force Academy; University of Colorado; ...   \n213  Davidson College; University of Virginia; Wake...   \n215  University of Connecticut; Rensselaer Polytech...   \n217  University of California-Los Angeles; Universi...   \n231                                    Whitman College   \n244    University of North Dakota; University of Texas   \n261     Oregon State University; University of Arizona   \n280  University of California-San Diego; Stanford U...   \n308  Embry-Riddle Aeronautical University; Universi...   \n311  University of Colorado; Florida Atlantic Unive...   \n322  Southeastern Massachusetts University; Purdue ...   \n326       Saint John’s University; Stanford University   \n328  US Air Force Academy; Embry-Riddle Aeronautica...   \n331  University of California-Berkeley; University ...   \n334                                    Rice University   \n340  US Military Academy; Georgia Institute of Tech...   \n342             Iowa Wesleyan College; Rice University   \n346  US Military Academy; US Naval Postgraduate Sch...   \n347  US Naval Academy; Florida Institute of Technology   \n348  Tennessee Technological University; University...   \n349            Harvard University; University of Texas   \n350  Rensselaer Polytechnic Institute; Johns Hopkin...   \n\n                                   Undergraduate_Major  \\\n0                                              Geology   \n11                          Aeronautics & Astronautics   \n15                                          Accounting   \n17                              Electrical Engineering   \n21                                             Zoology   \n26                    Physics & Mechanical Engineering   \n31                            Aeronautical Engineering   \n34                              Electrical Engineering   \n39                                         Mathematics   \n47                              Electrical Engineering   \n52                                           Chemistry   \n60                                         Mathematics   \n64                              Electrical Engineering   \n75                                           Chemistry   \n91                 Physics & Astronautical Engineering   \n101                                            Physics   \n106                               Solid Earth Sciences   \n107  Aeronautics & Astronautics; Earth, Atmospheric...   \n108                          Astronautical Engineering   \n111                                            Physics   \n112                              Aerospace Engineering   \n115                             Mechanical Engineering   \n166                              Aerospace Engineering   \n169                                  Civil Engineering   \n178                           Aeronautical Engineering   \n183                             Electrical Engineering   \n186                              Aerospace Engineering   \n187                                   Computer Science   \n196                                            Biology   \n213                                            Physics   \n215           Electrical Engineering; Computer Science   \n217                              Aerospace Engineering   \n231                                            Geology   \n244                             Mechanical Engineering   \n261                               Chemical Engineering   \n280                                  Molecular Biology   \n308                           Aeronautical Engineering   \n311                                Engineering Physics   \n322                             Mechanical Engineering   \n326                                            Physics   \n328                                        Mathematics   \n331                             Mechanical Engineering   \n334                                      Space Physics   \n340                      Applied Science & Engineering   \n342                                Chemistry & Biology   \n346                      Applied Science & Engineering   \n347                                   Physical Science   \n348                             Electrical Engineering   \n349                                Engineering Science   \n350                     Computer & Systems Engineering   \n\n                                        Graduate_Major   Military_Rank  \\\n0                                              Geology  Not Applicable   \n11                          Aeronautics & Astronautics       Commander   \n15                               Environmental Science  Not Applicable   \n17                                            Medicine  Not Applicable   \n21                        Medicine; Aerospace Medicine  Not Applicable   \n26                              Mechanical Engineering         Colonel   \n31                              Electrical Engineering         Colonel   \n34                                   Ocean Engineering         Captain   \n39                                    Aviation Systems         Colonel   \n47                                Aeronautical Science         Captain   \n52                                  Physical Chemistry  Not Applicable   \n60                                   Ocean Engineering       Commander   \n64   Aeronautical Engineering; Aeronautics & Astron...  Not Applicable   \n75                       Polymer Science & Engineering         Colonel   \n91                Aerospace Science; Political Science         Colonel   \n101                              Aerospace Engineering  Not Applicable   \n106                             Geophysics; Seismology  Not Applicable   \n107      Aeronautics & Astronautics; Physical Sciences         Colonel   \n108                         Aeronautics & Astronautics  Not Applicable   \n111                            Laboratory Astrophysics  Not Applicable   \n112  International Relations; Aerospace Engineering...         Colonel   \n115  Systems Engineering; Physical Science (Space S...  Not Applicable   \n166                              Aerospace Engineering         Colonel   \n169                           Aeronautical Engineering         Colonel   \n178  Flight Structures Engineering; Business Admini...         Colonel   \n183                                   Aviation Systems         Captain   \n186                                Operations Research         Colonel   \n187           Aerospace Engineering; Strategic Studies         Colonel   \n196  Medicine; Cardiovascular Physiology; Health In...  Not Applicable   \n213     Engineering Physics; Medicine; Medical Science  Not Applicable   \n215          Electrical Engineering; Physical Sciences  Not Applicable   \n217                                       Oceanography  Not Applicable   \n231                           Aeronautical Engineering  Not Applicable   \n244                             Mechanical Engineering  Not Applicable   \n261                               Chemical Engineering  Not Applicable   \n280                                     Cancer Biology  Not Applicable   \n308                             Engineering Management  Not Applicable   \n311                 Computer Systems; Computer Science  Not Applicable   \n322                             Mechanical Engineering       Commander   \n326                                    Applied Physics         Colonel   \n328                                        Aeronautics         Colonel   \n331                             Industrial Engineering         Colonel   \n334                                      Space Physics  Not Applicable   \n340                              Aerospace Engineering         Colonel   \n342                                       Biochemistry  Not Applicable   \n346  Aeronautical Engineering; National Security & ...         Colonel   \n347                             Engineering Management         Captain   \n348           Electrical Engineering; Aviation Systems         Captain   \n349                              Aerospace Engineering  Not Applicable   \n350                                Systems Engineering       Commander   \n\n                     Military_Branch  Space_Flights  Space_Flight_hours  \\\n0                     Not Applicable              2                3307   \n11                           US Navy              2                 579   \n15                    Not Applicable              1                 307   \n17                    Not Applicable              0                   0   \n21                    Not Applicable              2                5075   \n26                      US Air Force              2                 708   \n31                      US Air Force              2                 687   \n34                           US Navy              3                 970   \n39                   US Marine Corps              1                 259   \n47          US Coast Guard (Retired)              3                4512   \n52                    Not Applicable              2                4531   \n60                           US Navy              1                4376   \n64                    Not Applicable              2                4770   \n75            US Air Force (Retired)              3                4324   \n91                      US Air Force              2                 613   \n101                   Not Applicable              0                   0   \n106                   Not Applicable              2                 687   \n107                     US Air Force              3                9159   \n108                   Not Applicable              0                   0   \n111                   Not Applicable              6                8970   \n112           US Air Force (Retired)              2                3781   \n115  US Air Force Reserves (Retired)              3                4651   \n166                     US Air Force              1                3990   \n169                  US Marine Corps              2                 683   \n178           US Air Force (Retired)              2                 755   \n183                US Navy (Retired)              4               12490   \n186                          US Army              3                3720   \n187                US Army (Retired)              2                5857   \n196                   Not Applicable              1                3400   \n213                   Not Applicable              2                3871   \n215                   Not Applicable              4                5461   \n217                   Not Applicable              1                 309   \n231                   Not Applicable              1                 362   \n244                   Not Applicable              2                4320   \n261                   Not Applicable              3                8872   \n280                   Not Applicable              1                2762   \n308                   Not Applicable              2                2477   \n311                   Not Applicable              3                4700   \n322                          US Navy              0                   0   \n326                          US Army              0                   0   \n328                     US Air Force              2                5122   \n331           US Air Force (Retired)              3                 872   \n334                   Not Applicable              1                3919   \n340                          US Army              2                4281   \n342                   Not Applicable              3               11698   \n346                US Army (Retired)              4               12818   \n347                          US Navy              2                7721   \n348                          US Navy              2                4272   \n349                   Not Applicable              3                1031   \n350                          US Navy              1                3968   \n\n     Space_Walks  Space_Walks_hours  \\\n0              2               13.0   \n11             0                0.0   \n15             2               12.0   \n17             0                0.0   \n21             1                5.0   \n26             6               37.0   \n31             0                0.0   \n34             7               47.0   \n39             2               12.0   \n47             1                7.0   \n52             3               23.0   \n60             6               31.0   \n64             2               13.0   \n75             0                0.0   \n91             2               13.0   \n101            0                0.0   \n106            6               42.0   \n107            9               48.0   \n108            0                0.0   \n111            4               22.0   \n112            0                0.0   \n115            7               48.0   \n166            2               13.0   \n169            0                0.0   \n178            0                0.0   \n183            3               18.0   \n186            4               25.0   \n187            3               13.0   \n196            2               15.0   \n213            4               24.0   \n215            9               53.0   \n217            0                0.0   \n231            0                0.0   \n244            0                0.0   \n261            2               13.0   \n280            2               13.0   \n308            1                6.0   \n311            5               28.0   \n322            0                0.0   \n326            0                0.0   \n328            3               18.0   \n331            5               36.0   \n334            0                0.0   \n340            6               43.0   \n342            7               46.0   \n346            5               32.0   \n347            7               50.0   \n348            4               25.0   \n349            0                0.0   \n350            2               13.0   \n\n                                              Missions      Death_Date  \\\n0               STS-119 (Discovery), ISS-31/32 (Soyuz)  Not Applicable   \n11             STS-119 (Discovery), STS-132 (Atlantis)  Not Applicable   \n15                                 STS-119 (Discovery)  Not Applicable   \n17                                         No Missions  Not Applicable   \n21              ISS-19/20 (Soyuz), STS-133 (Discovery)  Not Applicable   \n26              STS-123 (Endeavor), STS-130 (Endeavor)  Not Applicable   \n31             STS-126 (Endeavor), STS-133 (Discovery)  Not Applicable   \n34   STS-126 (Endeavor), STS-132 (Atlantis), STS-13...  Not Applicable   \n39                                  STS-129 (Atlantis)  Not Applicable   \n47   STS-106 (Atlantis), STS-115 (Atlantis), ISS-29...  Not Applicable   \n52               STS-118 (Endeavor), ISS-23/24 (Soyuz)  Not Applicable   \n60               STS-127 (Endeavor); ISS-35/36 (Soyuz)  Not Applicable   \n64   STS-124/126 (Discovery/Endeavor), STS-134 (End...  Not Applicable   \n75   STS-73 (Columbia), STS-93 (Columbia), ISS-26/2...  Not Applicable   \n91             STS-118 (Endeavor), STS-133 (Discovery)  Not Applicable   \n101                                        No Missions  Not Applicable   \n106             STS-125 (Atlantis), STS-134 (Endeavor)  Not Applicable   \n107  ISS-09 (Soyuz), ISS-18 (Soyuz), STS-134 (Endea...  Not Applicable   \n108                                        No Missions  Not Applicable   \n111  STS-45 (Atlantis), STS-56 (Discovery), STS-63 ...  Not Applicable   \n112             STS-128 (Discovery), ISS-33/34 (Soyuz)  Not Applicable   \n115  STS-121 (Discovery), STS-124 (Discovery), ISS-...  Not Applicable   \n166                                  ISS-37/38 (Soyuz)  Not Applicable   \n169             STS-127 (Endeavor), STS-135 (Atlantis)  Not Applicable   \n178             STS-123 (Endeavor), STS-134 (Endeavor)  Not Applicable   \n183  STS-103 (Discovery), STS-118 (Endeavor), ISS-2...  Not Applicable   \n186              STS-126 (Endeavor), ISS-49/50 (Soyuz)  Not Applicable   \n187  STS-127/128 (Endeavor/Discovery), ISS-46/47 (S...  Not Applicable   \n196                                  ISS-44/45 (Soyuz)  Not Applicable   \n213              STS-127 (Endeavor), ISS-34/35 (Soyuz)  Not Applicable   \n215  STS-106 (Atlantis), STS-118 (Endeavor), STS-13...  Not Applicable   \n217                                 STS-125 (Atlantis)  Not Applicable   \n231                                STS-131 (Discovery)  Not Applicable   \n244             STS-124 (Discovery), ISS-36/37 (Soyuz)  Not Applicable   \n261  ISS-6 (Soyuz), STS-126 (Endeavor), ISS-30/31 (...  Not Applicable   \n280                                  ISS-48/49 (Soyuz)  Not Applicable   \n308  STS-128/129 (Discovery/Atlantis), STS-133 (Dis...  Not Applicable   \n311  STS-117 (Atlantis), STS-119 (Discovery), ISS-3...  Not Applicable   \n322                                        No Missions  Not Applicable   \n326                                        No Missions  Not Applicable   \n328              STS-130 (Endeavor), ISS-42/43 (Soyuz)  Not Applicable   \n331  STS-110 (Atlantis), STS-122 (Atlantis), STS-13...  Not Applicable   \n334                                  ISS-24/25 (Soyuz)  Not Applicable   \n340             STS-120 (Discovery), ISS-24/25 (Soyuz)  Not Applicable   \n342  STS-111/113 (Endeavor), ISS-16 (Soyuz), ISS-50...  Not Applicable   \n346  STS-101 (Atlantis), ISS-13 (Soyuz), ISS-21/22 ...  Not Applicable   \n347  STS-116/117 (Discovery/Atlantis), ISS-32/33 (S...  Not Applicable   \n348              STS-129 (Atlantis), ISS-41/42 (Soyuz)  Not Applicable   \n349  STS-121 (Discovery), STS-120 (Discovery), STS-...  Not Applicable   \n350                                  ISS-40/41 (Soyuz)  Not Applicable   \n\n      Death_Mission  \n0    Not Applicable  \n11   Not Applicable  \n15   Not Applicable  \n17   Not Applicable  \n21   Not Applicable  \n26   Not Applicable  \n31   Not Applicable  \n34   Not Applicable  \n39   Not Applicable  \n47   Not Applicable  \n52   Not Applicable  \n60   Not Applicable  \n64   Not Applicable  \n75   Not Applicable  \n91   Not Applicable  \n101  Not Applicable  \n106  Not Applicable  \n107  Not Applicable  \n108  Not Applicable  \n111  Not Applicable  \n112  Not Applicable  \n115  Not Applicable  \n166  Not Applicable  \n169  Not Applicable  \n178  Not Applicable  \n183  Not Applicable  \n186  Not Applicable  \n187  Not Applicable  \n196  Not Applicable  \n213  Not Applicable  \n215  Not Applicable  \n217  Not Applicable  \n231  Not Applicable  \n244  Not Applicable  \n261  Not Applicable  \n280  Not Applicable  \n308  Not Applicable  \n311  Not Applicable  \n322  Not Applicable  \n326  Not Applicable  \n328  Not Applicable  \n331  Not Applicable  \n334  Not Applicable  \n340  Not Applicable  \n342  Not Applicable  \n346  Not Applicable  \n347  Not Applicable  \n348  Not Applicable  \n349  Not Applicable  \n350  Not Applicable  ",
      "text/html": "<div>\n<style scoped>\n    .dataframe tbody tr th:only-of-type {\n        vertical-align: middle;\n    }\n\n    .dataframe tbody tr th {\n        vertical-align: top;\n    }\n\n    .dataframe thead th {\n        text-align: right;\n    }\n</style>\n<table border=\"1\" class=\"dataframe\">\n  <thead>\n    <tr style=\"text-align: right;\">\n      <th></th>\n      <th>Name</th>\n      <th>Year</th>\n      <th>Group</th>\n      <th>Status</th>\n      <th>Birth_Date</th>\n      <th>Birth_Place</th>\n      <th>Gender</th>\n      <th>Academy_or_university</th>\n      <th>Undergraduate_Major</th>\n      <th>Graduate_Major</th>\n      <th>Military_Rank</th>\n      <th>Military_Branch</th>\n      <th>Space_Flights</th>\n      <th>Space_Flight_hours</th>\n      <th>Space_Walks</th>\n      <th>Space_Walks_hours</th>\n      <th>Missions</th>\n      <th>Death_Date</th>\n      <th>Death_Mission</th>\n    </tr>\n  </thead>\n  <tbody>\n    <tr>\n      <th>0</th>\n      <td>Joseph M. Acaba</td>\n      <td>2004.0</td>\n      <td>19.0</td>\n      <td>Active</td>\n      <td>17-05-1967</td>\n      <td>Inglewood, CA</td>\n      <td>Male</td>\n      <td>University of California-Santa Barbara; Univer...</td>\n      <td>Geology</td>\n      <td>Geology</td>\n      <td>Not Applicable</td>\n      <td>Not Applicable</td>\n      <td>2</td>\n      <td>3307</td>\n      <td>2</td>\n      <td>13.0</td>\n      <td>STS-119 (Discovery), ISS-31/32 (Soyuz)</td>\n      <td>Not Applicable</td>\n      <td>Not Applicable</td>\n    </tr>\n    <tr>\n      <th>11</th>\n      <td>Dominic A. Antonelli</td>\n      <td>2000.0</td>\n      <td>18.0</td>\n      <td>Active</td>\n      <td>23-08-1967</td>\n      <td>Detroit, MI</td>\n      <td>Male</td>\n      <td>MIT; University of Washington</td>\n      <td>Aeronautics &amp; Astronautics</td>\n      <td>Aeronautics &amp; Astronautics</td>\n      <td>Commander</td>\n      <td>US Navy</td>\n      <td>2</td>\n      <td>579</td>\n      <td>0</td>\n      <td>0.0</td>\n      <td>STS-119 (Discovery), STS-132 (Atlantis)</td>\n      <td>Not Applicable</td>\n      <td>Not Applicable</td>\n    </tr>\n    <tr>\n      <th>15</th>\n      <td>Richard R. Arnold II</td>\n      <td>2004.0</td>\n      <td>19.0</td>\n      <td>Active</td>\n      <td>26-11-1963</td>\n      <td>Cheverly, MD</td>\n      <td>Male</td>\n      <td>Frostburg State University; University of Mary...</td>\n      <td>Accounting</td>\n      <td>Environmental Science</td>\n      <td>Not Applicable</td>\n      <td>Not Applicable</td>\n      <td>1</td>\n      <td>307</td>\n      <td>2</td>\n      <td>12.0</td>\n      <td>STS-119 (Discovery)</td>\n      <td>Not Applicable</td>\n      <td>Not Applicable</td>\n    </tr>\n    <tr>\n      <th>17</th>\n      <td>Serena M. Aunon</td>\n      <td>2009.0</td>\n      <td>20.0</td>\n      <td>Active</td>\n      <td>09-04-1976</td>\n      <td>Indianapolis, IN</td>\n      <td>Female</td>\n      <td>George Washington University; University of Texas</td>\n      <td>Electrical Engineering</td>\n      <td>Medicine</td>\n      <td>Not Applicable</td>\n      <td>Not Applicable</td>\n      <td>0</td>\n      <td>0</td>\n      <td>0</td>\n      <td>0.0</td>\n      <td>No Missions</td>\n      <td>Not Applicable</td>\n      <td>Not Applicable</td>\n    </tr>\n    <tr>\n      <th>21</th>\n      <td>Michael R. Barratt</td>\n      <td>2000.0</td>\n      <td>18.0</td>\n      <td>Active</td>\n      <td>16-04-1959</td>\n      <td>Vancouver, WA</td>\n      <td>Male</td>\n      <td>University of Washington; Northwestern Univers...</td>\n      <td>Zoology</td>\n      <td>Medicine; Aerospace Medicine</td>\n      <td>Not Applicable</td>\n      <td>Not Applicable</td>\n      <td>2</td>\n      <td>5075</td>\n      <td>1</td>\n      <td>5.0</td>\n      <td>ISS-19/20 (Soyuz), STS-133 (Discovery)</td>\n      <td>Not Applicable</td>\n      <td>Not Applicable</td>\n    </tr>\n    <tr>\n      <th>26</th>\n      <td>Robert L. Behnken</td>\n      <td>2000.0</td>\n      <td>18.0</td>\n      <td>Active</td>\n      <td>28-07-1970</td>\n      <td>Creve Couer, MO</td>\n      <td>Male</td>\n      <td>Washington University; California Institute of...</td>\n      <td>Physics &amp; Mechanical Engineering</td>\n      <td>Mechanical Engineering</td>\n      <td>Colonel</td>\n      <td>US Air Force</td>\n      <td>2</td>\n      <td>708</td>\n      <td>6</td>\n      <td>37.0</td>\n      <td>STS-123 (Endeavor), STS-130 (Endeavor)</td>\n      <td>Not Applicable</td>\n      <td>Not Applicable</td>\n    </tr>\n    <tr>\n      <th>31</th>\n      <td>Eric A. Boe</td>\n      <td>2000.0</td>\n      <td>18.0</td>\n      <td>Active</td>\n      <td>01-10-1964</td>\n      <td>Miami, FL</td>\n      <td>Male</td>\n      <td>US Air Force Academy; Georgia Institute of Tec...</td>\n      <td>Aeronautical Engineering</td>\n      <td>Electrical Engineering</td>\n      <td>Colonel</td>\n      <td>US Air Force</td>\n      <td>2</td>\n      <td>687</td>\n      <td>0</td>\n      <td>0.0</td>\n      <td>STS-126 (Endeavor), STS-133 (Discovery)</td>\n      <td>Not Applicable</td>\n      <td>Not Applicable</td>\n    </tr>\n    <tr>\n      <th>34</th>\n      <td>Stephen G. Bowen</td>\n      <td>2000.0</td>\n      <td>18.0</td>\n      <td>Active</td>\n      <td>13-02-1964</td>\n      <td>Cohasset, MA</td>\n      <td>Male</td>\n      <td>US Naval Academy; MIT</td>\n      <td>Electrical Engineering</td>\n      <td>Ocean Engineering</td>\n      <td>Captain</td>\n      <td>US Navy</td>\n      <td>3</td>\n      <td>970</td>\n      <td>7</td>\n      <td>47.0</td>\n      <td>STS-126 (Endeavor), STS-132 (Atlantis), STS-13...</td>\n      <td>Not Applicable</td>\n      <td>Not Applicable</td>\n    </tr>\n    <tr>\n      <th>39</th>\n      <td>Randolph J. Bresnik</td>\n      <td>2004.0</td>\n      <td>19.0</td>\n      <td>Active</td>\n      <td>11-09-1967</td>\n      <td>Fort Knox, KY</td>\n      <td>Male</td>\n      <td>The Citadel; University of Tennessee-Knoxville</td>\n      <td>Mathematics</td>\n      <td>Aviation Systems</td>\n      <td>Colonel</td>\n      <td>US Marine Corps</td>\n      <td>1</td>\n      <td>259</td>\n      <td>2</td>\n      <td>12.0</td>\n      <td>STS-129 (Atlantis)</td>\n      <td>Not Applicable</td>\n      <td>Not Applicable</td>\n    </tr>\n    <tr>\n      <th>47</th>\n      <td>Daniel C. Burbank</td>\n      <td>1996.0</td>\n      <td>16.0</td>\n      <td>Active</td>\n      <td>27-07-1961</td>\n      <td>Machester, CT</td>\n      <td>Male</td>\n      <td>US Coast Guard Academy; Embry-Riddle Aeronauti...</td>\n      <td>Electrical Engineering</td>\n      <td>Aeronautical Science</td>\n      <td>Captain</td>\n      <td>US Coast Guard (Retired)</td>\n      <td>3</td>\n      <td>4512</td>\n      <td>1</td>\n      <td>7.0</td>\n      <td>STS-106 (Atlantis), STS-115 (Atlantis), ISS-29...</td>\n      <td>Not Applicable</td>\n      <td>Not Applicable</td>\n    </tr>\n    <tr>\n      <th>52</th>\n      <td>Tracy E. Caldwell (Dyson)</td>\n      <td>1998.0</td>\n      <td>17.0</td>\n      <td>Active</td>\n      <td>14-08-1969</td>\n      <td>Arcadia, CA</td>\n      <td>Female</td>\n      <td>California State University-Fullerton; Univers...</td>\n      <td>Chemistry</td>\n      <td>Physical Chemistry</td>\n      <td>Not Applicable</td>\n      <td>Not Applicable</td>\n      <td>2</td>\n      <td>4531</td>\n      <td>3</td>\n      <td>23.0</td>\n      <td>STS-118 (Endeavor), ISS-23/24 (Soyuz)</td>\n      <td>Not Applicable</td>\n      <td>Not Applicable</td>\n    </tr>\n    <tr>\n      <th>60</th>\n      <td>Christopher J. Cassidy</td>\n      <td>2004.0</td>\n      <td>19.0</td>\n      <td>Active</td>\n      <td>04-01-1970</td>\n      <td>Salem, MA</td>\n      <td>Male</td>\n      <td>US Naval Academy; MIT</td>\n      <td>Mathematics</td>\n      <td>Ocean Engineering</td>\n      <td>Commander</td>\n      <td>US Navy</td>\n      <td>1</td>\n      <td>4376</td>\n      <td>6</td>\n      <td>31.0</td>\n      <td>STS-127 (Endeavor); ISS-35/36 (Soyuz)</td>\n      <td>Not Applicable</td>\n      <td>Not Applicable</td>\n    </tr>\n    <tr>\n      <th>64</th>\n      <td>Gregory E. Chamitoff</td>\n      <td>1998.0</td>\n      <td>17.0</td>\n      <td>Active</td>\n      <td>06-08-1962</td>\n      <td>Montreal, Canada</td>\n      <td>Male</td>\n      <td>California Polytechnic State University; Calif...</td>\n      <td>Electrical Engineering</td>\n      <td>Aeronautical Engineering; Aeronautics &amp; Astron...</td>\n      <td>Not Applicable</td>\n      <td>Not Applicable</td>\n      <td>2</td>\n      <td>4770</td>\n      <td>2</td>\n      <td>13.0</td>\n      <td>STS-124/126 (Discovery/Endeavor), STS-134 (End...</td>\n      <td>Not Applicable</td>\n      <td>Not Applicable</td>\n    </tr>\n    <tr>\n      <th>75</th>\n      <td>Catherine G. Coleman</td>\n      <td>1992.0</td>\n      <td>14.0</td>\n      <td>Active</td>\n      <td>14-12-1960</td>\n      <td>Charleston, SC</td>\n      <td>Female</td>\n      <td>MIT; University of Massachusetts</td>\n      <td>Chemistry</td>\n      <td>Polymer Science &amp; Engineering</td>\n      <td>Colonel</td>\n      <td>US Air Force (Retired)</td>\n      <td>3</td>\n      <td>4324</td>\n      <td>0</td>\n      <td>0.0</td>\n      <td>STS-73 (Columbia), STS-93 (Columbia), ISS-26/2...</td>\n      <td>Not Applicable</td>\n      <td>Not Applicable</td>\n    </tr>\n    <tr>\n      <th>91</th>\n      <td>Alvin B. Drew Jr.</td>\n      <td>2000.0</td>\n      <td>18.0</td>\n      <td>Active</td>\n      <td>05-11-1962</td>\n      <td>Washington, DC</td>\n      <td>Male</td>\n      <td>US Air Force Academy; Embry-Riddle Aeronautica...</td>\n      <td>Physics &amp; Astronautical Engineering</td>\n      <td>Aerospace Science; Political Science</td>\n      <td>Colonel</td>\n      <td>US Air Force</td>\n      <td>2</td>\n      <td>613</td>\n      <td>2</td>\n      <td>13.0</td>\n      <td>STS-118 (Endeavor), STS-133 (Discovery)</td>\n      <td>Not Applicable</td>\n      <td>Not Applicable</td>\n    </tr>\n    <tr>\n      <th>101</th>\n      <td>Jeanette J. Epps</td>\n      <td>2009.0</td>\n      <td>20.0</td>\n      <td>Active</td>\n      <td>03-11-1970</td>\n      <td>Syracuse, NY</td>\n      <td>Female</td>\n      <td>LeMoyne College; University of Maryland</td>\n      <td>Physics</td>\n      <td>Aerospace Engineering</td>\n      <td>Not Applicable</td>\n      <td>Not Applicable</td>\n      <td>0</td>\n      <td>0</td>\n      <td>0</td>\n      <td>0.0</td>\n      <td>No Missions</td>\n      <td>Not Applicable</td>\n      <td>Not Applicable</td>\n    </tr>\n    <tr>\n      <th>106</th>\n      <td>Andrew J. Feustel</td>\n      <td>2000.0</td>\n      <td>18.0</td>\n      <td>Active</td>\n      <td>25-08-1965</td>\n      <td>Lancaster, PA</td>\n      <td>Male</td>\n      <td>Purdue University; Queen’s University-Canada</td>\n      <td>Solid Earth Sciences</td>\n      <td>Geophysics; Seismology</td>\n      <td>Not Applicable</td>\n      <td>Not Applicable</td>\n      <td>2</td>\n      <td>687</td>\n      <td>6</td>\n      <td>42.0</td>\n      <td>STS-125 (Atlantis), STS-134 (Endeavor)</td>\n      <td>Not Applicable</td>\n      <td>Not Applicable</td>\n    </tr>\n    <tr>\n      <th>107</th>\n      <td>E. Michael Fincke</td>\n      <td>1996.0</td>\n      <td>16.0</td>\n      <td>Active</td>\n      <td>14-03-1967</td>\n      <td>Pittsburgh, PA</td>\n      <td>Male</td>\n      <td>MIT; Stanford University; University of Housto...</td>\n      <td>Aeronautics &amp; Astronautics; Earth, Atmospheric...</td>\n      <td>Aeronautics &amp; Astronautics; Physical Sciences</td>\n      <td>Colonel</td>\n      <td>US Air Force</td>\n      <td>3</td>\n      <td>9159</td>\n      <td>9</td>\n      <td>48.0</td>\n      <td>ISS-09 (Soyuz), ISS-18 (Soyuz), STS-134 (Endea...</td>\n      <td>Not Applicable</td>\n      <td>Not Applicable</td>\n    </tr>\n    <tr>\n      <th>108</th>\n      <td>Jack D. Fischer</td>\n      <td>2009.0</td>\n      <td>20.0</td>\n      <td>Active</td>\n      <td>23-01-1974</td>\n      <td>Louisville, CO</td>\n      <td>Male</td>\n      <td>US Air Force Academy; MIT</td>\n      <td>Astronautical Engineering</td>\n      <td>Aeronautics &amp; Astronautics</td>\n      <td>Not Applicable</td>\n      <td>Not Applicable</td>\n      <td>0</td>\n      <td>0</td>\n      <td>0</td>\n      <td>0.0</td>\n      <td>No Missions</td>\n      <td>Not Applicable</td>\n      <td>Not Applicable</td>\n    </tr>\n    <tr>\n      <th>111</th>\n      <td>C. Michael Foale</td>\n      <td>1987.0</td>\n      <td>12.0</td>\n      <td>Active</td>\n      <td>06-01-1957</td>\n      <td>Louth, England</td>\n      <td>Male</td>\n      <td>Cambridge University</td>\n      <td>Physics</td>\n      <td>Laboratory Astrophysics</td>\n      <td>Not Applicable</td>\n      <td>Not Applicable</td>\n      <td>6</td>\n      <td>8970</td>\n      <td>4</td>\n      <td>22.0</td>\n      <td>STS-45 (Atlantis), STS-56 (Discovery), STS-63 ...</td>\n      <td>Not Applicable</td>\n      <td>Not Applicable</td>\n    </tr>\n    <tr>\n      <th>112</th>\n      <td>Kevin A. Ford</td>\n      <td>2000.0</td>\n      <td>18.0</td>\n      <td>Active</td>\n      <td>07-07-1960</td>\n      <td>Portland, IN</td>\n      <td>Male</td>\n      <td>University of Notre Dame; Troy State Universit...</td>\n      <td>Aerospace Engineering</td>\n      <td>International Relations; Aerospace Engineering...</td>\n      <td>Colonel</td>\n      <td>US Air Force (Retired)</td>\n      <td>2</td>\n      <td>3781</td>\n      <td>0</td>\n      <td>0.0</td>\n      <td>STS-128 (Discovery), ISS-33/34 (Soyuz)</td>\n      <td>Not Applicable</td>\n      <td>Not Applicable</td>\n    </tr>\n    <tr>\n      <th>115</th>\n      <td>Michael E. Fossum</td>\n      <td>1998.0</td>\n      <td>17.0</td>\n      <td>Active</td>\n      <td>19-12-1957</td>\n      <td>Sioux Falls, SD</td>\n      <td>Male</td>\n      <td>Texas A&amp;M University; Air Force Institute of T...</td>\n      <td>Mechanical Engineering</td>\n      <td>Systems Engineering; Physical Science (Space S...</td>\n      <td>Not Applicable</td>\n      <td>US Air Force Reserves (Retired)</td>\n      <td>3</td>\n      <td>4651</td>\n      <td>7</td>\n      <td>48.0</td>\n      <td>STS-121 (Discovery), STS-124 (Discovery), ISS-...</td>\n      <td>Not Applicable</td>\n      <td>Not Applicable</td>\n    </tr>\n    <tr>\n      <th>166</th>\n      <td>Michael S. Hopkins</td>\n      <td>2009.0</td>\n      <td>20.0</td>\n      <td>Active</td>\n      <td>28-12-1968</td>\n      <td>Lebanon, MO</td>\n      <td>Male</td>\n      <td>University of Illinois; Stanford University</td>\n      <td>Aerospace Engineering</td>\n      <td>Aerospace Engineering</td>\n      <td>Colonel</td>\n      <td>US Air Force</td>\n      <td>1</td>\n      <td>3990</td>\n      <td>2</td>\n      <td>13.0</td>\n      <td>ISS-37/38 (Soyuz)</td>\n      <td>Not Applicable</td>\n      <td>Not Applicable</td>\n    </tr>\n    <tr>\n      <th>169</th>\n      <td>Douglas G. Hurley</td>\n      <td>2000.0</td>\n      <td>18.0</td>\n      <td>Active</td>\n      <td>21-10-1966</td>\n      <td>Endicott, NY</td>\n      <td>Male</td>\n      <td>Tulane University</td>\n      <td>Civil Engineering</td>\n      <td>Aeronautical Engineering</td>\n      <td>Colonel</td>\n      <td>US Marine Corps</td>\n      <td>2</td>\n      <td>683</td>\n      <td>0</td>\n      <td>0.0</td>\n      <td>STS-127 (Endeavor), STS-135 (Atlantis)</td>\n      <td>Not Applicable</td>\n      <td>Not Applicable</td>\n    </tr>\n    <tr>\n      <th>178</th>\n      <td>Gregory H. Johnson</td>\n      <td>1998.0</td>\n      <td>17.0</td>\n      <td>Active</td>\n      <td>12-05-1962</td>\n      <td>London, England</td>\n      <td>Male</td>\n      <td>US Air Force Academy; Columbia University; Uni...</td>\n      <td>Aeronautical Engineering</td>\n      <td>Flight Structures Engineering; Business Admini...</td>\n      <td>Colonel</td>\n      <td>US Air Force (Retired)</td>\n      <td>2</td>\n      <td>755</td>\n      <td>0</td>\n      <td>0.0</td>\n      <td>STS-123 (Endeavor), STS-134 (Endeavor)</td>\n      <td>Not Applicable</td>\n      <td>Not Applicable</td>\n    </tr>\n    <tr>\n      <th>183</th>\n      <td>Scott J. Kelly</td>\n      <td>1996.0</td>\n      <td>16.0</td>\n      <td>Active</td>\n      <td>21-02-1964</td>\n      <td>Orange, NJ</td>\n      <td>Male</td>\n      <td>State University of New York Maritime College;...</td>\n      <td>Electrical Engineering</td>\n      <td>Aviation Systems</td>\n      <td>Captain</td>\n      <td>US Navy (Retired)</td>\n      <td>4</td>\n      <td>12490</td>\n      <td>3</td>\n      <td>18.0</td>\n      <td>STS-103 (Discovery), STS-118 (Endeavor), ISS-2...</td>\n      <td>Not Applicable</td>\n      <td>Not Applicable</td>\n    </tr>\n    <tr>\n      <th>186</th>\n      <td>Robert Shane Kimbrough</td>\n      <td>2004.0</td>\n      <td>19.0</td>\n      <td>Active</td>\n      <td>04-06-1967</td>\n      <td>Killeen, TX</td>\n      <td>Male</td>\n      <td>US Military Academy; Georgia Institute of Tech...</td>\n      <td>Aerospace Engineering</td>\n      <td>Operations Research</td>\n      <td>Colonel</td>\n      <td>US Army</td>\n      <td>3</td>\n      <td>3720</td>\n      <td>4</td>\n      <td>25.0</td>\n      <td>STS-126 (Endeavor), ISS-49/50 (Soyuz)</td>\n      <td>Not Applicable</td>\n      <td>Not Applicable</td>\n    </tr>\n    <tr>\n      <th>187</th>\n      <td>Timothy L. Kopra</td>\n      <td>2000.0</td>\n      <td>18.0</td>\n      <td>Active</td>\n      <td>09-04-1963</td>\n      <td>Austin, TX</td>\n      <td>Male</td>\n      <td>US Military Academy; Georgia Institute of Tech...</td>\n      <td>Computer Science</td>\n      <td>Aerospace Engineering; Strategic Studies</td>\n      <td>Colonel</td>\n      <td>US Army (Retired)</td>\n      <td>2</td>\n      <td>5857</td>\n      <td>3</td>\n      <td>13.0</td>\n      <td>STS-127/128 (Endeavor/Discovery), ISS-46/47 (S...</td>\n      <td>Not Applicable</td>\n      <td>Not Applicable</td>\n    </tr>\n    <tr>\n      <th>196</th>\n      <td>Kjell N. Lindgren</td>\n      <td>2009.0</td>\n      <td>20.0</td>\n      <td>Active</td>\n      <td>23-01-1973</td>\n      <td>Taipei, Taiwan</td>\n      <td>Male</td>\n      <td>US Air Force Academy; University of Colorado; ...</td>\n      <td>Biology</td>\n      <td>Medicine; Cardiovascular Physiology; Health In...</td>\n      <td>Not Applicable</td>\n      <td>Not Applicable</td>\n      <td>1</td>\n      <td>3400</td>\n      <td>2</td>\n      <td>15.0</td>\n      <td>ISS-44/45 (Soyuz)</td>\n      <td>Not Applicable</td>\n      <td>Not Applicable</td>\n    </tr>\n    <tr>\n      <th>213</th>\n      <td>Thomas H. Marshburn</td>\n      <td>2004.0</td>\n      <td>19.0</td>\n      <td>Active</td>\n      <td>29-08-1960</td>\n      <td>Statesville, NC</td>\n      <td>Male</td>\n      <td>Davidson College; University of Virginia; Wake...</td>\n      <td>Physics</td>\n      <td>Engineering Physics; Medicine; Medical Science</td>\n      <td>Not Applicable</td>\n      <td>Not Applicable</td>\n      <td>2</td>\n      <td>3871</td>\n      <td>4</td>\n      <td>24.0</td>\n      <td>STS-127 (Endeavor), ISS-34/35 (Soyuz)</td>\n      <td>Not Applicable</td>\n      <td>Not Applicable</td>\n    </tr>\n    <tr>\n      <th>215</th>\n      <td>Richard A. Mastracchio</td>\n      <td>1996.0</td>\n      <td>16.0</td>\n      <td>Active</td>\n      <td>11-02-1960</td>\n      <td>Waterbury, CT</td>\n      <td>Male</td>\n      <td>University of Connecticut; Rensselaer Polytech...</td>\n      <td>Electrical Engineering; Computer Science</td>\n      <td>Electrical Engineering; Physical Sciences</td>\n      <td>Not Applicable</td>\n      <td>Not Applicable</td>\n      <td>4</td>\n      <td>5461</td>\n      <td>9</td>\n      <td>53.0</td>\n      <td>STS-106 (Atlantis), STS-118 (Endeavor), STS-13...</td>\n      <td>Not Applicable</td>\n      <td>Not Applicable</td>\n    </tr>\n    <tr>\n      <th>217</th>\n      <td>K. Megan McArthur</td>\n      <td>2000.0</td>\n      <td>18.0</td>\n      <td>Active</td>\n      <td>30-08-1971</td>\n      <td>Honolulu, HI</td>\n      <td>Female</td>\n      <td>University of California-Los Angeles; Universi...</td>\n      <td>Aerospace Engineering</td>\n      <td>Oceanography</td>\n      <td>Not Applicable</td>\n      <td>Not Applicable</td>\n      <td>1</td>\n      <td>309</td>\n      <td>0</td>\n      <td>0.0</td>\n      <td>STS-125 (Atlantis)</td>\n      <td>Not Applicable</td>\n      <td>Not Applicable</td>\n    </tr>\n    <tr>\n      <th>231</th>\n      <td>Dorothy M. Metcalf-Lindenberger</td>\n      <td>2004.0</td>\n      <td>19.0</td>\n      <td>Active</td>\n      <td>02-05-1975</td>\n      <td>Colorado Springs, CO</td>\n      <td>Female</td>\n      <td>Whitman College</td>\n      <td>Geology</td>\n      <td>Aeronautical Engineering</td>\n      <td>Not Applicable</td>\n      <td>Not Applicable</td>\n      <td>1</td>\n      <td>362</td>\n      <td>0</td>\n      <td>0.0</td>\n      <td>STS-131 (Discovery)</td>\n      <td>Not Applicable</td>\n      <td>Not Applicable</td>\n    </tr>\n    <tr>\n      <th>244</th>\n      <td>Karen L. Nyberg</td>\n      <td>2000.0</td>\n      <td>18.0</td>\n      <td>Active</td>\n      <td>07-10-1969</td>\n      <td>Parker’s Prairie, MN</td>\n      <td>Female</td>\n      <td>University of North Dakota; University of Texas</td>\n      <td>Mechanical Engineering</td>\n      <td>Mechanical Engineering</td>\n      <td>Not Applicable</td>\n      <td>Not Applicable</td>\n      <td>2</td>\n      <td>4320</td>\n      <td>0</td>\n      <td>0.0</td>\n      <td>STS-124 (Discovery), ISS-36/37 (Soyuz)</td>\n      <td>Not Applicable</td>\n      <td>Not Applicable</td>\n    </tr>\n    <tr>\n      <th>261</th>\n      <td>Donald R. Pettit</td>\n      <td>1996.0</td>\n      <td>16.0</td>\n      <td>Active</td>\n      <td>20-04-1955</td>\n      <td>Silverton, OR</td>\n      <td>Male</td>\n      <td>Oregon State University; University of Arizona</td>\n      <td>Chemical Engineering</td>\n      <td>Chemical Engineering</td>\n      <td>Not Applicable</td>\n      <td>Not Applicable</td>\n      <td>3</td>\n      <td>8872</td>\n      <td>2</td>\n      <td>13.0</td>\n      <td>ISS-6 (Soyuz), STS-126 (Endeavor), ISS-30/31 (...</td>\n      <td>Not Applicable</td>\n      <td>Not Applicable</td>\n    </tr>\n    <tr>\n      <th>280</th>\n      <td>Kathleen Rubins</td>\n      <td>2009.0</td>\n      <td>20.0</td>\n      <td>Active</td>\n      <td>14-10-1978</td>\n      <td>Farmington, CT</td>\n      <td>Female</td>\n      <td>University of California-San Diego; Stanford U...</td>\n      <td>Molecular Biology</td>\n      <td>Cancer Biology</td>\n      <td>Not Applicable</td>\n      <td>Not Applicable</td>\n      <td>1</td>\n      <td>2762</td>\n      <td>2</td>\n      <td>13.0</td>\n      <td>ISS-48/49 (Soyuz)</td>\n      <td>Not Applicable</td>\n      <td>Not Applicable</td>\n    </tr>\n    <tr>\n      <th>308</th>\n      <td>Nicole P. Stott</td>\n      <td>2000.0</td>\n      <td>18.0</td>\n      <td>Active</td>\n      <td>19-11-1962</td>\n      <td>Albany, NY</td>\n      <td>Female</td>\n      <td>Embry-Riddle Aeronautical University; Universi...</td>\n      <td>Aeronautical Engineering</td>\n      <td>Engineering Management</td>\n      <td>Not Applicable</td>\n      <td>Not Applicable</td>\n      <td>2</td>\n      <td>2477</td>\n      <td>1</td>\n      <td>6.0</td>\n      <td>STS-128/129 (Discovery/Atlantis), STS-133 (Dis...</td>\n      <td>Not Applicable</td>\n      <td>Not Applicable</td>\n    </tr>\n    <tr>\n      <th>311</th>\n      <td>Steven R. Swanson</td>\n      <td>1998.0</td>\n      <td>17.0</td>\n      <td>Active</td>\n      <td>03-12-1960</td>\n      <td>Syracuse, NY</td>\n      <td>Male</td>\n      <td>University of Colorado; Florida Atlantic Unive...</td>\n      <td>Engineering Physics</td>\n      <td>Computer Systems; Computer Science</td>\n      <td>Not Applicable</td>\n      <td>Not Applicable</td>\n      <td>3</td>\n      <td>4700</td>\n      <td>5</td>\n      <td>28.0</td>\n      <td>STS-117 (Atlantis), STS-119 (Discovery), ISS-3...</td>\n      <td>Not Applicable</td>\n      <td>Not Applicable</td>\n    </tr>\n    <tr>\n      <th>322</th>\n      <td>Scott D. Tingle</td>\n      <td>2009.0</td>\n      <td>20.0</td>\n      <td>Active</td>\n      <td>19-07-1965</td>\n      <td>Attleboro, MA</td>\n      <td>Male</td>\n      <td>Southeastern Massachusetts University; Purdue ...</td>\n      <td>Mechanical Engineering</td>\n      <td>Mechanical Engineering</td>\n      <td>Commander</td>\n      <td>US Navy</td>\n      <td>0</td>\n      <td>0</td>\n      <td>0</td>\n      <td>0.0</td>\n      <td>No Missions</td>\n      <td>Not Applicable</td>\n      <td>Not Applicable</td>\n    </tr>\n    <tr>\n      <th>326</th>\n      <td>Mark T. Vande Hei</td>\n      <td>2009.0</td>\n      <td>20.0</td>\n      <td>Active</td>\n      <td>10-11-1966</td>\n      <td>Falls Church, VA</td>\n      <td>Male</td>\n      <td>Saint John’s University; Stanford University</td>\n      <td>Physics</td>\n      <td>Applied Physics</td>\n      <td>Colonel</td>\n      <td>US Army</td>\n      <td>0</td>\n      <td>0</td>\n      <td>0</td>\n      <td>0.0</td>\n      <td>No Missions</td>\n      <td>Not Applicable</td>\n      <td>Not Applicable</td>\n    </tr>\n    <tr>\n      <th>328</th>\n      <td>Terry W. Virts Jr.</td>\n      <td>2000.0</td>\n      <td>18.0</td>\n      <td>Active</td>\n      <td>01-12-1967</td>\n      <td>Baltimore, MD</td>\n      <td>Male</td>\n      <td>US Air Force Academy; Embry-Riddle Aeronautica...</td>\n      <td>Mathematics</td>\n      <td>Aeronautics</td>\n      <td>Colonel</td>\n      <td>US Air Force</td>\n      <td>2</td>\n      <td>5122</td>\n      <td>3</td>\n      <td>18.0</td>\n      <td>STS-130 (Endeavor), ISS-42/43 (Soyuz)</td>\n      <td>Not Applicable</td>\n      <td>Not Applicable</td>\n    </tr>\n    <tr>\n      <th>331</th>\n      <td>Rex J. Walheim</td>\n      <td>1996.0</td>\n      <td>16.0</td>\n      <td>Active</td>\n      <td>10-10-1962</td>\n      <td>Redwood, CA</td>\n      <td>Male</td>\n      <td>University of California-Berkeley; University ...</td>\n      <td>Mechanical Engineering</td>\n      <td>Industrial Engineering</td>\n      <td>Colonel</td>\n      <td>US Air Force (Retired)</td>\n      <td>3</td>\n      <td>872</td>\n      <td>5</td>\n      <td>36.0</td>\n      <td>STS-110 (Atlantis), STS-122 (Atlantis), STS-13...</td>\n      <td>Not Applicable</td>\n      <td>Not Applicable</td>\n    </tr>\n    <tr>\n      <th>334</th>\n      <td>Shannon Walker</td>\n      <td>2004.0</td>\n      <td>19.0</td>\n      <td>Active</td>\n      <td>04-06-1965</td>\n      <td>Houston, TX</td>\n      <td>Female</td>\n      <td>Rice University</td>\n      <td>Space Physics</td>\n      <td>Space Physics</td>\n      <td>Not Applicable</td>\n      <td>Not Applicable</td>\n      <td>1</td>\n      <td>3919</td>\n      <td>0</td>\n      <td>0.0</td>\n      <td>ISS-24/25 (Soyuz)</td>\n      <td>Not Applicable</td>\n      <td>Not Applicable</td>\n    </tr>\n    <tr>\n      <th>340</th>\n      <td>Douglas H. Wheelock</td>\n      <td>1998.0</td>\n      <td>17.0</td>\n      <td>Active</td>\n      <td>05-05-1960</td>\n      <td>Binghamton, NY</td>\n      <td>Male</td>\n      <td>US Military Academy; Georgia Institute of Tech...</td>\n      <td>Applied Science &amp; Engineering</td>\n      <td>Aerospace Engineering</td>\n      <td>Colonel</td>\n      <td>US Army</td>\n      <td>2</td>\n      <td>4281</td>\n      <td>6</td>\n      <td>43.0</td>\n      <td>STS-120 (Discovery), ISS-24/25 (Soyuz)</td>\n      <td>Not Applicable</td>\n      <td>Not Applicable</td>\n    </tr>\n    <tr>\n      <th>342</th>\n      <td>Peggy A. Whitson</td>\n      <td>1996.0</td>\n      <td>16.0</td>\n      <td>Active</td>\n      <td>09-02-1960</td>\n      <td>Mt. Ayr, IA</td>\n      <td>Female</td>\n      <td>Iowa Wesleyan College; Rice University</td>\n      <td>Chemistry &amp; Biology</td>\n      <td>Biochemistry</td>\n      <td>Not Applicable</td>\n      <td>Not Applicable</td>\n      <td>3</td>\n      <td>11698</td>\n      <td>7</td>\n      <td>46.0</td>\n      <td>STS-111/113 (Endeavor), ISS-16 (Soyuz), ISS-50...</td>\n      <td>Not Applicable</td>\n      <td>Not Applicable</td>\n    </tr>\n    <tr>\n      <th>346</th>\n      <td>Jeffrey N. Williams</td>\n      <td>1996.0</td>\n      <td>16.0</td>\n      <td>Active</td>\n      <td>18-01-1958</td>\n      <td>Superior, WI</td>\n      <td>Male</td>\n      <td>US Military Academy; US Naval Postgraduate Sch...</td>\n      <td>Applied Science &amp; Engineering</td>\n      <td>Aeronautical Engineering; National Security &amp; ...</td>\n      <td>Colonel</td>\n      <td>US Army (Retired)</td>\n      <td>4</td>\n      <td>12818</td>\n      <td>5</td>\n      <td>32.0</td>\n      <td>STS-101 (Atlantis), ISS-13 (Soyuz), ISS-21/22 ...</td>\n      <td>Not Applicable</td>\n      <td>Not Applicable</td>\n    </tr>\n    <tr>\n      <th>347</th>\n      <td>Sunita L. Williams</td>\n      <td>1998.0</td>\n      <td>17.0</td>\n      <td>Active</td>\n      <td>19-09-1965</td>\n      <td>Euclid, OH</td>\n      <td>Female</td>\n      <td>US Naval Academy; Florida Institute of Technology</td>\n      <td>Physical Science</td>\n      <td>Engineering Management</td>\n      <td>Captain</td>\n      <td>US Navy</td>\n      <td>2</td>\n      <td>7721</td>\n      <td>7</td>\n      <td>50.0</td>\n      <td>STS-116/117 (Discovery/Atlantis), ISS-32/33 (S...</td>\n      <td>Not Applicable</td>\n      <td>Not Applicable</td>\n    </tr>\n    <tr>\n      <th>348</th>\n      <td>Barry E. Wilmore</td>\n      <td>2000.0</td>\n      <td>18.0</td>\n      <td>Active</td>\n      <td>29-12-1962</td>\n      <td>Murfreesboro, TN</td>\n      <td>Male</td>\n      <td>Tennessee Technological University; University...</td>\n      <td>Electrical Engineering</td>\n      <td>Electrical Engineering; Aviation Systems</td>\n      <td>Captain</td>\n      <td>US Navy</td>\n      <td>2</td>\n      <td>4272</td>\n      <td>4</td>\n      <td>25.0</td>\n      <td>STS-129 (Atlantis), ISS-41/42 (Soyuz)</td>\n      <td>Not Applicable</td>\n      <td>Not Applicable</td>\n    </tr>\n    <tr>\n      <th>349</th>\n      <td>Stephanie D. Wilson</td>\n      <td>1996.0</td>\n      <td>16.0</td>\n      <td>Active</td>\n      <td>27-09-1966</td>\n      <td>Boston, MA</td>\n      <td>Female</td>\n      <td>Harvard University; University of Texas</td>\n      <td>Engineering Science</td>\n      <td>Aerospace Engineering</td>\n      <td>Not Applicable</td>\n      <td>Not Applicable</td>\n      <td>3</td>\n      <td>1031</td>\n      <td>0</td>\n      <td>0.0</td>\n      <td>STS-121 (Discovery), STS-120 (Discovery), STS-...</td>\n      <td>Not Applicable</td>\n      <td>Not Applicable</td>\n    </tr>\n    <tr>\n      <th>350</th>\n      <td>G. Reid Wiseman</td>\n      <td>2009.0</td>\n      <td>20.0</td>\n      <td>Active</td>\n      <td>11-11-1975</td>\n      <td>Baltimore, MD</td>\n      <td>Male</td>\n      <td>Rensselaer Polytechnic Institute; Johns Hopkin...</td>\n      <td>Computer &amp; Systems Engineering</td>\n      <td>Systems Engineering</td>\n      <td>Commander</td>\n      <td>US Navy</td>\n      <td>1</td>\n      <td>3968</td>\n      <td>2</td>\n      <td>13.0</td>\n      <td>ISS-40/41 (Soyuz)</td>\n      <td>Not Applicable</td>\n      <td>Not Applicable</td>\n    </tr>\n  </tbody>\n</table>\n</div>"
     },
     "execution_count": 77,
     "metadata": {},
     "output_type": "execute_result"
    }
   ],
   "source": [
    "astronautas_activos = astronautas[(astronautas[\"Status\"] == \"Active\")]\n",
    "astronautas_activos"
   ],
   "metadata": {
    "collapsed": false,
    "pycharm": {
     "name": "#%%\n"
    }
   }
  },
  {
   "cell_type": "code",
   "execution_count": 78,
   "outputs": [
    {
     "data": {
      "text/plain": "50"
     },
     "execution_count": 78,
     "metadata": {},
     "output_type": "execute_result"
    }
   ],
   "source": [
    "len(astronautas_activos)"
   ],
   "metadata": {
    "collapsed": false,
    "pycharm": {
     "name": "#%%\n"
    }
   }
  },
  {
   "cell_type": "markdown",
   "source": [
    "De los 357 astronautas del dataset, tan solo quedan en ejercicio 50"
   ],
   "metadata": {
    "collapsed": false
   }
  },
  {
   "cell_type": "code",
   "execution_count": 79,
   "outputs": [
    {
     "name": "stdout",
     "output_type": "stream",
     "text": [
      "Gender      Female  Male  All\n",
      "Status                       \n",
      "Active          13    37   50\n",
      "Deceased         7    44   51\n",
      "Management       6    30   36\n",
      "Retired         24   196  220\n",
      "All             50   307  357\n"
     ]
    },
    {
     "data": {
      "text/plain": "<Figure size 432x288 with 1 Axes>",
      "image/png": "[encoded data removed]"
     },
     "metadata": {
      "needs_background": "light"
     },
     "output_type": "display_data"
    }
   ],
   "source": [
    "d=pd.crosstab(astronautas['Status'],astronautas['Gender'],margins=True)\n",
    "print(d)\n",
    "width = 0.35\n",
    "i=np.arange(len(d)-1)\n",
    "m=d['Male'][:len(d)-1]\n",
    "f=d['Female'][:len(d)-1]\n",
    "plt.bar(i,m, width, label='Hombres')\n",
    "plt.bar(i+width,f, width, label='Mujeres')\n",
    "plt.ylabel('cantidad de astronautas')\n",
    "plt.title('Comparacion de genero')\n",
    "plt.xticks(i+ width / 2, ('Active', 'Deceased', 'Management','Retired'))\n",
    "plt.legend(loc='best')\n",
    "plt.show()"
   ],
   "metadata": {
    "collapsed": false,
    "pycharm": {
     "name": "#%%\n"
    }
   }
  },
  {
   "cell_type": "markdown",
   "source": [
    "Podemos ver que en la actualidad hay un poco mas de paridad en cuanto a genero y ya no esta presente esa diferencia tan amplia a favor del genero masculino. Otra cosa que podemos observar es que la mayoria de astronautas estan retirados."
   ],
   "metadata": {
    "collapsed": false
   }
  },
  {
   "cell_type": "markdown",
   "source": [
    "### ¿Cuantos astronautas realizaron misiones en cada año?"
   ],
   "metadata": {
    "collapsed": false
   }
  },
  {
   "cell_type": "markdown",
   "source": [
    "Aca podemos ver cuantos astronautas realizaron misiones en cada año, destacandose el año 1985 por sobre el resto"
   ],
   "metadata": {
    "collapsed": false
   }
  },
  {
   "cell_type": "code",
   "execution_count": 80,
   "outputs": [
    {
     "data": {
      "text/plain": "Year\n1959.0     7\n1962.0     8\n1963.0    14\n1965.0     6\n1966.0    19\n1967.0    11\n1969.0     7\n1978.0    35\n1980.0    19\n1984.0    18\n1985.0    40\n1987.0    15\n1990.0    23\n1992.0    19\n1995.0    19\n1996.0    35\n1998.0    25\n2000.0    17\n2004.0    11\n2009.0     9\nName: Name, dtype: int64"
     },
     "execution_count": 80,
     "metadata": {},
     "output_type": "execute_result"
    }
   ],
   "source": [
    "astronautas.groupby(\"Year\").Name.agg(\"nunique\")"
   ],
   "metadata": {
    "collapsed": false,
    "pycharm": {
     "name": "#%%\n"
    }
   }
  },
  {
   "cell_type": "markdown",
   "source": [
    "Estas fueron todas las misiones que se realizaron desde 1959 hasta el día de hoy."
   ],
   "metadata": {
    "collapsed": false
   }
  },
  {
   "cell_type": "code",
   "execution_count": 81,
   "outputs": [
    {
     "data": {
      "text/plain": "array(['STS-119 (Discovery), ISS-31/32 (Soyuz)', 'STS 51-F (Challenger)',\n       'STS-28 (Columbia), STS-43 (Atlantis)',\n       'STS-41 (Discovery), STS-49 (Endeavor), STS-61 (Endeavor), STS-79 (Atlantis)',\n       'Gemini 12, Apollo 11',\n       'STS-46 (Atlantis), STS-62 (Columbia), STS-75 (Columbia)',\n       'ST-5 (Columbia), STS 51-A (Discovery)',\n       'STS-90 (Columbia), STS-106 (Atlantis), STS-109 (Columbia), STS-125 (Atlantis)',\n       'Apollo 8',\n       'STS-117/120 (Atlantis/Discovery), STS-131 (Discovery)',\n       'STS-89 (Endeavor), STS-107 (Columbia)',\n       'STS-119 (Discovery), STS-132 (Atlantis)',\n       'STS-37 (Atlantis), STS-47 (Endeavor), STS-59 (Endeavor), STS-79 (Atlantis)',\n       'STS-117 (Atlantis), STS-119 (Discovery)', 'Gemini 8, Apollo 11',\n       'STS-119 (Discovery)',\n       'STS-93 (Columbia), STS-100 (Endeavor), STS-112 (Atlantis)',\n       'No Missions', 'STS-29 (Discovery), STS-40 (Columbia)',\n       'STS-34 (Atlantis), STS-50 (Columbia), STS-71 (Atlantis)',\n       'STS-43 (Atlantis), STS-52 (Columbia), STS-68 (Endeavor), STS-81 (Atlantis)',\n       'ISS-19/20 (Soyuz), STS-133 (Discovery)',\n       'STS-72 (Endeavor), STS-96 (Discovery), STS-105 (Discovery)',\n       'Apollo 12, Skylab 3', 'STS-123 (Endeavor), STS-130 (Endeavor)',\n       'STS-29 (Discovery), STS-33 (Discovery), STS-43 (Atlantis), STS-58 (Columbia), STS-79/81 (Atlantis/Atlantis)',\n       'STS-86 (Atlantis), STS-97 (Endeavor), STS-110 (Atlantis)',\n       'STS-8 (Challenger), STS 61-A (Challenger), STS-39 (Discovery), STS-53 (Discovery)',\n       'STS-6 (Challenger), STS 51-D (Discovery), STS-51-J (Atlantis)',\n       'STS-126 (Endeavor), STS-133 (Discovery)',\n       'STS-61C (Columbia), STS-31 (Discovery), STS-45 (Atlantis), STS-60 (Discovery)',\n       'Gemini 7, Apollo 8',\n       'STS-126 (Endeavor), STS-132 (Atlantis), STS-133 (Discovery)',\n       'STS-50 (Columbia), STS-61 (Endeavor), STS-73 (Columbia), STS-82 (Discovery), STS-113 (Endeavor/Soyuz)',\n       'STS-78 (Columbia)',\n       'Apollo-Soyuz Test Project, STS-5 (Columbia), STS 41-B (Challenger), STS-35 (Columbia)',\n       'STS-8 (Challenger), STS 51-G (Discovery), STS-32 (Columbia), STS-49 (Endeavor)',\n       'STS-129 (Atlantis)',\n       'STS-47 (Endeavor), STS-66 (Atlantis), STS-77 (Endeavor), STS-85 (Discovery), STS-95 (Discovery), STS-103 (Discovery)',\n       'STS-107 (Columbia)', 'STS 28 (Columbia), STS-48 (Discovery)',\n       'STS 51-C (Discovery), STS 61-A (Challenger), STS-29 (Discovery), STS-48 (Discovery',\n       'STS-90 (Columbia)',\n       'STS-106 (Atlantis), STS-115 (Atlantis), ISS-29/30 (Soyuz)',\n       'STS-51 (Discovery), STS-68 (Endeavor), STS-77 (Endeavor), STS-108/111 (Endeavor)',\n       'STS-41 (Discovery), STS-53 (Discovery), STS-65 (Columbia), STS-88 (Endeavor)',\n       'STS-118 (Endeavor), ISS-23/24 (Soyuz)', 'STS-114 (Discovery)',\n       'STS-37 (Atlantis), STS-56 (Discovery), STS-74 (Atlantis)',\n       'STS-109 (Columbia)', 'Mercury 7', 'Skylab 4',\n       'STS-33 (Discovery)',\n       'STS-36 (Atlantis), STS-54 (Endeavor), STS-62 (Columbia), STS-77 (Endeavor)',\n       'STS-127 (Endeavor); ISS-35/36 (Soyuz)', 'STS 61-C (Columbia)',\n       'Gemini 9, Apollo 10, Apollo 17', 'Apollo 1',\n       'STS-124/126 (Discovery/Endeavor), STS-134 (Endeavor)',\n       'STS 61-C (Columbia), STS-34 (Atlantis), STS-46 (Atlantis), STS-60 (Discovery), STS-75 (Columbia), STS-91 (Discovery), STS-111 (Endeavor)',\n       'STS-87 (Columbia), STS-107 (Columbia)',\n       'STS-65 (Columbia), STS-72 (Endeavor), STS-92 (Discovery), ISS-10 (Soyuz)',\n       'STS-49 (Endeavor), STS-59 (Endeavor), STS-76 (Atlantis)',\n       'STS 61-B (Atlantis), STS-30 (Atlantis)',\n       'STS-53 (Discovery), STS-59 (Endeavor), STS-76 (Atlantis)',\n       'STS 41-D (Discovery), STS-29 (Discovery), STS-39 (Discovery)',\n       'STS-56 (Discovery), STS-69 (Endeavor), STS-80 (Columbia), STS-98 (Atlantis), STS-111 (Endeavor)',\n       'STS-73 (Columbia), STS-93 (Columbia), ISS-26/27 (Soyuz)',\n       'STS-63 (Discovery), STS-84 (Atlantis), STS-114 (Columbia), STS-93 (Discovery)',\n       'Gemini 10, Apollo 11', 'Gemini 5, Gemini 11, Apollo 12, Skylab 2',\n       'Mercury 9, Gemini 5',\n       'STS 51-l (Discovery), STS-26 (Discovery), STS-38 (Atlantis), STS-61 (Endeavor)',\n       'ISS-22/23 (Soyuz)',\n       'STS 51-G (Discovery), STS-36 (Atlantis), STS-48 (Discovery)',\n       'STS-1 (Columbia), STS-7 (Challenger), STS 41-C (Challenger), STS 41-G (Challenger)',\n       'STS-83 (Columbia), STS-94 (Columbia)',\n       'STS-38 (Atlantis), STS-51 (Discovery), STS-105/108 (Discovery/Endeavor)',\n       'Apollo 7',\n       'STS-85 (Discovery), STS-98 (Atlantis), STS-116 (Discovery)',\n       'STS-57 (Endeavor), STS-70 (Discovery), STS-88 (Endeavor), STS-109 (Columbia)',\n       'STS-47 (Endeavor), STS-60 (Discovery), STS-85 (Discovery)',\n       'STS-50 (Columbia)', 'STS-118 (Endeavor), STS-133 (Discovery)',\n       'STS-45 (Atlantis), STS-57 (Endeavor), STS-72 (Endeavor), STS-92 (Discovery)',\n       'Apollo 16',\n       'STS 61-A (Challenger), STS-32 (Columbia), STS-50 (Columbia), STS-71 (Atlantis), STS-89 (Endeavor)',\n       'STS-35 (Columbia), STS-67 (Endeavor)', 'STS-131 (Discovery)',\n       'STS-89 (Endeavor)', 'STS-2 (Columbia), STS 51-I (Discovery)',\n       'Apollo 17', 'STS-7 (Challenger), STS 51-G (Discovery)',\n       'STS-115 (Atlantis), STS-126 (Endeavor), STS-135 (Atlantis)',\n       'STS-58 (Columbia)', 'STS-125 (Atlantis), STS-134 (Endeavor)',\n       'ISS-09 (Soyuz), ISS-18 (Soyuz), STS-134 (Endeavor)',\n       'STS 51-A (Discovery)', 'STS 51-I (Discovery)',\n       'STS-45 (Atlantis), STS-56 (Discovery), STS-63 (Discovery), STS-84/86 (Atlantis), STS-103 (Discovery), ISS-08 (Soyuz)',\n       'STS-128 (Discovery), ISS-33/34 (Soyuz)',\n       'STS-123 (Endeavor), STS-129 (Atlantis)',\n       'STS-105 (Discovery), STS-117 (Atlantis), STS-128 (Discovery)',\n       'STS-121 (Discovery), STS-124 (Discovery), ISS-28/29 (Soyuz)',\n       'STS-110 (Atlantis), STS-122 (Atlantis)',\n       'STS-3 (Columbia), STS 51-F (Challenger)', 'STS-40 (Columbia)',\n       'STS-124 (Discovery), ISS-27/28 (Soyuz)',\n       'STS-8 (Challenger), STS 51-A (Discovery)',\n       'STS-27 (Atlantis), STS-35 (Columbia)', 'STS 51-D (Discovery)',\n       'Skylab 3, STS-9 (Columbia)',\n       'STS-38 (Atlantis), STS-48 (Discovery), STS-62 (Columbia)',\n       'STS-69 (Endeavor), STS-83 (Columbia), STS-94 (Columbia), STS-104 (Atlantis)',\n       'STS 41-B (Challenger), STS 61-C (Columbia), STS-27 (Atlantis), STS-47 (Endeavor), STS-71 (Atlantis)',\n       'Mercury 6, STS-95 (Discovery)',\n       'STS-37 (Atlantis), STS-59 (Endeavor), STS-76 (Atlantis), STS-108 (Endeavor)',\n       'STS-125 (Atlantis), STS-132 (Atlantis)', 'Gemini 11, Apollo 12',\n       'STS-91 (Discovery), STS-99 (Endeavor), STS-123 (Endeavor), STS-108 (Endeavor)',\n       'STS 51-J (Atlantis), STS-30 (Atlantis), STS-42 (Discovery), STS-57 (Endeavor)',\n       'STS 51-B (Challenger), STS-33 (Discovery), STS-44 (Atlantis)',\n       'STS-67 (Endeavor)', 'Mercury 4, Gemini 3, Apollo 1',\n       'STS-67 (Endeavor), STS-81 (Atlantis), STS-103 (Discovery), STS-125 (Atlantis), STS-109 (Columbia)',\n       'STS-40 (Columbia), STS-59 (Endeavor)', 'Apollo 13 ',\n       'STS-65 (Columbia), STS-74 (Atlantis), STS-83 (Columbia), STS-94 (Columbia), STS-101 (Atlantis)',\n       'STS-124 (Discovery), STS-132 (Atlantis)',\n       'STS-39 (Discovery), STS-64 (Discovery)',\n       'STS-39 (Discovery), STS-54 (Endeavor), STS-71 (Atlantis), STS-82 (Discovery)',\n       'STS-55 (Columbia), STS-63 (Discovery)', 'STS 41-C (Challenger)',\n       'STS-4 (Columbia), STS 41-D (Discovery), STS 61-A (Challenger)',\n       'STS-7 (Challenger), STS 51-A (Discovery), STS-26 (Discovery)',\n       'STS 41-D (Discovery), STS 61-C (Columbia), STS-31 (Discovery), STS-82 (Discovery), STS-93 (Columbia)',\n       'STS-54 (Endeavor), STS-64 (Discovery), STS-78 (Columbia), STS-101 (Atlantis), STS-102/105 (Discovery)',\n       'STS-44 (Atlantis)',\n       'STS-44 (Atlantis), STS-55 (Columbia), STS-70 (Discovery), STS-78 (Columbia)',\n       'STS-128 (Discovery)', 'STS-113 (Endeavor)',\n       'STS-39 (Discovery), STS-49 (Endeavor), STS-65 (Columbia)',\n       'STS-116 (Discovery)',\n       'ST 51-J (Atlantis), STS-26 (Discovery), STS-36 (Atlantis), STS-42 (Discovery)',\n       'STS-90 (Columbia), STS-130 (Endeavor)',\n       'STS-104 (Atlantis), STS-118 (Endeavor), ST-129 (Atlantis)',\n       'STS 51-D (Discovery), STS-35 (Columbia), STS-46 (Atlantis), STS-61 (Endeavor), STS-75 (Columbia)',\n       'ISS-37/38 (Soyuz)',\n       'STS-75 (Columbia), STS-82 (Discovery), STS-101 (Atlantis), STS-105 (Discovery)',\n       'STS-127 (Endeavor), STS-135 (Atlantis)',\n       'STS-96 (Discovery), STS-107 (Columbia)', 'Apollo 15',\n       'STS-32 (Columbia), STS-46 (Atlantis), STS-62 (Columbia), STS-81 (Atlantis), STS-98 (Atlantis)',\n       'STS 51-L (Challenger)', 'STS-47 (Endeavor)',\n       'STS-40 (Columbia), STS-52 (Columbia), STS-67 (Endeavor), STS-80 (Columbia), STS-98 (Discovery)',\n       'STS-72 (Endeavor), STS-81 (Atlantis), STS-97 (Endeavor), STS-115 (Atlantis)',\n       'STS-125 (Atlantis)', 'STS-123 (Endeavor), STS-134 (Endeavor)',\n       'STS-59 (Endeavor), STS-68 (Endeavor), STS-80 (Columbia), STS-98 (Atlantis)',\n       'STS-91 (Discovery), STS-99 (Endeavor), STS-104 (Atlantis)',\n       'STS-102 (Discovery), STS-114 (Discovery)',\n       'STS-108 (Endeavor), STS-121 (Discovery), STS-124 (Discovery), STS-134 (Endeavor)',\n       'STS-103 (Discovery), STS-118 (Endeavor), ISS-25/26 (Soyuz), ISS-43/44/45/46 (Soyuz)',\n       'Skylab 2', 'STS-126 (Endeavor), ISS-49/50 (Soyuz)',\n       'STS-127/128 (Endeavor/Discovery), ISS-46/47 (Soyuz)',\n       'STS-70 (Discovery), STS-78 (Columbia), STS-87 (Columbia), STS-99 (Endeavor)',\n       'STS-67 (Endeavor), STS-86 (Atlantis), STS-91 (Discovery), STS-114 (Discovery)',\n       'STS-30 (Atlantis), STS-47 (Endeavor), STS-64 (Discovery), STS-82 (Discovery)',\n       'STS 41-G (Challenger), STS-28 (Columbia), STS-45 (Atlantis)',\n       'STS-5 (Columbia)', 'STS-73 (Columbia)',\n       'STS-9 (Columbia), STS-45 (Atlantis)', 'STS 51-B (Challenger)',\n       'ISS-44/45 (Soyuz)',\n       'STS-87 (Columbia), STS-95 (Discovery), STS-104 (Atlantis), STS-121 (Discovery), STS-133 (Discovery)',\n       'STS-64 (Discovery), STS-81/84 (Atlantis)',\n       'STS-78 (Columbia), STS-90 (Columbia), STS-109 (Columbia), STS-123 (Endeavor)',\n       'STS-111 (Endeavor), STS-113 (Endeavor)',\n       'STS-73 (Columbia), STS-92 (Discovery), STS-113 (Endeavor), ISS-14 (Soyuz)',\n       'STS 51-I (Discovery), STS-26 (Discovery), STS-35 (Columbia)',\n       'Skylab 3, STS-3 (Columbia)', 'STS-122 (Atlantis)',\n       'Gemini 7, Gemini 12, Apollo 8, Apollo 13',\n       'STS-32 (Columbia), STS-43 (Atlantis), STS-57 (Endeavor)',\n       'STS-84 (Atlantis), STS-106 (Atlantis), ISS-07 (Soyuz)',\n       'STS 51-G (Discovery), STS-34 (Atlantis), STS-43 (Atlantis), STS-58 (Columbia), STS-76/79 (Atlantis)',\n       'STS-112 (Atlantis), STS-126/119 (Endeavor/Discovery), STS-135 (Atlantis)',\n       'STS-127 (Endeavor), ISS-34/35 (Soyuz)',\n       'STS-109 (Columbia), STS-125 (Atlantis)',\n       'STS-106 (Atlantis), STS-118 (Endeavor), STS-131 (Discovery), ISS-38/39 (Soyuz)',\n       'Apollo 16, STS-4 (Columbia), STS 51-C (Discovery)',\n       'STS-58 (Columbia), STS-74 (Atlantis), STS-92 (Discovery), ISS-12 (Soyuz)',\n       'STS 41-G (Challenger)',\n       'STS 41-B (Challenger), STS-31 (Discovery)', 'STS-34 (Atlantis)',\n       'Gemini 4, Apollo 9',\n       'STS-39 (Discovery), STS-54 (Endeavor), STS-66 (Atlantis)',\n       'STS 41-B (Challenger), STS 51-L (Challenger)',\n       'STS-38 (Atlantis), STS-50 (Columbia), STS-64 (Discovery)',\n       'STS-41 (Discovery), STS-49 (Endeavor)',\n       'STS-92 (Discovery), STS-112 (Atlantis), STS-120 (Discovery)',\n       'STS-122 (Atlantis), STS-129 (Atlantis)', 'Apollo 14',\n       'STS-118 (Endeavor)', 'STS-110 (Atlantis)',\n       'STS 41-D (Discovery), STS-27 (Atlantis), STS-36 (Atlantis)',\n       'STS-6 (Challenger), STS 51-F (Challenger), STS-33 (Discovery), STS-44 (Atlantis), STS-61 (Endeavor), STS-80 (Columbia)',\n       'STS 51-G (Discovery), STS 61-A (Challenger), STS-37 (Atlantis), STS-55 (Columbia)',\n       'STS 41-C (Challenger), STS 61-C (Columbia), STS-26 (Discovery)',\n       'STS-51 (Discovery), STS-69 (Endeavor), STS-88 (Endeavor), STS- 109 (Columbia)',\n       'STS-84 (Atlantis), STS-97 (Endeavor)', 'STS-121 (Discovery)',\n       'STS-124 (Discovery), ISS-36/37 (Soyuz)',\n       'STS 61-B (Atlantis), STS-40 (Columbia)',\n       'STS-56 (Discovery), STS-66 (Atlantis), STS-96 (Discovery), STS-110 (Atlantis)',\n       'STS-117 (Atlantis), STS-128 (Discovery)',\n       'STS 51-C (Discovery), STS 51-L (Challenger)',\n       'STS-42 (Discovery), STS-56 (Discovery), STS-67 (Endeavor)',\n       'STS-5 (Columbia), STS 51-B (Challenger)', 'STS 51-J (Atlantis)',\n       'STS-66 (Atlantis), STS-86 (Atlantis), STS-95 (Discovery), STS-100 (Endeavor), STS-120 (Discovery)',\n       'STS-9 (Columbia), STS-35 (Columbia)',\n       'STS-116 (Discovery), STS-130 (Endeavor)', 'STS 51-C (Discovery)',\n       'STS-6 (Challenger)',\n       'ISS-6 (Soyuz), STS-126 (Endeavor), ISS-30/31 (Soyuz)',\n       'STS-100 (Endeavor), ISS-11 (Soyuz), STS-119 (Discovery)',\n       'STS-122 (Atlantis), STS-131 (Discovery)',\n       'STS-98 (Atlantis), ST-116 (Discovery), STS-127 (Endeavor)',\n       'STS-55 (Columbia), STS-71 (Atlantis), STS-84 (Atlantis), STS-91 (Discovery)',\n       'STS-42 (Discovery), STS-51 (Discovery), STS-79 (Atlantis)',\n       'STS-48 (Discovery), STS-60 (Discovery)',\n       'STS-89 (Endeavor), STS-104 (Atlantis), STS-117 (Atlantis)',\n       'STS-123/124 (Endeavor/Discovery), STS-132 (Atlantis)',\n       'STS 41-D (Discovery), STS 51-L (Challenger)',\n       'STS-102 (Discovery)',\n       'STS-28 (Columbia), STS-41 (Discovery), STS-50 (Columbia), STS-64 (Discovery)',\n       'STS-7 (Challenger), STS 41-G (Challenger)',\n       'STS-85 (Discovery), STS-95 (Discovery), STS-114 (Discovery), STS-130 (Endeavor)',\n       'STS-73 (Columbia), STS-80 (Columbia), STS-85 (Discovery), STS-96 (Discovery), STS-100 (Endeavor)',\n       'ST 61-B (Atlantis), ST-27 (Atlantis), ST-37 (Atlantis), STS-55 (Columbia), STS-74 (Atlantis), STS-88 (Endeavor), STS-110 (Atlantis)',\n       'ISS-48/49 (Soyuz)',\n       'STS-44 (Atlantis), STS-54 (Endeavor), STS-77 (Endeavor)',\n       'Mercury 8, Gemini 6, Apollo 7', 'Apollo 9',\n       'STS 41-C (Challenger), STS 51-L (Challenger)',\n       'Gemini 8, Apollo 9, Apollo 15',\n       'STS-72 (Endeavor), STS-87 (Columbia)',\n       'STS-58 (Columbia), STS-76 (Atlantis), STS-90 (Columbia)',\n       'STS 51-D (Discovery), STS-40 (Columbia), STS-58 (Columbia)',\n       'STS-60 (Discovery), STS-76 (Atlantis)',\n       'STS-112 (Atlantis), STS-121 (Discovery), STS-132 (Atlantis)',\n       'STS-9 (Columbia), STS 61-B (Atlantis), STS-28 (Columbia)',\n       'Mercury 3, Apollo 14',\n       'STS-37 (Atlantis), STS-41 (Discovery), STS-52 (Columbia), ISS-01/STS-102 (Soyuz/Discovery)',\n       'STS 51-C (Discovery), STS-31 (Discovery), STS-46 (Atlantis)',\n       'Apollo-Soyuz Test Project',\n       'STS-68 (Endeavor), STS-82 (Discovery), STS-103 (Discovery), STS-110 (Atlantis)',\n       'STS 61-B (Atlantis)', 'STS-29 (Discovery), STS-38 (Atlantis)',\n       'Gemini 6, Gemini 9, Apollo 10, Apollo-Soyuz Test Project',\n       'STS-115 (Atlantis), STS-126 (Endeavor)',\n       'STS 41-B (Challenger), STS 51-J (Atlantis)',\n       'STS-128/129 (Discovery/Atlantis), STS-133 (Discovery)',\n       'STS-88 (Endeavor), STS-105 (Discovery), STS-117 (Atlantis), STS-128 (Discovery)',\n       'STS 41-G (Challenger), STS-31 (Discovery), STS-45 (Atlantis)',\n       'STS-117 (Atlantis), STS-119 (Discovery), ISS-39/40 (Soyuz)',\n       'Apollo 13',\n       'STS-108 (Endeavor), STS-120/122 (Discovery/Atlantis)',\n       'STS-66 (Atlantis), STS-82 (Discovery), STS-97 (Endeavor), STS-115 (Discovery)',\n       'STS-7 (Challenger), STS 51-B (Challenger), STS-30 (Atlantis), STS-42 (Discovery), STS-71 (Soyuz/Atlantis)',\n       'STS-77 (Endeavor), STS-89/91 (Endeavor/Discovery), STS-102 (Discovery), STS-114 (Discovery)',\n       'STS-65 (Columbia), STS-70 (Discovery), STS-83 (Columbia), STS-94 (Columbia)',\n       'STS-33 (Discovery), STS-49 (Endeavor), STS-61 (Endeavor), STS-73 (Columbia)',\n       'STS-8 (Challenger), STS 51-B (Challenger)',\n       'STS-36 (Atlantis), STS-49 (Endeavor), STS-62 (Columbia)',\n       'STS-2 (Columbia), STS-8 (Challenger)',\n       'STS 41-C (Challenger), STS 51-I (Discovery)',\n       'STS-39 (Discovery), STS-52 (Columbia)',\n       'STS-130 (Endeavor), ISS-42/43 (Soyuz)',\n       'STS-44 (Atlantis), STS-53 (Discovery), STS-69 (Endeavor), STS-101 (Atlantis), STS-102/105 (Discovery)',\n       'STS-57 (Endeavor), STS-63 (Discovery), STS-83 (Columbia), STS-94 (Columbia), STS-99 (Endeavor)',\n       'STS-110 (Atlantis), STS-122 (Atlantis), STS-135 (Atlantis)',\n       'STS 41-D (Discovery), STS 51-D (Discovery), STS 61-B (Atlantis)',\n       'STS 51-A (Discovery), STS-30 (Atlantis), STS-53 (Discovery), STS-69 (Endeavor)',\n       'ISS-24/25 (Soyuz)',\n       'STS-51 (Discovery), STS-65 (Columbia), STS-79 (Atlantis), STS-108/111 (Endeavor)',\n       'STS-70 (Discovery), STS-101 (Atlantis)',\n       'Skylab 2, STS-6 (Challenger)',\n       'STS-32 (Columbia), STS-52 (Columbia), STS-63 (Discovery), STS-86 (Atlantis), STS-102 (Discovery), STS-113 (Endeavor)',\n       'STS-120 (Discovery), ISS-24/25 (Soyuz)', 'Gemini 4, Apollo 1',\n       'STS-111/113 (Endeavor), ISS-16 (Soyuz), ISS-50/51 (Soyuz)',\n       'STS-68 (Endeavor), STS-79 (Atlantis), STS-89 (Endeavor), STS-106 (Atlantis)',\n       'STS 51-D (Discovery), STS-34 (Atlantis)',\n       'STS-101 (Atlantis), ISS-13 (Soyuz), ISS-21/22 (Soyuz), ISS-47/48 (Soyuz)',\n       'STS-116/117 (Discovery/Atlantis), ISS-32/33 (Soyuz)',\n       'STS-129 (Atlantis), ISS-41/42 (Soyuz)',\n       'STS-121 (Discovery), STS-120 (Discovery), STS-131 (Discovery)',\n       'ISS-40/41 (Soyuz)',\n       'STS-57 (Endeavor), STS-68 (Endeavor), STS-81 (Atlantis), STS-92 (Discovery)',\n       'STS-58 (Columbia). STS-86/89 (Atlantis/Endeavor), STS-112 (Atlantis), STS-127 (Endeavor)',\n       'Gemini 3, Gemini 10, Apollo 10, Apollo 16, STS-1 (Columbia), STS-9 (Columbia)',\n       'STS-120 (Discovery), STS-130 (Endeavor)'], dtype=object)"
     },
     "execution_count": 81,
     "metadata": {},
     "output_type": "execute_result"
    }
   ],
   "source": [
    "pd.unique(astronautas[\"Missions\"])"
   ],
   "metadata": {
    "collapsed": false,
    "pycharm": {
     "name": "#%%\n"
    }
   }
  },
  {
   "cell_type": "code",
   "execution_count": 82,
   "outputs": [
    {
     "data": {
      "text/plain": "306"
     },
     "execution_count": 82,
     "metadata": {},
     "output_type": "execute_result"
    }
   ],
   "source": [
    "astronautas.Missions.nunique()"
   ],
   "metadata": {
    "collapsed": false,
    "pycharm": {
     "name": "#%%\n"
    }
   }
  },
  {
   "cell_type": "markdown",
   "source": [
    "Hay 306 misiones diferentes realizadas durante todo este tiempo, ahora quiero saber cuales fueron las misiones mas importantes o que mas astronautas necesito para llevarse a cabo."
   ],
   "metadata": {
    "collapsed": false
   }
  },
  {
   "cell_type": "code",
   "execution_count": 83,
   "outputs": [
    {
     "name": "stdout",
     "output_type": "stream",
     "text": [
      "No Missions : 23\n",
      "STS 51-F (Challenger) : 5\n",
      "La mision STS 51-F (Challenger) fue la que involucro a mas astronautas\n"
     ]
    },
    {
     "data": {
      "text/plain": "<Figure size 432x288 with 1 Axes>",
      "image/png": "[encoded data removed]"
     },
     "metadata": {
      "needs_background": "light"
     },
     "output_type": "display_data"
    }
   ],
   "source": [
    "data_Missions = Counter(astronautas['Missions'])\n",
    "print(data_Missions.most_common(1)[0][0],\":\",data_Missions.most_common(1)[0][1])\n",
    "print(data_Missions.most_common(2)[1][0],\":\",data_Missions.most_common(2)[1][1])\n",
    "print('La mision',data_Missions.most_common(2)[1][0],'fue la que involucro a mas astronautas')\n",
    "lists = (data_Missions.items())\n",
    "\n",
    "x, y = zip(*lists)\\\n",
    "\n",
    "plt.barh(x[:10], y[:10])\n",
    "plt.xlabel('Count')\n",
    "plt.show()"
   ],
   "metadata": {
    "collapsed": false,
    "pycharm": {
     "name": "#%%\n"
    }
   }
  },
  {
   "cell_type": "markdown",
   "source": [
    "La mision que conto con mas astronautas es la denominada STS 51-F (Challenger)"
   ],
   "metadata": {
    "collapsed": false
   }
  },
  {
   "cell_type": "markdown",
   "source": [
    "### Hay misiones las cuales se completaron de gran manera como es el caso de la apollo 11, entre otras. Pero ahora, ¿cuales fueron las misiones fallidas de la NASA?"
   ],
   "metadata": {
    "collapsed": false
   }
  },
  {
   "cell_type": "code",
   "execution_count": 84,
   "outputs": [
    {
     "data": {
      "text/plain": "array(['Not Applicable', 'STS-107 (Columbia)', 'Apollo 1',\n       'STS 51-L (Challenger)'], dtype=object)"
     },
     "execution_count": 84,
     "metadata": {},
     "output_type": "execute_result"
    }
   ],
   "source": [
    "Misiones_fallidas = astronautas[astronautas['Death_Mission'].notnull()]['Death_Mission'].unique()\n",
    "Misiones_fallidas"
   ],
   "metadata": {
    "collapsed": false,
    "pycharm": {
     "name": "#%%\n"
    }
   }
  },
  {
   "cell_type": "markdown",
   "source": [
    "Esas misiones fueron las que fallaron, son misiones que van a quedar en la pagina negra de la NASA debido a que en ellas murieron astronautas. En la mision del STS 51-L (Challenger) murieron 5 astronautas y casualmente fue la mision que mas astronautas requirio a lo largo de la historia."
   ],
   "metadata": {
    "collapsed": false
   }
  },
  {
   "cell_type": "markdown",
   "source": [
    "Ahora quiero introducir otro dataset el cual tiene año a año el presupuesto que el gobierno de Estados Unidos le brinda a la NASA para sus respectivos estudios."
   ],
   "metadata": {
    "collapsed": false
   }
  },
  {
   "cell_type": "code",
   "execution_count": 85,
   "outputs": [
    {
     "data": {
      "text/plain": "           Entity Code  Year        Budget\n0   United States  USA  1959  2.320435e+09\n1   United States  USA  1960  3.622572e+09\n2   United States  USA  1961  6.577310e+09\n3   United States  USA  1962  1.232666e+10\n4   United States  USA  1963  2.452155e+10\n..            ...  ...   ...           ...\n59  United States  USA  2018  2.159814e+10\n60  United States  USA  2019  2.193749e+10\n61  United States  USA  2020  2.262900e+10\n62  United States  USA  2021  2.327130e+10\n63  United States  USA  2022  2.480150e+10\n\n[64 rows x 4 columns]",
      "text/html": "<div>\n<style scoped>\n    .dataframe tbody tr th:only-of-type {\n        vertical-align: middle;\n    }\n\n    .dataframe tbody tr th {\n        vertical-align: top;\n    }\n\n    .dataframe thead th {\n        text-align: right;\n    }\n</style>\n<table border=\"1\" class=\"dataframe\">\n  <thead>\n    <tr style=\"text-align: right;\">\n      <th></th>\n      <th>Entity</th>\n      <th>Code</th>\n      <th>Year</th>\n      <th>Budget</th>\n    </tr>\n  </thead>\n  <tbody>\n    <tr>\n      <th>0</th>\n      <td>United States</td>\n      <td>USA</td>\n      <td>1959</td>\n      <td>2.320435e+09</td>\n    </tr>\n    <tr>\n      <th>1</th>\n      <td>United States</td>\n      <td>USA</td>\n      <td>1960</td>\n      <td>3.622572e+09</td>\n    </tr>\n    <tr>\n      <th>2</th>\n      <td>United States</td>\n      <td>USA</td>\n      <td>1961</td>\n      <td>6.577310e+09</td>\n    </tr>\n    <tr>\n      <th>3</th>\n      <td>United States</td>\n      <td>USA</td>\n      <td>1962</td>\n      <td>1.232666e+10</td>\n    </tr>\n    <tr>\n      <th>4</th>\n      <td>United States</td>\n      <td>USA</td>\n      <td>1963</td>\n      <td>2.452155e+10</td>\n    </tr>\n    <tr>\n      <th>...</th>\n      <td>...</td>\n      <td>...</td>\n      <td>...</td>\n      <td>...</td>\n    </tr>\n    <tr>\n      <th>59</th>\n      <td>United States</td>\n      <td>USA</td>\n      <td>2018</td>\n      <td>2.159814e+10</td>\n    </tr>\n    <tr>\n      <th>60</th>\n      <td>United States</td>\n      <td>USA</td>\n      <td>2019</td>\n      <td>2.193749e+10</td>\n    </tr>\n    <tr>\n      <th>61</th>\n      <td>United States</td>\n      <td>USA</td>\n      <td>2020</td>\n      <td>2.262900e+10</td>\n    </tr>\n    <tr>\n      <th>62</th>\n      <td>United States</td>\n      <td>USA</td>\n      <td>2021</td>\n      <td>2.327130e+10</td>\n    </tr>\n    <tr>\n      <th>63</th>\n      <td>United States</td>\n      <td>USA</td>\n      <td>2022</td>\n      <td>2.480150e+10</td>\n    </tr>\n  </tbody>\n</table>\n<p>64 rows × 4 columns</p>\n</div>"
     },
     "execution_count": 85,
     "metadata": {},
     "output_type": "execute_result"
    }
   ],
   "source": [
    "nasa_annual_budget = pd.read_csv('data_tp/nasa-annual-budget.csv')\n",
    "nasa_annual_budget"
   ],
   "metadata": {
    "collapsed": false,
    "pycharm": {
     "name": "#%%\n"
    }
   }
  },
  {
   "cell_type": "code",
   "execution_count": 86,
   "outputs": [
    {
     "data": {
      "text/plain": "Index(['Entity', 'Code', 'Year', 'Budget'], dtype='object')"
     },
     "execution_count": 86,
     "metadata": {},
     "output_type": "execute_result"
    }
   ],
   "source": [
    "nasa_annual_budget.columns"
   ],
   "metadata": {
    "collapsed": false,
    "pycharm": {
     "name": "#%%\n"
    }
   }
  },
  {
   "cell_type": "markdown",
   "source": [
    "Ahora como a nosotros solo nos interesa Year y Budget, formateamos el dataset de presupuesto anual para que me queden solo las 2 columnas mencionadas anteriormente."
   ],
   "metadata": {
    "collapsed": false
   }
  },
  {
   "cell_type": "code",
   "execution_count": 87,
   "outputs": [
    {
     "data": {
      "text/plain": "Year\n1959    2.320435e+09\n1960    3.622572e+09\n1961    6.577310e+09\n1962    1.232666e+10\n1963    2.452155e+10\n            ...     \n2018    2.159814e+10\n2019    2.193749e+10\n2020    2.262900e+10\n2021    2.327130e+10\n2022    2.480150e+10\nName: Budget, Length: 64, dtype: float64"
     },
     "execution_count": 87,
     "metadata": {},
     "output_type": "execute_result"
    }
   ],
   "source": [
    "nasa_annual_budget = nasa_annual_budget.groupby(\"Year\").Budget.sum()\n",
    "nasa_annual_budget"
   ],
   "metadata": {
    "collapsed": false,
    "pycharm": {
     "name": "#%%\n"
    }
   }
  },
  {
   "cell_type": "markdown",
   "source": [
    "Expresamos los valores en un grafico y utilizamos un figsize amplio para que se vea medianamente bien"
   ],
   "metadata": {
    "collapsed": false
   }
  },
  {
   "cell_type": "code",
   "execution_count": 88,
   "outputs": [
    {
     "data": {
      "text/plain": "<AxesSubplot:xlabel='Year'>"
     },
     "execution_count": 88,
     "metadata": {},
     "output_type": "execute_result"
    },
    {
     "data": {
      "text/plain": "<Figure size 1440x1080 with 1 Axes>",
      "image/png": "[encoded data removed]"
     },
     "metadata": {
      "needs_background": "light"
     },
     "output_type": "display_data"
    }
   ],
   "source": [
    "nasa_annual_budget.plot.bar(figsize=(20,15))\n"
   ],
   "metadata": {
    "collapsed": false,
    "pycharm": {
     "name": "#%%\n"
    }
   }
  },
  {
   "cell_type": "markdown",
   "source": [
    "El año con mayor presupuesto de la NASA fue en 1964, esto me sorprendio porque luego de analizar el dataset de los astronautas, deducia que el año con mayor presupuesto era 1985 porque fue el año en donde mas astronautas se requierieron para las misiones. luego del año 1964 podemos ver que bajo considerablemente este presupuesto ademas, se puede ver que tiene altos y bajos el presupuesto, no es constante en el tiempo."
   ],
   "metadata": {
    "collapsed": false
   }
  },
  {
   "cell_type": "markdown",
   "source": [
    "### Para ser astronauta se necesita de un gran conocimiento y tambien una preparacion que no es nada facil, Teniendo en cuenta la columna Academy_or_university, ¿Cual es la academia o universidad que mas astronautas produjo si se puede decir de alguna manera?"
   ],
   "metadata": {
    "collapsed": false
   }
  },
  {
   "cell_type": "markdown",
   "source": [
    "En el dataset contamos con una columna que se denominaba Alma Mater pero en el proceso de preprocesamiento de datos, le modifique el nombre para que todos lo que lean esto puedan entender mejor de que esta hablando esta columna sin mayor esfuerzo."
   ],
   "metadata": {
    "collapsed": false
   }
  },
  {
   "cell_type": "code",
   "execution_count": 89,
   "outputs": [
    {
     "data": {
      "text/plain": "US Naval Academy                                        12\nUS Naval Academy; US Naval Postgraduate School          11\nUS Air Force Academy; Purdue University                  7\nPurdue University                                        7\nMIT                                                      5\nUS Naval Academy; MIT                                    5\nUS Military Academy; Georgia Institute of Technology     4\nStanford University                                      4\nUniversity of Colorado                                   4\nUS Air Force Academy                                     3\nName: Academy_or_university, dtype: int64"
     },
     "execution_count": 89,
     "metadata": {},
     "output_type": "execute_result"
    }
   ],
   "source": [
    "astronautas['Academy_or_university'].value_counts().head(10)"
   ],
   "metadata": {
    "collapsed": false,
    "pycharm": {
     "name": "#%%\n"
    }
   }
  },
  {
   "cell_type": "markdown",
   "source": [
    "Podemos visualizar todas las academias y universidades en el siguiente grafico"
   ],
   "metadata": {
    "collapsed": false
   }
  },
  {
   "cell_type": "code",
   "execution_count": 90,
   "outputs": [
    {
     "name": "stdout",
     "output_type": "stream",
     "text": [
      "La universidad o academia que mas astronautas formo fue US Naval Academy 12\n"
     ]
    },
    {
     "data": {
      "text/plain": "<Figure size 864x1080 with 1 Axes>",
      "image/png": "[encoded data removed]"
     },
     "metadata": {
      "needs_background": "light"
     },
     "output_type": "display_data"
    }
   ],
   "source": [
    "Univ = Counter(astronautas['Academy_or_university'])\n",
    "print('La universidad o academia que mas astronautas formo fue',Univ.most_common(1)[0][0],Univ.most_common(1)[0][1])\n",
    "cnt=astronautas['Academy_or_university'].value_counts()\n",
    "plt.figure(figsize=(12,15))\n",
    "plt.title('Universidades o academias de los astronautas')\n",
    "Uni=sb.countplot(y=astronautas['Academy_or_university'],data=astronautas['Academy_or_university'],order=cnt.nlargest(30).index,palette='GnBu_d')\n",
    "plt.show()"
   ],
   "metadata": {
    "collapsed": false,
    "pycharm": {
     "name": "#%%\n"
    }
   }
  },
  {
   "cell_type": "markdown",
   "source": [
    "### Ya que tenemos las universidades, ¿Cual es la carrera universitaria mas comun entre los astronautas?"
   ],
   "metadata": {
    "collapsed": false
   }
  },
  {
   "cell_type": "code",
   "execution_count": 91,
   "outputs": [
    {
     "name": "stdout",
     "output_type": "stream",
     "text": [
      "Carrera universitaria mas comun:  Aeronautical Engineering\n"
     ]
    },
    {
     "data": {
      "text/plain": "<Figure size 864x1080 with 1 Axes>",
      "image/png": "[encoded data removed]"
     },
     "metadata": {
      "needs_background": "light"
     },
     "output_type": "display_data"
    }
   ],
   "source": [
    "carrera=Counter(astronautas['Graduate_Major'])\n",
    "print(\"Carrera universitaria mas comun: \",carrera.most_common(1)[0][0])\n",
    "CollegeCount = astronautas['Graduate_Major'].value_counts()\n",
    "plt.figure(figsize=(12,15))\n",
    "plt.title('Graduate Major Courses')\n",
    "SCount = astronautas['Graduate_Major'].value_counts().nlargest(50)\n",
    "Scnt=astronautas['Undergraduate_Major'].value_counts().nlargest(50)\n",
    "Sub=sb.countplot(y=astronautas['Graduate_Major'],data=astronautas['Graduate_Major'],\n",
    "    order=SCount.nlargest(30).index)"
   ],
   "metadata": {
    "collapsed": false,
    "pycharm": {
     "name": "#%%\n"
    }
   }
  },
  {
   "cell_type": "markdown",
   "source": [
    "### Podemos ver astronautas que siguieron carreras universitarias como administracion de empresas o carreras relacionadas a la quimica. Contamos en el dataset con las carreras de posgrado y me surgio la siguiente pregunta, ¿Las carreras de posgrado se relacionan mas con cosas de astronautas?"
   ],
   "metadata": {
    "collapsed": false
   }
  },
  {
   "cell_type": "markdown",
   "source": [
    "Para eso voy a ilustrar un grafico muy parecido al anterior pero ahora basandome en la columna Undergraduate_Major."
   ],
   "metadata": {
    "collapsed": false
   }
  },
  {
   "cell_type": "code",
   "execution_count": 92,
   "outputs": [
    {
     "name": "stdout",
     "output_type": "stream",
     "text": [
      "Carrera de posgrado mas comun: Physics\n"
     ]
    },
    {
     "data": {
      "text/plain": "<Figure size 864x1080 with 1 Axes>",
      "image/png": "[encoded data removed]"
     },
     "metadata": {
      "needs_background": "light"
     },
     "output_type": "display_data"
    }
   ],
   "source": [
    "Posgrado=Counter(astronautas['Undergraduate_Major'])\n",
    "print(\"Carrera de posgrado mas comun:\",Posgrado.most_common(1)[0][0])\n",
    "plt.figure(figsize=(12,15))\n",
    "plt.title('Undergraduate Major Courses')\n",
    "Posgrado=sb.countplot(y=astronautas['Undergraduate_Major'],data=astronautas['Undergraduate_Major'],\n",
    "                  order=Scnt.nlargest(30).index,palette='rocket')"
   ],
   "metadata": {
    "collapsed": false,
    "pycharm": {
     "name": "#%%\n"
    }
   }
  },
  {
   "cell_type": "markdown",
   "source": [
    "Vemos que las carreras de posgrado marcan una especializacion mas profunda que las carreras de grado"
   ],
   "metadata": {
    "collapsed": false
   }
  },
  {
   "cell_type": "markdown",
   "source": [
    "### Ahora quiero analizar las 2 columnas que hacen referencia a circunstancias militares, ¿La mayoria de astronautas participaron en el servicio militar?"
   ],
   "metadata": {
    "collapsed": false
   }
  },
  {
   "cell_type": "markdown",
   "source": [
    "Para esto nos basamos en la columna Military_Rank"
   ],
   "metadata": {
    "collapsed": false
   }
  },
  {
   "cell_type": "code",
   "execution_count": 93,
   "outputs": [
    {
     "name": "stdout",
     "output_type": "stream",
     "text": [
      "From Military: 207 -> 57.983193277310924 %\n",
      "Not from Military: 150 -> 42.016806722689076 %\n"
     ]
    },
    {
     "data": {
      "text/plain": "<Figure size 432x288 with 1 Axes>",
      "image/png": "[encoded data removed]"
     },
     "metadata": {
      "needs_background": "light"
     },
     "output_type": "display_data"
    }
   ],
   "source": [
    "cnt1=0\n",
    "cnt2=0\n",
    "for index,row in astronautas['Military_Rank'].iteritems():\n",
    "    if(row=='Not Applicable'):\n",
    "        cnt1+=1\n",
    "    else:\n",
    "        cnt2+=1\n",
    "print('From Military:',cnt2,'->',(cnt2*100/(cnt1+cnt2)),'%')\n",
    "print('Not from Military:',cnt1,'->',(cnt1*100/(cnt1+cnt2)),'%')\n",
    "m=['From Military Service','Not from Military Service']\n",
    "y1=[cnt2,cnt1]\n",
    "plt.bar(m,y1,color='#1eb251')\n",
    "plt.ylabel('No. of astronauts')\n",
    "plt.show()"
   ],
   "metadata": {
    "collapsed": false,
    "pycharm": {
     "name": "#%%\n"
    }
   }
  },
  {
   "cell_type": "markdown",
   "source": [
    "Vemos una cierta paridad en el tema militar, el 58% si participo en el servicio militar, si posee un rango y el 42% no ha participado en dicho rubro."
   ],
   "metadata": {
    "collapsed": false
   }
  },
  {
   "cell_type": "markdown",
   "source": [
    "# Modelo base"
   ],
   "metadata": {
    "collapsed": false
   }
  },
  {
   "cell_type": "markdown",
   "source": [
    "Para el modelo base voy a utilizar como modelo una regresión lineal debido a la continuidad de la variable. La idea del modelo no es muy compleja, mi proposito es poder predecir de la forma mas efectiva posible cuanto tiempo un astronauta va a estar realizando caminatas espaciales en cada mision. Para esto uso como target la columna de Space_Walks."
   ],
   "metadata": {
    "collapsed": false
   }
  },
  {
   "cell_type": "code",
   "execution_count": 94,
   "outputs": [
    {
     "data": {
      "text/plain": "Index(['Name', 'Year', 'Group', 'Status', 'Birth_Date', 'Birth_Place',\n       'Gender', 'Academy_or_university', 'Undergraduate_Major',\n       'Graduate_Major', 'Military_Rank', 'Military_Branch', 'Space_Flights',\n       'Space_Flight_hours', 'Space_Walks', 'Space_Walks_hours', 'Missions',\n       'Death_Date', 'Death_Mission'],\n      dtype='object')"
     },
     "execution_count": 94,
     "metadata": {},
     "output_type": "execute_result"
    }
   ],
   "source": [
    "astronautas.columns"
   ],
   "metadata": {
    "collapsed": false,
    "pycharm": {
     "name": "#%%\n"
    }
   }
  },
  {
   "cell_type": "markdown",
   "source": [
    "### Como quiero utilizar Space_Flights y Space_Walks, ¿Existe alguna relacion entre ellas?"
   ],
   "metadata": {
    "collapsed": false
   }
  },
  {
   "cell_type": "code",
   "execution_count": 95,
   "outputs": [
    {
     "data": {
      "text/plain": "<Figure size 432x288 with 1 Axes>",
      "image/png": "[encoded data removed]"
     },
     "metadata": {
      "needs_background": "light"
     },
     "output_type": "display_data"
    },
    {
     "name": "stdout",
     "output_type": "stream",
     "text": [
      "Pearson coefficient is 0.25707335295955863\n"
     ]
    }
   ],
   "source": [
    "plt.scatter(astronautas['Space_Walks'],astronautas['Space_Flights'],color='red')\n",
    "plt.title(\"Scatter Plot\")\n",
    "plt.xlabel('Space_Walks')\n",
    "plt.ylabel('Space_Flights')\n",
    "plt.show()\n",
    "r,p=stats.pearsonr(astronautas['Space_Flights'],astronautas['Space_Walks'])\n",
    "print('Pearson coefficient is',r)"
   ],
   "metadata": {
    "collapsed": false,
    "pycharm": {
     "name": "#%%\n"
    }
   }
  },
  {
   "cell_type": "markdown",
   "source": [
    "Antes de armar el modelo base quiero elaborar un heat map"
   ],
   "metadata": {
    "collapsed": false
   }
  },
  {
   "cell_type": "code",
   "execution_count": 96,
   "outputs": [
    {
     "data": {
      "text/plain": "<Figure size 504x504 with 2 Axes>",
      "image/png": "[encoded data removed]"
     },
     "metadata": {
      "needs_background": "light"
     },
     "output_type": "display_data"
    }
   ],
   "source": [
    "plt.figure(figsize = (7,7))\n",
    "sns.heatmap(round(astronautas.corr(),2), cmap = \"coolwarm\", annot = True, annot_kws = {\"size\":12});"
   ],
   "metadata": {
    "collapsed": false,
    "pycharm": {
     "name": "#%%\n"
    }
   }
  },
  {
   "cell_type": "markdown",
   "source": [
    "Quiero todos los valores unicos de cada variable categorica"
   ],
   "metadata": {
    "collapsed": false
   }
  },
  {
   "cell_type": "code",
   "execution_count": 97,
   "outputs": [
    {
     "data": {
      "text/plain": "Index(['Name', 'Status', 'Birth_Date', 'Birth_Place', 'Gender',\n       'Academy_or_university', 'Undergraduate_Major', 'Graduate_Major',\n       'Military_Rank', 'Military_Branch', 'Missions', 'Death_Date',\n       'Death_Mission'],\n      dtype='object')"
     },
     "execution_count": 97,
     "metadata": {},
     "output_type": "execute_result"
    }
   ],
   "source": [
    "categoricas = astronautas.select_dtypes(exclude=['float', 'integer']).columns\n",
    "categoricas"
   ],
   "metadata": {
    "collapsed": false,
    "pycharm": {
     "name": "#%%\n"
    }
   }
  },
  {
   "cell_type": "code",
   "execution_count": 98,
   "outputs": [
    {
     "name": "stdout",
     "output_type": "stream",
     "text": [
      "Los valores unicos de Name son ['Joseph M. Acaba' 'Loren W. Acton' 'James C. Adamson' 'Thomas D. Akers'\n",
      " 'Buzz Aldrin' 'Andrew M. Allen' 'Joseph P. Allen' 'Scott D. Altman'\n",
      " 'William A. Anders' 'Clayton C. Anderson' 'Michael P. Anderson'\n",
      " 'Dominic A. Antonelli' 'Jerome Apt III ' 'Lee J. Archambault'\n",
      " 'Neil A. Armstrong' 'Richard R. Arnold II ' 'Jeffrey S. Ashby'\n",
      " 'Serena M. Aunon' 'James P. Bagian' 'Ellen S. Baker' 'Michael A. Baker'\n",
      " 'Michael R. Barratt' 'Daniel T. Barry' 'John-David F. Bartoe'\n",
      " 'Charles A. Bassett II ' 'Alan L. Bean' 'Robert L. Behnken'\n",
      " 'John E. Blaha' 'Michael J. Bloomfield' 'Guion S. Bluford Jr. '\n",
      " 'Karol J. Bobko' 'Eric A. Boe' 'Charles F. Bolden Jr. ' 'Frank Borman'\n",
      " 'Stephen G. Bowen' 'Kenneth D. Bowersox' 'Charles E. Brady Jr. '\n",
      " 'Vance D. Brand' 'Daniel C. Brandenstein' 'Randolph J. Bresnik'\n",
      " 'Roy D. Bridges Jr. ' 'Curtis L. Brown Jr. ' 'David M. Brown'\n",
      " 'Mark N. Brown' 'James F. Buchli' 'Jay Clark Buckey' 'John S. Bull'\n",
      " 'Daniel C. Burbank' 'Daniel W. Bursch' 'Robert D. Cabana'\n",
      " 'Yvonne D. Cagle' 'Fernando Caldeiro' 'Tracy E. Caldwell (Dyson)'\n",
      " 'Charles J. Camarda' 'Kenneth D. Cameron' 'Duane G. Carey'\n",
      " 'M. Scott Carpenter' 'Gerald P. Carr' 'Manley Lanier Carter Jr. '\n",
      " 'John H. Casper' 'Christopher J. Cassidy' 'Robert Cenker'\n",
      " 'Eugene A. Cernan' 'Roger B. Chaffee' 'Gregory E. Chamitoff'\n",
      " 'Franklin R. Chang-Diaz' 'Philip K. Chapman' 'Kalpana Chawla'\n",
      " 'Leroy Chiao' 'Kevin P. Chilton' 'Laurel B. Clark' 'Mary L. Cleave'\n",
      " 'Michael R. Clifford' 'Michael L. Coats' 'Kenneth D. Cockrell'\n",
      " 'Catherine G. Coleman' 'Eileen M. Collins' 'Michael Collins'\n",
      " 'Charles Conrad Jr. ' 'L. Gordon Cooper Jr. ' 'Richard O. Covey'\n",
      " 'Timothy J. Creamer' 'John O. Creighton' 'Robert L. Crippen'\n",
      " 'Roger K. Crouch' 'Frank L. Culbertson Jr. ' 'Walter Cunningham'\n",
      " 'Robert L. Curbeam Jr. ' 'Nancy J. Currie' 'N. Jan Davis'\n",
      " 'Lawrence J. Delucas' 'Alvin B. Drew Jr. ' 'Brian Duffy'\n",
      " 'Charles M. Duke Jr. ' 'Bonnie J. Dunbar' 'Samuel T. Durrance'\n",
      " 'James P. Dutton Jr. ' 'Joe F. Edwards Jr. ' 'Donn F. Eisele'\n",
      " 'Anthony W. England' 'Joe H. Engle' 'Jeanette J. Epps'\n",
      " 'Ronald E. Evans Jr. ' 'John M. Fabian' 'Christopher J. Ferguson'\n",
      " 'Martin J. Fettman' 'Andrew J. Feustel' 'E. Michael Fincke'\n",
      " 'Jack D. Fischer' 'Anna L. Fisher' 'William F. Fisher' 'C. Michael Foale'\n",
      " 'Kevin A. Ford' 'Michael J. Foreman' 'Patrick G. Forrester'\n",
      " 'Michael E. Fossum' 'Theodore C. Freeman' 'Stephen N. Frick'\n",
      " 'C. Gordon Fullerton' 'F. Andrew Gaffney' 'Ronald J. Garan Jr. '\n",
      " 'Dale A. Gardner' 'Guy S. Gardner' 'Jake Garn' 'Owen K. Garriott'\n",
      " 'Charles D. Gemar' 'Michael L. Gernhardt' 'Edward G. Gibson'\n",
      " 'Robert L. Gibson' 'Edward G. Givens Jr. ' 'John H. Glenn Jr. '\n",
      " 'Linda M. Godwin' 'Michael T. Good' 'Richard F. Gordon Jr. '\n",
      " 'Dominic L. Gorie' 'Ronald J. Grabe' 'Duane E. Graveline'\n",
      " 'Frederick D. Gregory' 'William G. Gregory' 'S. David Griggs'\n",
      " 'Virgil I. Grissom' 'John M. Grunsfeld' 'Sidney M. Gutierrez'\n",
      " 'Fred W. Haise Jr. ' 'James D. Halsell Jr. ' 'Kenneth T. Ham'\n",
      " 'L. Blaine Hammond Jr. ' 'Gregory J. Harbaugh' 'Bernard A. Harris Jr. '\n",
      " 'Terry J. Hart' 'Henry W. Hartsfield Jr. ' 'Frederick H. Hauck'\n",
      " 'Steven A. Hawley' 'Susan J. Helms' 'Karl G. Henize' 'Thomas J. Hennen'\n",
      " 'Terence T. Henricks' 'Jose M. Hernandez' 'John B. Herrington'\n",
      " 'Richard J. Hieb' 'Joan E. Higginbotham' 'David C. Hilmers'\n",
      " 'Kathryn P. Hire' 'Charles O. Hobaugh' 'Jeffrey A. Hoffman'\n",
      " 'Donald L. Holmquest' 'Michael S. Hopkins' 'Scott J. Horowitz'\n",
      " 'Millie Hughes-Fulford' 'Douglas G. Hurley' 'Rick D. Husband'\n",
      " 'James B. Irwin' 'Marsha S. Ivins' 'Gregory B. Jarvis' 'Mae C. Jemison'\n",
      " 'Tamara E. Jernigan' 'Brent W. Jett' 'Gregory C. Johnson'\n",
      " 'Gregory H. Johnson' 'Thomas D. Jones' 'Janet L. Kavandi'\n",
      " 'James M. Kelly' 'Mark E. Kelly' 'Scott J. Kelly' 'Joseph P. Kerwin'\n",
      " 'Susan L. Kilrain (Still)' 'Robert Shane Kimbrough' 'Timothy L. Kopra'\n",
      " 'Kevin R. Kregel' 'Wendy B. Lawrence' 'Mark C. Lee' 'David C. Leestma'\n",
      " 'William B. Lenoir' 'Fred W. Leslie' 'Byron K. Lichtenberg' 'Don L. Lind'\n",
      " 'Kjell N. Lindgren' 'Steven W. Lindsey' 'Jerry M. Linenger'\n",
      " 'Richard M. Linnehan' 'Gregory T. Linteris' 'John A. Llewellyn'\n",
      " 'Paul S. Lockhart' 'Michael E. Lopez-Alegria' 'Christopher J. Loria'\n",
      " 'J. Mike Lounge' 'Jack R. Lousma' 'Stanley G. Love'\n",
      " 'James A. Lovell Jr. ' 'G. David Low' 'Edward T. Lu' 'Shannon W. Lucid'\n",
      " 'Sandra H. Magnus' 'Thomas H. Marshburn' 'Michael J. Massimino'\n",
      " 'Richard A. Mastracchio' 'Thomas K. Mattingly II ' 'K. Megan McArthur'\n",
      " 'William S. McArthur Jr. ' 'S. Christa McAuliffe' 'Jon A. McBride'\n",
      " 'Bruce McCandless II ' 'William C. McCool' 'Michael J. McCulley'\n",
      " 'James A. McDivitt' 'Donald R. McMonagle' 'Ronald E. McNair'\n",
      " 'Carl J. Meade' 'Bruce E. Melnick' 'Pamela A. Melroy' 'Leland D. Melvin'\n",
      " 'Dorothy M. Metcalf-Lindenberger' 'F. Curtis Michel' 'Edgar D. Mitchell'\n",
      " 'Barbara R. Morgan' 'Lee M. Morin' 'Richard M. Mullane' 'Story Musgrave'\n",
      " 'Steven R. Nagel' 'Bill Nelson' 'George D. Nelson' 'James H. Newman'\n",
      " 'Carlos I. Noriega' 'Lisa M. Nowak' 'Karen L. Nyberg' \"Bryan D. O'Connor\"\n",
      " \"Brian T. O'Leary\" 'Ellen Ochoa' 'William A. Oefelein' 'John D. Olivas'\n",
      " 'Ellison S. Onizuka' 'Stephen S. Oswald' 'Robert F. Overmyer'\n",
      " 'William A. Pailes' 'Scott E. Parazynski' 'Ronald A. Parise'\n",
      " 'Robert A. Parker' 'Niclolas J. M. Patrick' 'James A. Pawelczyk'\n",
      " 'Gary E. Payton' 'Donald H. Peterson' 'Donald R. Pettit'\n",
      " 'John L. Phillips' 'William R. Pogue' 'Alan G. Poindexter'\n",
      " 'Mark L. Polansky' 'Charles J. Precourt' 'William F. Readdy'\n",
      " 'Kenneth S. Reightler Jr. ' 'James F. Reilly II ' 'Garrett E. Reisman'\n",
      " 'Judith A. Resnik' 'Paul W. Richards' 'Richard N. Richards'\n",
      " 'Sally K. Ride' 'Patricia Hilliard Robertson' 'Stephen K. Robinson'\n",
      " 'Kent V. Rominger' 'Stuart A. Roosa' 'Jerry L. Ross' 'Kathleen Rubins'\n",
      " 'Mario Runco Jr. ' 'Albert Sacco Jr.' 'Robert L. Satcher Jr. '\n",
      " 'Walter M. Schirra Jr. ' 'Harrison H. Schmitt' 'Russell L. Schweickart'\n",
      " 'Francis R. Scobee' 'David R. Scott' 'Winston E. Scott'\n",
      " 'Paul D. Scully-Power' 'Richard A. Searfoss' 'Margaret Rhea Seddon'\n",
      " 'Elliot M. See Jr. ' 'Ronald M. Sega' 'Piers J. Sellers'\n",
      " 'Brewster H. Shaw Jr. ' 'Alan B. Shepard Jr. ' 'William M. Shepherd'\n",
      " 'Loren J. Shriver' 'Donald K. Slayton' 'Michael J. Smith'\n",
      " 'Steven L. Smith' 'Sherwood C. Spring' 'Robert C. Springer'\n",
      " 'Thomas P. Stafford' 'Heidemarie M. Stefanyshyn-Piper'\n",
      " 'Robert L. Stewart' 'Nicole P. Stott' 'Frederick W. Sturckow'\n",
      " 'Kathryn D. Sullivan' 'Steven R. Swanson' 'John L. Swigert Jr. '\n",
      " 'Daniel M. Tani' 'Joseph R. Tanner' 'Norman E. Thagard'\n",
      " 'Andrew S. W. Thomas' 'Donald A. Thomas' 'Stephen D. Thorne'\n",
      " 'Kathryn C. Thornton' 'William E. Thornton' 'Pierre J. Thuot'\n",
      " 'Scott D. Tingle' 'Richard H. Truly' 'Lodewijk van den Berg'\n",
      " 'James D. van Hoften' 'Mark T. Vande Hei' 'Charles Lacy Veach'\n",
      " 'Terry W. Virts Jr. ' 'James S. Voss' 'Janice E. Voss' 'Rex J. Walheim'\n",
      " 'Charles D. Walker' 'David M. Walker' 'Shannon Walker' 'Carl E. Walz'\n",
      " 'Taylor G. Wang' 'Mary E. Weber' 'Paul J. Weitz' 'James D. Wetherbee'\n",
      " 'Douglas H. Wheelock' 'Edward H. White II ' 'Peggy A. Whitson'\n",
      " 'Terrence W. Wilcutt' 'Clifton C. Williams Jr. ' 'Donald E. Williams'\n",
      " 'Jeffrey N. Williams' 'Sunita L. Williams' 'Barry E. Wilmore'\n",
      " 'Stephanie D. Wilson' 'G. Reid Wiseman' 'Peter J. K. Wisoff'\n",
      " 'David A. Wolf' 'Neil W. Woodward III ' 'Alfred M. Worden'\n",
      " 'John W. Young' 'George D. Zamka']\n"
     ]
    }
   ],
   "source": [
    "print(f\"Los valores unicos de Name son {astronautas.Name.unique()}\")"
   ],
   "metadata": {
    "collapsed": false,
    "pycharm": {
     "name": "#%%\n"
    }
   }
  },
  {
   "cell_type": "code",
   "execution_count": 99,
   "outputs": [
    {
     "name": "stdout",
     "output_type": "stream",
     "text": [
      "Los valores unicos de Status son ['Active' 'Retired' 'Deceased' 'Management']\n"
     ]
    }
   ],
   "source": [
    "print(f\"Los valores unicos de Status son {astronautas.Status.unique()}\")"
   ],
   "metadata": {
    "collapsed": false,
    "pycharm": {
     "name": "#%%\n"
    }
   }
  },
  {
   "cell_type": "code",
   "execution_count": 100,
   "outputs": [
    {
     "name": "stdout",
     "output_type": "stream",
     "text": [
      "Los valores unicos de Gender son ['Male' 'Female']\n"
     ]
    }
   ],
   "source": [
    "print(f\"Los valores unicos de Gender son {astronautas.Gender.unique()}\")"
   ],
   "metadata": {
    "collapsed": false,
    "pycharm": {
     "name": "#%%\n"
    }
   }
  },
  {
   "cell_type": "code",
   "execution_count": 101,
   "outputs": [
    {
     "name": "stdout",
     "output_type": "stream",
     "text": [
      "Los valores unicos de Academy_or_university son ['University of California-Santa Barbara; University of Arizona'\n",
      " 'Montana State University; University of Colorado'\n",
      " 'US Military Academy; Princeton University'\n",
      " 'University of Missouri-Rolla' 'US Military Academy; MIT'\n",
      " 'Villanova University; University of Florida'\n",
      " 'DePauw University; Yale University'\n",
      " 'University of Illinois; US Naval Postgraduate School'\n",
      " 'US Naval Academy; Air Force Institute of Technology'\n",
      " 'Hastings College; Iowa State University'\n",
      " 'University of Washington; Creighton University'\n",
      " 'MIT; University of Washington' 'Harvard University; MIT'\n",
      " 'University of Illinois-Urbana'\n",
      " 'Purdue University; University of Southern California'\n",
      " 'Frostburg State University; University of Maryland'\n",
      " 'University of Idaho; University of Tennessee'\n",
      " 'George Washington University; University of Texas'\n",
      " 'Drexel University; Thomas Jefferson University'\n",
      " 'State University of New York-Buffalo; Cornell University; University of Texas'\n",
      " 'University of Texas'\n",
      " 'University of Washington; Northwestern University; Wright State University'\n",
      " 'Cornell University; Princeton University; University of Miami'\n",
      " 'Lehigh University; Georgetown University' 'Texas Technological College'\n",
      " 'Washington University; California Institute of Technology'\n",
      " 'US Air Force Academy; Purdue University'\n",
      " 'US Air Force Academy; Old Dominion University'\n",
      " 'Pennsylvania State University; Air Force Institute of Technology; University of Houston-Clear Lake'\n",
      " 'US Air Force Academy; University of Southern California'\n",
      " 'US Air Force Academy; Georgia Institute of Technology'\n",
      " 'US Naval Academy; University of Southern California'\n",
      " 'US Military Academy; California Institute of Technology'\n",
      " 'US Naval Academy; MIT' 'US Naval Academy; Columbia University'\n",
      " 'University of North Carolina at Chapel Hill; Duke University'\n",
      " 'University of Colorado; University of California Los Angeles'\n",
      " 'University of Wisconsin'\n",
      " 'The Citadel; University of Tennessee-Knoxville' 'US Air Force Academy'\n",
      " 'College of William & Mary; Eastern Virginia Medical School'\n",
      " 'Purdue University; Air Force Institute of Technology'\n",
      " 'US Naval Academy; University of West Florida' 'Cornell University'\n",
      " 'Rice University; Stanford University'\n",
      " 'US Coast Guard Academy; Embry-Riddle Aeronautical University'\n",
      " 'US Naval Academy; US Naval Postgraduate School' 'US Naval Academy'\n",
      " 'San Francisco State University'\n",
      " 'University of Arizona; University of Central Florida'\n",
      " 'California State University-Fullerton; University of California-Davis'\n",
      " 'Polytechnic Institute of Brooklyn; George Washington University; Virginia Polytechnic Institute'\n",
      " 'MIT; Michigan State University' 'University of Minnesota-Minneapolis'\n",
      " 'University of Colorado'\n",
      " 'University of Southern California; US Naval Postgraduate School; Princeton University'\n",
      " 'Emory University' 'Pennsylvania State University; Rutgers University'\n",
      " 'Purdue University; US Naval Postgraduate School' 'Purdue University'\n",
      " 'California Polytechnic State University; California Institute of Technology; MIT'\n",
      " 'University of Connecticut; MIT' 'University of Sydney; MIT'\n",
      " 'Punjab Engineering College; University of Texas-Arlington; University of Colorado'\n",
      " 'University of California-Berkeley; University of California-Santa Barbara'\n",
      " 'US Air Force Academy; Columbia University'\n",
      " 'University of Wisconsin-Madison'\n",
      " 'Colorado State University; Utah State University'\n",
      " 'US Military Academy; Georgia Institute of Technology'\n",
      " 'US Naval Academy; George Washington University; US Naval Postgraduate School'\n",
      " 'University of Texas; University of West Florida'\n",
      " 'MIT; University of Massachusetts'\n",
      " 'Syracuse University; Stanford University; Webster University'\n",
      " 'US Military Academy' 'Princeton University'\n",
      " 'Air Force Institute of Technology' 'Loyola College; MIT'\n",
      " 'US Naval Academy; George Washington University'\n",
      " 'Tennessee Polytechnic Institute; Virginia Polytechnic Institute'\n",
      " 'University of California-Los Angeles'\n",
      " 'Ohio State University; University of Southern California; University of Houston'\n",
      " 'Georgia Institute of Technology; Auburn University; University of Alabama-Huntsville'\n",
      " 'University of Alabama at Birmingham'\n",
      " 'US Air Force Academy; Embry-Riddle Aeronautical University'\n",
      " 'University of Washington; University of Houston'\n",
      " 'California State University; University of Colorado'\n",
      " 'US Air Force Academy; University of Washington'\n",
      " 'US Naval Academy; University of Tennessee-Knoxville'\n",
      " 'US Naval Academy; US Air Force Institute of Technology' 'MIT'\n",
      " 'University of Kansas' 'LeMoyne College; University of Maryland'\n",
      " 'University of Kansas; US Naval Postgraduate School'\n",
      " 'Washington State University; US Air Force Institute of Technology; University of Washington'\n",
      " 'Drexel University; US Naval Postgraduate School'\n",
      " 'Cornell University; Colorado State University'\n",
      " 'Purdue University; Queen’s University-Canada'\n",
      " 'MIT; Stanford University; University of Houston-Clear Lake'\n",
      " 'US Air Force Academy; MIT'\n",
      " 'Stanford University; University of Houston; University of Florida'\n",
      " 'Cambridge University'\n",
      " 'University of Notre Dame; Troy State University; University of Florida; Air Force Institute of Technology'\n",
      " 'US Military Academy; University of Virginia'\n",
      " 'Texas A&M University; Air Force Institute of Technology; University of Houston-Clear Lake'\n",
      " 'US Naval Academy; University of Michigan'\n",
      " 'California Institute of Technology'\n",
      " 'University of California-Berkeley; University of New Mexico'\n",
      " 'State University of New York; Embry-Riddle Aeronautical University; University of Florida'\n",
      " 'University of Illinois' 'University of Utah'\n",
      " 'University of Oklahoma; Stanford University'\n",
      " 'Vanderbilt University; University of Pennsylvania'\n",
      " 'University of Rochester; California Institute of Technology'\n",
      " 'California Polytechnic Institute' 'Muskingum College'\n",
      " 'Southeast Missouri State; University of Missouri'\n",
      " 'University of Notre Dame' 'University of Washington'\n",
      " 'US Naval Academy; University of Tennessee'\n",
      " 'University of Vermont; Johns Hopkins University'\n",
      " 'US Air Force Academy; George Washington University'\n",
      " 'US Air Force Academy; Columbia University; Troy State University'\n",
      " 'MIT; University of Chicago' 'US Air Force Academy; Webster College'\n",
      " 'University of Oklahoma'\n",
      " 'US Air Force Academy; Troy State University; US Air Force Institute of Technology'\n",
      " 'Purdue University; University of Houston-Clear Lake'\n",
      " 'University of Houston; Texas Tech University'\n",
      " 'Lehigh University; MIT; Rutgers University'\n",
      " 'Auburn University; University of Tennessee' 'Tufts University; MIT'\n",
      " 'University of Kansas; University of California'\n",
      " 'US Air Force Academy; Stanford University'\n",
      " 'University of Virginia; University of Michigan' nan\n",
      " 'US Air Force Academy; Golden Gate University'\n",
      " 'University of the Pacific; University of California-Santa Barbara'\n",
      " 'University of Colorado; US Naval Postgraduate School'\n",
      " 'Northwest Nazarene College; University of Colorado'\n",
      " 'Southern Illinois University-Carbondale; Florida Institute of Technology'\n",
      " 'Cornell University; US Naval Postgraduate School'\n",
      " 'US Naval Academy; Florida State Institute of Technology'\n",
      " 'Amherst College; Rice University; Harvard University'\n",
      " 'Southern Methodist University; Baylor University; University of Houston'\n",
      " 'University of Illinois; Stanford University'\n",
      " 'California State University-Northridge; Georgia Institute of Technology'\n",
      " 'Tarleton State University; Texas Woman’s University' 'Tulane University'\n",
      " 'Texas Tech University; California State University'\n",
      " 'State University of New York at Buffalo; Northeastern University'\n",
      " 'Stanford University; Cornell University'\n",
      " 'Stanford University; University of California-Berkeley; Rice University'\n",
      " 'US Air Force Academy; Columbia University; University of Texas'\n",
      " 'US Air Force Academy; University of Arizona'\n",
      " 'Missouri Southern State College; University of Missouri; University of Washington'\n",
      " 'US Air Force Academy; University of Alabama'\n",
      " 'US Merchant Marine Academy; US Naval Postgraduate School'\n",
      " 'State University of New York Maritime College; University of Tennessee-Knoxville'\n",
      " 'College of the Holy Cross; Northwestern University'\n",
      " 'Embry-Riddle University; Georgia Institute of Technology'\n",
      " 'US Military Academy; Georgia Institute of Technology; US Army War College'\n",
      " 'US Air Force Academy; Troy State University'\n",
      " 'University of Texas; University of Oklahoma' 'Brown University; MIT'\n",
      " 'University of Utah; University of California-Berkley'\n",
      " 'US Air Force Academy; University of Colorado; Colorado State University; University of Minnesota; University of Texas Medical Branch-Galveston'\n",
      " 'US Air Force Academy; US Air Force Institute of Technology'\n",
      " 'US Naval Academy; University of Southern California; University of North Carolina; Wayne State University'\n",
      " 'University of New Hampshire; Ohio State University; Harvard University'\n",
      " 'Princeton University; Stanford University'\n",
      " 'University College at Cardiff'\n",
      " 'Texas Tech University; University of Texas'\n",
      " 'US Naval Academy; Harvard University'\n",
      " 'US Naval Academy; University of Colorado'\n",
      " 'University of Michigan; US Naval Postgraduate School'\n",
      " 'Harvey Mudd College; University of Washington'\n",
      " 'Washington & Lee University; Cornell University; Stanford University'\n",
      " 'Cornell University; Stanford University'\n",
      " 'University of Missouri-Rolla; Georgia Institute of Technology'\n",
      " 'Davidson College; University of Virginia; Wake Forest University; University of Texas Medical Branch-Galveston'\n",
      " 'Columbia University; MIT'\n",
      " 'University of Connecticut; Rensselaer Polytechnic Institute; University of Houston-Clear Lake'\n",
      " 'Auburn University'\n",
      " 'University of California-Los Angeles; University of California-San Diego'\n",
      " 'Framingham State College; Bowie State College'\n",
      " 'US Naval Postgraduate School'\n",
      " 'US Naval Academy; Stanford University; University of Houston-Clear Lake'\n",
      " 'US Naval Academy; University of Maryland; US Naval Postgraduate School'\n",
      " 'University of Michigan'\n",
      " 'US Air Force Academy; California State University-Fresno'\n",
      " 'North Carolina A&T State College; MIT'\n",
      " 'University of Texas; California Institute of Technology'\n",
      " 'US Coast Guard Academy; West Florida University'\n",
      " 'Wellesley College; MIT' 'University of Richmond; University of Virginia'\n",
      " 'Whitman College'\n",
      " 'Carnegie-Mellon University; US Naval Postgraduate School; MIT'\n",
      " 'Stanford University'\n",
      " 'University of New Hampshire; University of Alabama-Birmingham; New York University'\n",
      " 'US Military Academy; US Air Force Institute of Technology'\n",
      " 'Syracuse University; Marietta College; University of California-Los Angeles; University of Kentucky; University of Houston; Columbia University'\n",
      " 'University of Illinois; California State University-Fresno'\n",
      " 'Yale University; University of Virginia'\n",
      " 'Dartmouth College; Rice University'\n",
      " 'University of Southern California; US Naval Postgraduate School'\n",
      " 'University of North Dakota; University of Texas'\n",
      " 'US Naval Academy; West Florida University'\n",
      " 'Williams College; Georgetown University; University of California-Berkeley'\n",
      " 'San Diego State University; Stanford University'\n",
      " 'Oregon State University; University of Tennessee'\n",
      " 'University of Texas-El Paso; University of Houston; Rice University'\n",
      " 'Baldwin Wallace College; US Naval Postgraduate School'\n",
      " 'US Air Force Academy; Texas A&M University'\n",
      " 'Youngstown State University; University of Florida'\n",
      " 'Amherst College; California Institute of Technology'\n",
      " 'University of Cambridge; MIT'\n",
      " 'University of Rochester; Pennsylvania State University; University of North Texas'\n",
      " 'Oregon State University; University of Arizona'\n",
      " 'US Naval Academy; University of West Florida; University of California-Los Angeles'\n",
      " 'Oklahoma Baptist University; Oklahoma State University'\n",
      " 'Georgia Institute of Technology; US Naval Postgraduate School'\n",
      " 'US Air Force Academy; Golden Gate University; US Naval War College'\n",
      " 'US Naval Academy; US Naval Postgraduate School; University of Southern California'\n",
      " 'University of Texas-Dallas'\n",
      " 'University of Pennsylvania; California Institute of Technology'\n",
      " 'Carnegie-Mellon University; University of Maryland'\n",
      " 'Drexel University; University of Maryland'\n",
      " 'University of Missouri; University of West Florida'\n",
      " 'Indiana University of Pennsylvania; Medical College of Pennsylvania'\n",
      " 'University of California-Davis; Stanford University'\n",
      " 'Colorado State University; US Naval Postgraduate School'\n",
      " 'University of California-San Diego; Stanford University'\n",
      " 'City College of New York; Rutgers University'\n",
      " 'Northeastern University; MIT' 'MIT; Harvard University'\n",
      " 'California Institute of Technology; Harvard University'\n",
      " 'University of Arizona'\n",
      " 'Florida State University; US Naval Postgraduate School'\n",
      " 'University of Sydney'\n",
      " 'US Air Force Academy; California Institute of Technology'\n",
      " 'University of California-Berkeley; University of Tennessee'\n",
      " 'US Merchant Marine Academy; University of California-Los Angeles'\n",
      " 'US Air Force Academy; Ohio State University; University of Colorado'\n",
      " 'University of Edinburgh; Leeds University' 'University of Minnesota'\n",
      " 'US Military Academy; University of Arizona'\n",
      " 'University of Southern Mississippi; University of Texas-Arlington'\n",
      " 'Embry-Riddle Aeronautical University; University of Central Florida'\n",
      " 'California Polytechnic State University'\n",
      " 'University of California-Santa Cruz; Dalhousie University'\n",
      " 'University of Colorado; Florida Atlantic University; Texas A&M University'\n",
      " 'University of Colorado; Rensselaer Polytechnic Institute; University of Hartford'\n",
      " 'Florida State University; University of Texas' 'University of Adelaide'\n",
      " 'Case Western Reserve University; Cornell University'\n",
      " 'Auburn University; University of Virginia'\n",
      " 'University of North Carolina'\n",
      " 'Southeastern Massachusetts University; Purdue University'\n",
      " 'Georgia Institute of Technology'\n",
      " 'Delft University of Technology; University of Delaware'\n",
      " 'University of California-Berkeley; Colorado State University'\n",
      " 'Saint John’s University; Stanford University'\n",
      " 'Auburn University; University of Colorado' 'Purdue University; MIT'\n",
      " 'University of California-Berkeley; University of Houston'\n",
      " 'Rice University' 'Kent State University; John Carroll University'\n",
      " 'University of California at Los Angeles'\n",
      " 'Purdue University; University of California-Berkeley'\n",
      " 'Pennsylvania State University; US Naval Postgraduate School'\n",
      " 'US Military Academy; University of Michigan'\n",
      " 'Iowa Wesleyan College; Rice University' 'Western Kentucky University'\n",
      " 'US Military Academy; US Naval Postgraduate School; US Naval War College'\n",
      " 'US Naval Academy; Florida Institute of Technology'\n",
      " 'Tennessee Technological University; University of Tennessee'\n",
      " 'Harvard University; University of Texas'\n",
      " 'Rensselaer Polytechnic Institute; Johns Hopkins University'\n",
      " 'University of Virginia; Stanford University'\n",
      " 'Purdue University; Indiana University'\n",
      " 'MIT; University of Texas-Austin; George Washington University']\n"
     ]
    }
   ],
   "source": [
    "print(f\"Los valores unicos de Academy_or_university son {astronautas.Academy_or_university.unique()}\")"
   ],
   "metadata": {
    "collapsed": false,
    "pycharm": {
     "name": "#%%\n"
    }
   }
  },
  {
   "cell_type": "code",
   "execution_count": 102,
   "outputs": [
    {
     "name": "stdout",
     "output_type": "stream",
     "text": [
      "Los valores unicos de Undergraduate_Major son ['Geology' 'Engineering Physics' 'Engineering' 'Applied Mathematics'\n",
      " 'Mechanical Engineering' 'Mathematics & Physics'\n",
      " 'Aeronautical & Astronautical Engineering' 'Nuclear Engineering'\n",
      " 'Physics' 'Physics & Astronomy' 'Aeronautics & Astronautics'\n",
      " 'Aeronautical Engineering' 'Accounting' 'Electrical Engineering'\n",
      " 'Aerospace Engineering' 'Zoology' 'Physics & Mechanical Engineering'\n",
      " 'Engineering Science' 'Engineering Mechanics' 'Electrical Science'\n",
      " 'Business Management; Aeronautical Engineering' 'Mathematics' 'Biology'\n",
      " 'Biochemistry' 'Chemistry' 'Aerospace Engineering & Mechanics'\n",
      " 'Physics & Mathematics' 'Chemical Engineering' 'Biological Science'\n",
      " 'Mathematics & Economics' 'Applied Biology; Mechanical Engineering'\n",
      " 'Chemistry; Physiological Optics' 'Physics & Astronautical Engineering'\n",
      " 'Naval Sciences' 'Ceramic Engineering' 'Astronautical Engineering'\n",
      " 'Astronautics' 'Animal Nutrition' 'Solid Earth Sciences'\n",
      " 'Aeronautics & Astronautics; Earth, Atmospheric & Planetary Sciences'\n",
      " 'Applied Science & Engineering' 'Psychology' 'Business Economics'\n",
      " 'Engineering Sciences; Astronautics & Mathematics' 'Business Finance'\n",
      " 'Ocean Engineering' 'Civil Engineering' 'Engineering Management'\n",
      " 'Astronomy' 'Chemistry & Biology' 'Marine Engineering & Nautical Science'\n",
      " 'Philosophy' 'Computer Science' 'Bioscience' 'Animal Science'\n",
      " 'Systems Engineering' 'Physics & Engineering' 'Industrial Engineering'\n",
      " 'Electrical Engineering; Computer Science' 'Education'\n",
      " 'Metallurgical Engineering' 'Electronics Engineering'\n",
      " 'Industrial Management' 'Human Biology'\n",
      " 'Mathematical & Electrical Science' 'Military Engineering'\n",
      " 'Mathematics & Statistics; Chemistry' 'Biology & Psychology'\n",
      " 'Mathematics; Russian' 'Geosciences' 'Economics' 'Physics; English'\n",
      " 'Mechanical & Aeronautical Engineering' 'Molecular Biology'\n",
      " 'Earth & Planetary Science' 'Music' 'Physiology' 'Ecological Science'\n",
      " 'Earth Sciences' 'Space Physics' 'Physical Science'\n",
      " 'Computer & Systems Engineering' 'Military Science']\n"
     ]
    }
   ],
   "source": [
    "print(f\"Los valores unicos de Undergraduate_Major son {astronautas.Undergraduate_Major.unique()}\")"
   ],
   "metadata": {
    "collapsed": false,
    "pycharm": {
     "name": "#%%\n"
    }
   }
  },
  {
   "cell_type": "code",
   "execution_count": 103,
   "outputs": [
    {
     "name": "stdout",
     "output_type": "stream",
     "text": [
      "Los valores unicos de Graduate_Major son ['Geology' 'Solar Physics' 'Aerospace Engineering' 'Applied Mathematics'\n",
      " 'Astronautics' 'Business Administration' 'Physics'\n",
      " 'Aeronautical Engineering' 'Nuclear Engineering'\n",
      " 'Aeronautics & Astronautics' 'Aeronautical & Astronautical Engineering'\n",
      " 'Environmental Science' 'Aviation Systems' 'Medicine'\n",
      " 'Medicine; Public Health' 'Medicine; Aerospace Medicine'\n",
      " 'Electrical Engineering; Computer Science; Medicine'\n",
      " 'Mechanical Engineering' 'Astronautical Engineering'\n",
      " 'Engineering Management' 'Aerospace Engineering; Business Administration'\n",
      " 'Electrical Engineering' 'Systems Management' 'Ocean Engineering'\n",
      " 'Aeronautical Engineering Systems' 'Aeronautical Science'\n",
      " 'Engineering Science' 'Physical Chemistry'\n",
      " 'Engineering Science; Aerospace Engineering'\n",
      " 'Aeronautics & Astronautics; Business Administration'\n",
      " 'Aerospace Engineering; Electrical Engineering'\n",
      " 'Aeronautical Engineering; Aeronautics & Astronautics'\n",
      " 'Applied Plasma Physics' 'Aeronautics & Astronautics; Instrumentation'\n",
      " 'Chemical Engineering' 'Microbial Ecology; Environmental Engineering'\n",
      " 'Science & Technology Administration; Aeronautical Engineering'\n",
      " 'Aeronautical Systems' 'Polymer Science & Engineering'\n",
      " 'Operations Research; Space Systems Management'\n",
      " 'Science & Technology Administration'\n",
      " 'Aerospace Engineering; Aeronautical & Astronautical Engineering'\n",
      " 'Safety Engineering; Industrial Engineering'\n",
      " 'Chemistry; Biochemistry; Optometry'\n",
      " 'Aerospace Science; Political Science' 'Aeronautics'\n",
      " 'Ceramic Engineering; Biomedical Engineering' 'Physics; Astrogeophysics'\n",
      " 'Geology; Geophysics' 'Aerospace Engineering; Aeronautics & Astronautics'\n",
      " 'Physiology' 'Geophysics; Seismology'\n",
      " 'Aeronautics & Astronautics; Physical Sciences' 'Chemistry; Medicine'\n",
      " 'Engineering; Medicine' 'Laboratory Astrophysics'\n",
      " 'International Relations; Aerospace Engineering; Astronautical Engineering'\n",
      " 'Mechanical & Aerospace Engineering'\n",
      " 'Systems Engineering; Physical Science (Space Science)'\n",
      " 'Aeronautics; Aerospace Engineering' 'Bioengineering' 'Engineering'\n",
      " 'Public Health; Medicine' 'Information Systems'\n",
      " 'Engineering Mechanics; Business Management' 'Business Management'\n",
      " 'Business Management; Space Operations' 'Physical Science'\n",
      " 'Mechanical Engineering; Electrical Engineering'\n",
      " 'Astronomy & Astrophysics' 'Astronomy' 'Public Administration'\n",
      " 'Electrical & Computer Engineering' 'Business Management; Space Systems'\n",
      " 'Space Technology' 'Materials Science; Astrophysics'\n",
      " 'Physiology; Medicine; Law' 'Engineering Science; Astronomy'\n",
      " 'Flight Structures Engineering; Business Administration'\n",
      " 'Planetary Science' 'Chemistry' 'Operations Research'\n",
      " 'Aerospace Engineering; Strategic Studies' 'Meteorology'\n",
      " 'Mechanical Engineering; Biomedical Engineering' 'Nuclear Physics'\n",
      " 'Medicine; Cardiovascular Physiology; Health Informatics; Public Health'\n",
      " 'Systems Management; Public Health; Medicine; Epidemiology'\n",
      " 'Veterinary Medicine; Public Administration'\n",
      " 'Mechanical Engineering; Mechanical & Aerospace Engineering'\n",
      " 'Astrogeophysics' 'Mechanical Engineering; Aeronautics & Astronautics'\n",
      " 'Applied Physics' 'Biochemistry'\n",
      " 'Electrical Engineering; Materials Science & Engineering'\n",
      " 'Engineering Physics; Medicine; Medical Science'\n",
      " 'Technology & Policy; Mechanical Engineering'\n",
      " 'Electrical Engineering; Physical Sciences' 'Oceanography' 'Education'\n",
      " 'Electrical Engineering; Business Administration'\n",
      " 'Computer Science; Aeronautical Engineering' 'Metallurgical Engineering'\n",
      " 'Mechanical  Engineering' 'Electronics Engineering'\n",
      " 'Earth & Planetary Sciences' 'Materials Science Engineering'\n",
      " 'Public Health; Biochemistry; Medicine; Microbiology'\n",
      " 'Business Administration; Physiology; Literature; Medicine' 'Law'\n",
      " 'Computer Science; Space Systems Operations'\n",
      " 'Mechanical  Engineering; Mechanical  Engineering & Materials Science'\n",
      " 'Computer Science' 'Engineering; Mechanical Engineering'\n",
      " 'Physiology; Biology' 'Astronautical & Aeronautical Engineering'\n",
      " 'Aeronautical Systems; Geophysics & Space Physics' 'Mathematics'\n",
      " 'Engineering Management; Strategic Studies'\n",
      " 'Aeronautical Engineering; Systems Management' 'Geosciences'\n",
      " 'Cancer Biology' 'Atmospheric Physics' 'Chemical Engineering; Medicine'\n",
      " 'Physics; Electrical Engineering' 'Biometeorology'\n",
      " 'Engineering Mechanics' 'Earth Sciences; Geology'\n",
      " 'Computer Systems; Computer Science'\n",
      " 'Aerospace Science; Business Administration'\n",
      " 'Engineering Science; Medicine' 'Materials Science' 'Applied Science'\n",
      " 'Hydraulic Engineering; Fluid Mechanics' 'Aerospace Engineering Sciences'\n",
      " 'Electrical Engineering; Aeronautics & Astronautics'\n",
      " 'Industrial Engineering' 'Space Physics' 'Solid State Physics'\n",
      " 'Aeronautical Engineering; National Security & Strategic Studies'\n",
      " 'Electrical Engineering; Aviation Systems' 'Systems Engineering'\n",
      " 'Physics; Business Management']\n"
     ]
    }
   ],
   "source": [
    "print(f\"Los valores unicos de Graduate_Major son {astronautas.Graduate_Major.unique()}\")"
   ],
   "metadata": {
    "collapsed": false,
    "pycharm": {
     "name": "#%%\n"
    }
   }
  },
  {
   "cell_type": "code",
   "execution_count": 104,
   "outputs": [
    {
     "name": "stdout",
     "output_type": "stream",
     "text": [
      "Los valores unicos de Military_Rank son ['Not Applicable' 'Colonel' 'Lieutenant Colonel' 'Captain' 'Major General'\n",
      " 'Commander' 'Lieutenant Commander' 'Brigadier General' 'Major'\n",
      " 'Lieutenant General' 'Chief Warrant Officer' 'Rear Admiral'\n",
      " 'Vice Admiral']\n"
     ]
    }
   ],
   "source": [
    "print(f\"Los valores unicos de Military_Rank son {astronautas.Military_Rank.unique()}\")"
   ],
   "metadata": {
    "collapsed": false,
    "pycharm": {
     "name": "#%%\n"
    }
   }
  },
  {
   "cell_type": "code",
   "execution_count": 105,
   "outputs": [
    {
     "name": "stdout",
     "output_type": "stream",
     "text": [
      "Los valores unicos de Military_Branch son ['Not Applicable' 'US Army (Retired)' 'US Air Force (Retired)'\n",
      " 'US Marine Corps (Retired)' 'US Navy (Retired)'\n",
      " 'US Air Force Reserves (Retired)' 'US Air Force' 'US Navy'\n",
      " 'US Marine Corps Reserves' 'US Marine Corps' 'US Coast Guard (Retired)'\n",
      " 'US Naval Reserves' 'US Air Force Reserves' 'US Army'\n",
      " 'US Naval Reserves (Retired)']\n"
     ]
    }
   ],
   "source": [
    "print(f\"Los valores unicos de Military_Branch son {astronautas.Military_Branch.unique()}\")"
   ],
   "metadata": {
    "collapsed": false,
    "pycharm": {
     "name": "#%%\n"
    }
   }
  },
  {
   "cell_type": "code",
   "execution_count": 106,
   "outputs": [
    {
     "name": "stdout",
     "output_type": "stream",
     "text": [
      "Los valores unicos de Missions son ['STS-119 (Discovery), ISS-31/32 (Soyuz)' 'STS 51-F (Challenger)'\n",
      " 'STS-28 (Columbia), STS-43 (Atlantis)'\n",
      " 'STS-41 (Discovery), STS-49 (Endeavor), STS-61 (Endeavor), STS-79 (Atlantis)'\n",
      " 'Gemini 12, Apollo 11'\n",
      " 'STS-46 (Atlantis), STS-62 (Columbia), STS-75 (Columbia)'\n",
      " 'ST-5 (Columbia), STS 51-A (Discovery)'\n",
      " 'STS-90 (Columbia), STS-106 (Atlantis), STS-109 (Columbia), STS-125 (Atlantis)'\n",
      " 'Apollo 8' 'STS-117/120 (Atlantis/Discovery), STS-131 (Discovery)'\n",
      " 'STS-89 (Endeavor), STS-107 (Columbia)'\n",
      " 'STS-119 (Discovery), STS-132 (Atlantis)'\n",
      " 'STS-37 (Atlantis), STS-47 (Endeavor), STS-59 (Endeavor), STS-79 (Atlantis)'\n",
      " 'STS-117 (Atlantis), STS-119 (Discovery)' 'Gemini 8, Apollo 11'\n",
      " 'STS-119 (Discovery)'\n",
      " 'STS-93 (Columbia), STS-100 (Endeavor), STS-112 (Atlantis)' 'No Missions'\n",
      " 'STS-29 (Discovery), STS-40 (Columbia)'\n",
      " 'STS-34 (Atlantis), STS-50 (Columbia), STS-71 (Atlantis)'\n",
      " 'STS-43 (Atlantis), STS-52 (Columbia), STS-68 (Endeavor), STS-81 (Atlantis)'\n",
      " 'ISS-19/20 (Soyuz), STS-133 (Discovery)'\n",
      " 'STS-72 (Endeavor), STS-96 (Discovery), STS-105 (Discovery)'\n",
      " 'Apollo 12, Skylab 3' 'STS-123 (Endeavor), STS-130 (Endeavor)'\n",
      " 'STS-29 (Discovery), STS-33 (Discovery), STS-43 (Atlantis), STS-58 (Columbia), STS-79/81 (Atlantis/Atlantis)'\n",
      " 'STS-86 (Atlantis), STS-97 (Endeavor), STS-110 (Atlantis)'\n",
      " 'STS-8 (Challenger), STS 61-A (Challenger), STS-39 (Discovery), STS-53 (Discovery)'\n",
      " 'STS-6 (Challenger), STS 51-D (Discovery), STS-51-J (Atlantis)'\n",
      " 'STS-126 (Endeavor), STS-133 (Discovery)'\n",
      " 'STS-61C (Columbia), STS-31 (Discovery), STS-45 (Atlantis), STS-60 (Discovery)'\n",
      " 'Gemini 7, Apollo 8'\n",
      " 'STS-126 (Endeavor), STS-132 (Atlantis), STS-133 (Discovery)'\n",
      " 'STS-50 (Columbia), STS-61 (Endeavor), STS-73 (Columbia), STS-82 (Discovery), STS-113 (Endeavor/Soyuz)'\n",
      " 'STS-78 (Columbia)'\n",
      " 'Apollo-Soyuz Test Project, STS-5 (Columbia), STS 41-B (Challenger), STS-35 (Columbia)'\n",
      " 'STS-8 (Challenger), STS 51-G (Discovery), STS-32 (Columbia), STS-49 (Endeavor)'\n",
      " 'STS-129 (Atlantis)'\n",
      " 'STS-47 (Endeavor), STS-66 (Atlantis), STS-77 (Endeavor), STS-85 (Discovery), STS-95 (Discovery), STS-103 (Discovery)'\n",
      " 'STS-107 (Columbia)' 'STS 28 (Columbia), STS-48 (Discovery)'\n",
      " 'STS 51-C (Discovery), STS 61-A (Challenger), STS-29 (Discovery), STS-48 (Discovery'\n",
      " 'STS-90 (Columbia)'\n",
      " 'STS-106 (Atlantis), STS-115 (Atlantis), ISS-29/30 (Soyuz)'\n",
      " 'STS-51 (Discovery), STS-68 (Endeavor), STS-77 (Endeavor), STS-108/111 (Endeavor)'\n",
      " 'STS-41 (Discovery), STS-53 (Discovery), STS-65 (Columbia), STS-88 (Endeavor)'\n",
      " 'STS-118 (Endeavor), ISS-23/24 (Soyuz)' 'STS-114 (Discovery)'\n",
      " 'STS-37 (Atlantis), STS-56 (Discovery), STS-74 (Atlantis)'\n",
      " 'STS-109 (Columbia)' 'Mercury 7' 'Skylab 4' 'STS-33 (Discovery)'\n",
      " 'STS-36 (Atlantis), STS-54 (Endeavor), STS-62 (Columbia), STS-77 (Endeavor)'\n",
      " 'STS-127 (Endeavor); ISS-35/36 (Soyuz)' 'STS 61-C (Columbia)'\n",
      " 'Gemini 9, Apollo 10, Apollo 17' 'Apollo 1'\n",
      " 'STS-124/126 (Discovery/Endeavor), STS-134 (Endeavor)'\n",
      " 'STS 61-C (Columbia), STS-34 (Atlantis), STS-46 (Atlantis), STS-60 (Discovery), STS-75 (Columbia), STS-91 (Discovery), STS-111 (Endeavor)'\n",
      " 'STS-87 (Columbia), STS-107 (Columbia)'\n",
      " 'STS-65 (Columbia), STS-72 (Endeavor), STS-92 (Discovery), ISS-10 (Soyuz)'\n",
      " 'STS-49 (Endeavor), STS-59 (Endeavor), STS-76 (Atlantis)'\n",
      " 'STS 61-B (Atlantis), STS-30 (Atlantis)'\n",
      " 'STS-53 (Discovery), STS-59 (Endeavor), STS-76 (Atlantis)'\n",
      " 'STS 41-D (Discovery), STS-29 (Discovery), STS-39 (Discovery)'\n",
      " 'STS-56 (Discovery), STS-69 (Endeavor), STS-80 (Columbia), STS-98 (Atlantis), STS-111 (Endeavor)'\n",
      " 'STS-73 (Columbia), STS-93 (Columbia), ISS-26/27 (Soyuz)'\n",
      " 'STS-63 (Discovery), STS-84 (Atlantis), STS-114 (Columbia), STS-93 (Discovery)'\n",
      " 'Gemini 10, Apollo 11' 'Gemini 5, Gemini 11, Apollo 12, Skylab 2'\n",
      " 'Mercury 9, Gemini 5'\n",
      " 'STS 51-l (Discovery), STS-26 (Discovery), STS-38 (Atlantis), STS-61 (Endeavor)'\n",
      " 'ISS-22/23 (Soyuz)'\n",
      " 'STS 51-G (Discovery), STS-36 (Atlantis), STS-48 (Discovery)'\n",
      " 'STS-1 (Columbia), STS-7 (Challenger), STS 41-C (Challenger), STS 41-G (Challenger)'\n",
      " 'STS-83 (Columbia), STS-94 (Columbia)'\n",
      " 'STS-38 (Atlantis), STS-51 (Discovery), STS-105/108 (Discovery/Endeavor)'\n",
      " 'Apollo 7' 'STS-85 (Discovery), STS-98 (Atlantis), STS-116 (Discovery)'\n",
      " 'STS-57 (Endeavor), STS-70 (Discovery), STS-88 (Endeavor), STS-109 (Columbia)'\n",
      " 'STS-47 (Endeavor), STS-60 (Discovery), STS-85 (Discovery)'\n",
      " 'STS-50 (Columbia)' 'STS-118 (Endeavor), STS-133 (Discovery)'\n",
      " 'STS-45 (Atlantis), STS-57 (Endeavor), STS-72 (Endeavor), STS-92 (Discovery)'\n",
      " 'Apollo 16'\n",
      " 'STS 61-A (Challenger), STS-32 (Columbia), STS-50 (Columbia), STS-71 (Atlantis), STS-89 (Endeavor)'\n",
      " 'STS-35 (Columbia), STS-67 (Endeavor)' 'STS-131 (Discovery)'\n",
      " 'STS-89 (Endeavor)' 'STS-2 (Columbia), STS 51-I (Discovery)' 'Apollo 17'\n",
      " 'STS-7 (Challenger), STS 51-G (Discovery)'\n",
      " 'STS-115 (Atlantis), STS-126 (Endeavor), STS-135 (Atlantis)'\n",
      " 'STS-58 (Columbia)' 'STS-125 (Atlantis), STS-134 (Endeavor)'\n",
      " 'ISS-09 (Soyuz), ISS-18 (Soyuz), STS-134 (Endeavor)'\n",
      " 'STS 51-A (Discovery)' 'STS 51-I (Discovery)'\n",
      " 'STS-45 (Atlantis), STS-56 (Discovery), STS-63 (Discovery), STS-84/86 (Atlantis), STS-103 (Discovery), ISS-08 (Soyuz)'\n",
      " 'STS-128 (Discovery), ISS-33/34 (Soyuz)'\n",
      " 'STS-123 (Endeavor), STS-129 (Atlantis)'\n",
      " 'STS-105 (Discovery), STS-117 (Atlantis), STS-128 (Discovery)'\n",
      " 'STS-121 (Discovery), STS-124 (Discovery), ISS-28/29 (Soyuz)'\n",
      " 'STS-110 (Atlantis), STS-122 (Atlantis)'\n",
      " 'STS-3 (Columbia), STS 51-F (Challenger)' 'STS-40 (Columbia)'\n",
      " 'STS-124 (Discovery), ISS-27/28 (Soyuz)'\n",
      " 'STS-8 (Challenger), STS 51-A (Discovery)'\n",
      " 'STS-27 (Atlantis), STS-35 (Columbia)' 'STS 51-D (Discovery)'\n",
      " 'Skylab 3, STS-9 (Columbia)'\n",
      " 'STS-38 (Atlantis), STS-48 (Discovery), STS-62 (Columbia)'\n",
      " 'STS-69 (Endeavor), STS-83 (Columbia), STS-94 (Columbia), STS-104 (Atlantis)'\n",
      " 'STS 41-B (Challenger), STS 61-C (Columbia), STS-27 (Atlantis), STS-47 (Endeavor), STS-71 (Atlantis)'\n",
      " 'Mercury 6, STS-95 (Discovery)'\n",
      " 'STS-37 (Atlantis), STS-59 (Endeavor), STS-76 (Atlantis), STS-108 (Endeavor)'\n",
      " 'STS-125 (Atlantis), STS-132 (Atlantis)' 'Gemini 11, Apollo 12'\n",
      " 'STS-91 (Discovery), STS-99 (Endeavor), STS-123 (Endeavor), STS-108 (Endeavor)'\n",
      " 'STS 51-J (Atlantis), STS-30 (Atlantis), STS-42 (Discovery), STS-57 (Endeavor)'\n",
      " 'STS 51-B (Challenger), STS-33 (Discovery), STS-44 (Atlantis)'\n",
      " 'STS-67 (Endeavor)' 'Mercury 4, Gemini 3, Apollo 1'\n",
      " 'STS-67 (Endeavor), STS-81 (Atlantis), STS-103 (Discovery), STS-125 (Atlantis), STS-109 (Columbia)'\n",
      " 'STS-40 (Columbia), STS-59 (Endeavor)' 'Apollo 13 '\n",
      " 'STS-65 (Columbia), STS-74 (Atlantis), STS-83 (Columbia), STS-94 (Columbia), STS-101 (Atlantis)'\n",
      " 'STS-124 (Discovery), STS-132 (Atlantis)'\n",
      " 'STS-39 (Discovery), STS-64 (Discovery)'\n",
      " 'STS-39 (Discovery), STS-54 (Endeavor), STS-71 (Atlantis), STS-82 (Discovery)'\n",
      " 'STS-55 (Columbia), STS-63 (Discovery)' 'STS 41-C (Challenger)'\n",
      " 'STS-4 (Columbia), STS 41-D (Discovery), STS 61-A (Challenger)'\n",
      " 'STS-7 (Challenger), STS 51-A (Discovery), STS-26 (Discovery)'\n",
      " 'STS 41-D (Discovery), STS 61-C (Columbia), STS-31 (Discovery), STS-82 (Discovery), STS-93 (Columbia)'\n",
      " 'STS-54 (Endeavor), STS-64 (Discovery), STS-78 (Columbia), STS-101 (Atlantis), STS-102/105 (Discovery)'\n",
      " 'STS-44 (Atlantis)'\n",
      " 'STS-44 (Atlantis), STS-55 (Columbia), STS-70 (Discovery), STS-78 (Columbia)'\n",
      " 'STS-128 (Discovery)' 'STS-113 (Endeavor)'\n",
      " 'STS-39 (Discovery), STS-49 (Endeavor), STS-65 (Columbia)'\n",
      " 'STS-116 (Discovery)'\n",
      " 'ST 51-J (Atlantis), STS-26 (Discovery), STS-36 (Atlantis), STS-42 (Discovery)'\n",
      " 'STS-90 (Columbia), STS-130 (Endeavor)'\n",
      " 'STS-104 (Atlantis), STS-118 (Endeavor), ST-129 (Atlantis)'\n",
      " 'STS 51-D (Discovery), STS-35 (Columbia), STS-46 (Atlantis), STS-61 (Endeavor), STS-75 (Columbia)'\n",
      " 'ISS-37/38 (Soyuz)'\n",
      " 'STS-75 (Columbia), STS-82 (Discovery), STS-101 (Atlantis), STS-105 (Discovery)'\n",
      " 'STS-127 (Endeavor), STS-135 (Atlantis)'\n",
      " 'STS-96 (Discovery), STS-107 (Columbia)' 'Apollo 15'\n",
      " 'STS-32 (Columbia), STS-46 (Atlantis), STS-62 (Columbia), STS-81 (Atlantis), STS-98 (Atlantis)'\n",
      " 'STS 51-L (Challenger)' 'STS-47 (Endeavor)'\n",
      " 'STS-40 (Columbia), STS-52 (Columbia), STS-67 (Endeavor), STS-80 (Columbia), STS-98 (Discovery)'\n",
      " 'STS-72 (Endeavor), STS-81 (Atlantis), STS-97 (Endeavor), STS-115 (Atlantis)'\n",
      " 'STS-125 (Atlantis)' 'STS-123 (Endeavor), STS-134 (Endeavor)'\n",
      " 'STS-59 (Endeavor), STS-68 (Endeavor), STS-80 (Columbia), STS-98 (Atlantis)'\n",
      " 'STS-91 (Discovery), STS-99 (Endeavor), STS-104 (Atlantis)'\n",
      " 'STS-102 (Discovery), STS-114 (Discovery)'\n",
      " 'STS-108 (Endeavor), STS-121 (Discovery), STS-124 (Discovery), STS-134 (Endeavor)'\n",
      " 'STS-103 (Discovery), STS-118 (Endeavor), ISS-25/26 (Soyuz), ISS-43/44/45/46 (Soyuz)'\n",
      " 'Skylab 2' 'STS-126 (Endeavor), ISS-49/50 (Soyuz)'\n",
      " 'STS-127/128 (Endeavor/Discovery), ISS-46/47 (Soyuz)'\n",
      " 'STS-70 (Discovery), STS-78 (Columbia), STS-87 (Columbia), STS-99 (Endeavor)'\n",
      " 'STS-67 (Endeavor), STS-86 (Atlantis), STS-91 (Discovery), STS-114 (Discovery)'\n",
      " 'STS-30 (Atlantis), STS-47 (Endeavor), STS-64 (Discovery), STS-82 (Discovery)'\n",
      " 'STS 41-G (Challenger), STS-28 (Columbia), STS-45 (Atlantis)'\n",
      " 'STS-5 (Columbia)' 'STS-73 (Columbia)'\n",
      " 'STS-9 (Columbia), STS-45 (Atlantis)' 'STS 51-B (Challenger)'\n",
      " 'ISS-44/45 (Soyuz)'\n",
      " 'STS-87 (Columbia), STS-95 (Discovery), STS-104 (Atlantis), STS-121 (Discovery), STS-133 (Discovery)'\n",
      " 'STS-64 (Discovery), STS-81/84 (Atlantis)'\n",
      " 'STS-78 (Columbia), STS-90 (Columbia), STS-109 (Columbia), STS-123 (Endeavor)'\n",
      " 'STS-111 (Endeavor), STS-113 (Endeavor)'\n",
      " 'STS-73 (Columbia), STS-92 (Discovery), STS-113 (Endeavor), ISS-14 (Soyuz)'\n",
      " 'STS 51-I (Discovery), STS-26 (Discovery), STS-35 (Columbia)'\n",
      " 'Skylab 3, STS-3 (Columbia)' 'STS-122 (Atlantis)'\n",
      " 'Gemini 7, Gemini 12, Apollo 8, Apollo 13'\n",
      " 'STS-32 (Columbia), STS-43 (Atlantis), STS-57 (Endeavor)'\n",
      " 'STS-84 (Atlantis), STS-106 (Atlantis), ISS-07 (Soyuz)'\n",
      " 'STS 51-G (Discovery), STS-34 (Atlantis), STS-43 (Atlantis), STS-58 (Columbia), STS-76/79 (Atlantis)'\n",
      " 'STS-112 (Atlantis), STS-126/119 (Endeavor/Discovery), STS-135 (Atlantis)'\n",
      " 'STS-127 (Endeavor), ISS-34/35 (Soyuz)'\n",
      " 'STS-109 (Columbia), STS-125 (Atlantis)'\n",
      " 'STS-106 (Atlantis), STS-118 (Endeavor), STS-131 (Discovery), ISS-38/39 (Soyuz)'\n",
      " 'Apollo 16, STS-4 (Columbia), STS 51-C (Discovery)'\n",
      " 'STS-58 (Columbia), STS-74 (Atlantis), STS-92 (Discovery), ISS-12 (Soyuz)'\n",
      " 'STS 41-G (Challenger)' 'STS 41-B (Challenger), STS-31 (Discovery)'\n",
      " 'STS-34 (Atlantis)' 'Gemini 4, Apollo 9'\n",
      " 'STS-39 (Discovery), STS-54 (Endeavor), STS-66 (Atlantis)'\n",
      " 'STS 41-B (Challenger), STS 51-L (Challenger)'\n",
      " 'STS-38 (Atlantis), STS-50 (Columbia), STS-64 (Discovery)'\n",
      " 'STS-41 (Discovery), STS-49 (Endeavor)'\n",
      " 'STS-92 (Discovery), STS-112 (Atlantis), STS-120 (Discovery)'\n",
      " 'STS-122 (Atlantis), STS-129 (Atlantis)' 'Apollo 14' 'STS-118 (Endeavor)'\n",
      " 'STS-110 (Atlantis)'\n",
      " 'STS 41-D (Discovery), STS-27 (Atlantis), STS-36 (Atlantis)'\n",
      " 'STS-6 (Challenger), STS 51-F (Challenger), STS-33 (Discovery), STS-44 (Atlantis), STS-61 (Endeavor), STS-80 (Columbia)'\n",
      " 'STS 51-G (Discovery), STS 61-A (Challenger), STS-37 (Atlantis), STS-55 (Columbia)'\n",
      " 'STS 41-C (Challenger), STS 61-C (Columbia), STS-26 (Discovery)'\n",
      " 'STS-51 (Discovery), STS-69 (Endeavor), STS-88 (Endeavor), STS- 109 (Columbia)'\n",
      " 'STS-84 (Atlantis), STS-97 (Endeavor)' 'STS-121 (Discovery)'\n",
      " 'STS-124 (Discovery), ISS-36/37 (Soyuz)'\n",
      " 'STS 61-B (Atlantis), STS-40 (Columbia)'\n",
      " 'STS-56 (Discovery), STS-66 (Atlantis), STS-96 (Discovery), STS-110 (Atlantis)'\n",
      " 'STS-117 (Atlantis), STS-128 (Discovery)'\n",
      " 'STS 51-C (Discovery), STS 51-L (Challenger)'\n",
      " 'STS-42 (Discovery), STS-56 (Discovery), STS-67 (Endeavor)'\n",
      " 'STS-5 (Columbia), STS 51-B (Challenger)' 'STS 51-J (Atlantis)'\n",
      " 'STS-66 (Atlantis), STS-86 (Atlantis), STS-95 (Discovery), STS-100 (Endeavor), STS-120 (Discovery)'\n",
      " 'STS-9 (Columbia), STS-35 (Columbia)'\n",
      " 'STS-116 (Discovery), STS-130 (Endeavor)' 'STS 51-C (Discovery)'\n",
      " 'STS-6 (Challenger)'\n",
      " 'ISS-6 (Soyuz), STS-126 (Endeavor), ISS-30/31 (Soyuz)'\n",
      " 'STS-100 (Endeavor), ISS-11 (Soyuz), STS-119 (Discovery)'\n",
      " 'STS-122 (Atlantis), STS-131 (Discovery)'\n",
      " 'STS-98 (Atlantis), ST-116 (Discovery), STS-127 (Endeavor)'\n",
      " 'STS-55 (Columbia), STS-71 (Atlantis), STS-84 (Atlantis), STS-91 (Discovery)'\n",
      " 'STS-42 (Discovery), STS-51 (Discovery), STS-79 (Atlantis)'\n",
      " 'STS-48 (Discovery), STS-60 (Discovery)'\n",
      " 'STS-89 (Endeavor), STS-104 (Atlantis), STS-117 (Atlantis)'\n",
      " 'STS-123/124 (Endeavor/Discovery), STS-132 (Atlantis)'\n",
      " 'STS 41-D (Discovery), STS 51-L (Challenger)' 'STS-102 (Discovery)'\n",
      " 'STS-28 (Columbia), STS-41 (Discovery), STS-50 (Columbia), STS-64 (Discovery)'\n",
      " 'STS-7 (Challenger), STS 41-G (Challenger)'\n",
      " 'STS-85 (Discovery), STS-95 (Discovery), STS-114 (Discovery), STS-130 (Endeavor)'\n",
      " 'STS-73 (Columbia), STS-80 (Columbia), STS-85 (Discovery), STS-96 (Discovery), STS-100 (Endeavor)'\n",
      " 'ST 61-B (Atlantis), ST-27 (Atlantis), ST-37 (Atlantis), STS-55 (Columbia), STS-74 (Atlantis), STS-88 (Endeavor), STS-110 (Atlantis)'\n",
      " 'ISS-48/49 (Soyuz)'\n",
      " 'STS-44 (Atlantis), STS-54 (Endeavor), STS-77 (Endeavor)'\n",
      " 'Mercury 8, Gemini 6, Apollo 7' 'Apollo 9'\n",
      " 'STS 41-C (Challenger), STS 51-L (Challenger)'\n",
      " 'Gemini 8, Apollo 9, Apollo 15' 'STS-72 (Endeavor), STS-87 (Columbia)'\n",
      " 'STS-58 (Columbia), STS-76 (Atlantis), STS-90 (Columbia)'\n",
      " 'STS 51-D (Discovery), STS-40 (Columbia), STS-58 (Columbia)'\n",
      " 'STS-60 (Discovery), STS-76 (Atlantis)'\n",
      " 'STS-112 (Atlantis), STS-121 (Discovery), STS-132 (Atlantis)'\n",
      " 'STS-9 (Columbia), STS 61-B (Atlantis), STS-28 (Columbia)'\n",
      " 'Mercury 3, Apollo 14'\n",
      " 'STS-37 (Atlantis), STS-41 (Discovery), STS-52 (Columbia), ISS-01/STS-102 (Soyuz/Discovery)'\n",
      " 'STS 51-C (Discovery), STS-31 (Discovery), STS-46 (Atlantis)'\n",
      " 'Apollo-Soyuz Test Project'\n",
      " 'STS-68 (Endeavor), STS-82 (Discovery), STS-103 (Discovery), STS-110 (Atlantis)'\n",
      " 'STS 61-B (Atlantis)' 'STS-29 (Discovery), STS-38 (Atlantis)'\n",
      " 'Gemini 6, Gemini 9, Apollo 10, Apollo-Soyuz Test Project'\n",
      " 'STS-115 (Atlantis), STS-126 (Endeavor)'\n",
      " 'STS 41-B (Challenger), STS 51-J (Atlantis)'\n",
      " 'STS-128/129 (Discovery/Atlantis), STS-133 (Discovery)'\n",
      " 'STS-88 (Endeavor), STS-105 (Discovery), STS-117 (Atlantis), STS-128 (Discovery)'\n",
      " 'STS 41-G (Challenger), STS-31 (Discovery), STS-45 (Atlantis)'\n",
      " 'STS-117 (Atlantis), STS-119 (Discovery), ISS-39/40 (Soyuz)' 'Apollo 13'\n",
      " 'STS-108 (Endeavor), STS-120/122 (Discovery/Atlantis)'\n",
      " 'STS-66 (Atlantis), STS-82 (Discovery), STS-97 (Endeavor), STS-115 (Discovery)'\n",
      " 'STS-7 (Challenger), STS 51-B (Challenger), STS-30 (Atlantis), STS-42 (Discovery), STS-71 (Soyuz/Atlantis)'\n",
      " 'STS-77 (Endeavor), STS-89/91 (Endeavor/Discovery), STS-102 (Discovery), STS-114 (Discovery)'\n",
      " 'STS-65 (Columbia), STS-70 (Discovery), STS-83 (Columbia), STS-94 (Columbia)'\n",
      " 'STS-33 (Discovery), STS-49 (Endeavor), STS-61 (Endeavor), STS-73 (Columbia)'\n",
      " 'STS-8 (Challenger), STS 51-B (Challenger)'\n",
      " 'STS-36 (Atlantis), STS-49 (Endeavor), STS-62 (Columbia)'\n",
      " 'STS-2 (Columbia), STS-8 (Challenger)'\n",
      " 'STS 41-C (Challenger), STS 51-I (Discovery)'\n",
      " 'STS-39 (Discovery), STS-52 (Columbia)'\n",
      " 'STS-130 (Endeavor), ISS-42/43 (Soyuz)'\n",
      " 'STS-44 (Atlantis), STS-53 (Discovery), STS-69 (Endeavor), STS-101 (Atlantis), STS-102/105 (Discovery)'\n",
      " 'STS-57 (Endeavor), STS-63 (Discovery), STS-83 (Columbia), STS-94 (Columbia), STS-99 (Endeavor)'\n",
      " 'STS-110 (Atlantis), STS-122 (Atlantis), STS-135 (Atlantis)'\n",
      " 'STS 41-D (Discovery), STS 51-D (Discovery), STS 61-B (Atlantis)'\n",
      " 'STS 51-A (Discovery), STS-30 (Atlantis), STS-53 (Discovery), STS-69 (Endeavor)'\n",
      " 'ISS-24/25 (Soyuz)'\n",
      " 'STS-51 (Discovery), STS-65 (Columbia), STS-79 (Atlantis), STS-108/111 (Endeavor)'\n",
      " 'STS-70 (Discovery), STS-101 (Atlantis)' 'Skylab 2, STS-6 (Challenger)'\n",
      " 'STS-32 (Columbia), STS-52 (Columbia), STS-63 (Discovery), STS-86 (Atlantis), STS-102 (Discovery), STS-113 (Endeavor)'\n",
      " 'STS-120 (Discovery), ISS-24/25 (Soyuz)' 'Gemini 4, Apollo 1'\n",
      " 'STS-111/113 (Endeavor), ISS-16 (Soyuz), ISS-50/51 (Soyuz)'\n",
      " 'STS-68 (Endeavor), STS-79 (Atlantis), STS-89 (Endeavor), STS-106 (Atlantis)'\n",
      " 'STS 51-D (Discovery), STS-34 (Atlantis)'\n",
      " 'STS-101 (Atlantis), ISS-13 (Soyuz), ISS-21/22 (Soyuz), ISS-47/48 (Soyuz)'\n",
      " 'STS-116/117 (Discovery/Atlantis), ISS-32/33 (Soyuz)'\n",
      " 'STS-129 (Atlantis), ISS-41/42 (Soyuz)'\n",
      " 'STS-121 (Discovery), STS-120 (Discovery), STS-131 (Discovery)'\n",
      " 'ISS-40/41 (Soyuz)'\n",
      " 'STS-57 (Endeavor), STS-68 (Endeavor), STS-81 (Atlantis), STS-92 (Discovery)'\n",
      " 'STS-58 (Columbia). STS-86/89 (Atlantis/Endeavor), STS-112 (Atlantis), STS-127 (Endeavor)'\n",
      " 'Gemini 3, Gemini 10, Apollo 10, Apollo 16, STS-1 (Columbia), STS-9 (Columbia)'\n",
      " 'STS-120 (Discovery), STS-130 (Endeavor)']\n"
     ]
    }
   ],
   "source": [
    "print(f\"Los valores unicos de Missions son {astronautas.Missions.unique()}\")"
   ],
   "metadata": {
    "collapsed": false,
    "pycharm": {
     "name": "#%%\n"
    }
   }
  },
  {
   "cell_type": "markdown",
   "source": [
    "Son multicategoricas asi que vamos a tener que usar one hot encoder"
   ],
   "metadata": {
    "collapsed": false
   }
  },
  {
   "cell_type": "code",
   "execution_count": 107,
   "outputs": [
    {
     "data": {
      "text/plain": "[array(['Alan B. Shepard Jr. ', 'Alan G. Poindexter', 'Alan L. Bean',\n        'Albert Sacco Jr.', 'Alfred M. Worden', 'Alvin B. Drew Jr. ',\n        'Andrew J. Feustel', 'Andrew M. Allen', 'Andrew S. W. Thomas',\n        'Anna L. Fisher', 'Anthony W. England', 'Barbara R. Morgan',\n        'Barry E. Wilmore', 'Bernard A. Harris Jr. ', 'Bill Nelson',\n        'Bonnie J. Dunbar', 'Brent W. Jett', 'Brewster H. Shaw Jr. ',\n        'Brian Duffy', \"Brian T. O'Leary\", 'Bruce E. Melnick',\n        'Bruce McCandless II ', \"Bryan D. O'Connor\", 'Buzz Aldrin',\n        'Byron K. Lichtenberg', 'C. Gordon Fullerton', 'C. Michael Foale',\n        'Carl E. Walz', 'Carl J. Meade', 'Carlos I. Noriega',\n        'Catherine G. Coleman', 'Charles A. Bassett II ',\n        'Charles Conrad Jr. ', 'Charles D. Gemar', 'Charles D. Walker',\n        'Charles E. Brady Jr. ', 'Charles F. Bolden Jr. ',\n        'Charles J. Camarda', 'Charles J. Precourt', 'Charles Lacy Veach',\n        'Charles M. Duke Jr. ', 'Charles O. Hobaugh',\n        'Christopher J. Cassidy', 'Christopher J. Ferguson',\n        'Christopher J. Loria', 'Clayton C. Anderson',\n        'Clifton C. Williams Jr. ', 'Curtis L. Brown Jr. ',\n        'Dale A. Gardner', 'Daniel C. Brandenstein', 'Daniel C. Burbank',\n        'Daniel M. Tani', 'Daniel T. Barry', 'Daniel W. Bursch',\n        'David A. Wolf', 'David C. Hilmers', 'David C. Leestma',\n        'David M. Brown', 'David M. Walker', 'David R. Scott',\n        'Dominic A. Antonelli', 'Dominic L. Gorie', 'Don L. Lind',\n        'Donald A. Thomas', 'Donald E. Williams', 'Donald H. Peterson',\n        'Donald K. Slayton', 'Donald L. Holmquest', 'Donald R. McMonagle',\n        'Donald R. Pettit', 'Donn F. Eisele',\n        'Dorothy M. Metcalf-Lindenberger', 'Douglas G. Hurley',\n        'Douglas H. Wheelock', 'Duane E. Graveline', 'Duane G. Carey',\n        'E. Michael Fincke', 'Edgar D. Mitchell', 'Edward G. Gibson',\n        'Edward G. Givens Jr. ', 'Edward H. White II ', 'Edward T. Lu',\n        'Eileen M. Collins', 'Ellen Ochoa', 'Ellen S. Baker',\n        'Elliot M. See Jr. ', 'Ellison S. Onizuka', 'Eric A. Boe',\n        'Eugene A. Cernan', 'F. Andrew Gaffney', 'F. Curtis Michel',\n        'Fernando Caldeiro', 'Francis R. Scobee', 'Frank Borman',\n        'Frank L. Culbertson Jr. ', 'Franklin R. Chang-Diaz',\n        'Fred W. Haise Jr. ', 'Fred W. Leslie', 'Frederick D. Gregory',\n        'Frederick H. Hauck', 'Frederick W. Sturckow', 'G. David Low',\n        'G. Reid Wiseman', 'Garrett E. Reisman', 'Gary E. Payton',\n        'George D. Nelson', 'George D. Zamka', 'Gerald P. Carr',\n        'Gregory B. Jarvis', 'Gregory C. Johnson', 'Gregory E. Chamitoff',\n        'Gregory H. Johnson', 'Gregory J. Harbaugh', 'Gregory T. Linteris',\n        'Guion S. Bluford Jr. ', 'Guy S. Gardner', 'Harrison H. Schmitt',\n        'Heidemarie M. Stefanyshyn-Piper', 'Henry W. Hartsfield Jr. ',\n        'J. Mike Lounge', 'Jack D. Fischer', 'Jack R. Lousma', 'Jake Garn',\n        'James A. Lovell Jr. ', 'James A. McDivitt', 'James A. Pawelczyk',\n        'James B. Irwin', 'James C. Adamson', 'James D. Halsell Jr. ',\n        'James D. Wetherbee', 'James D. van Hoften', 'James F. Buchli',\n        'James F. Reilly II ', 'James H. Newman', 'James M. Kelly',\n        'James P. Bagian', 'James P. Dutton Jr. ', 'James S. Voss',\n        'Janet L. Kavandi', 'Janice E. Voss', 'Jay Clark Buckey',\n        'Jeanette J. Epps', 'Jeffrey A. Hoffman', 'Jeffrey N. Williams',\n        'Jeffrey S. Ashby', 'Jerome Apt III ', 'Jerry L. Ross',\n        'Jerry M. Linenger', 'Joan E. Higginbotham', 'Joe F. Edwards Jr. ',\n        'Joe H. Engle', 'John A. Llewellyn', 'John B. Herrington',\n        'John D. Olivas', 'John E. Blaha', 'John H. Casper',\n        'John H. Glenn Jr. ', 'John L. Phillips', 'John L. Swigert Jr. ',\n        'John M. Fabian', 'John M. Grunsfeld', 'John O. Creighton',\n        'John S. Bull', 'John W. Young', 'John-David F. Bartoe',\n        'Jon A. McBride', 'Jose M. Hernandez', 'Joseph M. Acaba',\n        'Joseph P. Allen', 'Joseph P. Kerwin', 'Joseph R. Tanner',\n        'Judith A. Resnik', 'K. Megan McArthur', 'Kalpana Chawla',\n        'Karen L. Nyberg', 'Karl G. Henize', 'Karol J. Bobko',\n        'Kathleen Rubins', 'Kathryn C. Thornton', 'Kathryn D. Sullivan',\n        'Kathryn P. Hire', 'Kenneth D. Bowersox', 'Kenneth D. Cameron',\n        'Kenneth D. Cockrell', 'Kenneth S. Reightler Jr. ',\n        'Kenneth T. Ham', 'Kent V. Rominger', 'Kevin A. Ford',\n        'Kevin P. Chilton', 'Kevin R. Kregel', 'Kjell N. Lindgren',\n        'L. Blaine Hammond Jr. ', 'L. Gordon Cooper Jr. ',\n        'Laurel B. Clark', 'Lawrence J. Delucas', 'Lee J. Archambault',\n        'Lee M. Morin', 'Leland D. Melvin', 'Leroy Chiao',\n        'Linda M. Godwin', 'Lisa M. Nowak', 'Lodewijk van den Berg',\n        'Loren J. Shriver', 'Loren W. Acton', 'M. Scott Carpenter',\n        'Mae C. Jemison', 'Manley Lanier Carter Jr. ',\n        'Margaret Rhea Seddon', 'Mario Runco Jr. ', 'Mark C. Lee',\n        'Mark E. Kelly', 'Mark L. Polansky', 'Mark N. Brown',\n        'Mark T. Vande Hei', 'Marsha S. Ivins', 'Martin J. Fettman',\n        'Mary E. Weber', 'Mary L. Cleave', 'Michael A. Baker',\n        'Michael Collins', 'Michael E. Fossum', 'Michael E. Lopez-Alegria',\n        'Michael J. Bloomfield', 'Michael J. Foreman',\n        'Michael J. Massimino', 'Michael J. McCulley', 'Michael J. Smith',\n        'Michael L. Coats', 'Michael L. Gernhardt', 'Michael P. Anderson',\n        'Michael R. Barratt', 'Michael R. Clifford', 'Michael S. Hopkins',\n        'Michael T. Good', 'Millie Hughes-Fulford', 'N. Jan Davis',\n        'Nancy J. Currie', 'Neil A. Armstrong', 'Neil W. Woodward III ',\n        'Niclolas J. M. Patrick', 'Nicole P. Stott', 'Norman E. Thagard',\n        'Owen K. Garriott', 'Pamela A. Melroy',\n        'Patricia Hilliard Robertson', 'Patrick G. Forrester',\n        'Paul D. Scully-Power', 'Paul J. Weitz', 'Paul S. Lockhart',\n        'Paul W. Richards', 'Peggy A. Whitson', 'Peter J. K. Wisoff',\n        'Philip K. Chapman', 'Pierre J. Thuot', 'Piers J. Sellers',\n        'Randolph J. Bresnik', 'Rex J. Walheim', 'Richard A. Mastracchio',\n        'Richard A. Searfoss', 'Richard F. Gordon Jr. ',\n        'Richard H. Truly', 'Richard J. Hieb', 'Richard M. Linnehan',\n        'Richard M. Mullane', 'Richard N. Richards', 'Richard O. Covey',\n        'Richard R. Arnold II ', 'Rick D. Husband', 'Robert A. Parker',\n        'Robert C. Springer', 'Robert Cenker', 'Robert D. Cabana',\n        'Robert F. Overmyer', 'Robert L. Behnken', 'Robert L. Crippen',\n        'Robert L. Curbeam Jr. ', 'Robert L. Gibson',\n        'Robert L. Satcher Jr. ', 'Robert L. Stewart',\n        'Robert Shane Kimbrough', 'Roger B. Chaffee', 'Roger K. Crouch',\n        'Ronald A. Parise', 'Ronald E. Evans Jr. ', 'Ronald E. McNair',\n        'Ronald J. Garan Jr. ', 'Ronald J. Grabe', 'Ronald M. Sega',\n        'Roy D. Bridges Jr. ', 'Russell L. Schweickart',\n        'S. Christa McAuliffe', 'S. David Griggs', 'Sally K. Ride',\n        'Samuel T. Durrance', 'Sandra H. Magnus', 'Scott D. Altman',\n        'Scott D. Tingle', 'Scott E. Parazynski', 'Scott J. Horowitz',\n        'Scott J. Kelly', 'Serena M. Aunon', 'Shannon W. Lucid',\n        'Shannon Walker', 'Sherwood C. Spring', 'Sidney M. Gutierrez',\n        'Stanley G. Love', 'Stephanie D. Wilson', 'Stephen D. Thorne',\n        'Stephen G. Bowen', 'Stephen K. Robinson', 'Stephen N. Frick',\n        'Stephen S. Oswald', 'Steven A. Hawley', 'Steven L. Smith',\n        'Steven R. Nagel', 'Steven R. Swanson', 'Steven W. Lindsey',\n        'Story Musgrave', 'Stuart A. Roosa', 'Sunita L. Williams',\n        'Susan J. Helms', 'Susan L. Kilrain (Still)', 'Tamara E. Jernigan',\n        'Taylor G. Wang', 'Terence T. Henricks', 'Terrence W. Wilcutt',\n        'Terry J. Hart', 'Terry W. Virts Jr. ', 'Theodore C. Freeman',\n        'Thomas D. Akers', 'Thomas D. Jones', 'Thomas H. Marshburn',\n        'Thomas J. Hennen', 'Thomas K. Mattingly II ',\n        'Thomas P. Stafford', 'Timothy J. Creamer', 'Timothy L. Kopra',\n        'Tracy E. Caldwell (Dyson)', 'Vance D. Brand', 'Virgil I. Grissom',\n        'Walter Cunningham', 'Walter M. Schirra Jr. ', 'Wendy B. Lawrence',\n        'William A. Anders', 'William A. Oefelein', 'William A. Pailes',\n        'William B. Lenoir', 'William C. McCool', 'William E. Thornton',\n        'William F. Fisher', 'William F. Readdy', 'William G. Gregory',\n        'William M. Shepherd', 'William R. Pogue',\n        'William S. McArthur Jr. ', 'Winston E. Scott', 'Yvonne D. Cagle'],\n       dtype=object)]"
     },
     "metadata": {},
     "output_type": "display_data"
    },
    {
     "data": {
      "text/plain": "array(['Name_Alan B. Shepard Jr. ', 'Name_Alan G. Poindexter',\n       'Name_Alan L. Bean', 'Name_Albert Sacco Jr.',\n       'Name_Alfred M. Worden', 'Name_Alvin B. Drew Jr. ',\n       'Name_Andrew J. Feustel', 'Name_Andrew M. Allen',\n       'Name_Andrew S. W. Thomas', 'Name_Anna L. Fisher',\n       'Name_Anthony W. England', 'Name_Barbara R. Morgan',\n       'Name_Barry E. Wilmore', 'Name_Bernard A. Harris Jr. ',\n       'Name_Bill Nelson', 'Name_Bonnie J. Dunbar', 'Name_Brent W. Jett',\n       'Name_Brewster H. Shaw Jr. ', 'Name_Brian Duffy',\n       \"Name_Brian T. O'Leary\", 'Name_Bruce E. Melnick',\n       'Name_Bruce McCandless II ', \"Name_Bryan D. O'Connor\",\n       'Name_Buzz Aldrin', 'Name_Byron K. Lichtenberg',\n       'Name_C. Gordon Fullerton', 'Name_C. Michael Foale',\n       'Name_Carl E. Walz', 'Name_Carl J. Meade',\n       'Name_Carlos I. Noriega', 'Name_Catherine G. Coleman',\n       'Name_Charles A. Bassett II ', 'Name_Charles Conrad Jr. ',\n       'Name_Charles D. Gemar', 'Name_Charles D. Walker',\n       'Name_Charles E. Brady Jr. ', 'Name_Charles F. Bolden Jr. ',\n       'Name_Charles J. Camarda', 'Name_Charles J. Precourt',\n       'Name_Charles Lacy Veach', 'Name_Charles M. Duke Jr. ',\n       'Name_Charles O. Hobaugh', 'Name_Christopher J. Cassidy',\n       'Name_Christopher J. Ferguson', 'Name_Christopher J. Loria',\n       'Name_Clayton C. Anderson', 'Name_Clifton C. Williams Jr. ',\n       'Name_Curtis L. Brown Jr. ', 'Name_Dale A. Gardner',\n       'Name_Daniel C. Brandenstein', 'Name_Daniel C. Burbank',\n       'Name_Daniel M. Tani', 'Name_Daniel T. Barry',\n       'Name_Daniel W. Bursch', 'Name_David A. Wolf',\n       'Name_David C. Hilmers', 'Name_David C. Leestma',\n       'Name_David M. Brown', 'Name_David M. Walker',\n       'Name_David R. Scott', 'Name_Dominic A. Antonelli',\n       'Name_Dominic L. Gorie', 'Name_Don L. Lind',\n       'Name_Donald A. Thomas', 'Name_Donald E. Williams',\n       'Name_Donald H. Peterson', 'Name_Donald K. Slayton',\n       'Name_Donald L. Holmquest', 'Name_Donald R. McMonagle',\n       'Name_Donald R. Pettit', 'Name_Donn F. Eisele',\n       'Name_Dorothy M. Metcalf-Lindenberger', 'Name_Douglas G. Hurley',\n       'Name_Douglas H. Wheelock', 'Name_Duane E. Graveline',\n       'Name_Duane G. Carey', 'Name_E. Michael Fincke',\n       'Name_Edgar D. Mitchell', 'Name_Edward G. Gibson',\n       'Name_Edward G. Givens Jr. ', 'Name_Edward H. White II ',\n       'Name_Edward T. Lu', 'Name_Eileen M. Collins', 'Name_Ellen Ochoa',\n       'Name_Ellen S. Baker', 'Name_Elliot M. See Jr. ',\n       'Name_Ellison S. Onizuka', 'Name_Eric A. Boe',\n       'Name_Eugene A. Cernan', 'Name_F. Andrew Gaffney',\n       'Name_F. Curtis Michel', 'Name_Fernando Caldeiro',\n       'Name_Francis R. Scobee', 'Name_Frank Borman',\n       'Name_Frank L. Culbertson Jr. ', 'Name_Franklin R. Chang-Diaz',\n       'Name_Fred W. Haise Jr. ', 'Name_Fred W. Leslie',\n       'Name_Frederick D. Gregory', 'Name_Frederick H. Hauck',\n       'Name_Frederick W. Sturckow', 'Name_G. David Low',\n       'Name_G. Reid Wiseman', 'Name_Garrett E. Reisman',\n       'Name_Gary E. Payton', 'Name_George D. Nelson',\n       'Name_George D. Zamka', 'Name_Gerald P. Carr',\n       'Name_Gregory B. Jarvis', 'Name_Gregory C. Johnson',\n       'Name_Gregory E. Chamitoff', 'Name_Gregory H. Johnson',\n       'Name_Gregory J. Harbaugh', 'Name_Gregory T. Linteris',\n       'Name_Guion S. Bluford Jr. ', 'Name_Guy S. Gardner',\n       'Name_Harrison H. Schmitt', 'Name_Heidemarie M. Stefanyshyn-Piper',\n       'Name_Henry W. Hartsfield Jr. ', 'Name_J. Mike Lounge',\n       'Name_Jack D. Fischer', 'Name_Jack R. Lousma', 'Name_Jake Garn',\n       'Name_James A. Lovell Jr. ', 'Name_James A. McDivitt',\n       'Name_James A. Pawelczyk', 'Name_James B. Irwin',\n       'Name_James C. Adamson', 'Name_James D. Halsell Jr. ',\n       'Name_James D. Wetherbee', 'Name_James D. van Hoften',\n       'Name_James F. Buchli', 'Name_James F. Reilly II ',\n       'Name_James H. Newman', 'Name_James M. Kelly',\n       'Name_James P. Bagian', 'Name_James P. Dutton Jr. ',\n       'Name_James S. Voss', 'Name_Janet L. Kavandi',\n       'Name_Janice E. Voss', 'Name_Jay Clark Buckey',\n       'Name_Jeanette J. Epps', 'Name_Jeffrey A. Hoffman',\n       'Name_Jeffrey N. Williams', 'Name_Jeffrey S. Ashby',\n       'Name_Jerome Apt III ', 'Name_Jerry L. Ross',\n       'Name_Jerry M. Linenger', 'Name_Joan E. Higginbotham',\n       'Name_Joe F. Edwards Jr. ', 'Name_Joe H. Engle',\n       'Name_John A. Llewellyn', 'Name_John B. Herrington',\n       'Name_John D. Olivas', 'Name_John E. Blaha', 'Name_John H. Casper',\n       'Name_John H. Glenn Jr. ', 'Name_John L. Phillips',\n       'Name_John L. Swigert Jr. ', 'Name_John M. Fabian',\n       'Name_John M. Grunsfeld', 'Name_John O. Creighton',\n       'Name_John S. Bull', 'Name_John W. Young',\n       'Name_John-David F. Bartoe', 'Name_Jon A. McBride',\n       'Name_Jose M. Hernandez', 'Name_Joseph M. Acaba',\n       'Name_Joseph P. Allen', 'Name_Joseph P. Kerwin',\n       'Name_Joseph R. Tanner', 'Name_Judith A. Resnik',\n       'Name_K. Megan McArthur', 'Name_Kalpana Chawla',\n       'Name_Karen L. Nyberg', 'Name_Karl G. Henize',\n       'Name_Karol J. Bobko', 'Name_Kathleen Rubins',\n       'Name_Kathryn C. Thornton', 'Name_Kathryn D. Sullivan',\n       'Name_Kathryn P. Hire', 'Name_Kenneth D. Bowersox',\n       'Name_Kenneth D. Cameron', 'Name_Kenneth D. Cockrell',\n       'Name_Kenneth S. Reightler Jr. ', 'Name_Kenneth T. Ham',\n       'Name_Kent V. Rominger', 'Name_Kevin A. Ford',\n       'Name_Kevin P. Chilton', 'Name_Kevin R. Kregel',\n       'Name_Kjell N. Lindgren', 'Name_L. Blaine Hammond Jr. ',\n       'Name_L. Gordon Cooper Jr. ', 'Name_Laurel B. Clark',\n       'Name_Lawrence J. Delucas', 'Name_Lee J. Archambault',\n       'Name_Lee M. Morin', 'Name_Leland D. Melvin', 'Name_Leroy Chiao',\n       'Name_Linda M. Godwin', 'Name_Lisa M. Nowak',\n       'Name_Lodewijk van den Berg', 'Name_Loren J. Shriver',\n       'Name_Loren W. Acton', 'Name_M. Scott Carpenter',\n       'Name_Mae C. Jemison', 'Name_Manley Lanier Carter Jr. ',\n       'Name_Margaret Rhea Seddon', 'Name_Mario Runco Jr. ',\n       'Name_Mark C. Lee', 'Name_Mark E. Kelly', 'Name_Mark L. Polansky',\n       'Name_Mark N. Brown', 'Name_Mark T. Vande Hei',\n       'Name_Marsha S. Ivins', 'Name_Martin J. Fettman',\n       'Name_Mary E. Weber', 'Name_Mary L. Cleave',\n       'Name_Michael A. Baker', 'Name_Michael Collins',\n       'Name_Michael E. Fossum', 'Name_Michael E. Lopez-Alegria',\n       'Name_Michael J. Bloomfield', 'Name_Michael J. Foreman',\n       'Name_Michael J. Massimino', 'Name_Michael J. McCulley',\n       'Name_Michael J. Smith', 'Name_Michael L. Coats',\n       'Name_Michael L. Gernhardt', 'Name_Michael P. Anderson',\n       'Name_Michael R. Barratt', 'Name_Michael R. Clifford',\n       'Name_Michael S. Hopkins', 'Name_Michael T. Good',\n       'Name_Millie Hughes-Fulford', 'Name_N. Jan Davis',\n       'Name_Nancy J. Currie', 'Name_Neil A. Armstrong',\n       'Name_Neil W. Woodward III ', 'Name_Niclolas J. M. Patrick',\n       'Name_Nicole P. Stott', 'Name_Norman E. Thagard',\n       'Name_Owen K. Garriott', 'Name_Pamela A. Melroy',\n       'Name_Patricia Hilliard Robertson', 'Name_Patrick G. Forrester',\n       'Name_Paul D. Scully-Power', 'Name_Paul J. Weitz',\n       'Name_Paul S. Lockhart', 'Name_Paul W. Richards',\n       'Name_Peggy A. Whitson', 'Name_Peter J. K. Wisoff',\n       'Name_Philip K. Chapman', 'Name_Pierre J. Thuot',\n       'Name_Piers J. Sellers', 'Name_Randolph J. Bresnik',\n       'Name_Rex J. Walheim', 'Name_Richard A. Mastracchio',\n       'Name_Richard A. Searfoss', 'Name_Richard F. Gordon Jr. ',\n       'Name_Richard H. Truly', 'Name_Richard J. Hieb',\n       'Name_Richard M. Linnehan', 'Name_Richard M. Mullane',\n       'Name_Richard N. Richards', 'Name_Richard O. Covey',\n       'Name_Richard R. Arnold II ', 'Name_Rick D. Husband',\n       'Name_Robert A. Parker', 'Name_Robert C. Springer',\n       'Name_Robert Cenker', 'Name_Robert D. Cabana',\n       'Name_Robert F. Overmyer', 'Name_Robert L. Behnken',\n       'Name_Robert L. Crippen', 'Name_Robert L. Curbeam Jr. ',\n       'Name_Robert L. Gibson', 'Name_Robert L. Satcher Jr. ',\n       'Name_Robert L. Stewart', 'Name_Robert Shane Kimbrough',\n       'Name_Roger B. Chaffee', 'Name_Roger K. Crouch',\n       'Name_Ronald A. Parise', 'Name_Ronald E. Evans Jr. ',\n       'Name_Ronald E. McNair', 'Name_Ronald J. Garan Jr. ',\n       'Name_Ronald J. Grabe', 'Name_Ronald M. Sega',\n       'Name_Roy D. Bridges Jr. ', 'Name_Russell L. Schweickart',\n       'Name_S. Christa McAuliffe', 'Name_S. David Griggs',\n       'Name_Sally K. Ride', 'Name_Samuel T. Durrance',\n       'Name_Sandra H. Magnus', 'Name_Scott D. Altman',\n       'Name_Scott D. Tingle', 'Name_Scott E. Parazynski',\n       'Name_Scott J. Horowitz', 'Name_Scott J. Kelly',\n       'Name_Serena M. Aunon', 'Name_Shannon W. Lucid',\n       'Name_Shannon Walker', 'Name_Sherwood C. Spring',\n       'Name_Sidney M. Gutierrez', 'Name_Stanley G. Love',\n       'Name_Stephanie D. Wilson', 'Name_Stephen D. Thorne',\n       'Name_Stephen G. Bowen', 'Name_Stephen K. Robinson',\n       'Name_Stephen N. Frick', 'Name_Stephen S. Oswald',\n       'Name_Steven A. Hawley', 'Name_Steven L. Smith',\n       'Name_Steven R. Nagel', 'Name_Steven R. Swanson',\n       'Name_Steven W. Lindsey', 'Name_Story Musgrave',\n       'Name_Stuart A. Roosa', 'Name_Sunita L. Williams',\n       'Name_Susan J. Helms', 'Name_Susan L. Kilrain (Still)',\n       'Name_Tamara E. Jernigan', 'Name_Taylor G. Wang',\n       'Name_Terence T. Henricks', 'Name_Terrence W. Wilcutt',\n       'Name_Terry J. Hart', 'Name_Terry W. Virts Jr. ',\n       'Name_Theodore C. Freeman', 'Name_Thomas D. Akers',\n       'Name_Thomas D. Jones', 'Name_Thomas H. Marshburn',\n       'Name_Thomas J. Hennen', 'Name_Thomas K. Mattingly II ',\n       'Name_Thomas P. Stafford', 'Name_Timothy J. Creamer',\n       'Name_Timothy L. Kopra', 'Name_Tracy E. Caldwell (Dyson)',\n       'Name_Vance D. Brand', 'Name_Virgil I. Grissom',\n       'Name_Walter Cunningham', 'Name_Walter M. Schirra Jr. ',\n       'Name_Wendy B. Lawrence', 'Name_William A. Anders',\n       'Name_William A. Oefelein', 'Name_William A. Pailes',\n       'Name_William B. Lenoir', 'Name_William C. McCool',\n       'Name_William E. Thornton', 'Name_William F. Fisher',\n       'Name_William F. Readdy', 'Name_William G. Gregory',\n       'Name_William M. Shepherd', 'Name_William R. Pogue',\n       'Name_William S. McArthur Jr. ', 'Name_Winston E. Scott',\n       'Name_Yvonne D. Cagle'], dtype=object)"
     },
     "metadata": {},
     "output_type": "display_data"
    },
    {
     "name": "stderr",
     "output_type": "stream",
     "text": [
      "C:\\Users\\hp\\AppData\\Local\\Programs\\Python\\Python310\\lib\\site-packages\\pandas\\core\\frame.py:3678: PerformanceWarning: DataFrame is highly fragmented.  This is usually the result of calling `frame.insert` many times, which has poor performance.  Consider joining all columns at once using pd.concat(axis=1) instead.  To get a de-fragmented frame, use `newframe = frame.copy()`\n",
      "  self[col] = igetitem(value, i)\n"
     ]
    },
    {
     "data": {
      "text/plain": "       Year  Group   Status  Birth_Date        Birth_Place Gender  \\\n0    2004.0   19.0   Active  17-05-1967      Inglewood, CA   Male   \n1    1985.0   11.0  Retired  07-03-1936       Lewiston, MT   Male   \n2    1984.0   10.0  Retired  03-03-1946         Warsaw, NY   Male   \n3    1987.0   12.0  Retired  20-05-1951      St. Louis, MO   Male   \n4    1963.0    3.0  Retired  20-01-1930      Montclair, NJ   Male   \n..      ...    ...      ...         ...                ...    ...   \n352  1990.0   13.0  Retired  23-08-1956   Indianapolis, IN   Male   \n353  1998.0   17.0  Retired  26-07-1962        Chicago, IL   Male   \n354  1966.0    5.0  Retired  07-02-1932        Jackson, MI   Male   \n355  1962.0    2.0  Retired  24-09-1930  San Francisco, CA   Male   \n356  1998.0   17.0  Retired  29-06-1962    Jersey City, NJ   Male   \n\n                                 Academy_or_university  \\\n0    University of California-Santa Barbara; Univer...   \n1     Montana State University; University of Colorado   \n2            US Military Academy; Princeton University   \n3                         University of Missouri-Rolla   \n4                             US Military Academy; MIT   \n..                                                 ...   \n352              Purdue University; Indiana University   \n353  MIT; University of Texas-Austin; George Washin...   \n354        US Military Academy; University of Michigan   \n355                    Georgia Institute of Technology   \n356  US Naval Academy; Florida Institute of Technology   \n\n          Undergraduate_Major                            Graduate_Major  \\\n0                     Geology                                   Geology   \n1         Engineering Physics                             Solar Physics   \n2                 Engineering                     Aerospace Engineering   \n3         Applied Mathematics                       Applied Mathematics   \n4      Mechanical Engineering                              Astronautics   \n..                        ...                                       ...   \n352    Electrical Engineering                                  Medicine   \n353                   Physics              Physics; Business Management   \n354          Military Science  Aeronautical & Astronautical Engineering   \n355  Aeronautical Engineering                  Aeronautical Engineering   \n356               Mathematics                    Engineering Management   \n\n      Military_Rank  ... Name_William C. McCool  Name_William E. Thornton  \\\n0    Not Applicable  ...                    0.0                       0.0   \n1    Not Applicable  ...                    0.0                       0.0   \n2           Colonel  ...                    0.0                       0.0   \n3           Colonel  ...                    0.0                       0.0   \n4           Colonel  ...                    0.0                       0.0   \n..              ...  ...                    ...                       ...   \n352  Not Applicable  ...                    0.0                       0.0   \n353       Commander  ...                    0.0                       0.0   \n354         Colonel  ...                    0.0                       0.0   \n355         Captain  ...                    0.0                       0.0   \n356         Colonel  ...                    0.0                       0.0   \n\n     Name_William F. Fisher  Name_William F. Readdy  Name_William G. Gregory  \\\n0                       0.0                     0.0                      0.0   \n1                       0.0                     0.0                      0.0   \n2                       0.0                     0.0                      0.0   \n3                       0.0                     0.0                      0.0   \n4                       0.0                     0.0                      0.0   \n..                      ...                     ...                      ...   \n352                     0.0                     0.0                      0.0   \n353                     0.0                     0.0                      0.0   \n354                     0.0                     0.0                      0.0   \n355                     0.0                     0.0                      0.0   \n356                     0.0                     0.0                      0.0   \n\n    Name_William M. Shepherd Name_William R. Pogue  \\\n0                        0.0                   0.0   \n1                        0.0                   0.0   \n2                        0.0                   0.0   \n3                        0.0                   0.0   \n4                        0.0                   0.0   \n..                       ...                   ...   \n352                      0.0                   0.0   \n353                      0.0                   0.0   \n354                      0.0                   0.0   \n355                      0.0                   0.0   \n356                      0.0                   0.0   \n\n    Name_William S. McArthur Jr.   Name_Winston E. Scott  Name_Yvonne D. Cagle  \n0                             0.0                    0.0                   0.0  \n1                             0.0                    0.0                   0.0  \n2                             0.0                    0.0                   0.0  \n3                             0.0                    0.0                   0.0  \n4                             0.0                    0.0                   0.0  \n..                            ...                    ...                   ...  \n352                           0.0                    0.0                   0.0  \n353                           0.0                    0.0                   0.0  \n354                           0.0                    0.0                   0.0  \n355                           0.0                    0.0                   0.0  \n356                           0.0                    0.0                   0.0  \n\n[357 rows x 375 columns]",
      "text/html": "<div>\n<style scoped>\n    .dataframe tbody tr th:only-of-type {\n        vertical-align: middle;\n    }\n\n    .dataframe tbody tr th {\n        vertical-align: top;\n    }\n\n    .dataframe thead th {\n        text-align: right;\n    }\n</style>\n<table border=\"1\" class=\"dataframe\">\n  <thead>\n    <tr style=\"text-align: right;\">\n      <th></th>\n      <th>Year</th>\n      <th>Group</th>\n      <th>Status</th>\n      <th>Birth_Date</th>\n      <th>Birth_Place</th>\n      <th>Gender</th>\n      <th>Academy_or_university</th>\n      <th>Undergraduate_Major</th>\n      <th>Graduate_Major</th>\n      <th>Military_Rank</th>\n      <th>...</th>\n      <th>Name_William C. McCool</th>\n      <th>Name_William E. Thornton</th>\n      <th>Name_William F. Fisher</th>\n      <th>Name_William F. Readdy</th>\n      <th>Name_William G. Gregory</th>\n      <th>Name_William M. Shepherd</th>\n      <th>Name_William R. Pogue</th>\n      <th>Name_William S. McArthur Jr.</th>\n      <th>Name_Winston E. Scott</th>\n      <th>Name_Yvonne D. Cagle</th>\n    </tr>\n  </thead>\n  <tbody>\n    <tr>\n      <th>0</th>\n      <td>2004.0</td>\n      <td>19.0</td>\n      <td>Active</td>\n      <td>17-05-1967</td>\n      <td>Inglewood, CA</td>\n      <td>Male</td>\n      <td>University of California-Santa Barbara; Univer...</td>\n      <td>Geology</td>\n      <td>Geology</td>\n      <td>Not Applicable</td>\n      <td>...</td>\n      <td>0.0</td>\n      <td>0.0</td>\n      <td>0.0</td>\n      <td>0.0</td>\n      <td>0.0</td>\n      <td>0.0</td>\n      <td>0.0</td>\n      <td>0.0</td>\n      <td>0.0</td>\n      <td>0.0</td>\n    </tr>\n    <tr>\n      <th>1</th>\n      <td>1985.0</td>\n      <td>11.0</td>\n      <td>Retired</td>\n      <td>07-03-1936</td>\n      <td>Lewiston, MT</td>\n      <td>Male</td>\n      <td>Montana State University; University of Colorado</td>\n      <td>Engineering Physics</td>\n      <td>Solar Physics</td>\n      <td>Not Applicable</td>\n      <td>...</td>\n      <td>0.0</td>\n      <td>0.0</td>\n      <td>0.0</td>\n      <td>0.0</td>\n      <td>0.0</td>\n      <td>0.0</td>\n      <td>0.0</td>\n      <td>0.0</td>\n      <td>0.0</td>\n      <td>0.0</td>\n    </tr>\n    <tr>\n      <th>2</th>\n      <td>1984.0</td>\n      <td>10.0</td>\n      <td>Retired</td>\n      <td>03-03-1946</td>\n      <td>Warsaw, NY</td>\n      <td>Male</td>\n      <td>US Military Academy; Princeton University</td>\n      <td>Engineering</td>\n      <td>Aerospace Engineering</td>\n      <td>Colonel</td>\n      <td>...</td>\n      <td>0.0</td>\n      <td>0.0</td>\n      <td>0.0</td>\n      <td>0.0</td>\n      <td>0.0</td>\n      <td>0.0</td>\n      <td>0.0</td>\n      <td>0.0</td>\n      <td>0.0</td>\n      <td>0.0</td>\n    </tr>\n    <tr>\n      <th>3</th>\n      <td>1987.0</td>\n      <td>12.0</td>\n      <td>Retired</td>\n      <td>20-05-1951</td>\n      <td>St. Louis, MO</td>\n      <td>Male</td>\n      <td>University of Missouri-Rolla</td>\n      <td>Applied Mathematics</td>\n      <td>Applied Mathematics</td>\n      <td>Colonel</td>\n      <td>...</td>\n      <td>0.0</td>\n      <td>0.0</td>\n      <td>0.0</td>\n      <td>0.0</td>\n      <td>0.0</td>\n      <td>0.0</td>\n      <td>0.0</td>\n      <td>0.0</td>\n      <td>0.0</td>\n      <td>0.0</td>\n    </tr>\n    <tr>\n      <th>4</th>\n      <td>1963.0</td>\n      <td>3.0</td>\n      <td>Retired</td>\n      <td>20-01-1930</td>\n      <td>Montclair, NJ</td>\n      <td>Male</td>\n      <td>US Military Academy; MIT</td>\n      <td>Mechanical Engineering</td>\n      <td>Astronautics</td>\n      <td>Colonel</td>\n      <td>...</td>\n      <td>0.0</td>\n      <td>0.0</td>\n      <td>0.0</td>\n      <td>0.0</td>\n      <td>0.0</td>\n      <td>0.0</td>\n      <td>0.0</td>\n      <td>0.0</td>\n      <td>0.0</td>\n      <td>0.0</td>\n    </tr>\n    <tr>\n      <th>...</th>\n      <td>...</td>\n      <td>...</td>\n      <td>...</td>\n      <td>...</td>\n      <td>...</td>\n      <td>...</td>\n      <td>...</td>\n      <td>...</td>\n      <td>...</td>\n      <td>...</td>\n      <td>...</td>\n      <td>...</td>\n      <td>...</td>\n      <td>...</td>\n      <td>...</td>\n      <td>...</td>\n      <td>...</td>\n      <td>...</td>\n      <td>...</td>\n      <td>...</td>\n      <td>...</td>\n    </tr>\n    <tr>\n      <th>352</th>\n      <td>1990.0</td>\n      <td>13.0</td>\n      <td>Retired</td>\n      <td>23-08-1956</td>\n      <td>Indianapolis, IN</td>\n      <td>Male</td>\n      <td>Purdue University; Indiana University</td>\n      <td>Electrical Engineering</td>\n      <td>Medicine</td>\n      <td>Not Applicable</td>\n      <td>...</td>\n      <td>0.0</td>\n      <td>0.0</td>\n      <td>0.0</td>\n      <td>0.0</td>\n      <td>0.0</td>\n      <td>0.0</td>\n      <td>0.0</td>\n      <td>0.0</td>\n      <td>0.0</td>\n      <td>0.0</td>\n    </tr>\n    <tr>\n      <th>353</th>\n      <td>1998.0</td>\n      <td>17.0</td>\n      <td>Retired</td>\n      <td>26-07-1962</td>\n      <td>Chicago, IL</td>\n      <td>Male</td>\n      <td>MIT; University of Texas-Austin; George Washin...</td>\n      <td>Physics</td>\n      <td>Physics; Business Management</td>\n      <td>Commander</td>\n      <td>...</td>\n      <td>0.0</td>\n      <td>0.0</td>\n      <td>0.0</td>\n      <td>0.0</td>\n      <td>0.0</td>\n      <td>0.0</td>\n      <td>0.0</td>\n      <td>0.0</td>\n      <td>0.0</td>\n      <td>0.0</td>\n    </tr>\n    <tr>\n      <th>354</th>\n      <td>1966.0</td>\n      <td>5.0</td>\n      <td>Retired</td>\n      <td>07-02-1932</td>\n      <td>Jackson, MI</td>\n      <td>Male</td>\n      <td>US Military Academy; University of Michigan</td>\n      <td>Military Science</td>\n      <td>Aeronautical &amp; Astronautical Engineering</td>\n      <td>Colonel</td>\n      <td>...</td>\n      <td>0.0</td>\n      <td>0.0</td>\n      <td>0.0</td>\n      <td>0.0</td>\n      <td>0.0</td>\n      <td>0.0</td>\n      <td>0.0</td>\n      <td>0.0</td>\n      <td>0.0</td>\n      <td>0.0</td>\n    </tr>\n    <tr>\n      <th>355</th>\n      <td>1962.0</td>\n      <td>2.0</td>\n      <td>Retired</td>\n      <td>24-09-1930</td>\n      <td>San Francisco, CA</td>\n      <td>Male</td>\n      <td>Georgia Institute of Technology</td>\n      <td>Aeronautical Engineering</td>\n      <td>Aeronautical Engineering</td>\n      <td>Captain</td>\n      <td>...</td>\n      <td>0.0</td>\n      <td>0.0</td>\n      <td>0.0</td>\n      <td>0.0</td>\n      <td>0.0</td>\n      <td>0.0</td>\n      <td>0.0</td>\n      <td>0.0</td>\n      <td>0.0</td>\n      <td>0.0</td>\n    </tr>\n    <tr>\n      <th>356</th>\n      <td>1998.0</td>\n      <td>17.0</td>\n      <td>Retired</td>\n      <td>29-06-1962</td>\n      <td>Jersey City, NJ</td>\n      <td>Male</td>\n      <td>US Naval Academy; Florida Institute of Technology</td>\n      <td>Mathematics</td>\n      <td>Engineering Management</td>\n      <td>Colonel</td>\n      <td>...</td>\n      <td>0.0</td>\n      <td>0.0</td>\n      <td>0.0</td>\n      <td>0.0</td>\n      <td>0.0</td>\n      <td>0.0</td>\n      <td>0.0</td>\n      <td>0.0</td>\n      <td>0.0</td>\n      <td>0.0</td>\n    </tr>\n  </tbody>\n</table>\n<p>357 rows × 375 columns</p>\n</div>"
     },
     "execution_count": 107,
     "metadata": {},
     "output_type": "execute_result"
    }
   ],
   "source": [
    "from sklearn.preprocessing import OneHotEncoder\n",
    "\n",
    "ohe = OneHotEncoder(sparse=False)\n",
    "ohe.fit(astronautas[['Name']])\n",
    "display(ohe.categories_)\n",
    "display(ohe.get_feature_names_out())\n",
    "Name_encoded = ohe.transform(astronautas[['Name']])\n",
    "\n",
    "astronautas[ohe.get_feature_names_out()] = Name_encoded\n",
    "\n",
    "\n",
    "astronautas.drop(columns='Name', inplace = True)\n",
    "\n",
    "astronautas"
   ],
   "metadata": {
    "collapsed": false,
    "pycharm": {
     "name": "#%%\n"
    }
   }
  },
  {
   "cell_type": "code",
   "execution_count": 108,
   "outputs": [],
   "source": [
    "features = ['Space_Flights','Space_Flight_hours']"
   ],
   "metadata": {
    "collapsed": false,
    "pycharm": {
     "name": "#%%\n"
    }
   }
  },
  {
   "cell_type": "code",
   "execution_count": 109,
   "outputs": [],
   "source": [
    "formula = \"Space_Walks ~ \" + ' + '.join(features)"
   ],
   "metadata": {
    "collapsed": false,
    "pycharm": {
     "name": "#%%\n"
    }
   }
  },
  {
   "cell_type": "code",
   "execution_count": 110,
   "outputs": [
    {
     "name": "stdout",
     "output_type": "stream",
     "text": [
      "                            OLS Regression Results                            \n",
      "==============================================================================\n",
      "Dep. Variable:            Space_Walks   R-squared:                       0.235\n",
      "Model:                            OLS   Adj. R-squared:                  0.231\n",
      "Method:                 Least Squares   F-statistic:                     54.51\n",
      "Date:                Wed, 07 Dec 2022   Prob (F-statistic):           2.30e-21\n",
      "Time:                        17:45:11   Log-Likelihood:                -715.62\n",
      "No. Observations:                 357   AIC:                             1437.\n",
      "Df Residuals:                     354   BIC:                             1449.\n",
      "Df Model:                           2                                         \n",
      "Covariance Type:            nonrobust                                         \n",
      "======================================================================================\n",
      "                         coef    std err          t      P>|t|      [0.025      0.975]\n",
      "--------------------------------------------------------------------------------------\n",
      "Intercept              0.2636      0.185      1.424      0.155      -0.101       0.628\n",
      "Space_Flights          0.1663      0.071      2.351      0.019       0.027       0.305\n",
      "Space_Flight_hours     0.0005   5.33e-05      8.856      0.000       0.000       0.001\n",
      "==============================================================================\n",
      "Omnibus:                       97.732   Durbin-Watson:                   1.925\n",
      "Prob(Omnibus):                  0.000   Jarque-Bera (JB):              195.130\n",
      "Skew:                           1.458   Prob(JB):                     4.25e-43\n",
      "Kurtosis:                       5.147   Cond. No.                     4.61e+03\n",
      "==============================================================================\n",
      "\n",
      "Notes:\n",
      "[1] Standard Errors assume that the covariance matrix of the errors is correctly specified.\n",
      "[2] The condition number is large, 4.61e+03. This might indicate that there are\n",
      "strong multicollinearity or other numerical problems.\n"
     ]
    }
   ],
   "source": [
    "import statsmodels.formula.api as smf\n",
    "model4a = smf.ols(formula = formula, data = astronautas).fit()\n",
    "print(model4a.summary())"
   ],
   "metadata": {
    "collapsed": false,
    "pycharm": {
     "name": "#%%\n"
    }
   }
  },
  {
   "cell_type": "code",
   "execution_count": 111,
   "outputs": [
    {
     "data": {
      "text/plain": "       Year  Group   Status  Birth_Date        Birth_Place Gender  \\\n0    2004.0   19.0   Active  17-05-1967      Inglewood, CA   Male   \n1    1985.0   11.0  Retired  07-03-1936       Lewiston, MT   Male   \n2    1984.0   10.0  Retired  03-03-1946         Warsaw, NY   Male   \n3    1987.0   12.0  Retired  20-05-1951      St. Louis, MO   Male   \n4    1963.0    3.0  Retired  20-01-1930      Montclair, NJ   Male   \n..      ...    ...      ...         ...                ...    ...   \n352  1990.0   13.0  Retired  23-08-1956   Indianapolis, IN   Male   \n353  1998.0   17.0  Retired  26-07-1962        Chicago, IL   Male   \n354  1966.0    5.0  Retired  07-02-1932        Jackson, MI   Male   \n355  1962.0    2.0  Retired  24-09-1930  San Francisco, CA   Male   \n356  1998.0   17.0  Retired  29-06-1962    Jersey City, NJ   Male   \n\n                                 Academy_or_university  \\\n0    University of California-Santa Barbara; Univer...   \n1     Montana State University; University of Colorado   \n2            US Military Academy; Princeton University   \n3                         University of Missouri-Rolla   \n4                             US Military Academy; MIT   \n..                                                 ...   \n352              Purdue University; Indiana University   \n353  MIT; University of Texas-Austin; George Washin...   \n354        US Military Academy; University of Michigan   \n355                    Georgia Institute of Technology   \n356  US Naval Academy; Florida Institute of Technology   \n\n          Undergraduate_Major                            Graduate_Major  \\\n0                     Geology                                   Geology   \n1         Engineering Physics                             Solar Physics   \n2                 Engineering                     Aerospace Engineering   \n3         Applied Mathematics                       Applied Mathematics   \n4      Mechanical Engineering                              Astronautics   \n..                        ...                                       ...   \n352    Electrical Engineering                                  Medicine   \n353                   Physics              Physics; Business Management   \n354          Military Science  Aeronautical & Astronautical Engineering   \n355  Aeronautical Engineering                  Aeronautical Engineering   \n356               Mathematics                    Engineering Management   \n\n      Military_Rank  ... Name_William C. McCool  Name_William E. Thornton  \\\n0    Not Applicable  ...                    0.0                       0.0   \n1    Not Applicable  ...                    0.0                       0.0   \n2           Colonel  ...                    0.0                       0.0   \n3           Colonel  ...                    0.0                       0.0   \n4           Colonel  ...                    0.0                       0.0   \n..              ...  ...                    ...                       ...   \n352  Not Applicable  ...                    0.0                       0.0   \n353       Commander  ...                    0.0                       0.0   \n354         Colonel  ...                    0.0                       0.0   \n355         Captain  ...                    0.0                       0.0   \n356         Colonel  ...                    0.0                       0.0   \n\n     Name_William F. Fisher  Name_William F. Readdy  Name_William G. Gregory  \\\n0                       0.0                     0.0                      0.0   \n1                       0.0                     0.0                      0.0   \n2                       0.0                     0.0                      0.0   \n3                       0.0                     0.0                      0.0   \n4                       0.0                     0.0                      0.0   \n..                      ...                     ...                      ...   \n352                     0.0                     0.0                      0.0   \n353                     0.0                     0.0                      0.0   \n354                     0.0                     0.0                      0.0   \n355                     0.0                     0.0                      0.0   \n356                     0.0                     0.0                      0.0   \n\n    Name_William M. Shepherd Name_William R. Pogue  \\\n0                        0.0                   0.0   \n1                        0.0                   0.0   \n2                        0.0                   0.0   \n3                        0.0                   0.0   \n4                        0.0                   0.0   \n..                       ...                   ...   \n352                      0.0                   0.0   \n353                      0.0                   0.0   \n354                      0.0                   0.0   \n355                      0.0                   0.0   \n356                      0.0                   0.0   \n\n    Name_William S. McArthur Jr.   Name_Winston E. Scott  Name_Yvonne D. Cagle  \n0                             0.0                    0.0                   0.0  \n1                             0.0                    0.0                   0.0  \n2                             0.0                    0.0                   0.0  \n3                             0.0                    0.0                   0.0  \n4                             0.0                    0.0                   0.0  \n..                            ...                    ...                   ...  \n352                           0.0                    0.0                   0.0  \n353                           0.0                    0.0                   0.0  \n354                           0.0                    0.0                   0.0  \n355                           0.0                    0.0                   0.0  \n356                           0.0                    0.0                   0.0  \n\n[357 rows x 375 columns]",
      "text/html": "<div>\n<style scoped>\n    .dataframe tbody tr th:only-of-type {\n        vertical-align: middle;\n    }\n\n    .dataframe tbody tr th {\n        vertical-align: top;\n    }\n\n    .dataframe thead th {\n        text-align: right;\n    }\n</style>\n<table border=\"1\" class=\"dataframe\">\n  <thead>\n    <tr style=\"text-align: right;\">\n      <th></th>\n      <th>Year</th>\n      <th>Group</th>\n      <th>Status</th>\n      <th>Birth_Date</th>\n      <th>Birth_Place</th>\n      <th>Gender</th>\n      <th>Academy_or_university</th>\n      <th>Undergraduate_Major</th>\n      <th>Graduate_Major</th>\n      <th>Military_Rank</th>\n      <th>...</th>\n      <th>Name_William C. McCool</th>\n      <th>Name_William E. Thornton</th>\n      <th>Name_William F. Fisher</th>\n      <th>Name_William F. Readdy</th>\n      <th>Name_William G. Gregory</th>\n      <th>Name_William M. Shepherd</th>\n      <th>Name_William R. Pogue</th>\n      <th>Name_William S. McArthur Jr.</th>\n      <th>Name_Winston E. Scott</th>\n      <th>Name_Yvonne D. Cagle</th>\n    </tr>\n  </thead>\n  <tbody>\n    <tr>\n      <th>0</th>\n      <td>2004.0</td>\n      <td>19.0</td>\n      <td>Active</td>\n      <td>17-05-1967</td>\n      <td>Inglewood, CA</td>\n      <td>Male</td>\n      <td>University of California-Santa Barbara; Univer...</td>\n      <td>Geology</td>\n      <td>Geology</td>\n      <td>Not Applicable</td>\n      <td>...</td>\n      <td>0.0</td>\n      <td>0.0</td>\n      <td>0.0</td>\n      <td>0.0</td>\n      <td>0.0</td>\n      <td>0.0</td>\n      <td>0.0</td>\n      <td>0.0</td>\n      <td>0.0</td>\n      <td>0.0</td>\n    </tr>\n    <tr>\n      <th>1</th>\n      <td>1985.0</td>\n      <td>11.0</td>\n      <td>Retired</td>\n      <td>07-03-1936</td>\n      <td>Lewiston, MT</td>\n      <td>Male</td>\n      <td>Montana State University; University of Colorado</td>\n      <td>Engineering Physics</td>\n      <td>Solar Physics</td>\n      <td>Not Applicable</td>\n      <td>...</td>\n      <td>0.0</td>\n      <td>0.0</td>\n      <td>0.0</td>\n      <td>0.0</td>\n      <td>0.0</td>\n      <td>0.0</td>\n      <td>0.0</td>\n      <td>0.0</td>\n      <td>0.0</td>\n      <td>0.0</td>\n    </tr>\n    <tr>\n      <th>2</th>\n      <td>1984.0</td>\n      <td>10.0</td>\n      <td>Retired</td>\n      <td>03-03-1946</td>\n      <td>Warsaw, NY</td>\n      <td>Male</td>\n      <td>US Military Academy; Princeton University</td>\n      <td>Engineering</td>\n      <td>Aerospace Engineering</td>\n      <td>Colonel</td>\n      <td>...</td>\n      <td>0.0</td>\n      <td>0.0</td>\n      <td>0.0</td>\n      <td>0.0</td>\n      <td>0.0</td>\n      <td>0.0</td>\n      <td>0.0</td>\n      <td>0.0</td>\n      <td>0.0</td>\n      <td>0.0</td>\n    </tr>\n    <tr>\n      <th>3</th>\n      <td>1987.0</td>\n      <td>12.0</td>\n      <td>Retired</td>\n      <td>20-05-1951</td>\n      <td>St. Louis, MO</td>\n      <td>Male</td>\n      <td>University of Missouri-Rolla</td>\n      <td>Applied Mathematics</td>\n      <td>Applied Mathematics</td>\n      <td>Colonel</td>\n      <td>...</td>\n      <td>0.0</td>\n      <td>0.0</td>\n      <td>0.0</td>\n      <td>0.0</td>\n      <td>0.0</td>\n      <td>0.0</td>\n      <td>0.0</td>\n      <td>0.0</td>\n      <td>0.0</td>\n      <td>0.0</td>\n    </tr>\n    <tr>\n      <th>4</th>\n      <td>1963.0</td>\n      <td>3.0</td>\n      <td>Retired</td>\n      <td>20-01-1930</td>\n      <td>Montclair, NJ</td>\n      <td>Male</td>\n      <td>US Military Academy; MIT</td>\n      <td>Mechanical Engineering</td>\n      <td>Astronautics</td>\n      <td>Colonel</td>\n      <td>...</td>\n      <td>0.0</td>\n      <td>0.0</td>\n      <td>0.0</td>\n      <td>0.0</td>\n      <td>0.0</td>\n      <td>0.0</td>\n      <td>0.0</td>\n      <td>0.0</td>\n      <td>0.0</td>\n      <td>0.0</td>\n    </tr>\n    <tr>\n      <th>...</th>\n      <td>...</td>\n      <td>...</td>\n      <td>...</td>\n      <td>...</td>\n      <td>...</td>\n      <td>...</td>\n      <td>...</td>\n      <td>...</td>\n      <td>...</td>\n      <td>...</td>\n      <td>...</td>\n      <td>...</td>\n      <td>...</td>\n      <td>...</td>\n      <td>...</td>\n      <td>...</td>\n      <td>...</td>\n      <td>...</td>\n      <td>...</td>\n      <td>...</td>\n      <td>...</td>\n    </tr>\n    <tr>\n      <th>352</th>\n      <td>1990.0</td>\n      <td>13.0</td>\n      <td>Retired</td>\n      <td>23-08-1956</td>\n      <td>Indianapolis, IN</td>\n      <td>Male</td>\n      <td>Purdue University; Indiana University</td>\n      <td>Electrical Engineering</td>\n      <td>Medicine</td>\n      <td>Not Applicable</td>\n      <td>...</td>\n      <td>0.0</td>\n      <td>0.0</td>\n      <td>0.0</td>\n      <td>0.0</td>\n      <td>0.0</td>\n      <td>0.0</td>\n      <td>0.0</td>\n      <td>0.0</td>\n      <td>0.0</td>\n      <td>0.0</td>\n    </tr>\n    <tr>\n      <th>353</th>\n      <td>1998.0</td>\n      <td>17.0</td>\n      <td>Retired</td>\n      <td>26-07-1962</td>\n      <td>Chicago, IL</td>\n      <td>Male</td>\n      <td>MIT; University of Texas-Austin; George Washin...</td>\n      <td>Physics</td>\n      <td>Physics; Business Management</td>\n      <td>Commander</td>\n      <td>...</td>\n      <td>0.0</td>\n      <td>0.0</td>\n      <td>0.0</td>\n      <td>0.0</td>\n      <td>0.0</td>\n      <td>0.0</td>\n      <td>0.0</td>\n      <td>0.0</td>\n      <td>0.0</td>\n      <td>0.0</td>\n    </tr>\n    <tr>\n      <th>354</th>\n      <td>1966.0</td>\n      <td>5.0</td>\n      <td>Retired</td>\n      <td>07-02-1932</td>\n      <td>Jackson, MI</td>\n      <td>Male</td>\n      <td>US Military Academy; University of Michigan</td>\n      <td>Military Science</td>\n      <td>Aeronautical &amp; Astronautical Engineering</td>\n      <td>Colonel</td>\n      <td>...</td>\n      <td>0.0</td>\n      <td>0.0</td>\n      <td>0.0</td>\n      <td>0.0</td>\n      <td>0.0</td>\n      <td>0.0</td>\n      <td>0.0</td>\n      <td>0.0</td>\n      <td>0.0</td>\n      <td>0.0</td>\n    </tr>\n    <tr>\n      <th>355</th>\n      <td>1962.0</td>\n      <td>2.0</td>\n      <td>Retired</td>\n      <td>24-09-1930</td>\n      <td>San Francisco, CA</td>\n      <td>Male</td>\n      <td>Georgia Institute of Technology</td>\n      <td>Aeronautical Engineering</td>\n      <td>Aeronautical Engineering</td>\n      <td>Captain</td>\n      <td>...</td>\n      <td>0.0</td>\n      <td>0.0</td>\n      <td>0.0</td>\n      <td>0.0</td>\n      <td>0.0</td>\n      <td>0.0</td>\n      <td>0.0</td>\n      <td>0.0</td>\n      <td>0.0</td>\n      <td>0.0</td>\n    </tr>\n    <tr>\n      <th>356</th>\n      <td>1998.0</td>\n      <td>17.0</td>\n      <td>Retired</td>\n      <td>29-06-1962</td>\n      <td>Jersey City, NJ</td>\n      <td>Male</td>\n      <td>US Naval Academy; Florida Institute of Technology</td>\n      <td>Mathematics</td>\n      <td>Engineering Management</td>\n      <td>Colonel</td>\n      <td>...</td>\n      <td>0.0</td>\n      <td>0.0</td>\n      <td>0.0</td>\n      <td>0.0</td>\n      <td>0.0</td>\n      <td>0.0</td>\n      <td>0.0</td>\n      <td>0.0</td>\n      <td>0.0</td>\n      <td>0.0</td>\n    </tr>\n  </tbody>\n</table>\n<p>357 rows × 375 columns</p>\n</div>"
     },
     "execution_count": 111,
     "metadata": {},
     "output_type": "execute_result"
    }
   ],
   "source": [
    "astronautas_standardized = astronautas.copy()\n",
    "for f in features:\n",
    "    mu = astronautas[f].mean()\n",
    "    sigma = astronautas[f].std()\n",
    "    astronautas_standardized[f] = astronautas[f].map(lambda x: (x - mu) / sigma)\n",
    "astronautas_standardized"
   ],
   "metadata": {
    "collapsed": false,
    "pycharm": {
     "name": "#%%\n"
    }
   }
  },
  {
   "cell_type": "code",
   "execution_count": 112,
   "outputs": [
    {
     "data": {
      "text/plain": "'Space_Walks ~ Space_Flights + Space_Flight_hours'"
     },
     "execution_count": 112,
     "metadata": {},
     "output_type": "execute_result"
    }
   ],
   "source": [
    "formula = \"Space_Walks ~ \" + ' + '.join(features)\n",
    "formula"
   ],
   "metadata": {
    "collapsed": false,
    "pycharm": {
     "name": "#%%\n"
    }
   }
  },
  {
   "cell_type": "code",
   "execution_count": 113,
   "outputs": [
    {
     "name": "stdout",
     "output_type": "stream",
     "text": [
      "                            OLS Regression Results                            \n",
      "==============================================================================\n",
      "Dep. Variable:            Space_Walks   R-squared:                       0.235\n",
      "Model:                            OLS   Adj. R-squared:                  0.231\n",
      "Method:                 Least Squares   F-statistic:                     54.51\n",
      "Date:                Wed, 07 Dec 2022   Prob (F-statistic):           2.30e-21\n",
      "Time:                        17:45:11   Log-Likelihood:                -715.62\n",
      "No. Observations:                 357   AIC:                             1437.\n",
      "Df Residuals:                     354   BIC:                             1449.\n",
      "Df Model:                           2                                         \n",
      "Covariance Type:            nonrobust                                         \n",
      "======================================================================================\n",
      "                         coef    std err          t      P>|t|      [0.025      0.975]\n",
      "--------------------------------------------------------------------------------------\n",
      "Intercept              1.2465      0.095     13.058      0.000       1.059       1.434\n",
      "Space_Flights          0.2376      0.101      2.351      0.019       0.039       0.436\n",
      "Space_Flight_hours     0.8953      0.101      8.856      0.000       0.696       1.094\n",
      "==============================================================================\n",
      "Omnibus:                       97.732   Durbin-Watson:                   1.925\n",
      "Prob(Omnibus):                  0.000   Jarque-Bera (JB):              195.130\n",
      "Skew:                           1.458   Prob(JB):                     4.25e-43\n",
      "Kurtosis:                       5.147   Cond. No.                         1.40\n",
      "==============================================================================\n",
      "\n",
      "Notes:\n",
      "[1] Standard Errors assume that the covariance matrix of the errors is correctly specified.\n"
     ]
    }
   ],
   "source": [
    "model4 = smf.ols(formula = formula, data = astronautas_standardized).fit()\n",
    "print(model4.summary())"
   ],
   "metadata": {
    "collapsed": false,
    "pycharm": {
     "name": "#%%\n"
    }
   }
  },
  {
   "cell_type": "code",
   "execution_count": 114,
   "outputs": [
    {
     "data": {
      "text/plain": "<AxesSubplot:>"
     },
     "execution_count": 114,
     "metadata": {},
     "output_type": "execute_result"
    },
    {
     "data": {
      "text/plain": "<Figure size 432x288 with 1 Axes>",
      "image/png": "[encoded data removed]"
     },
     "metadata": {
      "needs_background": "light"
     },
     "output_type": "display_data"
    }
   ],
   "source": [
    "model4.params[1:].sort_values().plot(kind='barh')"
   ],
   "metadata": {
    "collapsed": false,
    "pycharm": {
     "name": "#%%\n"
    }
   }
  },
  {
   "cell_type": "code",
   "execution_count": 115,
   "outputs": [],
   "source": [
    "predicted_Space_Walks = model4.predict(astronautas_standardized[features])\n",
    "astronautas_residuals = predicted_Space_Walks - astronautas_standardized.Space_Walks"
   ],
   "metadata": {
    "collapsed": false,
    "pycharm": {
     "name": "#%%\n"
    }
   }
  },
  {
   "cell_type": "code",
   "execution_count": 116,
   "outputs": [
    {
     "data": {
      "text/plain": "0      0.157160\n1      0.519642\n2      0.753935\n3     -2.686855\n4     -1.267304\n         ...   \n352   -4.328657\n353    0.263636\n354   -0.430800\n355   -1.344288\n356    0.922908\nLength: 357, dtype: float64"
     },
     "execution_count": 116,
     "metadata": {},
     "output_type": "execute_result"
    }
   ],
   "source": [
    "astronautas_residuals"
   ],
   "metadata": {
    "collapsed": false,
    "pycharm": {
     "name": "#%%\n"
    }
   }
  },
  {
   "cell_type": "code",
   "execution_count": 117,
   "outputs": [
    {
     "data": {
      "text/plain": "1.7960565366357886"
     },
     "execution_count": 117,
     "metadata": {},
     "output_type": "execute_result"
    }
   ],
   "source": [
    "rmse = (astronautas_residuals**2).mean()**0.5\n",
    "rmse"
   ],
   "metadata": {
    "collapsed": false,
    "pycharm": {
     "name": "#%%\n"
    }
   }
  },
  {
   "cell_type": "markdown",
   "source": [
    "Ilustrado en un grafico se veria de la siguiente manera"
   ],
   "metadata": {
    "collapsed": false
   }
  },
  {
   "cell_type": "code",
   "execution_count": 118,
   "outputs": [
    {
     "data": {
      "text/plain": "Text(0.5, 1.0, 'residuals density plot')"
     },
     "execution_count": 118,
     "metadata": {},
     "output_type": "execute_result"
    },
    {
     "data": {
      "text/plain": "<Figure size 432x288 with 1 Axes>",
      "image/png": "[encoded data removed]"
     },
     "metadata": {
      "needs_background": "light"
     },
     "output_type": "display_data"
    }
   ],
   "source": [
    "sns.histplot(astronautas_residuals, kde=True, stat='density', discrete=True)\n",
    "plt.title('residuals density plot')"
   ],
   "metadata": {
    "collapsed": false,
    "pycharm": {
     "name": "#%%\n"
    }
   }
  },
  {
   "cell_type": "code",
   "execution_count": 119,
   "outputs": [
    {
     "data": {
      "text/plain": "<Figure size 432x288 with 1 Axes>",
      "image/png": "[encoded data removed]"
     },
     "metadata": {
      "needs_background": "light"
     },
     "output_type": "display_data"
    }
   ],
   "source": [
    "# Check with Residuals vs. Fitted scatterplot\n",
    "sns.scatterplot(x=predicted_Space_Walks, y=astronautas_residuals)\n",
    "plt.xlabel('Predicted Space_Walks')\n",
    "plt.ylabel('Residual Astronauts');"
   ],
   "metadata": {
    "collapsed": false,
    "pycharm": {
     "name": "#%%\n"
    }
   }
  },
  {
   "cell_type": "code",
   "execution_count": 120,
   "outputs": [
    {
     "data": {
      "text/plain": "Text(0.5, 1.0, 'distribution of predicted and actual values')"
     },
     "execution_count": 120,
     "metadata": {},
     "output_type": "execute_result"
    },
    {
     "data": {
      "text/plain": "<Figure size 432x288 with 1 Axes>",
      "image/png": "[encoded data removed]"
     },
     "metadata": {
      "needs_background": "light"
     },
     "output_type": "display_data"
    }
   ],
   "source": [
    "sns.kdeplot(predicted_Space_Walks, label='predicted Space_Walks')\n",
    "sns.kdeplot(astronautas.Space_Walks, label = 'Space_Walks actual')\n",
    "plt.title('distribution of predicted and actual values')"
   ],
   "metadata": {
    "collapsed": false,
    "pycharm": {
     "name": "#%%\n"
    }
   }
  },
  {
   "cell_type": "markdown",
   "source": [
    "Importamos las metricas, las saque de la unidad 10 de un python file"
   ],
   "metadata": {
    "collapsed": false
   }
  },
  {
   "cell_type": "code",
   "execution_count": 121,
   "outputs": [],
   "source": [
    "from metricas_lineal import RMSLE\n",
    "from metricas_lineal import MAE\n",
    "from metricas_lineal import MAPE"
   ],
   "metadata": {
    "collapsed": false,
    "pycharm": {
     "name": "#%%\n"
    }
   }
  },
  {
   "cell_type": "markdown",
   "source": [
    "Error cuadratico medio"
   ],
   "metadata": {
    "collapsed": false
   }
  },
  {
   "cell_type": "code",
   "execution_count": 122,
   "outputs": [
    {
     "data": {
      "text/plain": "0.6633192085571409"
     },
     "execution_count": 122,
     "metadata": {},
     "output_type": "execute_result"
    }
   ],
   "source": [
    "errorrmse = RMSLE(astronautas_standardized.Space_Walks,predicted_Space_Walks)\n",
    "errorrmse"
   ],
   "metadata": {
    "collapsed": false,
    "pycharm": {
     "name": "#%%\n"
    }
   }
  },
  {
   "cell_type": "markdown",
   "source": [
    "Error absoluto medio, utiliza los valores absolutos de los errores en los calculos, lo que arregla el probelam de la cancelacion de errores con signos opuestos"
   ],
   "metadata": {
    "collapsed": false
   }
  },
  {
   "cell_type": "code",
   "execution_count": 123,
   "outputs": [
    {
     "data": {
      "text/plain": "1.333549938239206"
     },
     "execution_count": 123,
     "metadata": {},
     "output_type": "execute_result"
    }
   ],
   "source": [
    "MAE(astronautas_standardized.Space_Walks,predicted_Space_Walks)"
   ],
   "metadata": {
    "collapsed": false,
    "pycharm": {
     "name": "#%%\n"
    }
   }
  },
  {
   "cell_type": "markdown",
   "source": [
    "Error de porcentaje medio absoluto, es una medida relativa que escala esencialmente la MAD para que se muestre en unidades de porcentaje en lugar de en unidades de la variable"
   ],
   "metadata": {
    "collapsed": false
   }
  },
  {
   "cell_type": "code",
   "execution_count": 124,
   "outputs": [
    {
     "data": {
      "text/plain": "inf"
     },
     "execution_count": 124,
     "metadata": {},
     "output_type": "execute_result"
    }
   ],
   "source": [
    "MAPE(astronautas_standardized.Space_Walks,predicted_Space_Walks)"
   ],
   "metadata": {
    "collapsed": false,
    "pycharm": {
     "name": "#%%\n"
    }
   }
  },
  {
   "cell_type": "markdown",
   "source": [
    "Estos valores quizas parecen fuera de lo normal pero caba recordar que estoy utilizando datos de la Nasa y suele ser muy subjetivo lo que yo quiero predecir porque esta fuera de este planeta y si bien podes planificar, jamas vas a poder predecir con una gran exactitud."
   ],
   "metadata": {
    "collapsed": false
   }
  },
  {
   "cell_type": "code",
   "execution_count": 125,
   "outputs": [],
   "source": [
    "df_reduced = astronautas.sample(n=400, random_state=1, replace=True)\n",
    "X_reduced = df_reduced[['Space_Flights','Space_Flight_hours']]\n",
    "y_reduced = df_reduced['Space_Walks']"
   ],
   "metadata": {
    "collapsed": false,
    "pycharm": {
     "name": "#%%\n"
    }
   }
  },
  {
   "cell_type": "markdown",
   "source": [
    "Importamos el modelo"
   ],
   "metadata": {
    "collapsed": false
   }
  },
  {
   "cell_type": "code",
   "execution_count": 126,
   "outputs": [
    {
     "data": {
      "text/plain": "array([0.22594221])"
     },
     "execution_count": 126,
     "metadata": {},
     "output_type": "execute_result"
    }
   ],
   "source": [
    "from sklearn.linear_model import LinearRegression\n",
    "import numpy as np\n",
    "\n",
    "log_model = LinearRegression() # Instanciamos el modelo previamente importado\n",
    "\n",
    "\n",
    "log_model.fit(np.array(X_reduced), y_reduced) # Entrenamos el modelo con la data entrenada anteriormente\n",
    "\n",
    "\n",
    "prediction = log_model.predict([[1,15]]) # A partir de ahora podemos usar el modelo para predecir\n",
    "\n",
    "prediction"
   ],
   "metadata": {
    "collapsed": false,
    "pycharm": {
     "name": "#%%\n"
    }
   }
  },
  {
   "cell_type": "code",
   "execution_count": 127,
   "outputs": [
    {
     "data": {
      "text/plain": "     Space_Flights  Space_Flight_hours  Space_Walks_hours  Space_Walks\n0                2                3307               13.0            2\n1                1                 190                0.0            0\n2                2                 334                0.0            0\n3                4                 814               29.0            4\n4                2                 289                8.0            2\n..             ...                 ...                ...          ...\n352              3                4044               41.0            7\n353              0                   0                0.0            0\n354              1                 295                0.5            1\n355              6                 835               20.0            3\n356              2                 692                0.0            0\n\n[357 rows x 4 columns]",
      "text/html": "<div>\n<style scoped>\n    .dataframe tbody tr th:only-of-type {\n        vertical-align: middle;\n    }\n\n    .dataframe tbody tr th {\n        vertical-align: top;\n    }\n\n    .dataframe thead th {\n        text-align: right;\n    }\n</style>\n<table border=\"1\" class=\"dataframe\">\n  <thead>\n    <tr style=\"text-align: right;\">\n      <th></th>\n      <th>Space_Flights</th>\n      <th>Space_Flight_hours</th>\n      <th>Space_Walks_hours</th>\n      <th>Space_Walks</th>\n    </tr>\n  </thead>\n  <tbody>\n    <tr>\n      <th>0</th>\n      <td>2</td>\n      <td>3307</td>\n      <td>13.0</td>\n      <td>2</td>\n    </tr>\n    <tr>\n      <th>1</th>\n      <td>1</td>\n      <td>190</td>\n      <td>0.0</td>\n      <td>0</td>\n    </tr>\n    <tr>\n      <th>2</th>\n      <td>2</td>\n      <td>334</td>\n      <td>0.0</td>\n      <td>0</td>\n    </tr>\n    <tr>\n      <th>3</th>\n      <td>4</td>\n      <td>814</td>\n      <td>29.0</td>\n      <td>4</td>\n    </tr>\n    <tr>\n      <th>4</th>\n      <td>2</td>\n      <td>289</td>\n      <td>8.0</td>\n      <td>2</td>\n    </tr>\n    <tr>\n      <th>...</th>\n      <td>...</td>\n      <td>...</td>\n      <td>...</td>\n      <td>...</td>\n    </tr>\n    <tr>\n      <th>352</th>\n      <td>3</td>\n      <td>4044</td>\n      <td>41.0</td>\n      <td>7</td>\n    </tr>\n    <tr>\n      <th>353</th>\n      <td>0</td>\n      <td>0</td>\n      <td>0.0</td>\n      <td>0</td>\n    </tr>\n    <tr>\n      <th>354</th>\n      <td>1</td>\n      <td>295</td>\n      <td>0.5</td>\n      <td>1</td>\n    </tr>\n    <tr>\n      <th>355</th>\n      <td>6</td>\n      <td>835</td>\n      <td>20.0</td>\n      <td>3</td>\n    </tr>\n    <tr>\n      <th>356</th>\n      <td>2</td>\n      <td>692</td>\n      <td>0.0</td>\n      <td>0</td>\n    </tr>\n  </tbody>\n</table>\n<p>357 rows × 4 columns</p>\n</div>"
     },
     "execution_count": 127,
     "metadata": {},
     "output_type": "execute_result"
    }
   ],
   "source": [
    "astronautas_times = astronautas[[\"Space_Flights\",\"Space_Flight_hours\",\"Space_Walks_hours\",\"Space_Walks\"]]\n",
    "astronautas_times"
   ],
   "metadata": {
    "collapsed": false,
    "pycharm": {
     "name": "#%%\n"
    }
   }
  },
  {
   "cell_type": "code",
   "execution_count": 128,
   "outputs": [
    {
     "data": {
      "text/plain": "       Year  Group      Status  Birth_Date           Birth_Place  Gender  \\\n313  1996.0   16.0     Retired  01-02-1961       Ridley Park, PA    Male   \n186  2004.0   19.0      Active  04-06-1967           Killeen, TX    Male   \n11   2000.0   18.0      Active  23-08-1967           Detroit, MI    Male   \n214  1996.0   16.0  Management  19-08-1962         Oceanside, NY    Male   \n341  1962.0    2.0    Deceased  14-11-1930       San Antonio, TX    Male   \n..      ...    ...         ...         ...                   ...     ...   \n66   1967.0    6.0     Retired  05-03-1935  Melbourne, Australia    Male   \n162  1995.0   15.0  Management  26-08-1959            Mobile, AL  Female   \n61   1985.0   11.0     Retired  05-11-1948         Uniontown, PA    Male   \n2    1984.0   10.0     Retired  03-03-1946            Warsaw, NY    Male   \n113  1998.0   17.0  Management  29-03-1957          Columbus, OH    Male   \n\n                                 Academy_or_university  \\\n313                                                MIT   \n186  US Military Academy; Georgia Institute of Tech...   \n11                       MIT; University of Washington   \n214                           Columbia University; MIT   \n341        US Military Academy; University of Michigan   \n..                                                 ...   \n66                           University of Sydney; MIT   \n162  US Naval Academy; Florida State Institute of T...   \n61   Pennsylvania State University; Rutgers University   \n2            US Military Academy; Princeton University   \n113     US Naval Academy; US Naval Postgraduate School   \n\n            Undergraduate_Major  \\\n313      Mechanical Engineering   \n186       Aerospace Engineering   \n11   Aeronautics & Astronautics   \n214      Industrial Engineering   \n341                     Physics   \n..                          ...   \n66        Physics & Mathematics   \n162      Engineering Management   \n61        Aerospace Engineering   \n2                   Engineering   \n113       Aerospace Engineering   \n\n                                    Graduate_Major       Military_Rank  ...  \\\n313                         Mechanical Engineering      Not Applicable  ...   \n186                            Operations Research             Colonel  ...   \n11                      Aeronautics & Astronautics           Commander  ...   \n214    Technology & Policy; Mechanical Engineering      Not Applicable  ...   \n341                       Aeronautical Engineering  Lieutenant Colonel  ...   \n..                                             ...                 ...  ...   \n66     Aeronautics & Astronautics; Instrumentation      Not Applicable  ...   \n162                               Space Technology             Captain  ...   \n61   Aerospace Engineering; Electrical Engineering      Not Applicable  ...   \n2                            Aerospace Engineering             Colonel  ...   \n113                       Aeronautical Engineering             Captain  ...   \n\n    Name_William C. McCool  Name_William E. Thornton  Name_William F. Fisher  \\\n313                    0.0                       0.0                     0.0   \n186                    0.0                       0.0                     0.0   \n11                     0.0                       0.0                     0.0   \n214                    0.0                       0.0                     0.0   \n341                    0.0                       0.0                     0.0   \n..                     ...                       ...                     ...   \n66                     0.0                       0.0                     0.0   \n162                    0.0                       0.0                     0.0   \n61                     0.0                       0.0                     0.0   \n2                      0.0                       0.0                     0.0   \n113                    0.0                       0.0                     0.0   \n\n     Name_William F. Readdy Name_William G. Gregory Name_William M. Shepherd  \\\n313                     0.0                     0.0                      0.0   \n186                     0.0                     0.0                      0.0   \n11                      0.0                     0.0                      0.0   \n214                     0.0                     0.0                      0.0   \n341                     0.0                     0.0                      0.0   \n..                      ...                     ...                      ...   \n66                      0.0                     0.0                      0.0   \n162                     0.0                     0.0                      0.0   \n61                      0.0                     0.0                      0.0   \n2                       0.0                     0.0                      0.0   \n113                     0.0                     0.0                      0.0   \n\n    Name_William R. Pogue  Name_William S. McArthur Jr.   \\\n313                   0.0                            0.0   \n186                   0.0                            0.0   \n11                    0.0                            0.0   \n214                   0.0                            0.0   \n341                   0.0                            0.0   \n..                    ...                            ...   \n66                    0.0                            0.0   \n162                   0.0                            0.0   \n61                    0.0                            0.0   \n2                     0.0                            0.0   \n113                   0.0                            0.0   \n\n     Name_Winston E. Scott  Name_Yvonne D. Cagle  \n313                    0.0                   0.0  \n186                    0.0                   0.0  \n11                     0.0                   0.0  \n214                    0.0                   0.0  \n341                    0.0                   0.0  \n..                     ...                   ...  \n66                     0.0                   0.0  \n162                    0.0                   0.0  \n61                     0.0                   0.0  \n2                      0.0                   0.0  \n113                    0.0                   0.0  \n\n[249 rows x 374 columns]",
      "text/html": "<div>\n<style scoped>\n    .dataframe tbody tr th:only-of-type {\n        vertical-align: middle;\n    }\n\n    .dataframe tbody tr th {\n        vertical-align: top;\n    }\n\n    .dataframe thead th {\n        text-align: right;\n    }\n</style>\n<table border=\"1\" class=\"dataframe\">\n  <thead>\n    <tr style=\"text-align: right;\">\n      <th></th>\n      <th>Year</th>\n      <th>Group</th>\n      <th>Status</th>\n      <th>Birth_Date</th>\n      <th>Birth_Place</th>\n      <th>Gender</th>\n      <th>Academy_or_university</th>\n      <th>Undergraduate_Major</th>\n      <th>Graduate_Major</th>\n      <th>Military_Rank</th>\n      <th>...</th>\n      <th>Name_William C. McCool</th>\n      <th>Name_William E. Thornton</th>\n      <th>Name_William F. Fisher</th>\n      <th>Name_William F. Readdy</th>\n      <th>Name_William G. Gregory</th>\n      <th>Name_William M. Shepherd</th>\n      <th>Name_William R. Pogue</th>\n      <th>Name_William S. McArthur Jr.</th>\n      <th>Name_Winston E. Scott</th>\n      <th>Name_Yvonne D. Cagle</th>\n    </tr>\n  </thead>\n  <tbody>\n    <tr>\n      <th>313</th>\n      <td>1996.0</td>\n      <td>16.0</td>\n      <td>Retired</td>\n      <td>01-02-1961</td>\n      <td>Ridley Park, PA</td>\n      <td>Male</td>\n      <td>MIT</td>\n      <td>Mechanical Engineering</td>\n      <td>Mechanical Engineering</td>\n      <td>Not Applicable</td>\n      <td>...</td>\n      <td>0.0</td>\n      <td>0.0</td>\n      <td>0.0</td>\n      <td>0.0</td>\n      <td>0.0</td>\n      <td>0.0</td>\n      <td>0.0</td>\n      <td>0.0</td>\n      <td>0.0</td>\n      <td>0.0</td>\n    </tr>\n    <tr>\n      <th>186</th>\n      <td>2004.0</td>\n      <td>19.0</td>\n      <td>Active</td>\n      <td>04-06-1967</td>\n      <td>Killeen, TX</td>\n      <td>Male</td>\n      <td>US Military Academy; Georgia Institute of Tech...</td>\n      <td>Aerospace Engineering</td>\n      <td>Operations Research</td>\n      <td>Colonel</td>\n      <td>...</td>\n      <td>0.0</td>\n      <td>0.0</td>\n      <td>0.0</td>\n      <td>0.0</td>\n      <td>0.0</td>\n      <td>0.0</td>\n      <td>0.0</td>\n      <td>0.0</td>\n      <td>0.0</td>\n      <td>0.0</td>\n    </tr>\n    <tr>\n      <th>11</th>\n      <td>2000.0</td>\n      <td>18.0</td>\n      <td>Active</td>\n      <td>23-08-1967</td>\n      <td>Detroit, MI</td>\n      <td>Male</td>\n      <td>MIT; University of Washington</td>\n      <td>Aeronautics &amp; Astronautics</td>\n      <td>Aeronautics &amp; Astronautics</td>\n      <td>Commander</td>\n      <td>...</td>\n      <td>0.0</td>\n      <td>0.0</td>\n      <td>0.0</td>\n      <td>0.0</td>\n      <td>0.0</td>\n      <td>0.0</td>\n      <td>0.0</td>\n      <td>0.0</td>\n      <td>0.0</td>\n      <td>0.0</td>\n    </tr>\n    <tr>\n      <th>214</th>\n      <td>1996.0</td>\n      <td>16.0</td>\n      <td>Management</td>\n      <td>19-08-1962</td>\n      <td>Oceanside, NY</td>\n      <td>Male</td>\n      <td>Columbia University; MIT</td>\n      <td>Industrial Engineering</td>\n      <td>Technology &amp; Policy; Mechanical Engineering</td>\n      <td>Not Applicable</td>\n      <td>...</td>\n      <td>0.0</td>\n      <td>0.0</td>\n      <td>0.0</td>\n      <td>0.0</td>\n      <td>0.0</td>\n      <td>0.0</td>\n      <td>0.0</td>\n      <td>0.0</td>\n      <td>0.0</td>\n      <td>0.0</td>\n    </tr>\n    <tr>\n      <th>341</th>\n      <td>1962.0</td>\n      <td>2.0</td>\n      <td>Deceased</td>\n      <td>14-11-1930</td>\n      <td>San Antonio, TX</td>\n      <td>Male</td>\n      <td>US Military Academy; University of Michigan</td>\n      <td>Physics</td>\n      <td>Aeronautical Engineering</td>\n      <td>Lieutenant Colonel</td>\n      <td>...</td>\n      <td>0.0</td>\n      <td>0.0</td>\n      <td>0.0</td>\n      <td>0.0</td>\n      <td>0.0</td>\n      <td>0.0</td>\n      <td>0.0</td>\n      <td>0.0</td>\n      <td>0.0</td>\n      <td>0.0</td>\n    </tr>\n    <tr>\n      <th>...</th>\n      <td>...</td>\n      <td>...</td>\n      <td>...</td>\n      <td>...</td>\n      <td>...</td>\n      <td>...</td>\n      <td>...</td>\n      <td>...</td>\n      <td>...</td>\n      <td>...</td>\n      <td>...</td>\n      <td>...</td>\n      <td>...</td>\n      <td>...</td>\n      <td>...</td>\n      <td>...</td>\n      <td>...</td>\n      <td>...</td>\n      <td>...</td>\n      <td>...</td>\n      <td>...</td>\n    </tr>\n    <tr>\n      <th>66</th>\n      <td>1967.0</td>\n      <td>6.0</td>\n      <td>Retired</td>\n      <td>05-03-1935</td>\n      <td>Melbourne, Australia</td>\n      <td>Male</td>\n      <td>University of Sydney; MIT</td>\n      <td>Physics &amp; Mathematics</td>\n      <td>Aeronautics &amp; Astronautics; Instrumentation</td>\n      <td>Not Applicable</td>\n      <td>...</td>\n      <td>0.0</td>\n      <td>0.0</td>\n      <td>0.0</td>\n      <td>0.0</td>\n      <td>0.0</td>\n      <td>0.0</td>\n      <td>0.0</td>\n      <td>0.0</td>\n      <td>0.0</td>\n      <td>0.0</td>\n    </tr>\n    <tr>\n      <th>162</th>\n      <td>1995.0</td>\n      <td>15.0</td>\n      <td>Management</td>\n      <td>26-08-1959</td>\n      <td>Mobile, AL</td>\n      <td>Female</td>\n      <td>US Naval Academy; Florida State Institute of T...</td>\n      <td>Engineering Management</td>\n      <td>Space Technology</td>\n      <td>Captain</td>\n      <td>...</td>\n      <td>0.0</td>\n      <td>0.0</td>\n      <td>0.0</td>\n      <td>0.0</td>\n      <td>0.0</td>\n      <td>0.0</td>\n      <td>0.0</td>\n      <td>0.0</td>\n      <td>0.0</td>\n      <td>0.0</td>\n    </tr>\n    <tr>\n      <th>61</th>\n      <td>1985.0</td>\n      <td>11.0</td>\n      <td>Retired</td>\n      <td>05-11-1948</td>\n      <td>Uniontown, PA</td>\n      <td>Male</td>\n      <td>Pennsylvania State University; Rutgers University</td>\n      <td>Aerospace Engineering</td>\n      <td>Aerospace Engineering; Electrical Engineering</td>\n      <td>Not Applicable</td>\n      <td>...</td>\n      <td>0.0</td>\n      <td>0.0</td>\n      <td>0.0</td>\n      <td>0.0</td>\n      <td>0.0</td>\n      <td>0.0</td>\n      <td>0.0</td>\n      <td>0.0</td>\n      <td>0.0</td>\n      <td>0.0</td>\n    </tr>\n    <tr>\n      <th>2</th>\n      <td>1984.0</td>\n      <td>10.0</td>\n      <td>Retired</td>\n      <td>03-03-1946</td>\n      <td>Warsaw, NY</td>\n      <td>Male</td>\n      <td>US Military Academy; Princeton University</td>\n      <td>Engineering</td>\n      <td>Aerospace Engineering</td>\n      <td>Colonel</td>\n      <td>...</td>\n      <td>0.0</td>\n      <td>0.0</td>\n      <td>0.0</td>\n      <td>0.0</td>\n      <td>0.0</td>\n      <td>0.0</td>\n      <td>0.0</td>\n      <td>0.0</td>\n      <td>0.0</td>\n      <td>0.0</td>\n    </tr>\n    <tr>\n      <th>113</th>\n      <td>1998.0</td>\n      <td>17.0</td>\n      <td>Management</td>\n      <td>29-03-1957</td>\n      <td>Columbus, OH</td>\n      <td>Male</td>\n      <td>US Naval Academy; US Naval Postgraduate School</td>\n      <td>Aerospace Engineering</td>\n      <td>Aeronautical Engineering</td>\n      <td>Captain</td>\n      <td>...</td>\n      <td>0.0</td>\n      <td>0.0</td>\n      <td>0.0</td>\n      <td>0.0</td>\n      <td>0.0</td>\n      <td>0.0</td>\n      <td>0.0</td>\n      <td>0.0</td>\n      <td>0.0</td>\n      <td>0.0</td>\n    </tr>\n  </tbody>\n</table>\n<p>249 rows × 374 columns</p>\n</div>"
     },
     "execution_count": 128,
     "metadata": {},
     "output_type": "execute_result"
    }
   ],
   "source": [
    "from sklearn.model_selection import train_test_split\n",
    "\n",
    "X = astronautas.drop('Space_Walks', axis=1)\n",
    "y = astronautas['Space_Walks']\n",
    "X_train, X_test, y_train, y_test = train_test_split(X, y, test_size=0.30)\n",
    "#X_test\n",
    "X_train"
   ],
   "metadata": {
    "collapsed": false,
    "pycharm": {
     "name": "#%%\n"
    }
   }
  },
  {
   "cell_type": "code",
   "execution_count": 129,
   "outputs": [
    {
     "data": {
      "text/plain": "0.9738618927461118"
     },
     "execution_count": 129,
     "metadata": {},
     "output_type": "execute_result"
    }
   ],
   "source": [
    "from sklearn.linear_model import LinearRegression\n",
    "from sklearn.model_selection import cross_val_score\n",
    "\n",
    "\n",
    "X = astronautas.select_dtypes(exclude='object').drop('Space_Walks', axis=1) # excluding all non-numeric columns and the target\n",
    "\n",
    "y = astronautas.Space_Walks\n",
    "\n",
    "cross_val_score(LinearRegression(), X, y, cv = 10).mean()"
   ],
   "metadata": {
    "collapsed": false,
    "pycharm": {
     "name": "#%%\n"
    }
   }
  },
  {
   "cell_type": "markdown",
   "source": [
    "## **HYPOTHESIS TESTING**"
   ],
   "metadata": {
    "collapsed": false
   }
  },
  {
   "cell_type": "markdown",
   "source": [
    "Para el hipotesis testing se ne ocurrio conformar 2 hipotesis diferentes, H0 y H1. La H0 es la hipotesis nula, la cual hace referencia a que los astronautas que se encuentren en ejercicio pasaron mas tiempo en el espacio que los astronautas ya retirados o fallecidos. En cambio la H1, la cual es la hipotesis alternativa, establece que es lo contrario, que los astronautas retirados o fallecidos al ser mas cantidad pasaron mas tiempo en el espacio que los que a dia de hoy estan en activo. Veamos cual hipotesis se acepta y cual se rechaza."
   ],
   "metadata": {
    "collapsed": false,
    "pycharm": {
     "name": "#%% md\n"
    }
   }
  },
  {
   "cell_type": "code",
   "execution_count": 130,
   "outputs": [
    {
     "name": "stdout",
     "output_type": "stream",
     "text": [
      "Prediccion mediante Boxplot-1: Los astronautas activos pasaron mas tiempo en el espacio que los demas\n",
      "H0(Hipotesis nula): Los astronautas fallecidos o retirados pasaron mas tiempo en el espacio que los astronautas activos a dia de hoy\n",
      "H1(Alternate hypothesis): Los astronautas activos pasaron mas tiempo en el espacio que los retirados o fallecidos\n",
      "H0:Mean of active-Mean of remaining <=0\n",
      "H1:Mean of active-Mean of remaining >0\n"
     ]
    },
    {
     "data": {
      "text/plain": "<Figure size 432x288 with 1 Axes>",
      "image/png": "[encoded data removed]"
     },
     "metadata": {
      "needs_background": "light"
     },
     "output_type": "display_data"
    },
    {
     "data": {
      "text/plain": "<Figure size 432x288 with 1 Axes>",
      "image/png": "[encoded data removed]"
     },
     "metadata": {
      "needs_background": "light"
     },
     "output_type": "display_data"
    },
    {
     "name": "stdout",
     "output_type": "stream",
     "text": [
      "0.0\n",
      "Z Score: 61.632916045222494\n",
      "P value: 0.0000000000\n",
      "Rechazo hipotesis nula\n",
      "Hipotesis alternativa es correcta\n",
      "Los astronautas activos pasaron mas tiempo en el espacio que los demas\n",
      "H0:Mean of active-Mean of remaining <=0\n",
      "H1:Mean of active-Mean of remaining >0\n"
     ]
    },
    {
     "data": {
      "text/plain": "<Figure size 432x288 with 1 Axes>",
      "image/png": "[encoded data removed]"
     },
     "metadata": {
      "needs_background": "light"
     },
     "output_type": "display_data"
    },
    {
     "data": {
      "text/plain": "<Figure size 432x288 with 1 Axes>",
      "image/png": "[encoded data removed]"
     },
     "metadata": {
      "needs_background": "light"
     },
     "output_type": "display_data"
    },
    {
     "name": "stdout",
     "output_type": "stream",
     "text": [
      "0.0\n",
      "Z Score: 83.8152008911839\n",
      "P value: 0.0000000000\n",
      "Rechazo hipotesis nula\n",
      "Hipotesis alternativa es correcta\n",
      "Los astronautas activos pasaron mas tiempo en el espacio que los demas\n"
     ]
    }
   ],
   "source": [
    "from scipy import stats\n",
    "from statsmodels.stats import weightstats as stests\n",
    "import math\n",
    "print('Prediccion mediante Boxplot-1: Los astronautas activos pasaron mas tiempo en el espacio que los demas')\n",
    "\n",
    "print('H0(Hipotesis nula): Los astronautas fallecidos o retirados pasaron mas tiempo en el espacio que los astronautas activos a dia de hoy')\n",
    "\n",
    "print('H1(Alternate hypothesis): Los astronautas activos pasaron mas tiempo en el espacio que los retirados o fallecidos')\n",
    "\n",
    "a=[]\n",
    "r=[]\n",
    "active=astronautas[astronautas['Status']=='Active']\n",
    "rem=astronautas[astronautas['Status']!='Active']\n",
    "def samp(size,number_of_samp):\n",
    "    for i in range(1,number_of_samp+1):\n",
    "        ac=active['Space_Flight_hours'].sample(size)\n",
    "        re=rem['Space_Flight_hours'].sample(size)\n",
    "        a.append(np.mean(ac))\n",
    "        r.append(np.mean(re))\n",
    "    u1=np.mean(a)\n",
    "    u2=np.mean(r)\n",
    "    s1=np.std(a)\n",
    "    s2=np.std(r)\n",
    "    print(\"H0:Mean of active-Mean of remaining <=0\")\n",
    "    print(\"H1:Mean of active-Mean of remaining >0\")\n",
    "    plt.hist(a)\n",
    "    plt.title('Sample of Active Astronauts')\n",
    "    plt.xlabel('Space_Flight_hours')\n",
    "    plt.ylabel('Index')\n",
    "    plt.show()\n",
    "    plt.hist(r)\n",
    "    plt.title('Sample of Remaining Astronauts')\n",
    "    plt.xlabel('Space_Flight_hours')\n",
    "    plt.ylabel('Index')\n",
    "    plt.show()\n",
    "    ztest,pvalue = stests.ztest(x1=a,x2=r,value=0)\n",
    "    pvalue=(stats.norm.sf(ztest))\n",
    "    print(pvalue)\n",
    "    print(\"Z Score:\",ztest)\n",
    "    print('P value:',\"{:.10f}\".format(pvalue))\n",
    "\n",
    "    if pvalue<0.05:\n",
    "        print(\"Rechazo hipotesis nula\")\n",
    "        print(\"Hipotesis alternativa es correcta\")\n",
    "        print(\"Los astronautas activos pasaron mas tiempo en el espacio que los demas\")\n",
    "    else:\n",
    "        print(\"Acepto la hipotesis nula\")\n",
    "\n",
    "samp(40,40)\n",
    "samp(40,30)"
   ],
   "metadata": {
    "collapsed": false,
    "pycharm": {
     "name": "#%%\n"
    }
   }
  },
  {
   "cell_type": "markdown",
   "source": [
    "**CONCLUSION: Los astronautas activos poseen mas tiempo en el espacio que todos los demas**, creia que iba a ser todo lo contrario y mas teniendo en cuenta que solo hay 50 activos pero en esos 50 cuentan con mas horas en el espacio. Un aspecto fundamental para entender esto es que antes no contaban con la tecnologia que hay ahora y sucedieron catastrofes, ademas que actualmente al contar con mas tecnologia, se pueden realizar misiones que implican mucho mas tiempo y con esa seguridad que antes hacia que quizas hagan misiones cortas afectadas por esto de la tecnologia y de que no contaban con tanta informacion. Ademas, si vemos en los graficos lo maximo que tuvo un astronauta fueron alrededor de unas 1300 horas en el espacio pero los astronautas en activo lo maximo fue 4000 aproximadamente."
   ],
   "metadata": {
    "collapsed": false
   }
  }
 ],
 "metadata": {
  "kernelspec": {
   "display_name": "Python 3",
   "language": "python",
   "name": "python3"
  },
  "language_info": {
   "codemirror_mode": {
    "name": "ipython",
    "version": 2
   },
   "file_extension": ".py",
   "mimetype": "text/x-python",
   "name": "python",
   "nbconvert_exporter": "python",
   "pygments_lexer": "ipython2",
   "version": "2.7.6"
  }
 },
 "nbformat": 4,
 "nbformat_minor": 0
}